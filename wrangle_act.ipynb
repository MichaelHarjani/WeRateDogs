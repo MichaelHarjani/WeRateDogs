{
 "cells": [
  {
   "cell_type": "code",
   "execution_count": null,
   "metadata": {},
   "outputs": [],
   "source": []
  },
  {
   "cell_type": "code",
   "execution_count": null,
   "metadata": {},
   "outputs": [],
   "source": [
    "### Package Importation\n",
    "import numpy as np\n",
    "import pandas as pd\n",
    "import json\n",
    "import tweepy\n",
    "from tweepy import OAuthHandler\n",
    "from timeit import default_timer as timer\n",
    "import requests\n",
    "import io\n",
    "import datetime as dt\n",
    "import seaborn as sns\n",
    "import matplotlib.pyplot as plt\n",
    "%matplotlib inline"
   ]
  },
  {
   "cell_type": "code",
   "execution_count": 5,
   "metadata": {},
   "outputs": [],
   "source": [
    "#Twitter API Credentials\n",
    "consumer_key = \n",
    "consumer_secret = \n",
    "access_token = \n",
    "access_secret = "
   ]
  },
  {
   "cell_type": "code",
   "execution_count": 6,
   "metadata": {},
   "outputs": [],
   "source": [
    "auth = OAuthHandler(consumer_key, consumer_secret)\n",
    "auth.set_access_token(access_token, access_secret)\n",
    "\n",
    "api = tweepy.API(auth, wait_on_rate_limit=True)"
   ]
  },
  {
   "cell_type": "markdown",
   "metadata": {},
   "source": [
    "## Gather"
   ]
  },
  {
   "cell_type": "markdown",
   "metadata": {},
   "source": [
    "### Given File about @dog_rates"
   ]
  },
  {
   "cell_type": "code",
   "execution_count": 652,
   "metadata": {},
   "outputs": [],
   "source": [
    "dftweet = pd.read_csv('twitter-archive-enhanced.csv')"
   ]
  },
  {
   "cell_type": "code",
   "execution_count": 653,
   "metadata": {},
   "outputs": [
    {
     "data": {
      "text/html": [
       "<div>\n",
       "<style scoped>\n",
       "    .dataframe tbody tr th:only-of-type {\n",
       "        vertical-align: middle;\n",
       "    }\n",
       "\n",
       "    .dataframe tbody tr th {\n",
       "        vertical-align: top;\n",
       "    }\n",
       "\n",
       "    .dataframe thead th {\n",
       "        text-align: right;\n",
       "    }\n",
       "</style>\n",
       "<table border=\"1\" class=\"dataframe\">\n",
       "  <thead>\n",
       "    <tr style=\"text-align: right;\">\n",
       "      <th></th>\n",
       "      <th>tweet_id</th>\n",
       "      <th>in_reply_to_status_id</th>\n",
       "      <th>in_reply_to_user_id</th>\n",
       "      <th>timestamp</th>\n",
       "      <th>source</th>\n",
       "      <th>text</th>\n",
       "      <th>retweeted_status_id</th>\n",
       "      <th>retweeted_status_user_id</th>\n",
       "      <th>retweeted_status_timestamp</th>\n",
       "      <th>expanded_urls</th>\n",
       "      <th>rating_numerator</th>\n",
       "      <th>rating_denominator</th>\n",
       "      <th>name</th>\n",
       "      <th>doggo</th>\n",
       "      <th>floofer</th>\n",
       "      <th>pupper</th>\n",
       "      <th>puppo</th>\n",
       "    </tr>\n",
       "  </thead>\n",
       "  <tbody>\n",
       "    <tr>\n",
       "      <th>0</th>\n",
       "      <td>892420643555336193</td>\n",
       "      <td>NaN</td>\n",
       "      <td>NaN</td>\n",
       "      <td>2017-08-01 16:23:56 +0000</td>\n",
       "      <td>&lt;a href=\"http://twitter.com/download/iphone\" r...</td>\n",
       "      <td>This is Phineas. He's a mystical boy. Only eve...</td>\n",
       "      <td>NaN</td>\n",
       "      <td>NaN</td>\n",
       "      <td>NaN</td>\n",
       "      <td>https://twitter.com/dog_rates/status/892420643...</td>\n",
       "      <td>13</td>\n",
       "      <td>10</td>\n",
       "      <td>Phineas</td>\n",
       "      <td>None</td>\n",
       "      <td>None</td>\n",
       "      <td>None</td>\n",
       "      <td>None</td>\n",
       "    </tr>\n",
       "    <tr>\n",
       "      <th>1</th>\n",
       "      <td>892177421306343426</td>\n",
       "      <td>NaN</td>\n",
       "      <td>NaN</td>\n",
       "      <td>2017-08-01 00:17:27 +0000</td>\n",
       "      <td>&lt;a href=\"http://twitter.com/download/iphone\" r...</td>\n",
       "      <td>This is Tilly. She's just checking pup on you....</td>\n",
       "      <td>NaN</td>\n",
       "      <td>NaN</td>\n",
       "      <td>NaN</td>\n",
       "      <td>https://twitter.com/dog_rates/status/892177421...</td>\n",
       "      <td>13</td>\n",
       "      <td>10</td>\n",
       "      <td>Tilly</td>\n",
       "      <td>None</td>\n",
       "      <td>None</td>\n",
       "      <td>None</td>\n",
       "      <td>None</td>\n",
       "    </tr>\n",
       "    <tr>\n",
       "      <th>2</th>\n",
       "      <td>891815181378084864</td>\n",
       "      <td>NaN</td>\n",
       "      <td>NaN</td>\n",
       "      <td>2017-07-31 00:18:03 +0000</td>\n",
       "      <td>&lt;a href=\"http://twitter.com/download/iphone\" r...</td>\n",
       "      <td>This is Archie. He is a rare Norwegian Pouncin...</td>\n",
       "      <td>NaN</td>\n",
       "      <td>NaN</td>\n",
       "      <td>NaN</td>\n",
       "      <td>https://twitter.com/dog_rates/status/891815181...</td>\n",
       "      <td>12</td>\n",
       "      <td>10</td>\n",
       "      <td>Archie</td>\n",
       "      <td>None</td>\n",
       "      <td>None</td>\n",
       "      <td>None</td>\n",
       "      <td>None</td>\n",
       "    </tr>\n",
       "    <tr>\n",
       "      <th>3</th>\n",
       "      <td>891689557279858688</td>\n",
       "      <td>NaN</td>\n",
       "      <td>NaN</td>\n",
       "      <td>2017-07-30 15:58:51 +0000</td>\n",
       "      <td>&lt;a href=\"http://twitter.com/download/iphone\" r...</td>\n",
       "      <td>This is Darla. She commenced a snooze mid meal...</td>\n",
       "      <td>NaN</td>\n",
       "      <td>NaN</td>\n",
       "      <td>NaN</td>\n",
       "      <td>https://twitter.com/dog_rates/status/891689557...</td>\n",
       "      <td>13</td>\n",
       "      <td>10</td>\n",
       "      <td>Darla</td>\n",
       "      <td>None</td>\n",
       "      <td>None</td>\n",
       "      <td>None</td>\n",
       "      <td>None</td>\n",
       "    </tr>\n",
       "    <tr>\n",
       "      <th>4</th>\n",
       "      <td>891327558926688256</td>\n",
       "      <td>NaN</td>\n",
       "      <td>NaN</td>\n",
       "      <td>2017-07-29 16:00:24 +0000</td>\n",
       "      <td>&lt;a href=\"http://twitter.com/download/iphone\" r...</td>\n",
       "      <td>This is Franklin. He would like you to stop ca...</td>\n",
       "      <td>NaN</td>\n",
       "      <td>NaN</td>\n",
       "      <td>NaN</td>\n",
       "      <td>https://twitter.com/dog_rates/status/891327558...</td>\n",
       "      <td>12</td>\n",
       "      <td>10</td>\n",
       "      <td>Franklin</td>\n",
       "      <td>None</td>\n",
       "      <td>None</td>\n",
       "      <td>None</td>\n",
       "      <td>None</td>\n",
       "    </tr>\n",
       "  </tbody>\n",
       "</table>\n",
       "</div>"
      ],
      "text/plain": [
       "             tweet_id  in_reply_to_status_id  in_reply_to_user_id  \\\n",
       "0  892420643555336193                    NaN                  NaN   \n",
       "1  892177421306343426                    NaN                  NaN   \n",
       "2  891815181378084864                    NaN                  NaN   \n",
       "3  891689557279858688                    NaN                  NaN   \n",
       "4  891327558926688256                    NaN                  NaN   \n",
       "\n",
       "                   timestamp  \\\n",
       "0  2017-08-01 16:23:56 +0000   \n",
       "1  2017-08-01 00:17:27 +0000   \n",
       "2  2017-07-31 00:18:03 +0000   \n",
       "3  2017-07-30 15:58:51 +0000   \n",
       "4  2017-07-29 16:00:24 +0000   \n",
       "\n",
       "                                              source  \\\n",
       "0  <a href=\"http://twitter.com/download/iphone\" r...   \n",
       "1  <a href=\"http://twitter.com/download/iphone\" r...   \n",
       "2  <a href=\"http://twitter.com/download/iphone\" r...   \n",
       "3  <a href=\"http://twitter.com/download/iphone\" r...   \n",
       "4  <a href=\"http://twitter.com/download/iphone\" r...   \n",
       "\n",
       "                                                text  retweeted_status_id  \\\n",
       "0  This is Phineas. He's a mystical boy. Only eve...                  NaN   \n",
       "1  This is Tilly. She's just checking pup on you....                  NaN   \n",
       "2  This is Archie. He is a rare Norwegian Pouncin...                  NaN   \n",
       "3  This is Darla. She commenced a snooze mid meal...                  NaN   \n",
       "4  This is Franklin. He would like you to stop ca...                  NaN   \n",
       "\n",
       "   retweeted_status_user_id retweeted_status_timestamp  \\\n",
       "0                       NaN                        NaN   \n",
       "1                       NaN                        NaN   \n",
       "2                       NaN                        NaN   \n",
       "3                       NaN                        NaN   \n",
       "4                       NaN                        NaN   \n",
       "\n",
       "                                       expanded_urls  rating_numerator  \\\n",
       "0  https://twitter.com/dog_rates/status/892420643...                13   \n",
       "1  https://twitter.com/dog_rates/status/892177421...                13   \n",
       "2  https://twitter.com/dog_rates/status/891815181...                12   \n",
       "3  https://twitter.com/dog_rates/status/891689557...                13   \n",
       "4  https://twitter.com/dog_rates/status/891327558...                12   \n",
       "\n",
       "   rating_denominator      name doggo floofer pupper puppo  \n",
       "0                  10   Phineas  None    None   None  None  \n",
       "1                  10     Tilly  None    None   None  None  \n",
       "2                  10    Archie  None    None   None  None  \n",
       "3                  10     Darla  None    None   None  None  \n",
       "4                  10  Franklin  None    None   None  None  "
      ]
     },
     "execution_count": 653,
     "metadata": {},
     "output_type": "execute_result"
    }
   ],
   "source": [
    "dftweet.head()"
   ]
  },
  {
   "cell_type": "markdown",
   "metadata": {},
   "source": [
    "### Image Recognition Data"
   ]
  },
  {
   "cell_type": "code",
   "execution_count": 4,
   "metadata": {},
   "outputs": [
    {
     "data": {
      "text/plain": [
       "335079"
      ]
     },
     "execution_count": 4,
     "metadata": {},
     "output_type": "execute_result"
    }
   ],
   "source": [
    "image_predictions = 'https://s3.amazonaws.com/video.udacity-data.com/topher/2018/November/5bf60c69_image-predictions-3/image-predictions-3.tsv'\n",
    "p = requests.get(image_predictions)\n",
    "open('image_predictions.tsv','wb').write(p.content)"
   ]
  },
  {
   "cell_type": "code",
   "execution_count": 654,
   "metadata": {},
   "outputs": [],
   "source": [
    "dfimg = pd.read_csv('image_predictions.tsv', sep='\\t')"
   ]
  },
  {
   "cell_type": "code",
   "execution_count": 655,
   "metadata": {},
   "outputs": [
    {
     "data": {
      "text/html": [
       "<div>\n",
       "<style scoped>\n",
       "    .dataframe tbody tr th:only-of-type {\n",
       "        vertical-align: middle;\n",
       "    }\n",
       "\n",
       "    .dataframe tbody tr th {\n",
       "        vertical-align: top;\n",
       "    }\n",
       "\n",
       "    .dataframe thead th {\n",
       "        text-align: right;\n",
       "    }\n",
       "</style>\n",
       "<table border=\"1\" class=\"dataframe\">\n",
       "  <thead>\n",
       "    <tr style=\"text-align: right;\">\n",
       "      <th></th>\n",
       "      <th>tweet_id</th>\n",
       "      <th>jpg_url</th>\n",
       "      <th>img_num</th>\n",
       "      <th>p1</th>\n",
       "      <th>p1_conf</th>\n",
       "      <th>p1_dog</th>\n",
       "      <th>p2</th>\n",
       "      <th>p2_conf</th>\n",
       "      <th>p2_dog</th>\n",
       "      <th>p3</th>\n",
       "      <th>p3_conf</th>\n",
       "      <th>p3_dog</th>\n",
       "    </tr>\n",
       "  </thead>\n",
       "  <tbody>\n",
       "    <tr>\n",
       "      <th>0</th>\n",
       "      <td>666020888022790149</td>\n",
       "      <td>https://pbs.twimg.com/media/CT4udn0WwAA0aMy.jpg</td>\n",
       "      <td>1</td>\n",
       "      <td>Welsh_springer_spaniel</td>\n",
       "      <td>0.465074</td>\n",
       "      <td>True</td>\n",
       "      <td>collie</td>\n",
       "      <td>0.156665</td>\n",
       "      <td>True</td>\n",
       "      <td>Shetland_sheepdog</td>\n",
       "      <td>0.061428</td>\n",
       "      <td>True</td>\n",
       "    </tr>\n",
       "    <tr>\n",
       "      <th>1</th>\n",
       "      <td>666029285002620928</td>\n",
       "      <td>https://pbs.twimg.com/media/CT42GRgUYAA5iDo.jpg</td>\n",
       "      <td>1</td>\n",
       "      <td>redbone</td>\n",
       "      <td>0.506826</td>\n",
       "      <td>True</td>\n",
       "      <td>miniature_pinscher</td>\n",
       "      <td>0.074192</td>\n",
       "      <td>True</td>\n",
       "      <td>Rhodesian_ridgeback</td>\n",
       "      <td>0.072010</td>\n",
       "      <td>True</td>\n",
       "    </tr>\n",
       "    <tr>\n",
       "      <th>2</th>\n",
       "      <td>666033412701032449</td>\n",
       "      <td>https://pbs.twimg.com/media/CT4521TWwAEvMyu.jpg</td>\n",
       "      <td>1</td>\n",
       "      <td>German_shepherd</td>\n",
       "      <td>0.596461</td>\n",
       "      <td>True</td>\n",
       "      <td>malinois</td>\n",
       "      <td>0.138584</td>\n",
       "      <td>True</td>\n",
       "      <td>bloodhound</td>\n",
       "      <td>0.116197</td>\n",
       "      <td>True</td>\n",
       "    </tr>\n",
       "    <tr>\n",
       "      <th>3</th>\n",
       "      <td>666044226329800704</td>\n",
       "      <td>https://pbs.twimg.com/media/CT5Dr8HUEAA-lEu.jpg</td>\n",
       "      <td>1</td>\n",
       "      <td>Rhodesian_ridgeback</td>\n",
       "      <td>0.408143</td>\n",
       "      <td>True</td>\n",
       "      <td>redbone</td>\n",
       "      <td>0.360687</td>\n",
       "      <td>True</td>\n",
       "      <td>miniature_pinscher</td>\n",
       "      <td>0.222752</td>\n",
       "      <td>True</td>\n",
       "    </tr>\n",
       "    <tr>\n",
       "      <th>4</th>\n",
       "      <td>666049248165822465</td>\n",
       "      <td>https://pbs.twimg.com/media/CT5IQmsXIAAKY4A.jpg</td>\n",
       "      <td>1</td>\n",
       "      <td>miniature_pinscher</td>\n",
       "      <td>0.560311</td>\n",
       "      <td>True</td>\n",
       "      <td>Rottweiler</td>\n",
       "      <td>0.243682</td>\n",
       "      <td>True</td>\n",
       "      <td>Doberman</td>\n",
       "      <td>0.154629</td>\n",
       "      <td>True</td>\n",
       "    </tr>\n",
       "  </tbody>\n",
       "</table>\n",
       "</div>"
      ],
      "text/plain": [
       "             tweet_id                                          jpg_url  \\\n",
       "0  666020888022790149  https://pbs.twimg.com/media/CT4udn0WwAA0aMy.jpg   \n",
       "1  666029285002620928  https://pbs.twimg.com/media/CT42GRgUYAA5iDo.jpg   \n",
       "2  666033412701032449  https://pbs.twimg.com/media/CT4521TWwAEvMyu.jpg   \n",
       "3  666044226329800704  https://pbs.twimg.com/media/CT5Dr8HUEAA-lEu.jpg   \n",
       "4  666049248165822465  https://pbs.twimg.com/media/CT5IQmsXIAAKY4A.jpg   \n",
       "\n",
       "   img_num                      p1   p1_conf  p1_dog                  p2  \\\n",
       "0        1  Welsh_springer_spaniel  0.465074    True              collie   \n",
       "1        1                 redbone  0.506826    True  miniature_pinscher   \n",
       "2        1         German_shepherd  0.596461    True            malinois   \n",
       "3        1     Rhodesian_ridgeback  0.408143    True             redbone   \n",
       "4        1      miniature_pinscher  0.560311    True          Rottweiler   \n",
       "\n",
       "    p2_conf  p2_dog                   p3   p3_conf  p3_dog  \n",
       "0  0.156665    True    Shetland_sheepdog  0.061428    True  \n",
       "1  0.074192    True  Rhodesian_ridgeback  0.072010    True  \n",
       "2  0.138584    True           bloodhound  0.116197    True  \n",
       "3  0.360687    True   miniature_pinscher  0.222752    True  \n",
       "4  0.243682    True             Doberman  0.154629    True  "
      ]
     },
     "execution_count": 655,
     "metadata": {},
     "output_type": "execute_result"
    }
   ],
   "source": [
    "dfimg.head()"
   ]
  },
  {
   "cell_type": "markdown",
   "metadata": {},
   "source": [
    "### Twitter API Data"
   ]
  },
  {
   "cell_type": "code",
   "execution_count": 14,
   "metadata": {},
   "outputs": [],
   "source": [
    "tweet_ids = np.unique(dfimg.tweet_id.append(dftweet.tweet_id))"
   ]
  },
  {
   "cell_type": "code",
   "execution_count": 15,
   "metadata": {},
   "outputs": [
    {
     "data": {
      "text/plain": [
       "2356"
      ]
     },
     "execution_count": 15,
     "metadata": {},
     "output_type": "execute_result"
    }
   ],
   "source": [
    "len(tweet_ids)"
   ]
  },
  {
   "cell_type": "code",
   "execution_count": 16,
   "metadata": {},
   "outputs": [
    {
     "name": "stdout",
     "output_type": "stream",
     "text": [
      "1: 666020888022790149\n",
      "Success\n",
      "2: 666029285002620928\n",
      "Success\n",
      "3: 666033412701032449\n",
      "Success\n",
      "4: 666044226329800704\n",
      "Success\n",
      "5: 666049248165822465\n",
      "Success\n",
      "6: 666050758794694657\n",
      "Success\n",
      "7: 666051853826850816\n",
      "Success\n",
      "8: 666055525042405380\n",
      "Success\n",
      "9: 666057090499244032\n",
      "Success\n",
      "10: 666058600524156928\n",
      "Success\n",
      "11: 666063827256086533\n",
      "Success\n",
      "12: 666071193221509120\n",
      "Success\n",
      "13: 666073100786774016\n",
      "Success\n",
      "14: 666082916733198337\n",
      "Success\n",
      "15: 666094000022159362\n",
      "Success\n",
      "16: 666099513787052032\n",
      "Success\n",
      "17: 666102155909144576\n",
      "Success\n",
      "18: 666104133288665088\n",
      "Success\n",
      "19: 666268910803644416\n",
      "Success\n",
      "20: 666273097616637952\n",
      "Success\n",
      "21: 666287406224695296\n",
      "Success\n",
      "22: 666293911632134144\n",
      "Success\n",
      "23: 666337882303524864\n",
      "Success\n",
      "24: 666345417576210432\n",
      "Success\n",
      "25: 666353288456101888\n",
      "Success\n",
      "26: 666362758909284353\n",
      "Success\n",
      "27: 666373753744588802\n",
      "Success\n",
      "28: 666396247373291520\n",
      "Success\n",
      "29: 666407126856765440\n",
      "Success\n",
      "30: 666411507551481857\n",
      "Success\n",
      "31: 666418789513326592\n",
      "Success\n",
      "32: 666421158376562688\n",
      "Success\n",
      "33: 666428276349472768\n",
      "Success\n",
      "34: 666430724426358785\n",
      "Success\n",
      "35: 666435652385423360\n",
      "Success\n",
      "36: 666437273139982337\n",
      "Success\n",
      "37: 666447344410484738\n",
      "Success\n",
      "38: 666454714377183233\n",
      "Success\n",
      "39: 666644823164719104\n",
      "Success\n",
      "40: 666649482315059201\n",
      "Success\n",
      "41: 666691418707132416\n",
      "Success\n",
      "42: 666701168228331520\n",
      "Success\n",
      "43: 666739327293083650\n",
      "Success\n",
      "44: 666776908487630848\n",
      "Success\n",
      "45: 666781792255496192\n",
      "Success\n",
      "46: 666786068205871104\n",
      "Success\n",
      "47: 666804364988780544\n",
      "Success\n",
      "48: 666817836334096384\n",
      "Success\n",
      "49: 666826780179869698\n",
      "Success\n",
      "50: 666835007768551424\n",
      "Success\n",
      "51: 666837028449972224\n",
      "Success\n",
      "52: 666983947667116034\n",
      "Success\n",
      "53: 666996132027977728\n",
      "Success\n",
      "54: 667012601033924608\n",
      "Success\n",
      "55: 667044094246576128\n",
      "Success\n",
      "56: 667062181243039745\n",
      "Success\n",
      "57: 667065535570550784\n",
      "Success\n",
      "58: 667070482143944705\n",
      "Success\n",
      "59: 667073648344346624\n",
      "Success\n",
      "60: 667090893657276420\n",
      "Success\n",
      "61: 667119796878725120\n",
      "Success\n",
      "62: 667138269671505920\n",
      "Success\n",
      "63: 667152164079423490\n",
      "Success\n",
      "64: 667160273090932737\n",
      "Success\n",
      "65: 667165590075940865\n",
      "Success\n",
      "66: 667171260800061440\n",
      "Success\n",
      "67: 667174963120574464\n",
      "Success\n",
      "68: 667176164155375616\n",
      "Success\n",
      "69: 667177989038297088\n",
      "Success\n",
      "70: 667182792070062081\n",
      "Success\n",
      "71: 667188689915760640\n",
      "Success\n",
      "72: 667192066997374976\n",
      "Success\n",
      "73: 667200525029539841\n",
      "Success\n",
      "74: 667211855547486208\n",
      "Success\n",
      "75: 667369227918143488\n",
      "Success\n",
      "76: 667393430834667520\n",
      "Success\n",
      "77: 667405339315146752\n",
      "Success\n",
      "78: 667435689202614272\n",
      "Success\n",
      "79: 667437278097252352\n",
      "Success\n",
      "80: 667443425659232256\n",
      "Success\n",
      "81: 667453023279554560\n",
      "Success\n",
      "82: 667455448082227200\n",
      "Success\n",
      "83: 667470559035432960\n",
      "Success\n",
      "84: 667491009379606528\n",
      "Success\n",
      "85: 667495797102141441\n",
      "Success\n",
      "86: 667502640335572993\n",
      "Success\n",
      "87: 667509364010450944\n",
      "Success\n",
      "88: 667517642048163840\n",
      "Success\n",
      "89: 667524857454854144\n",
      "Success\n",
      "90: 667530908589760512\n",
      "Success\n",
      "91: 667534815156183040\n",
      "Success\n",
      "92: 667538891197542400\n",
      "Success\n",
      "93: 667544320556335104\n",
      "Success\n",
      "94: 667546741521195010\n",
      "Success\n",
      "95: 667549055577362432\n",
      "Success\n",
      "96: 667550882905632768\n",
      "Success\n",
      "97: 667550904950915073\n",
      "Success\n",
      "98: 667724302356258817\n",
      "Success\n",
      "99: 667728196545200128\n",
      "Success\n",
      "100: 667766675769573376\n",
      "Success\n",
      "101: 667773195014021121\n",
      "Success\n",
      "102: 667782464991965184\n",
      "Success\n",
      "103: 667793409583771648\n",
      "Success\n",
      "104: 667801013445750784\n",
      "Success\n",
      "105: 667806454573760512\n",
      "Success\n",
      "106: 667832474953625600\n",
      "Success\n",
      "107: 667861340749471744\n",
      "Success\n",
      "108: 667866724293877760\n",
      "Success\n",
      "109: 667873844930215936\n",
      "Success\n",
      "110: 667878741721415682\n",
      "Success\n",
      "111: 667885044254572545\n",
      "Success\n",
      "112: 667886921285246976\n",
      "Success\n",
      "113: 667902449697558528\n",
      "Success\n",
      "114: 667911425562669056\n",
      "Success\n",
      "115: 667915453470232577\n",
      "Success\n",
      "116: 667924896115245057\n",
      "Success\n",
      "117: 667937095915278337\n",
      "Success\n",
      "118: 668113020489474048\n",
      "Success\n",
      "119: 668142349051129856\n",
      "Success\n",
      "120: 668154635664932864\n",
      "Success\n",
      "121: 668171859951755264\n",
      "Success\n",
      "122: 668190681446379520\n",
      "Success\n",
      "123: 668204964695683073\n",
      "Success\n",
      "124: 668221241640230912\n",
      "Success\n",
      "125: 668226093875376128\n",
      "Success\n",
      "126: 668237644992782336\n",
      "Success\n",
      "127: 668248472370458624\n",
      "Success\n",
      "128: 668256321989451776\n",
      "Success\n",
      "129: 668268907921326080\n",
      "Success\n",
      "130: 668274247790391296\n",
      "Success\n",
      "131: 668286279830867968\n",
      "Success\n",
      "132: 668291999406125056\n",
      "Success\n",
      "133: 668297328638447616\n",
      "Success\n",
      "134: 668466899341221888\n",
      "Success\n",
      "135: 668480044826800133\n",
      "Success\n",
      "136: 668484198282485761\n",
      "Success\n",
      "137: 668496999348633600\n",
      "Success\n",
      "138: 668507509523615744\n",
      "Success\n",
      "139: 668528771708952576\n",
      "Success\n",
      "140: 668537837512433665\n",
      "Success\n",
      "141: 668542336805281792\n",
      "Success\n",
      "142: 668544745690562560\n",
      "Success\n",
      "143: 668567822092664832\n",
      "Success\n",
      "144: 668587383441514497\n",
      "Success\n",
      "145: 668614819948453888\n",
      "Success\n",
      "146: 668620235289837568\n",
      "Success\n",
      "147: 668623201287675904\n",
      "Success\n",
      "148: 668625577880875008\n",
      "Success\n",
      "149: 668627278264475648\n",
      "Success\n",
      "150: 668631377374486528\n",
      "Success\n",
      "151: 668633411083464705\n",
      "Success\n",
      "152: 668636665813057536\n",
      "Success\n",
      "153: 668641109086707712\n",
      "Success\n",
      "154: 668643542311546881\n",
      "Success\n",
      "155: 668645506898350081\n",
      "Success\n",
      "156: 668655139528511488\n",
      "Success\n",
      "157: 668779399630725120\n",
      "Success\n",
      "158: 668815180734689280\n",
      "Success\n",
      "159: 668826086256599040\n",
      "Success\n",
      "160: 668852170888998912\n",
      "Success\n",
      "161: 668872652652679168\n",
      "Success\n",
      "162: 668892474547511297\n",
      "Success\n",
      "163: 668902994700836864\n",
      "Success\n",
      "164: 668932921458302977\n",
      "Success\n",
      "165: 668955713004314625\n",
      "Success\n",
      "166: 668960084974809088\n",
      "Success\n",
      "167: 668967877119254528\n",
      "Success\n",
      "168: 668975677807423489\n",
      "Success\n",
      "169: 668979806671884288\n",
      "Success\n",
      "170: 668981893510119424\n",
      "Success\n",
      "171: 668986018524233728\n",
      "Success\n",
      "172: 668988183816871936\n",
      "Success\n",
      "173: 668989615043424256\n",
      "Success\n",
      "174: 668992363537309700\n",
      "Success\n",
      "175: 668994913074286592\n",
      "Success\n",
      "176: 669000397445533696\n",
      "Success\n",
      "177: 669006782128353280\n",
      "Success\n",
      "178: 669015743032369152\n",
      "Success\n",
      "179: 669037058363662336\n",
      "Success\n",
      "180: 669203728096960512\n",
      "Success\n",
      "181: 669214165781868544\n",
      "Success\n",
      "182: 669216679721873412\n",
      "Success\n",
      "183: 669324657376567296\n",
      "Success\n",
      "184: 669327207240699904\n",
      "Success\n",
      "185: 669328503091937280\n",
      "Success\n",
      "186: 669351434509529089\n",
      "Success\n",
      "187: 669353438988365824\n",
      "Success\n",
      "188: 669354382627049472\n",
      "Success\n",
      "189: 669359674819481600\n",
      "Success\n",
      "190: 669363888236994561\n",
      "Success\n",
      "191: 669367896104181761\n",
      "Success\n",
      "192: 669371483794317312\n",
      "Success\n",
      "193: 669375718304980992\n",
      "Success\n",
      "194: 669393256313184256\n",
      "Success\n",
      "195: 669564461267722241\n",
      "Success\n",
      "196: 669567591774625800\n",
      "Success\n",
      "197: 669571471778410496\n",
      "Success\n",
      "198: 669573570759163904\n",
      "Success\n",
      "199: 669583744538451968\n",
      "Success\n",
      "200: 669597912108789760\n",
      "Success\n",
      "201: 669603084620980224\n",
      "Success\n",
      "202: 669625907762618368\n",
      "Success\n",
      "203: 669661792646373376\n",
      "Success\n",
      "204: 669680153564442624\n",
      "Success\n",
      "205: 669682095984410625\n",
      "Success\n",
      "206: 669683899023405056\n",
      "Success\n",
      "207: 669684865554620416\n",
      "Success\n",
      "208: 669749430875258880\n",
      "Success\n",
      "209: 669753178989142016\n",
      "Success\n",
      "210: 669923323644657664\n",
      "Success\n",
      "211: 669926384437997569\n",
      "Success\n",
      "212: 669942763794931712\n",
      "Success\n",
      "213: 669970042633789440\n",
      "Success\n",
      "214: 669972011175813120\n",
      "Success\n",
      "215: 669993076832759809\n",
      "Success\n",
      "216: 670003130994700288\n",
      "Success\n",
      "217: 670037189829525505\n",
      "Success\n",
      "218: 670040295598354432\n",
      "Success\n",
      "219: 670046952931721218\n",
      "Success\n",
      "220: 670055038660800512\n",
      "Success\n",
      "221: 670061506722140161\n",
      "Success\n",
      "222: 670069087419133954\n",
      "Success\n",
      "223: 670073503555706880\n",
      "Success\n",
      "224: 670079681849372674\n",
      "Success\n",
      "225: 670086499208155136\n",
      "Success\n",
      "226: 670093938074779648\n",
      "Success\n",
      "227: 670290420111441920\n",
      "Success\n",
      "228: 670303360680108032\n",
      "Success\n",
      "229: 670319130621435904\n",
      "Success\n",
      "230: 670338931251150849\n",
      "Success\n",
      "231: 670361874861563904\n",
      "Success\n",
      "232: 670374371102445568\n",
      "Success\n",
      "233: 670385711116361728\n",
      "Success\n",
      "234: 670403879788544000\n",
      "Success\n",
      "235: 670408998013820928\n",
      "Success\n",
      "236: 670411370698022913\n",
      "Success\n",
      "237: 670417414769758208\n",
      "Success\n",
      "238: 670420569653809152\n",
      "Success\n",
      "239: 670421925039075328\n",
      "Success\n",
      "240: 670427002554466305\n",
      "Success\n",
      "241: 670428280563085312\n",
      "Success\n",
      "242: 670433248821026816\n",
      "Success\n",
      "243: 670434127938719744\n",
      "Success\n",
      "244: 670435821946826752\n",
      "Success\n",
      "245: 670442337873600512\n",
      "Success\n",
      "246: 670444955656130560\n",
      "Success\n",
      "247: 670449342516494336\n",
      "Success\n",
      "248: 670452855871037440\n",
      "Success\n",
      "249: 670465786746662913\n",
      "Success\n",
      "250: 670468609693655041\n",
      "Success\n",
      "251: 670474236058800128\n",
      "Success\n",
      "252: 670668383499735048\n",
      "Success\n",
      "253: 670676092097810432\n",
      "Success\n",
      "254: 670679630144274432\n",
      "Success\n",
      "255: 670691627984359425\n",
      "Success\n",
      "256: 670704688707301377\n",
      "Success\n",
      "257: 670717338665226240\n",
      "Success\n",
      "258: 670727704916926465\n",
      "Success\n",
      "259: 670733412878163972\n",
      "Success\n",
      "260: 670755717859713024\n",
      "Success\n",
      "261: 670764103623966721\n",
      "Success\n",
      "262: 670778058496974848\n",
      "Success\n",
      "263: 670780561024270336\n",
      "Success\n",
      "264: 670782429121134593\n",
      "Success\n",
      "265: 670783437142401025\n",
      "Success\n",
      "266: 670786190031921152\n",
      "Success\n",
      "267: 670789397210615808\n",
      "Success\n",
      "268: 670792680469889025\n",
      "Success\n",
      "269: 670797304698376195\n",
      "Success\n",
      "270: 670803562457407488\n",
      "Success\n",
      "271: 670804601705242624\n",
      "Success\n",
      "272: 670807719151067136\n",
      "Success\n",
      "273: 670811965569282048\n",
      "Success\n",
      "274: 670815497391357952\n",
      "Success\n",
      "275: 670822709593571328\n",
      "Success\n",
      "276: 670823764196741120\n",
      "Success\n",
      "277: 670826280409919488\n",
      "Success\n",
      "278: 670832455012716544\n",
      "Success\n",
      "279: 670833812859932673\n",
      "Success\n",
      "280: 670838202509447168\n",
      "Success\n",
      "281: 670840546554966016\n",
      "Success\n",
      "282: 670842764863651840\n",
      "Success\n",
      "283: 670995969505435648\n",
      "Success\n",
      "284: 671109016219725825\n",
      "Success\n",
      "285: 671115716440031232\n",
      "Success\n",
      "286: 671122204919246848\n",
      "Success\n",
      "287: 671134062904504320\n",
      "Success\n",
      "288: 671138694582165504\n",
      "Success\n",
      "289: 671141549288370177\n",
      "Success\n",
      "290: 671147085991960577\n",
      "Success\n",
      "291: 671151324042559489\n",
      "Success\n",
      "292: 671154572044468225\n",
      "Success\n",
      "293: 671159727754231808\n",
      "Success\n",
      "294: 671163268581498880\n",
      "Success\n",
      "295: 671166507850801152\n",
      "Success\n",
      "296: 671182547775299584\n",
      "Success\n",
      "297: 671186162933985280\n",
      "Success\n",
      "298: 671347597085433856\n",
      "Success\n",
      "299: 671355857343524864\n",
      "Success\n",
      "300: 671357843010908160\n",
      "Success\n",
      "301: 671362598324076544\n",
      "Success\n",
      "302: 671390180817915904\n",
      "Success\n",
      "303: 671485057807351808\n",
      "Success\n",
      "304: 671486386088865792\n",
      "Success\n",
      "305: 671488513339211776\n",
      "Success\n",
      "306: 671497587707535361\n",
      "Success\n",
      "307: 671504605491109889\n",
      "Success\n",
      "308: 671511350426865664\n",
      "Success\n",
      "309: 671518598289059840\n",
      "Success\n",
      "310: 671520732782923777\n",
      "Success\n",
      "311: 671528761649688577\n",
      "Success\n",
      "312: 671533943490011136\n",
      "Success\n",
      "313: 671536543010570240\n",
      "Success\n",
      "314: 671538301157904385\n",
      "Success\n",
      "315: 671542985629241344\n",
      "Success\n",
      "316: 671544874165002241\n",
      "Success\n",
      "317: 671547767500775424\n",
      "Success\n",
      "318: 671550332464455680\n",
      "Success\n",
      "319: 671561002136281088\n",
      "Success\n",
      "320: 671729906628341761\n",
      "Success\n",
      "321: 671735591348891648\n",
      "Success\n",
      "322: 671743150407421952\n",
      "Success\n",
      "323: 671744970634719232\n",
      "Success\n",
      "324: 671763349865160704\n",
      "Success\n",
      "325: 671768281401958400\n",
      "Success\n",
      "326: 671789708968640512\n",
      "Success\n",
      "327: 671855973984772097\n",
      "Success\n",
      "328: 671866342182637568\n",
      "Success\n",
      "329: 671874878652489728\n",
      "Success\n",
      "330: 671879137494245376\n",
      "Success\n",
      "331: 671882082306625538\n",
      "Success\n",
      "332: 671891728106971137\n",
      "Success\n",
      "333: 671896809300709376\n",
      "Success\n",
      "334: 672068090318987265\n",
      "Success\n",
      "335: 672082170312290304\n",
      "Success\n",
      "336: 672095186491711488\n",
      "Success\n",
      "337: 672125275208069120\n",
      "Success\n",
      "338: 672139350159835138\n",
      "Success\n",
      "339: 672160042234327040\n",
      "Success\n",
      "340: 672169685991993344\n",
      "Success\n",
      "341: 672205392827572224\n",
      "Success\n",
      "342: 672222792075620352\n",
      "Success\n",
      "343: 672231046314901505\n",
      "Success\n",
      "344: 672239279297454080\n",
      "Success\n",
      "345: 672245253877968896\n",
      "Success\n",
      "346: 672248013293752320\n",
      "Success\n",
      "347: 672254177670729728\n",
      "Success\n",
      "348: 672256522047614977\n",
      "Success\n",
      "349: 672264251789176834\n",
      "Success\n",
      "350: 672267570918129665\n",
      "Success\n",
      "351: 672272411274932228\n",
      "Success\n",
      "352: 672466075045466113\n",
      "Success\n",
      "353: 672475084225949696\n",
      "Success\n",
      "354: 672481316919734272\n",
      "Success\n",
      "355: 672482722825261057\n",
      "Success\n",
      "356: 672488522314567680\n",
      "Success\n",
      "357: 672523490734551040\n",
      "Success\n",
      "358: 672538107540070400\n",
      "Success\n",
      "359: 672591271085670400\n",
      "Success\n",
      "360: 672591762242805761\n",
      "Success\n",
      "361: 672594978741354496\n",
      "Success\n",
      "362: 672604026190569472\n",
      "Success\n",
      "363: 672609152938721280\n",
      "Success\n",
      "364: 672614745925664768\n",
      "Success\n",
      "365: 672622327801233409\n",
      "Success\n",
      "366: 672640509974827008\n",
      "Success\n",
      "367: 672828477930868736\n",
      "Success\n",
      "368: 672834301050937345\n",
      "Success\n",
      "369: 672877615439593473\n",
      "Success\n",
      "370: 672884426393653248\n",
      "Success\n",
      "371: 672898206762672129\n",
      "Success\n",
      "372: 672902681409806336\n",
      "Success\n",
      "373: 672964561327235073\n",
      "Success\n",
      "374: 672968025906282496\n",
      "Success\n",
      "375: 672970152493887488\n",
      "Success\n",
      "376: 672975131468300288\n",
      "Success\n",
      "377: 672980819271634944\n",
      "Success\n",
      "378: 672984142909456390\n",
      "Success\n",
      "379: 672988786805112832\n",
      "Success\n",
      "380: 672995267319328768\n",
      "Success\n",
      "381: 672997845381865473\n",
      "Success\n",
      "382: 673148804208660480\n",
      "Success\n",
      "383: 673213039743795200\n",
      "Success\n",
      "384: 673240798075449344\n",
      "Success\n",
      "385: 673270968295534593\n",
      "Success\n",
      "386: 673295268553605120\n",
      "Success\n",
      "387: 673317986296586240\n",
      "Success\n",
      "388: 673320132811366400\n",
      "Success\n",
      "389: 673342308415348736\n",
      "Success\n",
      "390: 673343217010679808\n",
      "Success\n",
      "391: 673345638550134785\n",
      "Success\n",
      "392: 673350198937153538\n",
      "Success\n",
      "393: 673352124999274496\n",
      "Success\n",
      "394: 673355879178194945\n",
      "Success\n",
      "395: 673359818736984064\n",
      "Success\n",
      "396: 673363615379013632\n",
      "Success\n",
      "397: 673576835670777856\n",
      "Success\n",
      "398: 673580926094458881\n",
      "Success\n",
      "399: 673583129559498752\n",
      "Success\n",
      "400: 673612854080196609\n",
      "Success\n",
      "401: 673636718965334016\n",
      "Success\n",
      "402: 673656262056419329\n",
      "Success\n",
      "403: 673662677122719744\n",
      "Success\n",
      "404: 673680198160809984\n",
      "Success\n",
      "405: 673686845050527744\n",
      "Success\n",
      "406: 673688752737402881\n",
      "Success\n",
      "407: 673689733134946305\n",
      "Success\n",
      "408: 673697980713705472\n",
      "Success\n",
      "409: 673700254269775872\n",
      "Success\n",
      "410: 673705679337693185\n",
      "Success\n",
      "411: 673707060090052608\n",
      "Success\n",
      "412: 673708611235921920\n",
      "Success\n",
      "413: 673709992831262724\n",
      "Success\n",
      "414: 673711475735838725\n",
      "Success\n",
      "415: 673715861853720576\n",
      "Success\n",
      "416: 673716320723169284\n",
      "Success\n",
      "417: 673887867907739649\n",
      "Success\n",
      "418: 673906403526995968\n",
      "Success\n",
      "419: 673919437611909120\n",
      "Success\n",
      "420: 673956914389192708\n",
      "Success\n",
      "421: 674008982932058114\n",
      "Success\n",
      "422: 674014384960745472\n",
      "Success\n",
      "423: 674019345211760640\n",
      "Success\n",
      "424: 674024893172875264\n",
      "Success\n",
      "425: 674036086168010753\n",
      "Success\n",
      "426: 674038233588723717\n",
      "Success\n",
      "427: 674042553264685056\n",
      "Success\n",
      "428: 674045139690631169\n",
      "Success\n",
      "429: 674051556661161984\n",
      "Success\n",
      "430: 674053186244734976\n",
      "Success\n",
      "431: 674063288070742018\n",
      "Success\n",
      "432: 674075285688614912\n",
      "Success\n",
      "433: 674082852460433408\n",
      "Success\n",
      "434: 674255168825880576\n",
      "Success\n",
      "435: 674262580978937856\n",
      "Success\n",
      "436: 674265582246694913\n",
      "Success\n",
      "437: 674269164442398721\n",
      "Success\n",
      "438: 674271431610523648\n",
      "Success\n",
      "439: 674291837063053312\n",
      "Success\n",
      "440: 674307341513269249\n",
      "Success\n",
      "441: 674318007229923329\n",
      "Success\n",
      "442: 674330906434379776\n",
      "Success\n",
      "443: 674372068062928900\n",
      "Success\n",
      "444: 674394782723014656\n",
      "Success\n",
      "445: 674410619106390016\n",
      "Success\n",
      "446: 674416750885273600\n",
      "Success\n",
      "447: 674422304705744896\n",
      "Success\n",
      "448: 674436901579923456\n",
      "Success\n",
      "449: 674447403907457024\n",
      "Success\n",
      "450: 674468880899788800\n",
      "Success\n",
      "451: 674606911342424069\n",
      "Success\n",
      "452: 674632714662858753\n",
      "Success\n",
      "453: 674638615994089473\n",
      "Success\n",
      "454: 674644256330530816\n",
      "Success\n",
      "455: 674646392044941312\n",
      "Success\n",
      "456: 674664755118911488\n",
      "Success\n",
      "457: 674670581682434048\n",
      "Success\n",
      "458: 674690135443775488\n",
      "Success\n",
      "459: 674737130913071104\n",
      "Success\n",
      "460: 674739953134403584\n",
      "Success\n",
      "461: 674742531037511680\n",
      "Success\n",
      "462: 674743008475090944\n",
      "Success\n",
      "463: 674752233200820224\n",
      "Success\n",
      "464: 674754018082705410\n",
      "Success\n",
      "465: 674764817387900928\n",
      "Success\n",
      "466: 674767892831932416\n",
      "Success\n",
      "467: 674774481756377088\n",
      "Success\n",
      "468: 674781762103414784\n",
      "Success\n",
      "469: 674788554665512960\n",
      "Success\n",
      "470: 674790488185167872\n",
      "Success\n",
      "471: 674793399141146624\n",
      "Success\n",
      "472: 674800520222154752\n",
      "Success\n",
      "473: 674805413498527744\n",
      "Success\n",
      "474: 674999807681908736\n",
      "Success\n",
      "475: 675003128568291329\n",
      "Success\n",
      "476: 675006312288268288\n",
      "Success\n",
      "477: 675015141583413248\n",
      "Success\n",
      "478: 675047298674663426\n",
      "Success\n",
      "479: 675109292475830276\n",
      "Success\n",
      "480: 675111688094527488\n",
      "Success\n",
      "481: 675113801096802304\n",
      "Success\n",
      "482: 675135153782571009\n",
      "Success\n",
      "483: 675145476954566656\n",
      "Success\n",
      "484: 675146535592706048\n",
      "Success\n",
      "485: 675147105808306176\n",
      "Success\n",
      "486: 675149409102012420\n",
      "Success\n",
      "487: 675153376133427200\n",
      "Success\n",
      "488: 675166823650848770\n",
      "Success\n",
      "489: 675334060156301312\n",
      "Success\n",
      "490: 675349384339542016\n",
      "Success\n",
      "491: 675354435921575936\n",
      "Success\n",
      "492: 675362609739206656\n",
      "Success\n",
      "493: 675372240448454658\n",
      "Success\n",
      "494: 675432746517426176\n",
      "Success\n",
      "495: 675483430902214656\n",
      "Success\n",
      "496: 675489971617296384\n",
      "Success\n",
      "497: 675497103322386432\n",
      "Success\n",
      "498: 675501075957489664\n",
      "Success\n",
      "499: 675517828909424640\n",
      "Success\n",
      "500: 675522403582218240\n",
      "Success\n",
      "501: 675531475945709568\n",
      "Success\n",
      "502: 675534494439489536\n",
      "Success\n",
      "503: 675706639471788032\n",
      "Success\n",
      "504: 675707330206547968\n",
      "Success\n",
      "505: 675710890956750848\n",
      "Success\n",
      "506: 675740360753160193\n",
      "Success\n",
      "507: 675781562965868544\n",
      "Success\n",
      "508: 675798442703122432\n",
      "Success\n",
      "509: 675820929667219457\n",
      "Success\n",
      "510: 675822767435051008\n",
      "Success\n",
      "511: 675845657354215424\n",
      "Success\n",
      "512: 675849018447167488\n",
      "Success\n",
      "513: 675853064436391936\n",
      "Success\n",
      "514: 675870721063669760\n",
      "Success\n",
      "515: 675878199931371520\n",
      "Success\n",
      "516: 675888385639251968\n",
      "Success\n",
      "517: 675891555769696257\n",
      "Success\n",
      "518: 675898130735476737\n",
      "Success\n",
      "519: 676089483918516224\n",
      "Success\n",
      "520: 676098748976615425\n",
      "Success\n",
      "521: 676101918813499392\n",
      "Success\n",
      "522: 676121918416756736\n",
      "Success\n",
      "523: 676146341966438401\n",
      "Success\n",
      "524: 676191832485810177\n",
      "Success\n",
      "525: 676215927814406144\n",
      "Success\n",
      "526: 676219687039057920\n",
      "Success\n",
      "527: 676237365392908289\n",
      "Success\n",
      "528: 676263575653122048\n",
      "Success\n",
      "529: 676430933382295552\n",
      "Success\n",
      "530: 676440007570247681\n",
      "Success\n",
      "531: 676470639084101634\n",
      "Success\n",
      "532: 676496375194980353\n",
      "Success\n",
      "533: 676533798876651520\n",
      "Success\n",
      "534: 676575501977128964\n",
      "Success\n",
      "535: 676582956622721024\n",
      "Success\n",
      "536: 676588346097852417\n",
      "Success\n",
      "537: 676590572941893632\n",
      "Success\n",
      "538: 676593408224403456\n",
      "Success\n",
      "539: 676603393314578432\n",
      "Success\n",
      "540: 676606785097199616\n",
      "Success\n",
      "541: 676613908052996102\n",
      "Success\n",
      "542: 676617503762681856\n",
      "Success\n",
      "543: 676776431406465024\n",
      "Success\n",
      "544: 676811746707918848\n",
      "Success\n",
      "545: 676819651066732545\n",
      "Success\n",
      "546: 676821958043033607\n",
      "Success\n",
      "547: 676864501615042560\n",
      "Success\n",
      "548: 676897532954456065\n",
      "Success\n",
      "549: 676916996760600576\n",
      "Success\n",
      "550: 676936541936185344\n",
      "Success\n",
      "551: 676942428000112642\n",
      "Success\n",
      "552: 676946864479084545\n",
      "Success\n",
      "553: 676948236477857792\n",
      "Success\n",
      "554: 676949632774234114\n",
      "Success\n",
      "555: 676957860086095872\n",
      "Success\n",
      "556: 676975532580409345\n",
      "Success\n",
      "557: 677187300187611136\n",
      "Success\n",
      "558: 677228873407442944\n",
      "Success\n",
      "559: 677269281705472000\n",
      "Success\n",
      "560: 677301033169788928\n",
      "Success\n",
      "561: 677314812125323265\n",
      "Success\n",
      "562: 677328882937298944\n",
      "Success\n",
      "563: 677331501395156992\n",
      "Success\n",
      "564: 677334615166730240\n",
      "Success\n",
      "565: 677335745548390400\n",
      "Success\n",
      "566: 677530072887205888\n",
      "Success\n",
      "567: 677547928504967168\n",
      "Success\n",
      "568: 677557565589463040\n",
      "Success\n",
      "569: 677565715327688705\n",
      "Success\n",
      "570: 677573743309385728\n",
      "Success\n",
      "571: 677644091929329666\n",
      "Success\n",
      "572: 677662372920729601\n",
      "Success\n",
      "573: 677673981332312066\n",
      "Success\n",
      "574: 677687604918272002\n",
      "Success\n",
      "575: 677698403548192770\n",
      "Success\n",
      "576: 677700003327029250\n",
      "Success\n",
      "577: 677716515794329600\n",
      "Success\n",
      "578: 677895101218201600\n",
      "Success\n",
      "579: 677918531514703872\n",
      "Success\n",
      "580: 677961670166224897\n",
      "Success\n",
      "581: 678021115718029313\n",
      "Success\n",
      "582: 678023323247357953\n",
      "Success\n",
      "583: 678255464182861824\n",
      "Success\n",
      "584: 678278586130948096\n",
      "Success\n",
      "585: 678334497360859136\n",
      "Success\n",
      "586: 678341075375947776\n",
      "Success\n",
      "587: 678380236862578688\n",
      "Success\n",
      "588: 678389028614488064\n",
      "Success\n",
      "589: 678396796259975168\n",
      "Success\n",
      "590: 678399652199309312\n",
      "Success\n",
      "591: 678410210315247616\n",
      "Success\n",
      "592: 678424312106393600\n",
      "Success\n",
      "593: 678446151570427904\n",
      "Success\n",
      "594: 678643457146150913\n",
      "Success\n",
      "595: 678675843183484930\n",
      "Success\n",
      "596: 678708137298427904\n",
      "Success\n",
      "597: 678740035362037760\n",
      "Success\n",
      "598: 678755239630127104\n",
      "Success\n",
      "599: 678764513869611008\n",
      "Success\n",
      "600: 678767140346941444\n",
      "Success\n",
      "601: 678774928607469569\n",
      "Success\n",
      "602: 678798276842360832\n",
      "Success\n",
      "603: 678800283649069056\n",
      "Success\n",
      "604: 678969228704284672\n",
      "Success\n",
      "605: 678991772295516161\n",
      "Success\n",
      "606: 679001094530465792\n",
      "Success\n",
      "607: 679047485189439488\n",
      "Success\n",
      "608: 679062614270468097\n",
      "Success\n",
      "609: 679111216690831360\n",
      "Success\n",
      "610: 679132435750195208\n",
      "Success\n",
      "611: 679148763231985668\n",
      "Success\n",
      "612: 679158373988876288\n",
      "Success\n",
      "613: 679405845277462528\n",
      "Success\n",
      "614: 679462823135686656\n",
      "Success\n",
      "615: 679475951516934144\n",
      "Success\n",
      "616: 679503373272485890\n",
      "Success\n",
      "617: 679511351870550016\n",
      "Success\n",
      "618: 679527802031484928\n",
      "Success\n",
      "619: 679530280114372609\n",
      "Success\n",
      "620: 679722016581222400\n",
      "Success\n",
      "621: 679729593985699840\n",
      "Success\n",
      "622: 679736210798047232\n",
      "Success\n",
      "623: 679777920601223168\n",
      "Success\n",
      "624: 679828447187857408\n",
      "Success\n",
      "625: 679844490799091713\n",
      "Success\n",
      "626: 679854723806179328\n",
      "Success\n",
      "627: 679862121895714818\n",
      "Success\n",
      "628: 679872969355714560\n",
      "Success\n",
      "629: 679877062409191424\n",
      "Success\n",
      "630: 680055455951884288\n",
      "Fail\n",
      "631: 680070545539371008\n",
      "Success\n",
      "632: 680085611152338944\n",
      "Success\n",
      "633: 680100725817409536\n",
      "Success\n",
      "634: 680115823365742593\n",
      "Success\n",
      "635: 680130881361686529\n",
      "Success\n",
      "636: 680145970311643136\n",
      "Success\n",
      "637: 680161097740095489\n",
      "Success\n",
      "638: 680176173301628928\n",
      "Success\n",
      "639: 680191257256136705\n",
      "Success\n",
      "640: 680206703334408192\n",
      "Success\n",
      "641: 680221482581123072\n",
      "Success\n",
      "642: 680440374763077632\n",
      "Success\n",
      "643: 680473011644985345\n",
      "Success\n",
      "644: 680494726643068929\n",
      "Success\n",
      "645: 680497766108381184\n",
      "Success\n",
      "646: 680583894916304897\n",
      "Success\n",
      "647: 680609293079592961\n",
      "Success\n",
      "648: 680798457301471234\n",
      "Success\n",
      "649: 680801747103793152\n",
      "Success\n",
      "650: 680805554198020098\n",
      "Success\n",
      "651: 680836378243002368\n",
      "Success\n",
      "652: 680889648562991104\n",
      "Success\n",
      "653: 680913438424612864\n",
      "Success\n",
      "654: 680934982542561280\n",
      "Success\n",
      "655: 680940246314430465\n",
      "Success\n",
      "656: 680959110691590145\n",
      "Success\n",
      "657: 680970795137544192\n",
      "Success\n",
      "658: 681193455364796417\n",
      "Success\n",
      "659: 681231109724700672\n",
      "Success\n",
      "660: 681242418453299201\n",
      "Success\n",
      "661: 681261549936340994\n",
      "Success\n",
      "662: 681281657291280384\n",
      "Success\n",
      "663: 681297372102656000\n",
      "Success\n",
      "664: 681302363064414209\n",
      "Success\n",
      "665: 681320187870711809\n",
      "Success\n",
      "666: 681339448655802368\n",
      "Success\n",
      "667: 681340665377193984\n",
      "Success\n",
      "668: 681523177663676416\n",
      "Success\n",
      "669: 681579835668455424\n",
      "Success\n",
      "670: 681610798867845120\n",
      "Success\n",
      "671: 681654059175129088\n",
      "Success\n",
      "672: 681679526984871937\n",
      "Success\n",
      "673: 681694085539872773\n",
      "Success\n",
      "674: 681891461017812993\n",
      "Success\n",
      "675: 681981167097122816\n",
      "Success\n",
      "676: 682003177596559360\n",
      "Success\n",
      "677: 682032003584274432\n",
      "Success\n",
      "678: 682047327939461121\n",
      "Success\n",
      "679: 682059653698686977\n",
      "Success\n",
      "680: 682088079302213632\n",
      "Success\n",
      "681: 682242692827447297\n",
      "Success\n",
      "682: 682259524040966145\n",
      "Success\n",
      "683: 682303737705140231\n",
      "Success\n",
      "684: 682389078323662849\n",
      "Success\n",
      "685: 682393905736888321\n",
      "Success\n",
      "686: 682406705142087680\n",
      "Success\n",
      "687: 682429480204398592\n",
      "Success\n",
      "688: 682638830361513985\n",
      "Success\n",
      "689: 682662431982772225\n",
      "Success\n",
      "690: 682697186228989953\n",
      "Success\n",
      "691: 682750546109968385\n",
      "Success\n",
      "692: 682788441537560576\n",
      "Success\n",
      "693: 682808988178739200\n",
      "Success\n",
      "694: 682962037429899265\n",
      "Success\n",
      "695: 683030066213818368\n",
      "Success\n",
      "696: 683078886620553216\n",
      "Success\n",
      "697: 683098815881154561\n",
      "Success\n",
      "698: 683111407806746624\n",
      "Success\n",
      "699: 683142553609318400\n",
      "Success\n",
      "700: 683357973142474752\n",
      "Success\n",
      "701: 683391852557561860\n",
      "Success\n",
      "702: 683449695444799489\n",
      "Success\n",
      "703: 683462770029932544\n",
      "Success\n",
      "704: 683481228088049664\n",
      "Success\n",
      "705: 683498322573824003\n",
      "Success\n",
      "706: 683515932363329536\n",
      "Success\n",
      "707: 683742671509258241\n",
      "Success\n",
      "708: 683773439333797890\n",
      "Success\n",
      "709: 683828599284170753\n",
      "Success\n",
      "710: 683834909291606017\n",
      "Success\n",
      "711: 683849932751646720\n",
      "Success\n",
      "712: 683852578183077888\n",
      "Success\n",
      "713: 683857920510050305\n",
      "Success\n",
      "714: 684097758874210310\n",
      "Success\n",
      "715: 684122891630342144\n",
      "Success\n",
      "716: 684147889187209216\n",
      "Success\n",
      "717: 684177701129875456\n",
      "Success\n",
      "718: 684188786104872960\n",
      "Success\n",
      "719: 684195085588783105\n",
      "Success\n",
      "720: 684200372118904832\n",
      "Success\n",
      "721: 684222868335505415\n",
      "Success\n",
      "722: 684225744407494656\n",
      "Success\n",
      "723: 684241637099323392\n",
      "Success\n",
      "724: 684460069371654144\n",
      "Success\n",
      "725: 684481074559381504\n",
      "Success\n",
      "726: 684538444857667585\n",
      "Success\n",
      "727: 684567543613382656\n",
      "Success\n",
      "728: 684588130326986752\n",
      "Success\n",
      "729: 684594889858887680\n",
      "Success\n",
      "730: 684800227459624960\n",
      "Success\n",
      "731: 684830982659280897\n",
      "Success\n",
      "732: 684880619965411328\n",
      "Success\n",
      "733: 684902183876321280\n",
      "Success\n",
      "734: 684914660081053696\n",
      "Success\n",
      "735: 684926975086034944\n",
      "Success\n",
      "736: 684940049151070208\n",
      "Success\n",
      "737: 684959798585110529\n",
      "Success\n",
      "738: 684969860808454144\n",
      "Success\n",
      "739: 685169283572338688\n",
      "Success\n",
      "740: 685198997565345792\n",
      "Success\n",
      "741: 685268753634967552\n",
      "Success\n",
      "742: 685307451701334016\n",
      "Success\n",
      "743: 685315239903100929\n",
      "Success\n",
      "744: 685321586178670592\n",
      "Success\n",
      "745: 685325112850124800\n",
      "Success\n",
      "746: 685532292383666176\n",
      "Success\n",
      "747: 685547936038666240\n",
      "Success\n",
      "748: 685641971164143616\n",
      "Success\n",
      "749: 685663452032069632\n",
      "Success\n",
      "750: 685667379192414208\n",
      "Success\n",
      "751: 685681090388975616\n",
      "Success\n",
      "752: 685906723014619143\n",
      "Success\n",
      "753: 685943807276412928\n",
      "Success\n",
      "754: 685973236358713344\n",
      "Success\n",
      "755: 686003207160610816\n",
      "Success\n",
      "756: 686007916130873345\n",
      "Success\n",
      "757: 686034024800862208\n",
      "Success\n",
      "758: 686035780142297088\n",
      "Success\n",
      "759: 686050296934563840\n",
      "Success\n",
      "760: 686286779679375361\n",
      "Success\n",
      "761: 686358356425093120\n",
      "Success\n",
      "762: 686377065986265092\n",
      "Success\n",
      "763: 686386521809772549\n",
      "Success\n",
      "764: 686394059078897668\n",
      "Success\n",
      "765: 686606069955735556\n",
      "Success\n",
      "766: 686618349602762752\n",
      "Success\n",
      "767: 686683045143953408\n",
      "Success\n",
      "768: 686730991906516992\n",
      "Success\n",
      "769: 686749460672679938\n",
      "Success\n",
      "770: 686760001961103360\n",
      "Success\n",
      "771: 686947101016735744\n",
      "Success\n",
      "772: 687096057537363968\n",
      "Success\n",
      "773: 687102708889812993\n",
      "Success\n",
      "774: 687109925361856513\n",
      "Success\n",
      "775: 687124485711986689\n",
      "Success\n",
      "776: 687127927494963200\n",
      "Success\n",
      "777: 687312378585812992\n",
      "Success\n",
      "778: 687317306314240000\n",
      "Success\n",
      "779: 687399393394311168\n",
      "Success\n",
      "780: 687460506001633280\n",
      "Success\n",
      "781: 687476254459715584\n",
      "Success\n",
      "782: 687480748861947905\n",
      "Success\n",
      "783: 687494652870668288\n",
      "Success\n",
      "784: 687664829264453632\n",
      "Success\n",
      "785: 687704180304273409\n",
      "Success\n",
      "786: 687732144991551489\n",
      "Success\n",
      "787: 687807801670897665\n",
      "Success\n",
      "788: 687818504314159109\n",
      "Success\n",
      "789: 687826841265172480\n",
      "Success\n",
      "790: 687841446767013888\n",
      "Success\n",
      "791: 688064179421470721\n",
      "Success\n",
      "792: 688116655151435777\n",
      "Success\n",
      "793: 688179443353796608\n",
      "Success\n",
      "794: 688211956440801280\n",
      "Success\n",
      "795: 688385280030670848\n",
      "Success\n",
      "796: 688519176466644993\n",
      "Success\n",
      "797: 688547210804498433\n",
      "Success\n",
      "798: 688789766343622656\n",
      "Success\n",
      "799: 688804835492233216\n",
      "Success\n",
      "800: 688828561667567616\n",
      "Success\n",
      "801: 688894073864884227\n",
      "Success\n",
      "802: 688898160958271489\n",
      "Success\n",
      "803: 688908934925697024\n",
      "Success\n",
      "804: 688916208532455424\n",
      "Success\n",
      "805: 689143371370250240\n",
      "Success\n",
      "806: 689154315265683456\n",
      "Success\n",
      "807: 689255633275777024\n",
      "Success\n",
      "808: 689275259254616065\n",
      "Success\n",
      "809: 689280876073582592\n",
      "Success\n",
      "810: 689283819090870273\n",
      "Success\n",
      "811: 689289219123089408\n",
      "Success\n",
      "812: 689517482558820352\n",
      "Success\n",
      "813: 689557536375177216\n",
      "Success\n",
      "814: 689599056876867584\n",
      "Success\n",
      "815: 689623661272240129\n",
      "Success\n",
      "816: 689659372465688576\n",
      "Success\n",
      "817: 689661964914655233\n",
      "Success\n",
      "818: 689835978131935233\n",
      "Success\n",
      "819: 689877686181715968\n",
      "Success\n",
      "820: 689905486972461056\n",
      "Success\n",
      "821: 689977555533848577\n",
      "Success\n",
      "822: 689993469801164801\n",
      "Success\n",
      "823: 689999384604450816\n",
      "Success\n",
      "824: 690005060500217858\n",
      "Success\n",
      "825: 690015576308211712\n",
      "Success\n",
      "826: 690021994562220032\n",
      "Success\n",
      "827: 690248561355657216\n",
      "Success\n",
      "828: 690348396616552449\n",
      "Success\n",
      "829: 690360449368465409\n",
      "Success\n",
      "830: 690374419777196032\n",
      "Success\n",
      "831: 690400367696297985\n",
      "Success\n",
      "832: 690597161306841088\n",
      "Success\n",
      "833: 690607260360429569\n",
      "Success\n",
      "834: 690649993829576704\n",
      "Success\n",
      "835: 690690673629138944\n",
      "Success\n",
      "836: 690728923253055490\n",
      "Success\n",
      "837: 690735892932222976\n",
      "Success\n",
      "838: 690932576555528194\n",
      "Success\n",
      "839: 690938899477221376\n",
      "Success\n",
      "840: 690959652130045952\n",
      "Success\n",
      "841: 690989312272396288\n",
      "Success\n",
      "842: 691090071332753408\n",
      "Success\n",
      "843: 691096613310316544\n",
      "Success\n",
      "844: 691321916024623104\n",
      "Success\n",
      "845: 691416866452082688\n",
      "Success\n",
      "846: 691444869282295808\n",
      "Success\n",
      "847: 691459709405118465\n",
      "Success\n",
      "848: 691483041324204033\n",
      "Success\n",
      "849: 691675652215414786\n",
      "Success\n",
      "850: 691756958957883396\n",
      "Success\n",
      "851: 691793053716221953\n",
      "Success\n",
      "852: 691820333922455552\n",
      "Success\n",
      "853: 692017291282812928\n",
      "Success\n",
      "854: 692041934689402880\n",
      "Success\n",
      "855: 692142790915014657\n",
      "Success\n",
      "856: 692158366030913536\n",
      "Success\n",
      "857: 692187005137076224\n",
      "Success\n",
      "858: 692417313023332352\n",
      "Success\n",
      "859: 692423280028966913\n",
      "Success\n",
      "860: 692530551048294401\n",
      "Success\n",
      "861: 692535307825213440\n",
      "Success\n",
      "862: 692568918515392513\n",
      "Success\n",
      "863: 692752401762250755\n",
      "Success\n",
      "864: 692828166163931137\n",
      "Success\n",
      "865: 692894228850999298\n",
      "Success\n",
      "866: 692901601640583168\n",
      "Success\n",
      "867: 692905862751522816\n",
      "Success\n",
      "868: 692919143163629568\n",
      "Success\n",
      "869: 693095443459342336\n",
      "Success\n",
      "870: 693109034023534592\n",
      "Success\n",
      "871: 693155686491000832\n",
      "Success\n",
      "872: 693231807727280129\n",
      "Success\n",
      "873: 693262851218264065\n",
      "Success\n",
      "874: 693267061318012928\n",
      "Success\n",
      "875: 693280720173801472\n",
      "Success\n",
      "876: 693486665285931008\n",
      "Success\n",
      "877: 693582294167244802\n",
      "Success\n",
      "878: 693590843962331137\n",
      "Success\n",
      "879: 693622659251335168\n",
      "Success\n",
      "880: 693629975228977152\n",
      "Success\n",
      "881: 693642232151285760\n",
      "Success\n",
      "882: 693644216740769793\n",
      "Success\n",
      "883: 693647888581312512\n",
      "Success\n",
      "884: 693942351086120961\n",
      "Success\n",
      "885: 693993230313091072\n",
      "Success\n",
      "886: 694001791655137281\n",
      "Success\n",
      "887: 694183373896572928\n",
      "Success\n",
      "888: 694206574471057408\n",
      "Success\n",
      "889: 694329668942569472\n",
      "Success\n",
      "890: 694342028726001664\n",
      "Success\n",
      "891: 694352839993344000\n",
      "Success\n",
      "892: 694356675654983680\n",
      "Success\n",
      "893: 694669722378485760\n",
      "Success\n",
      "894: 694905863685980160\n",
      "Success\n",
      "895: 694925794720792577\n",
      "Success\n",
      "896: 695051054296211456\n",
      "Success\n",
      "897: 695064344191721472\n",
      "Success\n",
      "898: 695074328191332352\n",
      "Success\n",
      "899: 695095422348574720\n",
      "Success\n",
      "900: 695314793360662529\n",
      "Success\n",
      "901: 695409464418041856\n",
      "Success\n",
      "902: 695446424020918272\n",
      "Success\n",
      "903: 695629776980148225\n",
      "Success\n",
      "904: 695767669421768709\n",
      "Success\n",
      "905: 695794761660297217\n",
      "Success\n",
      "906: 695816827381944320\n",
      "Success\n",
      "907: 696100768806522880\n",
      "Success\n",
      "908: 696405997980676096\n",
      "Success\n",
      "909: 696488710901260288\n",
      "Success\n",
      "910: 696490539101908992\n",
      "Success\n",
      "911: 696518437233913856\n",
      "Success\n",
      "912: 696713835009417216\n",
      "Success\n",
      "913: 696744641916489729\n",
      "Success\n",
      "914: 696754882863349760\n",
      "Success\n",
      "915: 696877980375769088\n",
      "Success\n",
      "916: 696886256886657024\n",
      "Success\n",
      "917: 696894894812565505\n",
      "Success\n",
      "918: 696900204696625153\n",
      "Success\n",
      "919: 697242256848379904\n",
      "Success\n",
      "920: 697255105972801536\n",
      "Success\n",
      "921: 697259378236399616\n",
      "Success\n",
      "922: 697270446429966336\n",
      "Success\n",
      "923: 697463031882764288\n",
      "Success\n",
      "924: 697482927769255936\n",
      "Success\n",
      "925: 697516214579523584\n",
      "Success\n",
      "926: 697575480820686848\n",
      "Success\n",
      "927: 697596423848730625\n",
      "Success\n",
      "928: 697616773278015490\n",
      "Success\n",
      "929: 697630435728322560\n",
      "Success\n",
      "930: 697881462549430272\n",
      "Success\n",
      "931: 697943111201378304\n",
      "Success\n",
      "932: 697990423684476929\n",
      "Success\n",
      "933: 697995514407682048\n",
      "Success\n",
      "934: 698178924120031232\n",
      "Success\n",
      "935: 698195409219559425\n",
      "Success\n",
      "936: 698262614669991936\n",
      "Success\n",
      "937: 698342080612007937\n",
      "Success\n",
      "938: 698355670425473025\n",
      "Success\n",
      "939: 698549713696649216\n",
      "Success\n",
      "940: 698635131305795584\n",
      "Success\n",
      "941: 698703483621523456\n",
      "Success\n",
      "942: 698710712454139905\n",
      "Success\n",
      "943: 698907974262222848\n",
      "Success\n",
      "944: 698953797952008193\n",
      "Success\n",
      "945: 698989035503689728\n",
      "Success\n",
      "946: 699036661657767936\n",
      "Success\n",
      "947: 699060279947165696\n",
      "Success\n",
      "948: 699072405256409088\n",
      "Success\n",
      "949: 699079609774645248\n",
      "Success\n",
      "950: 699088579889332224\n",
      "Success\n",
      "951: 699323444782047232\n",
      "Success\n",
      "952: 699370870310113280\n",
      "Success\n",
      "953: 699413908797464576\n",
      "Success\n",
      "954: 699423671849451520\n",
      "Success\n",
      "955: 699434518667751424\n",
      "Success\n",
      "956: 699446877801091073\n",
      "Success\n",
      "957: 699691744225525762\n",
      "Success\n",
      "958: 699775878809702401\n",
      "Success\n",
      "959: 699779630832685056\n",
      "Success\n",
      "960: 699788877217865730\n",
      "Success\n",
      "961: 699801817392291840\n",
      "Success\n",
      "962: 700002074055016451\n",
      "Success\n",
      "963: 700029284593901568\n",
      "Success\n",
      "964: 700062718104104960\n",
      "Success\n",
      "965: 700143752053182464\n",
      "Success\n",
      "966: 700151421916807169\n",
      "Success\n",
      "967: 700167517596164096\n",
      "Success\n",
      "968: 700462010979500032\n",
      "Success\n",
      "969: 700505138482569216\n",
      "Success\n",
      "970: 700518061187723268\n",
      "Success\n",
      "971: 700747788515020802\n",
      "Success\n",
      "972: 700796979434098688\n",
      "Success\n",
      "973: 700847567345688576\n",
      "Success\n",
      "974: 700864154249383937\n",
      "Success\n",
      "975: 700890391244103680\n",
      "Success\n",
      "976: 701214700881756160\n",
      "Success\n",
      "977: 701545186879471618\n",
      "Success\n",
      "978: 701570477911896070\n",
      "Success\n",
      "979: 701601587219795968\n",
      "Success\n",
      "980: 701805642395348998\n",
      "Success\n",
      "981: 701889187134500865\n",
      "Success\n",
      "982: 701952816642965504\n",
      "Success\n",
      "983: 701981390485725185\n",
      "Success\n",
      "984: 702217446468493312\n",
      "Success\n",
      "985: 702276748847800320\n",
      "Success\n",
      "986: 702321140488925184\n",
      "Success\n",
      "987: 702332542343577600\n",
      "Success\n",
      "988: 702539513671897089\n",
      "Success\n",
      "989: 702598099714314240\n",
      "Success\n",
      "990: 702671118226825216\n",
      "Success\n",
      "991: 702684942141153280\n",
      "Success\n",
      "992: 702899151802126337\n",
      "Success\n",
      "993: 702932127499816960\n",
      "Success\n",
      "994: 703041949650034688\n",
      "Success\n",
      "995: 703079050210877440\n",
      "Success\n",
      "996: 703268521220972544\n",
      "Success\n",
      "997: 703356393781329922\n",
      "Success\n",
      "998: 703382836347330562\n",
      "Success\n",
      "999: 703407252292673536\n",
      "Success\n",
      "1000: 703425003149250560\n",
      "Success\n",
      "1001: 703611486317502464\n",
      "Success\n",
      "1002: 703631701117943808\n",
      "Success\n",
      "1003: 703769065844768768\n",
      "Success\n",
      "1004: 703774238772166656\n",
      "Success\n",
      "1005: 704054845121142784\n",
      "Success\n",
      "1006: 704113298707505153\n",
      "Success\n",
      "1007: 704134088924532736\n",
      "Success\n",
      "1008: 704347321748819968\n",
      "Success\n",
      "1009: 704364645503647744\n",
      "Success\n",
      "1010: 704480331685040129\n",
      "Success\n",
      "1011: 704491224099647488\n",
      "Success\n",
      "1012: 704499785726889984\n",
      "Success\n",
      "1013: 704761120771465216\n",
      "Success\n",
      "1014: 704819833553219584\n",
      "Success\n",
      "1015: 704847917308362754\n",
      "Success\n",
      "1016: 704859558691414016\n",
      "Success\n",
      "1017: 704871453724954624\n",
      "Success\n",
      "1018: 705066031337840642\n",
      "Success\n",
      "1019: 705102439679201280\n",
      "Success\n",
      "1020: 705223444686888960\n",
      "Success\n",
      "1021: 705239209544720384\n",
      "Success\n",
      "1022: 705428427625635840\n",
      "Success\n",
      "1023: 705442520700944385\n",
      "Success\n",
      "1024: 705475953783398401\n",
      "Success\n",
      "1025: 705591895322394625\n",
      "Success\n",
      "1026: 705786532653883392\n",
      "Success\n",
      "1027: 705898680587526145\n",
      "Success\n",
      "1028: 705970349788291072\n",
      "Success\n",
      "1029: 705975130514706432\n",
      "Success\n",
      "1030: 706153300320784384\n",
      "Success\n",
      "1031: 706166467411222528\n",
      "Success\n",
      "1032: 706169069255446529\n",
      "Success\n",
      "1033: 706265994973601792\n",
      "Success\n",
      "1034: 706291001778950144\n",
      "Success\n",
      "1035: 706310011488698368\n",
      "Success\n",
      "1036: 706346369204748288\n",
      "Success\n",
      "1037: 706516534877929472\n",
      "Success\n",
      "1038: 706538006853918722\n",
      "Success\n",
      "1039: 706593038911545345\n",
      "Success\n",
      "1040: 706644897839910912\n",
      "Success\n",
      "1041: 706681918348251136\n",
      "Success\n",
      "1042: 706901761596989440\n",
      "Success\n",
      "1043: 706904523814649856\n",
      "Success\n",
      "1044: 707014260413456384\n",
      "Success\n",
      "1045: 707021089608753152\n",
      "Success\n",
      "1046: 707038192327901184\n",
      "Success\n",
      "1047: 707059547140169728\n",
      "Success\n",
      "1048: 707297311098011648\n",
      "Success\n",
      "1049: 707315916783140866\n",
      "Success\n",
      "1050: 707377100785885184\n",
      "Success\n",
      "1051: 707387676719185920\n",
      "Success\n",
      "1052: 707411934438625280\n",
      "Success\n",
      "1053: 707420581654872064\n",
      "Success\n",
      "1054: 707610948723478529\n",
      "Success\n",
      "1055: 707629649552134146\n",
      "Success\n",
      "1056: 707693576495472641\n",
      "Success\n",
      "1057: 707738799544082433\n",
      "Success\n",
      "1058: 707741517457260545\n",
      "Success\n",
      "1059: 707776935007539200\n",
      "Success\n",
      "1060: 707969809498152960\n",
      "Success\n",
      "1061: 707983188426153984\n",
      "Success\n",
      "1062: 707995814724026368\n",
      "Success\n",
      "1063: 708026248782585858\n",
      "Success\n",
      "1064: 708109389455101952\n",
      "Success\n",
      "1065: 708119489313951744\n",
      "Success\n",
      "1066: 708130923141795840\n",
      "Success\n",
      "1067: 708149363256774660\n",
      "Success\n",
      "1068: 708349470027751425\n",
      "Success\n",
      "1069: 708356463048204288\n",
      "Success\n",
      "1070: 708400866336894977\n",
      "Success\n",
      "1071: 708469915515297792\n",
      "Success\n",
      "1072: 708479650088034305\n",
      "Success\n",
      "1073: 708711088997666817\n",
      "Success\n",
      "1074: 708738143638450176\n",
      "Success\n",
      "1075: 708810915978854401\n",
      "Success\n",
      "1076: 708834316713893888\n",
      "Success\n",
      "1077: 708845821941387268\n",
      "Success\n",
      "1078: 708853462201716736\n",
      "Success\n",
      "1079: 709042156699303936\n",
      "Success\n",
      "1080: 709158332880297985\n",
      "Success\n",
      "1081: 709179584944730112\n",
      "Success\n",
      "1082: 709198395643068416\n",
      "Success\n",
      "1083: 709207347839836162\n",
      "Success\n",
      "1084: 709225125749587968\n",
      "Success\n",
      "1085: 709409458133323776\n",
      "Success\n",
      "1086: 709449600415961088\n",
      "Success\n",
      "1087: 709519240576036864\n",
      "Success\n",
      "1088: 709556954897764353\n",
      "Success\n",
      "1089: 709566166965075968\n",
      "Success\n",
      "1090: 709852847387627521\n",
      "Success\n",
      "1091: 709901256215666688\n",
      "Success\n",
      "1092: 709918798883774466\n",
      "Success\n",
      "1093: 710117014656950272\n",
      "Success\n",
      "1094: 710140971284037632\n",
      "Success\n",
      "1095: 710153181850935296\n",
      "Success\n",
      "1096: 710269109699739648\n",
      "Success\n",
      "1097: 710272297844797440\n",
      "Success\n",
      "1098: 710283270106132480\n",
      "Success\n",
      "1099: 710296729921429505\n",
      "Success\n",
      "1100: 710588934686908417\n",
      "Success\n",
      "1101: 710609963652087808\n",
      "Success\n",
      "1102: 710658690886586372\n",
      "Success\n",
      "1103: 710833117892898816\n",
      "Success\n",
      "1104: 710844581445812225\n",
      "Success\n",
      "1105: 710997087345876993\n",
      "Success\n",
      "1106: 711008018775851008\n",
      "Success\n",
      "1107: 711306686208872448\n",
      "Success\n",
      "1108: 711363825979756544\n",
      "Success\n",
      "1109: 711652651650457602\n",
      "Success\n",
      "1110: 711694788429553666\n",
      "Success\n",
      "1111: 711732680602345472\n",
      "Success\n",
      "1112: 711743778164514816\n",
      "Success\n",
      "1113: 711968124745228288\n",
      "Success\n",
      "1114: 711998809858043904\n",
      "Success\n",
      "1115: 712065007010385924\n",
      "Success\n",
      "1116: 712085617388212225\n",
      "Success\n",
      "1117: 712092745624633345\n",
      "Success\n",
      "1118: 712097430750289920\n",
      "Success\n",
      "1119: 712309440758808576\n",
      "Success\n",
      "1120: 712438159032893441\n",
      "Success\n",
      "1121: 712668654853337088\n",
      "Success\n",
      "1122: 712717840512598017\n",
      "Success\n",
      "1123: 712809025985978368\n",
      "Success\n",
      "1124: 713175907180089344\n",
      "Success\n",
      "1125: 713177543487135744\n",
      "Success\n",
      "1126: 713411074226274305\n",
      "Success\n",
      "1127: 713761197720473600\n",
      "Success\n",
      "1128: 713900603437621249\n",
      "Success\n",
      "1129: 713909862279876608\n",
      "Success\n",
      "1130: 713919462244790272\n",
      "Success\n",
      "1131: 714141408463036416\n",
      "Success\n",
      "1132: 714214115368108032\n",
      "Success\n",
      "1133: 714251586676113411\n",
      "Success\n",
      "1134: 714258258790387713\n",
      "Success\n",
      "1135: 714485234495041536\n",
      "Success\n",
      "1136: 714606013974974464\n",
      "Success\n",
      "1137: 714631576617938945\n",
      "Success\n",
      "1138: 714957620017307648\n",
      "Success\n",
      "1139: 714962719905021952\n",
      "Success\n",
      "1140: 714982300363173890\n",
      "Success\n",
      "1141: 715009755312439296\n",
      "Success\n",
      "1142: 715200624753819648\n",
      "Success\n",
      "1143: 715220193576927233\n",
      "Success\n",
      "1144: 715342466308784130\n",
      "Success\n",
      "1145: 715360349751484417\n",
      "Success\n",
      "1146: 715680795826982913\n",
      "Success\n",
      "1147: 715696743237730304\n",
      "Success\n",
      "1148: 715704790270025728\n",
      "Success\n",
      "1149: 715733265223708672\n",
      "Success\n",
      "1150: 715758151270801409\n",
      "Success\n",
      "1151: 715928423106027520\n",
      "Success\n",
      "1152: 716080869887381504\n",
      "Success\n",
      "1153: 716285507865542656\n",
      "Success\n",
      "1154: 716439118184652801\n",
      "Success\n",
      "1155: 716447146686459905\n",
      "Success\n",
      "1156: 716730379797970944\n",
      "Success\n",
      "1157: 716791146589110272\n",
      "Success\n",
      "1158: 716802964044845056\n",
      "Success\n",
      "1159: 717009362452090881\n",
      "Success\n",
      "1160: 717047459982213120\n",
      "Success\n",
      "1161: 717421804990701568\n",
      "Success\n",
      "1162: 717428917016076293\n",
      "Success\n",
      "1163: 717537687239008257\n",
      "Success\n",
      "1164: 717790033953034240\n",
      "Success\n",
      "1165: 717841801130979328\n",
      "Success\n",
      "1166: 718234618122661888\n",
      "Success\n",
      "1167: 718246886998687744\n",
      "Success\n",
      "1168: 718454725339934721\n",
      "Success\n",
      "1169: 718460005985447936\n",
      "Success\n",
      "1170: 718540630683709445\n",
      "Success\n",
      "1171: 718613305783398402\n",
      "Success\n",
      "1172: 718631497683582976\n",
      "Success\n",
      "1173: 718939241951195136\n",
      "Success\n",
      "1174: 718971898235854848\n",
      "Success\n",
      "1175: 719332531645071360\n",
      "Success\n",
      "1176: 719339463458033665\n",
      "Success\n",
      "1177: 719367763014393856\n",
      "Success\n",
      "1178: 719551379208073216\n",
      "Success\n",
      "1179: 719704490224398336\n",
      "Success\n",
      "1180: 719991154352222208\n",
      "Success\n",
      "1181: 720043174954147842\n",
      "Success\n",
      "1182: 720059472081784833\n",
      "Success\n",
      "1183: 720340705894408192\n",
      "Success\n",
      "1184: 720389942216527872\n",
      "Success\n",
      "1185: 720415127506415616\n",
      "Success\n",
      "1186: 720775346191278080\n",
      "Success\n",
      "1187: 720785406564900865\n",
      "Success\n",
      "1188: 721001180231503872\n",
      "Success\n",
      "1189: 721503162398597120\n",
      "Success\n",
      "1190: 722613351520608256\n",
      "Success\n",
      "1191: 722974582966214656\n",
      "Success\n",
      "1192: 723179728551723008\n",
      "Success\n",
      "1193: 723673163800948736\n",
      "Success\n",
      "1194: 723688335806480385\n",
      "Success\n",
      "1195: 723912936180330496\n",
      "Success\n",
      "1196: 724004602748780546\n",
      "Success\n",
      "1197: 724046343203856385\n",
      "Success\n",
      "1198: 724049859469295616\n",
      "Success\n",
      "1199: 724405726123311104\n",
      "Success\n",
      "1200: 724771698126512129\n",
      "Success\n",
      "1201: 724983749226668032\n",
      "Success\n",
      "1202: 725458796924002305\n",
      "Success\n",
      "1203: 725729321944506368\n",
      "Success\n",
      "1204: 725786712245440512\n",
      "Success\n",
      "1205: 725842289046749185\n",
      "Success\n",
      "1206: 726224900189511680\n",
      "Success\n",
      "1207: 726828223124897792\n",
      "Success\n",
      "1208: 726887082820554753\n",
      "Success\n",
      "1209: 726935089318363137\n",
      "Success\n",
      "1210: 727155742655025152\n",
      "Success\n",
      "1211: 727175381690781696\n",
      "Success\n",
      "1212: 727286334147182592\n",
      "Success\n",
      "1213: 727314416056803329\n",
      "Success\n",
      "1214: 727524757080539137\n",
      "Success\n",
      "1215: 727644517743104000\n",
      "Success\n",
      "1216: 727685679342333952\n",
      "Success\n",
      "1217: 728015554473250816\n",
      "Success\n",
      "1218: 728035342121635841\n",
      "Success\n",
      "1219: 728046963732717569\n",
      "Success\n",
      "1220: 728387165835677696\n",
      "Success\n",
      "1221: 728409960103686147\n",
      "Success\n",
      "1222: 728653952833728512\n",
      "Success\n",
      "1223: 728751179681943552\n",
      "Success\n",
      "1224: 728760639972315136\n",
      "Success\n",
      "1225: 728986383096946689\n",
      "Success\n",
      "1226: 729113531270991872\n",
      "Success\n",
      "1227: 729463711119904772\n",
      "Success\n",
      "1228: 729823566028484608\n",
      "Success\n",
      "1229: 729838605770891264\n",
      "Success\n",
      "1230: 729854734790754305\n",
      "Success\n",
      "1231: 730196704625098752\n",
      "Success\n",
      "1232: 730211855403241472\n",
      "Success\n",
      "1233: 730427201120833536\n",
      "Success\n",
      "1234: 730573383004487680\n",
      "Success\n",
      "1235: 730924654643314689\n",
      "Success\n",
      "1236: 731156023742988288\n",
      "Success\n",
      "1237: 731285275100512256\n",
      "Success\n",
      "1238: 732005617171337216\n",
      "Success\n",
      "1239: 732375214819057664\n",
      "Success\n",
      "1240: 732585889486888962\n",
      "Success\n",
      "1241: 732726085725589504\n",
      "Success\n",
      "1242: 732732193018155009\n",
      "Success\n",
      "1243: 733109485275860992\n",
      "Success\n",
      "1244: 733460102733135873\n",
      "Success\n",
      "1245: 733482008106668032\n",
      "Success\n",
      "1246: 733822306246479872\n",
      "Success\n",
      "1247: 733828123016450049\n",
      "Success\n",
      "1248: 734559631394082816\n",
      "Success\n",
      "1249: 734776360183431168\n",
      "Success\n",
      "1250: 734787690684657664\n",
      "Success\n",
      "1251: 734912297295085568\n",
      "Success\n",
      "1252: 735137028879360001\n",
      "Success\n",
      "1253: 735256018284875776\n",
      "Success\n",
      "1254: 735274964362878976\n",
      "Success\n",
      "1255: 735635087207878657\n",
      "Success\n",
      "1256: 735648611367784448\n",
      "Success\n",
      "1257: 735991953473572864\n",
      "Success\n",
      "1258: 736010884653420544\n",
      "Success\n",
      "1259: 736225175608430592\n",
      "Success\n",
      "1260: 736365877722001409\n",
      "Success\n",
      "1261: 736392552031657984\n",
      "Success\n",
      "1262: 736736130620620800\n",
      "Success\n",
      "1263: 737310737551491075\n",
      "Success\n",
      "1264: 737322739594330112\n",
      "Success\n",
      "1265: 737445876994609152\n",
      "Success\n",
      "1266: 737678689543020544\n",
      "Success\n",
      "1267: 737800304142471168\n",
      "Success\n",
      "1268: 737826014890496000\n",
      "Success\n",
      "1269: 738156290900254721\n",
      "Success\n",
      "1270: 738166403467907072\n",
      "Success\n",
      "1271: 738184450748633089\n",
      "Success\n",
      "1272: 738402415918125056\n",
      "Success\n",
      "1273: 738537504001953792\n",
      "Success\n",
      "1274: 738883359779196928\n",
      "Success\n",
      "1275: 738885046782832640\n",
      "Success\n",
      "1276: 738891149612572673\n",
      "Success\n",
      "1277: 739238157791694849\n",
      "Success\n",
      "1278: 739485634323156992\n",
      "Success\n",
      "1279: 739544079319588864\n",
      "Success\n",
      "1280: 739606147276148736\n",
      "Success\n",
      "1281: 739623569819336705\n",
      "Success\n",
      "1282: 739844404073074688\n",
      "Success\n",
      "1283: 739932936087216128\n",
      "Success\n",
      "1284: 739979191639244800\n",
      "Success\n",
      "1285: 740214038584557568\n",
      "Success\n",
      "1286: 740359016048689152\n",
      "Success\n",
      "1287: 740365076218183684\n",
      "Success\n",
      "1288: 740373189193256964\n",
      "Success\n",
      "1289: 740676976021798912\n",
      "Success\n",
      "1290: 740699697422163968\n",
      "Success\n",
      "1291: 740711788199743490\n",
      "Success\n",
      "1292: 740995100998766593\n",
      "Success\n",
      "1293: 741067306818797568\n",
      "Success\n",
      "1294: 741099773336379392\n",
      "Success\n",
      "1295: 741303864243200000\n",
      "Success\n",
      "1296: 741438259667034112\n",
      "Success\n",
      "1297: 741743634094141440\n",
      "Success\n",
      "1298: 741793263812808706\n",
      "Success\n",
      "1299: 742150209887731712\n",
      "Success\n",
      "1300: 742161199639494656\n",
      "Success\n",
      "1301: 742385895052087300\n",
      "Success\n",
      "1302: 742423170473463808\n",
      "Success\n",
      "1303: 742465774154047488\n",
      "Success\n",
      "1304: 742528092657332225\n",
      "Success\n",
      "1305: 742534281772302336\n",
      "Success\n",
      "1306: 743210557239623680\n",
      "Success\n",
      "1307: 743222593470234624\n",
      "Success\n",
      "1308: 743253157753532416\n",
      "Success\n",
      "1309: 743510151680958465\n",
      "Success\n",
      "1310: 743545585370791937\n",
      "Success\n",
      "1311: 743595368194129920\n",
      "Success\n",
      "1312: 743609206067040256\n",
      "Success\n",
      "1313: 743835915802583040\n",
      "Success\n",
      "1314: 743895849529389061\n",
      "Success\n",
      "1315: 743980027717509120\n",
      "Success\n",
      "1316: 744223424764059648\n",
      "Success\n",
      "1317: 744234799360020481\n",
      "Success\n",
      "1318: 744334592493166593\n",
      "Success\n",
      "1319: 744709971296780288\n",
      "Success\n",
      "1320: 744971049620602880\n",
      "Success\n",
      "1321: 744995568523612160\n",
      "Success\n",
      "1322: 745057283344719872\n",
      "Success\n",
      "1323: 745074613265149952\n",
      "Success\n",
      "1324: 745314880350101504\n",
      "Success\n",
      "1325: 745422732645535745\n",
      "Success\n",
      "1326: 745433870967832576\n",
      "Success\n",
      "1327: 745712589599014916\n",
      "Success\n",
      "1328: 745789745784041472\n",
      "Success\n",
      "1329: 746056683365994496\n",
      "Success\n",
      "1330: 746131877086527488\n",
      "Success\n",
      "1331: 746369468511756288\n",
      "Success\n",
      "1332: 746507379341139972\n",
      "Success\n",
      "1333: 746521445350707200\n",
      "Success\n",
      "1334: 746542875601690625\n",
      "Success\n",
      "1335: 746726898085036033\n",
      "Success\n",
      "1336: 746757706116112384\n",
      "Success\n",
      "1337: 746790600704425984\n",
      "Success\n",
      "1338: 746818907684614144\n",
      "Success\n",
      "1339: 746872823977771008\n",
      "Success\n",
      "1340: 746906459439529985\n",
      "Success\n",
      "1341: 747103485104099331\n",
      "Success\n",
      "1342: 747204161125646336\n",
      "Success\n",
      "1343: 747219827526344708\n",
      "Success\n",
      "1344: 747242308580548608\n",
      "Success\n",
      "1345: 747439450712596480\n",
      "Success\n",
      "1346: 747461612269887489\n",
      "Success\n",
      "1347: 747512671126323200\n",
      "Success\n",
      "1348: 747594051852075008\n",
      "Success\n",
      "1349: 747600769478692864\n",
      "Success\n",
      "1350: 747648653817413632\n",
      "Success\n",
      "1351: 747651430853525504\n",
      "Success\n",
      "1352: 747816857231626240\n",
      "Success\n",
      "1353: 747844099428986880\n",
      "Success\n",
      "1354: 747885874273214464\n",
      "Success\n",
      "1355: 747933425676525569\n",
      "Success\n",
      "1356: 747963614829678593\n",
      "Success\n",
      "1357: 748220828303695873\n",
      "Success\n",
      "1358: 748307329658011649\n",
      "Success\n",
      "1359: 748324050481647620\n",
      "Success\n",
      "1360: 748337862848962560\n",
      "Success\n",
      "1361: 748346686624440324\n",
      "Success\n",
      "1362: 748568946752774144\n",
      "Success\n",
      "1363: 748575535303884801\n",
      "Success\n",
      "1364: 748692773788876800\n",
      "Success\n",
      "1365: 748699167502000129\n",
      "Success\n",
      "1366: 748705597323898880\n",
      "Success\n",
      "1367: 748932637671223296\n",
      "Success\n",
      "1368: 748977405889503236\n",
      "Success\n",
      "1369: 749036806121881602\n",
      "Success\n",
      "1370: 749064354620928000\n",
      "Success\n",
      "1371: 749075273010798592\n",
      "Success\n",
      "1372: 749317047558017024\n",
      "Success\n",
      "1373: 749395845976588288\n",
      "Success\n",
      "1374: 749403093750648834\n",
      "Success\n",
      "1375: 749417653287129088\n",
      "Success\n",
      "1376: 749774190421639168\n",
      "Success\n",
      "1377: 749981277374128128\n",
      "Success\n",
      "1378: 749996283729883136\n",
      "Success\n",
      "1379: 750011400160841729\n",
      "Success\n",
      "1380: 750026558547456000\n",
      "Success\n",
      "1381: 750041628174217216\n",
      "Success\n",
      "1382: 750056684286914561\n",
      "Success\n",
      "1383: 750071704093859840\n",
      "Success\n",
      "1384: 750086836815486976\n",
      "Success\n",
      "1385: 750101899009982464\n",
      "Success\n",
      "1386: 750117059602808832\n",
      "Success\n",
      "1387: 750132105863102464\n",
      "Success\n",
      "1388: 750147208377409536\n",
      "Success\n",
      "1389: 750381685133418496\n",
      "Success\n",
      "1390: 750383411068534784\n",
      "Success\n",
      "1391: 750429297815552001\n",
      "Success\n",
      "1392: 750506206503038976\n",
      "Success\n",
      "1393: 750719632563142656\n",
      "Success\n",
      "1394: 750868782890057730\n",
      "Success\n",
      "1395: 751132876104687617\n",
      "Success\n",
      "1396: 751205363882532864\n",
      "Success\n",
      "1397: 751251247299190784\n",
      "Success\n",
      "1398: 751456908746354688\n",
      "Success\n",
      "1399: 751538714308972544\n",
      "Success\n",
      "1400: 751583847268179968\n",
      "Success\n",
      "1401: 751598357617971201\n",
      "Success\n",
      "1402: 751793661361422336\n",
      "Success\n",
      "1403: 751830394383790080\n",
      "Success\n",
      "1404: 751937170840121344\n",
      "Success\n",
      "1405: 751950017322246144\n",
      "Success\n",
      "1406: 752173152931807232\n",
      "Success\n",
      "1407: 752309394570878976\n",
      "Success\n",
      "1408: 752334515931054080\n",
      "Success\n",
      "1409: 752519690950500352\n",
      "Success\n",
      "1410: 752568224206688256\n",
      "Success\n",
      "1411: 752660715232722944\n",
      "Success\n",
      "1412: 752682090207055872\n",
      "Success\n",
      "1413: 752701944171524096\n",
      "Success\n",
      "1414: 752917284578922496\n",
      "Success\n",
      "1415: 752932432744185856\n",
      "Success\n",
      "1416: 753026973505581056\n",
      "Success\n",
      "1417: 753039830821511168\n",
      "Success\n",
      "1418: 753294487569522689\n",
      "Success\n",
      "1419: 753298634498793472\n",
      "Success\n",
      "1420: 753375668877008896\n",
      "Success\n",
      "1421: 753398408988139520\n",
      "Success\n",
      "1422: 753420520834629632\n",
      "Success\n",
      "1423: 753655901052166144\n",
      "Success\n",
      "1424: 754011816964026368\n",
      "Fail\n",
      "1425: 754120377874386944\n",
      "Success\n",
      "1426: 754449512966619136\n",
      "Success\n",
      "1427: 754482103782404096\n",
      "Success\n",
      "1428: 754747087846248448\n",
      "Success\n",
      "1429: 754856583969079297\n",
      "Success\n",
      "1430: 754874841593970688\n",
      "Success\n",
      "1431: 755110668769038337\n",
      "Success\n",
      "1432: 755206590534418437\n",
      "Success\n",
      "1433: 755955933503782912\n",
      "Success\n",
      "1434: 756275833623502848\n",
      "Success\n",
      "1435: 756288534030475264\n",
      "Success\n",
      "1436: 756303284449767430\n",
      "Success\n",
      "1437: 756526248105566208\n",
      "Success\n",
      "1438: 756651752796094464\n",
      "Success\n",
      "1439: 756939218950160384\n",
      "Success\n",
      "1440: 756998049151549440\n",
      "Success\n",
      "1441: 757354760399941633\n",
      "Success\n",
      "1442: 757393109802180609\n",
      "Success\n",
      "1443: 757400162377592832\n",
      "Success\n",
      "1444: 757596066325864448\n",
      "Success\n",
      "1445: 757597904299253760\n",
      "Success\n",
      "1446: 757611664640446465\n",
      "Success\n",
      "1447: 757725642876129280\n",
      "Success\n",
      "1448: 757729163776290825\n",
      "Success\n",
      "1449: 757741869644341248\n",
      "Success\n",
      "1450: 758041019896193024\n",
      "Success\n",
      "1451: 758099635764359168\n",
      "Success\n",
      "1452: 758355060040593408\n",
      "Success\n",
      "1453: 758405701903519748\n",
      "Success\n",
      "1454: 758467244762497024\n",
      "Success\n",
      "1455: 758474966123810816\n",
      "Success\n",
      "1456: 758740312047005698\n",
      "Success\n",
      "1457: 758828659922702336\n",
      "Success\n",
      "1458: 758854675097526272\n",
      "Success\n",
      "1459: 759047813560868866\n",
      "Success\n",
      "1460: 759099523532779520\n",
      "Success\n",
      "1461: 759159934323924993\n",
      "Success\n",
      "1462: 759197388317847553\n",
      "Success\n",
      "1463: 759446261539934208\n",
      "Success\n",
      "1464: 759447681597108224\n",
      "Success\n",
      "1465: 759557299618865152\n",
      "Success\n",
      "1466: 759566828574212096\n",
      "Fail\n",
      "1467: 759793422261743616\n",
      "Success\n",
      "1468: 759846353224826880\n",
      "Success\n",
      "1469: 759923798737051648\n",
      "Success\n",
      "1470: 759943073749200896\n",
      "Success\n",
      "1471: 760153949710192640\n",
      "Success\n",
      "1472: 760190180481531904\n",
      "Success\n",
      "1473: 760252756032651264\n",
      "Success\n",
      "1474: 760290219849637889\n",
      "Success\n",
      "1475: 760521673607086080\n",
      "Success\n",
      "1476: 760539183865880579\n",
      "Success\n",
      "1477: 760641137271070720\n",
      "Success\n",
      "1478: 760656994973933572\n",
      "Success\n",
      "1479: 760893934457552897\n",
      "Success\n",
      "1480: 761004547850530816\n",
      "Success\n",
      "1481: 761227390836215808\n",
      "Success\n",
      "1482: 761292947749015552\n",
      "Success\n",
      "1483: 761334018830917632\n",
      "Success\n",
      "1484: 761371037149827077\n",
      "Success\n",
      "1485: 761599872357261312\n",
      "Success\n",
      "1486: 761672994376806400\n",
      "Success\n",
      "1487: 761745352076779520\n",
      "Success\n",
      "1488: 761750502866649088\n",
      "Success\n",
      "1489: 761976711479193600\n",
      "Success\n",
      "1490: 762035686371364864\n",
      "Success\n",
      "1491: 762316489655476224\n",
      "Success\n",
      "1492: 762464539388485633\n",
      "Success\n",
      "1493: 762471784394268675\n",
      "Success\n",
      "1494: 762699858130116608\n",
      "Success\n",
      "1495: 763103485927849985\n",
      "Success\n",
      "1496: 763167063695355904\n",
      "Success\n",
      "1497: 763183847194451968\n",
      "Success\n",
      "1498: 763837565564780549\n",
      "Success\n",
      "1499: 763956972077010945\n",
      "Success\n",
      "1500: 764259802650378240\n",
      "Success\n",
      "1501: 764857477905154048\n",
      "Success\n",
      "1502: 765222098633691136\n",
      "Success\n",
      "1503: 765371061932261376\n",
      "Success\n",
      "1504: 765395769549590528\n",
      "Success\n",
      "1505: 765669560888528897\n",
      "Success\n",
      "1506: 765719909049503744\n",
      "Success\n",
      "1507: 766008592277377025\n",
      "Success\n",
      "1508: 766069199026450432\n",
      "Success\n",
      "1509: 766078092750233600\n",
      "Success\n",
      "1510: 766313316352462849\n",
      "Success\n",
      "1511: 766423258543644672\n",
      "Success\n",
      "1512: 766693177336135680\n",
      "Success\n",
      "1513: 766714921925144576\n",
      "Success\n",
      "1514: 766793450729734144\n",
      "Success\n",
      "1515: 766864461642756096\n",
      "Success\n",
      "1516: 767122157629476866\n",
      "Success\n",
      "1517: 767191397493538821\n",
      "Success\n",
      "1518: 767500508068192258\n",
      "Success\n",
      "1519: 767754930266464257\n",
      "Success\n",
      "1520: 767884188863397888\n",
      "Success\n",
      "1521: 768193404517830656\n",
      "Success\n",
      "1522: 768473857036525572\n",
      "Success\n",
      "1523: 768554158521745409\n",
      "Success\n",
      "1524: 768596291618299904\n",
      "Success\n",
      "1525: 768609597686943744\n",
      "Success\n",
      "1526: 768855141948723200\n",
      "Success\n",
      "1527: 768909767477751808\n",
      "Success\n",
      "1528: 768970937022709760\n",
      "Success\n",
      "1529: 769212283578875904\n",
      "Success\n",
      "1530: 769335591808995329\n",
      "Success\n",
      "1531: 769695466921623552\n",
      "Success\n",
      "1532: 769940425801170949\n",
      "Success\n",
      "1533: 770069151037685760\n",
      "Success\n",
      "1534: 770093767776997377\n",
      "Success\n",
      "1535: 770293558247038976\n",
      "Success\n",
      "1536: 770414278348247044\n",
      "Success\n",
      "1537: 770655142660169732\n",
      "Success\n",
      "1538: 770743923962707968\n",
      "Fail\n",
      "1539: 770772759874076672\n",
      "Success\n",
      "1540: 770787852854652928\n",
      "Success\n",
      "1541: 771004394259247104\n",
      "Fail\n",
      "1542: 771014301343748096\n",
      "Success\n",
      "1543: 771102124360998913\n",
      "Success\n",
      "1544: 771136648247640064\n",
      "Success\n",
      "1545: 771171053431250945\n",
      "Success\n",
      "1546: 771380798096281600\n",
      "Success\n",
      "1547: 771500966810099713\n",
      "Success\n",
      "1548: 771770456517009408\n",
      "Success\n",
      "1549: 771908950375665664\n",
      "Success\n",
      "1550: 772102971039580160\n",
      "Success\n",
      "1551: 772114945936949249\n",
      "Success\n",
      "1552: 772117678702071809\n",
      "Success\n",
      "1553: 772152991789019136\n",
      "Success\n",
      "1554: 772193107915964416\n",
      "Success\n",
      "1555: 772581559778025472\n",
      "Success\n",
      "1556: 772615324260794368\n",
      "Success\n",
      "1557: 772826264096874500\n",
      "Success\n",
      "1558: 772877495989305348\n",
      "Success\n",
      "1559: 773191612633579521\n",
      "Success\n",
      "1560: 773247561583001600\n",
      "Success\n",
      "1561: 773308824254029826\n",
      "Success\n",
      "1562: 773336787167145985\n",
      "Success\n",
      "1563: 773547596996571136\n",
      "Success\n",
      "1564: 773670353721753600\n",
      "Success\n",
      "1565: 773704687002451968\n",
      "Success\n",
      "1566: 773922284943896577\n",
      "Success\n",
      "1567: 773985732834758656\n",
      "Success\n",
      "1568: 774314403806253056\n",
      "Success\n",
      "1569: 774639387460112384\n",
      "Success\n",
      "1570: 774757898236878852\n",
      "Success\n",
      "1571: 775085132600442880\n",
      "Success\n",
      "1572: 775096608509886464\n",
      "Fail\n",
      "1573: 775350846108426240\n",
      "Success\n",
      "1574: 775364825476165632\n",
      "Success\n",
      "1575: 775729183532220416\n",
      "Success\n",
      "1576: 775733305207554048\n",
      "Success\n",
      "1577: 775842724423557120\n",
      "Success\n",
      "1578: 775898661951791106\n",
      "Success\n",
      "1579: 776088319444877312\n",
      "Success\n",
      "1580: 776113305656188928\n",
      "Success\n",
      "1581: 776201521193218049\n",
      "Success\n",
      "1582: 776218204058357768\n",
      "Success\n",
      "1583: 776249906839351296\n",
      "Success\n",
      "1584: 776477788987613185\n",
      "Success\n",
      "1585: 776813020089548800\n",
      "Success\n",
      "1586: 776819012571455488\n",
      "Success\n",
      "1587: 777189768882946048\n",
      "Success\n",
      "1588: 777621514455814149\n",
      "Success\n",
      "1589: 777641927919427584\n",
      "Success\n",
      "1590: 777684233540206592\n",
      "Success\n",
      "1591: 777885040357281792\n",
      "Success\n",
      "1592: 777953400541634568\n",
      "Success\n",
      "1593: 778027034220126208\n",
      "Success\n",
      "1594: 778039087836069888\n",
      "Success\n",
      "1595: 778286810187399168\n",
      "Success\n",
      "1596: 778383385161035776\n",
      "Success\n",
      "1597: 778396591732486144\n",
      "Success\n",
      "1598: 778408200802557953\n",
      "Success\n",
      "1599: 778624900596654080\n",
      "Success\n",
      "1600: 778650543019483137\n",
      "Success\n",
      "1601: 778748913645780993\n",
      "Success\n",
      "1602: 778764940568104960\n",
      "Success\n",
      "1603: 778774459159379968\n",
      "Success\n",
      "1604: 778990705243029504\n",
      "Success\n",
      "1605: 779056095788752897\n",
      "Success\n",
      "1606: 779123168116150273\n",
      "Fail\n",
      "1607: 779124354206535695\n",
      "Success\n",
      "1608: 779377524342161408\n",
      "Success\n",
      "1609: 779834332596887552\n",
      "Success\n",
      "1610: 780074436359819264\n",
      "Success\n",
      "1611: 780092040432480260\n",
      "Success\n",
      "1612: 780192070812196864\n",
      "Success\n",
      "1613: 780459368902959104\n",
      "Success\n",
      "1614: 780476555013349377\n",
      "Success\n",
      "1615: 780496263422808064\n",
      "Success\n",
      "1616: 780543529827336192\n",
      "Success\n",
      "1617: 780601303617732608\n",
      "Success\n",
      "1618: 780800785462489090\n",
      "Success\n",
      "1619: 780858289093574656\n",
      "Success\n",
      "1620: 780931614150983680\n",
      "Success\n",
      "1621: 781163403222056960\n",
      "Success\n",
      "1622: 781251288990355457\n",
      "Success\n",
      "1623: 781308096455073793\n",
      "Success\n",
      "1624: 781524693396357120\n",
      "Success\n",
      "1625: 781655249211752448\n",
      "Success\n",
      "1626: 781661882474196992\n",
      "Success\n",
      "1627: 781955203444699136\n",
      "Success\n",
      "1628: 782021823840026624\n",
      "Success\n",
      "1629: 782305867769217024\n",
      "Success\n",
      "1630: 782598640137187329\n",
      "Success\n",
      "1631: 782722598790725632\n",
      "Success\n",
      "1632: 782747134529531904\n",
      "Success\n",
      "1633: 782969140009107456\n",
      "Success\n",
      "1634: 783085703974514689\n",
      "Success\n",
      "1635: 783334639985389568\n",
      "Success\n",
      "1636: 783347506784731136\n",
      "Success\n",
      "1637: 783391753726550016\n",
      "Success\n",
      "1638: 783466772167098368\n",
      "Success\n",
      "1639: 783695101801398276\n",
      "Success\n",
      "1640: 783821107061198850\n",
      "Success\n",
      "1641: 783839966405230592\n",
      "Success\n",
      "1642: 784057939640352768\n",
      "Success\n",
      "1643: 784183165795655680\n",
      "Success\n",
      "1644: 784431430411685888\n",
      "Success\n",
      "1645: 784517518371221505\n",
      "Success\n",
      "1646: 784826020293709826\n",
      "Success\n",
      "1647: 785170936622350336\n",
      "Success\n",
      "1648: 785264754247995392\n",
      "Success\n",
      "1649: 785515384317313025\n",
      "Success\n",
      "1650: 785533386513321988\n",
      "Success\n",
      "1651: 785639753186217984\n",
      "Success\n",
      "1652: 785872687017132033\n",
      "Success\n",
      "1653: 785927819176054784\n",
      "Success\n",
      "1654: 786036967502913536\n",
      "Success\n",
      "1655: 786051337297522688\n",
      "Success\n",
      "1656: 786233965241827333\n",
      "Success\n",
      "1657: 786286427768250368\n",
      "Success\n",
      "1658: 786363235746385920\n",
      "Success\n",
      "1659: 786595970293370880\n",
      "Success\n",
      "1660: 786664955043049472\n",
      "Success\n",
      "1661: 786709082849828864\n",
      "Success\n",
      "1662: 786729988674449408\n",
      "Success\n",
      "1663: 786963064373534720\n",
      "Success\n",
      "1664: 787111942498508800\n",
      "Success\n",
      "1665: 787322443945877504\n",
      "Success\n",
      "1666: 787397959788929025\n",
      "Success\n",
      "1667: 787717603741622272\n",
      "Success\n",
      "1668: 787810552592695296\n",
      "Success\n",
      "1669: 788039637453406209\n",
      "Success\n",
      "1670: 788070120937619456\n",
      "Success\n",
      "1671: 788150585577050112\n",
      "Success\n",
      "1672: 788178268662984705\n",
      "Success\n",
      "1673: 788412144018661376\n",
      "Success\n",
      "1674: 788552643979468800\n",
      "Success\n",
      "1675: 788765914992902144\n",
      "Success\n",
      "1676: 788908386943430656\n",
      "Success\n",
      "1677: 789137962068021249\n",
      "Success\n",
      "1678: 789268448748703744\n",
      "Success\n",
      "1679: 789280767834746880\n",
      "Success\n",
      "1680: 789314372632018944\n",
      "Success\n",
      "1681: 789530877013393408\n",
      "Success\n",
      "1682: 789599242079838210\n",
      "Success\n",
      "1683: 789628658055020548\n",
      "Success\n",
      "1684: 789903600034189313\n",
      "Success\n",
      "1685: 789960241177853952\n",
      "Success\n",
      "1686: 789986466051088384\n",
      "Success\n",
      "1687: 790227638568808452\n",
      "Success\n",
      "1688: 790277117346975746\n",
      "Success\n",
      "1689: 790337589677002753\n",
      "Success\n",
      "1690: 790581949425475584\n",
      "Success\n",
      "1691: 790698755171364864\n",
      "Success\n",
      "1692: 790723298204217344\n",
      "Success\n",
      "1693: 790946055508652032\n",
      "Success\n",
      "1694: 790987426131050500\n",
      "Success\n",
      "1695: 791026214425268224\n",
      "Success\n",
      "1696: 791312159183634433\n",
      "Success\n",
      "1697: 791406955684368384\n",
      "Success\n",
      "1698: 791672322847637504\n",
      "Success\n",
      "1699: 791774931465953280\n",
      "Success\n",
      "1700: 791780927877898241\n",
      "Success\n",
      "1701: 791784077045166082\n",
      "Success\n",
      "1702: 791821351946420224\n",
      "Success\n",
      "1703: 792050063153438720\n",
      "Success\n",
      "1704: 792394556390137856\n",
      "Success\n",
      "1705: 792773781206999040\n",
      "Success\n",
      "1706: 792883833364439040\n",
      "Success\n",
      "1707: 792913359805018113\n",
      "Success\n",
      "1708: 793120401413079041\n",
      "Success\n",
      "1709: 793135492858580992\n",
      "Success\n",
      "1710: 793150605191548928\n",
      "Success\n",
      "1711: 793165685325201412\n",
      "Success\n",
      "1712: 793180763617361921\n",
      "Success\n",
      "1713: 793195938047070209\n",
      "Success\n",
      "1714: 793210959003287553\n",
      "Success\n",
      "1715: 793226087023144960\n",
      "Success\n",
      "1716: 793241302385262592\n",
      "Success\n",
      "1717: 793256262322548741\n",
      "Success\n",
      "1718: 793271401113350145\n",
      "Success\n",
      "1719: 793286476301799424\n",
      "Success\n",
      "1720: 793500921481273345\n",
      "Success\n",
      "1721: 793601777308463104\n",
      "Success\n",
      "1722: 793614319594401792\n",
      "Success\n",
      "1723: 793845145112371200\n",
      "Success\n",
      "1724: 793962221541933056\n",
      "Success\n",
      "1725: 794205286408003585\n",
      "Success\n",
      "1726: 794332329137291264\n",
      "Success\n",
      "1727: 794355576146903043\n",
      "Success\n",
      "1728: 794926597468000259\n",
      "Success\n",
      "1729: 794983741416415232\n",
      "Success\n",
      "1730: 795076730285391872\n",
      "Success\n",
      "1731: 795400264262053889\n",
      "Success\n",
      "1732: 795464331001561088\n",
      "Success\n",
      "1733: 796031486298386433\n",
      "Success\n",
      "1734: 796080075804475393\n",
      "Success\n",
      "1735: 796116448414461957\n",
      "Success\n",
      "1736: 796125600683540480\n",
      "Success\n",
      "1737: 796149749086875649\n",
      "Success\n",
      "1738: 796177847564038144\n",
      "Success\n",
      "1739: 796387464403357696\n",
      "Success\n",
      "1740: 796484825502875648\n",
      "Success\n",
      "1741: 796563435802726400\n",
      "Success\n",
      "1742: 796759840936919040\n",
      "Success\n",
      "1743: 796865951799083009\n",
      "Success\n",
      "1744: 796904159865868288\n",
      "Success\n",
      "1745: 797165961484890113\n",
      "Success\n",
      "1746: 797236660651966464\n",
      "Success\n",
      "1747: 797545162159308800\n",
      "Success\n",
      "1748: 797971864723324932\n",
      "Success\n",
      "1749: 798209839306514432\n",
      "Success\n",
      "1750: 798340744599797760\n",
      "Success\n",
      "1751: 798576900688019456\n",
      "Success\n",
      "1752: 798585098161549313\n",
      "Success\n",
      "1753: 798628517273620480\n",
      "Success\n",
      "1754: 798644042770751489\n",
      "Success\n",
      "1755: 798665375516884993\n",
      "Success\n",
      "1756: 798673117451325440\n",
      "Success\n",
      "1757: 798682547630837760\n",
      "Success\n",
      "1758: 798686750113755136\n",
      "Success\n",
      "1759: 798694562394996736\n",
      "Success\n",
      "1760: 798697898615730177\n",
      "Success\n",
      "1761: 798701998996647937\n",
      "Success\n",
      "1762: 798705661114773508\n",
      "Success\n",
      "1763: 798925684722855936\n",
      "Success\n",
      "1764: 798933969379225600\n",
      "Success\n",
      "1765: 799063482566066176\n",
      "Success\n",
      "1766: 799297110730567681\n",
      "Success\n",
      "1767: 799308762079035393\n",
      "Success\n",
      "1768: 799422933579902976\n",
      "Success\n",
      "1769: 799757965289017345\n",
      "Success\n",
      "1770: 799774291445383169\n",
      "Success\n",
      "1771: 800018252395122689\n",
      "Success\n",
      "1772: 800141422401830912\n",
      "Success\n",
      "1773: 800188575492947969\n",
      "Success\n",
      "1774: 800388270626521089\n",
      "Success\n",
      "1775: 800443802682937345\n",
      "Success\n",
      "1776: 800459316964663297\n",
      "Success\n",
      "1777: 800513324630806528\n",
      "Success\n",
      "1778: 800751577355128832\n",
      "Success\n",
      "1779: 800855607700029440\n",
      "Success\n",
      "1780: 800859414831898624\n",
      "Success\n",
      "1781: 801115127852503040\n",
      "Success\n",
      "1782: 801127390143516673\n",
      "Success\n",
      "1783: 801167903437357056\n",
      "Success\n",
      "1784: 801285448605831168\n",
      "Success\n",
      "1785: 801538201127157760\n",
      "Success\n",
      "1786: 801854953262350336\n",
      "Success\n",
      "1787: 801958328846974976\n",
      "Success\n",
      "1788: 802185808107208704\n",
      "Success\n",
      "1789: 802239329049477120\n",
      "Success\n",
      "1790: 802247111496568832\n",
      "Fail\n",
      "1791: 802265048156610565\n",
      "Success\n",
      "1792: 802323869084381190\n",
      "Success\n",
      "1793: 802572683846291456\n",
      "Success\n",
      "1794: 802600418706604034\n",
      "Success\n",
      "1795: 802624713319034886\n",
      "Success\n",
      "1796: 802952499103731712\n",
      "Success\n",
      "1797: 803276597545603072\n",
      "Success\n",
      "1798: 803321560782307329\n",
      "Success\n",
      "1799: 803380650405482500\n",
      "Success\n",
      "1800: 803638050916102144\n",
      "Success\n",
      "1801: 803692223237865472\n",
      "Success\n",
      "1802: 803773340896923648\n",
      "Success\n",
      "1803: 804026241225523202\n",
      "Success\n",
      "1804: 804413760345620481\n",
      "Success\n",
      "1805: 804475857670639616\n",
      "Success\n",
      "1806: 804738756058218496\n",
      "Success\n",
      "1807: 805207613751304193\n",
      "Success\n",
      "1808: 805487436403003392\n",
      "Success\n",
      "1809: 805520635690676224\n",
      "Success\n",
      "1810: 805823200554876929\n",
      "Success\n",
      "1811: 805826884734976000\n",
      "Success\n",
      "1812: 805932879469572096\n",
      "Success\n",
      "1813: 805958939288408065\n",
      "Success\n",
      "1814: 806219024703037440\n",
      "Success\n",
      "1815: 806242860592926720\n",
      "Success\n",
      "1816: 806542213899489280\n",
      "Success\n",
      "1817: 806576416489959424\n",
      "Success\n",
      "1818: 806620845233815552\n",
      "Success\n",
      "1819: 806629075125202948\n",
      "Success\n",
      "1820: 807010152071229440\n",
      "Success\n",
      "1821: 807059379405148160\n",
      "Success\n",
      "1822: 807106840509214720\n",
      "Success\n",
      "1823: 807621403335917568\n",
      "Success\n",
      "1824: 808001312164028416\n",
      "Success\n",
      "1825: 808106460588765185\n",
      "Success\n",
      "1826: 808134635716833280\n",
      "Success\n",
      "1827: 808344865868283904\n",
      "Success\n",
      "1828: 808501579447930884\n",
      "Success\n",
      "1829: 808733504066486276\n",
      "Success\n",
      "1830: 808838249661788160\n",
      "Success\n",
      "1831: 809084759137812480\n",
      "Success\n",
      "1832: 809220051211603969\n",
      "Success\n",
      "1833: 809448704142938112\n",
      "Success\n",
      "1834: 809808892968534016\n",
      "Success\n",
      "1835: 809920764300447744\n",
      "Success\n",
      "1836: 810254108431155201\n",
      "Success\n",
      "1837: 810284430598270976\n",
      "Success\n",
      "1838: 810657578271330305\n",
      "Success\n",
      "1839: 810896069567610880\n",
      "Success\n",
      "1840: 810984652412424192\n",
      "Success\n",
      "1841: 811386762094317568\n",
      "Success\n",
      "1842: 811627233043480576\n",
      "Success\n",
      "1843: 811647686436880384\n",
      "Success\n",
      "1844: 811744202451197953\n",
      "Success\n",
      "1845: 811985624773361665\n",
      "Success\n",
      "1846: 812372279581671427\n",
      "Success\n",
      "1847: 812466873996607488\n",
      "Success\n",
      "1848: 812503143955202048\n",
      "Success\n",
      "1849: 812709060537683968\n",
      "Success\n",
      "1850: 812747805718642688\n",
      "Fail\n",
      "1851: 812781120811126785\n",
      "Success\n",
      "1852: 813051746834595840\n",
      "Success\n",
      "1853: 813066809284972545\n",
      "Success\n",
      "1854: 813081950185472002\n",
      "Success\n",
      "1855: 813096984823349248\n",
      "Success\n",
      "1856: 813112105746448384\n",
      "Success\n",
      "1857: 813127251579564032\n",
      "Success\n",
      "1858: 813130366689148928\n",
      "Success\n",
      "1859: 813142292504645637\n",
      "Success\n",
      "1860: 813157409116065792\n",
      "Success\n",
      "1861: 813172488309972993\n",
      "Success\n",
      "1862: 813187593374461952\n",
      "Success\n",
      "1863: 813202720496779264\n",
      "Success\n",
      "1864: 813217897535406080\n",
      "Success\n",
      "1865: 813800681631023104\n",
      "Success\n",
      "1866: 813812741911748608\n",
      "Success\n",
      "1867: 813910438903693312\n",
      "Success\n",
      "1868: 813944609378369540\n",
      "Success\n",
      "1869: 814153002265309185\n",
      "Success\n",
      "1870: 814530161257443328\n",
      "Success\n",
      "1871: 814578408554463233\n",
      "Success\n",
      "1872: 814638523311648768\n",
      "Success\n",
      "1873: 814986499976527872\n",
      "Success\n",
      "1874: 815390420867969024\n",
      "Success\n",
      "1875: 815639385530101762\n",
      "Success\n",
      "1876: 815736392542261248\n",
      "Success\n",
      "1877: 815745968457060357\n",
      "Success\n",
      "1878: 815966073409433600\n",
      "Success\n",
      "1879: 815990720817401858\n",
      "Success\n",
      "1880: 816014286006976512\n",
      "Success\n",
      "1881: 816062466425819140\n",
      "Success\n",
      "1882: 816091915477250048\n",
      "Success\n",
      "1883: 816336735214911488\n",
      "Success\n",
      "1884: 816450570814898180\n",
      "Success\n",
      "1885: 816697700272001025\n",
      "Success\n",
      "1886: 816816676327063552\n",
      "Success\n",
      "1887: 816829038950027264\n",
      "Success\n",
      "1888: 817056546584727552\n",
      "Success\n",
      "1889: 817120970343411712\n",
      "Success\n",
      "1890: 817171292965273600\n",
      "Success\n",
      "1891: 817181837579653120\n",
      "Success\n",
      "1892: 817415592588222464\n",
      "Success\n",
      "1893: 817423860136083457\n",
      "Success\n",
      "1894: 817502432452313088\n",
      "Success\n",
      "1895: 817536400337801217\n",
      "Success\n",
      "1896: 817777686764523521\n",
      "Success\n",
      "1897: 817827839487737858\n",
      "Success\n",
      "1898: 817908911860748288\n",
      "Success\n",
      "1899: 818145370475810820\n",
      "Success\n",
      "1900: 818259473185828864\n",
      "Success\n",
      "1901: 818307523543449600\n",
      "Success\n",
      "1902: 818536468981415936\n",
      "Success\n",
      "1903: 818588835076603904\n",
      "Success\n",
      "1904: 818614493328580609\n",
      "Success\n",
      "1905: 818627210458333184\n",
      "Success\n",
      "1906: 818646164899774465\n",
      "Success\n",
      "1907: 819004803107983360\n",
      "Success\n",
      "1908: 819006400881917954\n",
      "Success\n",
      "1909: 819015331746349057\n",
      "Success\n",
      "1910: 819015337530290176\n",
      "Success\n",
      "1911: 819227688460238848\n",
      "Success\n",
      "1912: 819238181065359361\n",
      "Success\n",
      "1913: 819347104292290561\n",
      "Success\n",
      "1914: 819588359383371776\n",
      "Success\n",
      "1915: 819711362133872643\n",
      "Success\n",
      "1916: 819924195358416896\n",
      "Success\n",
      "1917: 819952236453363712\n",
      "Success\n",
      "1918: 820013781606658049\n",
      "Success\n",
      "1919: 820078625395449857\n",
      "Success\n",
      "1920: 820314633777061888\n",
      "Success\n",
      "1921: 820446719150292993\n",
      "Success\n",
      "1922: 820494788566847489\n",
      "Success\n",
      "1923: 820690176645140481\n",
      "Success\n",
      "1924: 820749716845686786\n",
      "Success\n",
      "1925: 820837357901512704\n",
      "Success\n",
      "1926: 821044531881721856\n",
      "Success\n",
      "1927: 821107785811234820\n",
      "Success\n",
      "1928: 821149554670182400\n",
      "Success\n",
      "1929: 821153421864615936\n",
      "Success\n",
      "1930: 821407182352777218\n",
      "Success\n",
      "1931: 821421320206483457\n",
      "Success\n",
      "1932: 821522889702862852\n",
      "Success\n",
      "1933: 821765923262631936\n",
      "Success\n",
      "1934: 821813639212650496\n",
      "Success\n",
      "1935: 821886076407029760\n",
      "Success\n",
      "1936: 822163064745328640\n",
      "Success\n",
      "1937: 822244816520155136\n",
      "Success\n",
      "1938: 822462944365645825\n",
      "Success\n",
      "1939: 822489057087389700\n",
      "Success\n",
      "1940: 822610361945911296\n",
      "Success\n",
      "1941: 822647212903690241\n",
      "Success\n",
      "1942: 822859134160621569\n",
      "Success\n",
      "1943: 822872901745569793\n",
      "Success\n",
      "1944: 822975315408461824\n",
      "Success\n",
      "1945: 823269594223824897\n",
      "Success\n",
      "1946: 823322678127919110\n",
      "Success\n",
      "1947: 823333489516937216\n",
      "Success\n",
      "1948: 823581115634085888\n",
      "Success\n",
      "1949: 823699002998870016\n",
      "Success\n",
      "1950: 823719002937630720\n",
      "Success\n",
      "1951: 823939628516474880\n",
      "Success\n",
      "1952: 824025158776213504\n",
      "Success\n",
      "1953: 824297048279236611\n",
      "Success\n",
      "1954: 824325613288833024\n",
      "Success\n",
      "1955: 824663926340194305\n",
      "Success\n",
      "1956: 824775126675836928\n",
      "Success\n",
      "1957: 824796380199809024\n",
      "Success\n",
      "1958: 825026590719483904\n",
      "Success\n",
      "1959: 825120256414846976\n",
      "Success\n",
      "1960: 825147591692263424\n",
      "Success\n",
      "1961: 825535076884762624\n",
      "Success\n",
      "1962: 825829644528148480\n",
      "Success\n",
      "1963: 825876512159186944\n",
      "Success\n",
      "1964: 826115272272650244\n",
      "Success\n",
      "1965: 826204788643753985\n",
      "Success\n",
      "1966: 826240494070030336\n",
      "Success\n",
      "1967: 826476773533745153\n",
      "Success\n",
      "1968: 826598365270007810\n",
      "Success\n",
      "1969: 826598799820865537\n",
      "Success\n",
      "1970: 826615380357632002\n",
      "Success\n",
      "1971: 826848821049180160\n",
      "Success\n",
      "1972: 826958653328592898\n",
      "Success\n",
      "1973: 827199976799354881\n",
      "Success\n",
      "1974: 827228250799742977\n",
      "Fail\n",
      "1975: 827324948884643840\n",
      "Success\n",
      "1976: 827600520311402496\n",
      "Success\n",
      "1977: 827653905312006145\n",
      "Success\n",
      "1978: 827933404142436356\n",
      "Success\n",
      "1979: 828011680017821696\n",
      "Success\n",
      "1980: 828046555563323392\n",
      "Success\n",
      "1981: 828361771580813312\n",
      "Success\n",
      "1982: 828372645993398273\n",
      "Success\n",
      "1983: 828376505180889089\n",
      "Success\n",
      "1984: 828381636999917570\n",
      "Success\n",
      "1985: 828408677031882754\n",
      "Success\n",
      "1986: 828409743546925057\n",
      "Success\n",
      "1987: 828650029636317184\n",
      "Success\n",
      "1988: 828708714936930305\n",
      "Success\n",
      "1989: 828770345708580865\n",
      "Success\n",
      "1990: 828801551087042563\n",
      "Success\n",
      "1991: 829011960981237760\n",
      "Success\n",
      "1992: 829141528400556032\n",
      "Success\n",
      "1993: 829374341691346946\n",
      "Fail\n",
      "1994: 829449946868879360\n",
      "Success\n",
      "1995: 829501995190984704\n",
      "Success\n",
      "1996: 829861396166877184\n",
      "Success\n",
      "1997: 829878982036299777\n",
      "Success\n",
      "1998: 830097400375152640\n",
      "Success\n",
      "1999: 830173239259324417\n",
      "Success\n",
      "2000: 830583320585068544\n",
      "Success\n",
      "2001: 830956169170665475\n",
      "Success\n",
      "2002: 831262627380748289\n",
      "Success\n",
      "2003: 831309418084069378\n",
      "Success\n",
      "2004: 831315979191906304\n",
      "Success\n",
      "2005: 831322785565769729\n",
      "Success\n",
      "2006: 831552930092285952\n",
      "Success\n",
      "2007: 831650051525054464\n",
      "Success\n",
      "2008: 831670449226514432\n",
      "Success\n",
      "2009: 831911600680497154\n",
      "Success\n",
      "2010: 831926988323639298\n",
      "Success\n",
      "2011: 831939777352105988\n",
      "Success\n",
      "2012: 832032802820481025\n",
      "Success\n",
      "2013: 832040443403784192\n",
      "Success\n",
      "2014: 832088576586297345\n",
      "Success\n",
      "2015: 832215726631055365\n",
      "Success\n",
      "2016: 832215909146226688\n",
      "Success\n",
      "2017: 832273440279240704\n",
      "Success\n",
      "2018: 832369877331693569\n",
      "Success\n",
      "2019: 832397543355072512\n",
      "Success\n",
      "2020: 832636094638288896\n",
      "Success\n",
      "2021: 832645525019123713\n",
      "Success\n",
      "2022: 832682457690300417\n",
      "Success\n",
      "2023: 832757312314028032\n",
      "Success\n",
      "2024: 832769181346996225\n",
      "Success\n",
      "2025: 832998151111966721\n",
      "Success\n",
      "2026: 833124694597443584\n",
      "Success\n",
      "2027: 833479644947025920\n",
      "Success\n",
      "2028: 833722901757046785\n",
      "Success\n",
      "2029: 833732339549220864\n",
      "Success\n",
      "2030: 833826103416520705\n",
      "Success\n",
      "2031: 833863086058651648\n",
      "Success\n",
      "2032: 834086379323871233\n",
      "Success\n",
      "2033: 834089966724603904\n",
      "Success\n",
      "2034: 834167344700198914\n",
      "Success\n",
      "2035: 834209720923721728\n",
      "Success\n",
      "2036: 834458053273591808\n",
      "Success\n",
      "2037: 834477809192075265\n",
      "Success\n",
      "2038: 834574053763584002\n",
      "Success\n",
      "2039: 834786237630337024\n",
      "Success\n",
      "2040: 834931633769889797\n",
      "Success\n",
      "2041: 835152434251116546\n",
      "Success\n",
      "2042: 835172783151792128\n",
      "Success\n",
      "2043: 835246439529840640\n",
      "Success\n",
      "2044: 835264098648616962\n",
      "Success\n",
      "2045: 835297930240217089\n",
      "Success\n",
      "2046: 835309094223372289\n",
      "Success\n",
      "2047: 835536468978302976\n",
      "Success\n",
      "2048: 835574547218894849\n",
      "Success\n",
      "2049: 835685285446955009\n",
      "Success\n",
      "2050: 836001077879255040\n",
      "Success\n",
      "2051: 836260088725786625\n",
      "Success\n",
      "2052: 836380477523124226\n",
      "Success\n",
      "2053: 836397794269200385\n",
      "Success\n",
      "2054: 836648853927522308\n",
      "Success\n",
      "2055: 836677758902222849\n",
      "Success\n",
      "2056: 836753516572119041\n",
      "Success\n",
      "2057: 836989968035819520\n",
      "Success\n",
      "2058: 837012587749474308\n",
      "Fail\n",
      "2059: 837110210464448512\n",
      "Success\n",
      "2060: 837366284874571778\n",
      "Fail\n",
      "2061: 837471256429613056\n",
      "Success\n",
      "2062: 837482249356513284\n",
      "Success\n",
      "2063: 837820167694528512\n",
      "Success\n",
      "2064: 838083903487373313\n",
      "Success\n",
      "2065: 838085839343206401\n",
      "Success\n",
      "2066: 838150277551247360\n",
      "Success\n",
      "2067: 838201503651401729\n",
      "Success\n",
      "2068: 838476387338051585\n",
      "Success\n",
      "2069: 838561493054533637\n",
      "Success\n",
      "2070: 838831947270979586\n",
      "Success\n",
      "2071: 838916489579200512\n",
      "Success\n",
      "2072: 838921590096166913\n",
      "Success\n",
      "2073: 838952994649550848\n",
      "Success\n",
      "2074: 839239871831150596\n",
      "Success\n",
      "2075: 839290600511926273\n",
      "Success\n",
      "2076: 839549326359670784\n",
      "Success\n",
      "2077: 839990271299457024\n",
      "Success\n",
      "2078: 840268004936019968\n",
      "Success\n",
      "2079: 840370681858686976\n",
      "Success\n",
      "2080: 840632337062862849\n",
      "Success\n",
      "2081: 840696689258311684\n",
      "Success\n",
      "2082: 840698636975636481\n",
      "Success\n",
      "2083: 840728873075638272\n",
      "Success\n",
      "2084: 840761248237133825\n",
      "Success\n",
      "2085: 841077006473256960\n",
      "Success\n",
      "2086: 841314665196081154\n",
      "Success\n",
      "2087: 841320156043304961\n",
      "Success\n",
      "2088: 841439858740625411\n",
      "Success\n",
      "2089: 841680585030541313\n",
      "Success\n",
      "2090: 841833993020538882\n",
      "Success\n",
      "2091: 842115215311396866\n",
      "Success\n",
      "2092: 842163532590374912\n",
      "Success\n",
      "2093: 842535590457499648\n",
      "Success\n",
      "2094: 842765311967449089\n",
      "Success\n",
      "2095: 842846295480000512\n",
      "Success\n",
      "2096: 842892208864923648\n",
      "Fail\n",
      "2097: 843235543001513987\n",
      "Success\n",
      "2098: 843604394117681152\n",
      "Success\n",
      "2099: 843856843873095681\n",
      "Success\n",
      "2100: 843981021012017153\n",
      "Success\n",
      "2101: 844223788422217728\n",
      "Success\n",
      "2102: 844580511645339650\n",
      "Success\n",
      "2103: 844704788403113984\n",
      "Fail\n",
      "2104: 844973813909606400\n",
      "Success\n",
      "2105: 844979544864018432\n",
      "Success\n",
      "2106: 845098359547420673\n",
      "Success\n",
      "2107: 845306882940190720\n",
      "Success\n",
      "2108: 845397057150107648\n",
      "Success\n",
      "2109: 845459076796616705\n",
      "Fail\n",
      "2110: 845677943972139009\n",
      "Success\n",
      "2111: 845812042753855489\n",
      "Success\n",
      "2112: 846042936437604353\n",
      "Success\n",
      "2113: 846139713627017216\n",
      "Success\n",
      "2114: 846153765933735936\n",
      "Success\n",
      "2115: 846505985330044928\n",
      "Success\n",
      "2116: 846514051647705089\n",
      "Success\n",
      "2117: 846874817362120707\n",
      "Success\n",
      "2118: 847116187444137987\n",
      "Success\n",
      "2119: 847157206088847362\n",
      "Success\n",
      "2120: 847251039262605312\n",
      "Success\n",
      "2121: 847606175596138505\n",
      "Success\n",
      "2122: 847617282490613760\n",
      "Success\n",
      "2123: 847842811428974592\n",
      "Success\n",
      "2124: 847962785489326080\n",
      "Success\n",
      "2125: 847971574464610304\n",
      "Success\n",
      "2126: 847978865427394560\n",
      "Success\n",
      "2127: 848212111729840128\n",
      "Success\n",
      "2128: 848213670039564288\n",
      "Success\n",
      "2129: 848324959059550208\n",
      "Success\n",
      "2130: 848690551926992896\n",
      "Success\n",
      "2131: 849051919805034497\n",
      "Success\n",
      "2132: 849336543269576704\n",
      "Success\n",
      "2133: 849412302885593088\n",
      "Success\n",
      "2134: 849668094696017920\n",
      "Success\n",
      "2135: 849776966551130114\n",
      "Success\n",
      "2136: 850019790995546112\n",
      "Success\n",
      "2137: 850145622816686080\n",
      "Success\n",
      "2138: 850333567704068097\n",
      "Success\n",
      "2139: 850380195714523136\n",
      "Success\n",
      "2140: 850753642995093505\n",
      "Success\n",
      "2141: 851224888060895234\n",
      "Success\n",
      "2142: 851464819735769094\n",
      "Success\n",
      "2143: 851591660324737024\n",
      "Success\n",
      "2144: 851861385021730816\n",
      "Success\n",
      "2145: 851953902622658560\n",
      "Fail\n",
      "2146: 852189679701164033\n",
      "Success\n",
      "2147: 852226086759018497\n",
      "Success\n",
      "2148: 852311364735569921\n",
      "Success\n",
      "2149: 852553447878664193\n",
      "Success\n",
      "2150: 852672615818899456\n",
      "Success\n",
      "2151: 852912242202992640\n",
      "Success\n",
      "2152: 852936405516943360\n",
      "Success\n",
      "2153: 853299958564483072\n",
      "Success\n",
      "2154: 853639147608842240\n",
      "Success\n",
      "2155: 853760880890318849\n",
      "Success\n",
      "2156: 854010172552949760\n",
      "Success\n",
      "2157: 854120357044912130\n",
      "Success\n",
      "2158: 854365224396361728\n",
      "Success\n",
      "2159: 854482394044301312\n",
      "Success\n",
      "2160: 854732716440526848\n",
      "Success\n",
      "2161: 855138241867124737\n",
      "Success\n",
      "2162: 855245323840757760\n",
      "Success\n",
      "2163: 855459453768019968\n",
      "Success\n",
      "2164: 855818117272018944\n",
      "Success\n",
      "2165: 855851453814013952\n",
      "Success\n",
      "2166: 855857698524602368\n",
      "Success\n",
      "2167: 855860136149123072\n",
      "Success\n",
      "2168: 855862651834028034\n",
      "Success\n",
      "2169: 856282028240666624\n",
      "Success\n",
      "2170: 856288084350160898\n",
      "Success\n",
      "2171: 856330835276025856\n",
      "Success\n",
      "2172: 856526610513747968\n",
      "Success\n",
      "2173: 856543823941562368\n",
      "Success\n",
      "2174: 856602993587888130\n",
      "Fail\n",
      "2175: 857029823797047296\n",
      "Success\n",
      "2176: 857062103051644929\n",
      "Success\n",
      "2177: 857214891891077121\n",
      "Success\n",
      "2178: 857263160327368704\n",
      "Success\n",
      "2179: 857393404942143489\n",
      "Success\n",
      "2180: 857746408056729600\n",
      "Success\n",
      "2181: 857989990357356544\n",
      "Success\n",
      "2182: 858107933456039936\n",
      "Success\n",
      "2183: 858471635011153920\n",
      "Success\n",
      "2184: 858843525470990336\n",
      "Success\n",
      "2185: 858860390427611136\n",
      "Success\n",
      "2186: 859074603037188101\n",
      "Success\n",
      "2187: 859196978902773760\n",
      "Success\n",
      "2188: 859607811541651456\n",
      "Success\n",
      "2189: 859851578198683649\n",
      "Success\n",
      "2190: 859924526012018688\n",
      "Success\n",
      "2191: 860177593139703809\n",
      "Success\n",
      "2192: 860184849394610176\n",
      "Success\n",
      "2193: 860276583193509888\n",
      "Success\n",
      "2194: 860524505164394496\n",
      "Success\n",
      "2195: 860563773140209665\n",
      "Success\n",
      "2196: 860924035999428608\n",
      "Success\n",
      "2197: 860981674716409858\n",
      "Success\n",
      "2198: 861005113778896900\n",
      "Success\n",
      "2199: 861288531465048066\n",
      "Success\n",
      "2200: 861383897657036800\n",
      "Success\n",
      "2201: 861769973181624320\n",
      "Fail\n",
      "2202: 862096992088072192\n",
      "Success\n",
      "2203: 862457590147678208\n",
      "Success\n",
      "2204: 862722525377298433\n",
      "Success\n",
      "2205: 862831371563274240\n",
      "Success\n",
      "2206: 863062471531167744\n",
      "Success\n",
      "2207: 863079547188785154\n",
      "Success\n",
      "2208: 863427515083354112\n",
      "Success\n",
      "2209: 863432100342583297\n",
      "Success\n",
      "2210: 863471782782697472\n",
      "Success\n",
      "2211: 863553081350529029\n",
      "Success\n",
      "2212: 863907417377173506\n",
      "Success\n",
      "2213: 864197398364647424\n",
      "Success\n",
      "2214: 864279568663928832\n",
      "Success\n",
      "2215: 864873206498414592\n",
      "Success\n",
      "2216: 865006731092295680\n",
      "Success\n",
      "2217: 865359393868664832\n",
      "Success\n",
      "2218: 865718153858494464\n",
      "Success\n",
      "2219: 866094527597207552\n",
      "Success\n",
      "2220: 866334964761202691\n",
      "Success\n",
      "2221: 866450705531457537\n",
      "Success\n",
      "2222: 866686824827068416\n",
      "Success\n",
      "2223: 866720684873056260\n",
      "Success\n",
      "2224: 866816280283807744\n",
      "Fail\n",
      "2225: 867051520902168576\n",
      "Success\n",
      "2226: 867072653475098625\n",
      "Success\n",
      "2227: 867421006826221569\n",
      "Success\n",
      "2228: 867774946302451713\n",
      "Success\n",
      "2229: 867900495410671616\n",
      "Success\n",
      "2230: 868552278524837888\n",
      "Success\n",
      "2231: 868622495443632128\n",
      "Success\n",
      "2232: 868639477480148993\n",
      "Success\n",
      "2233: 868880397819494401\n",
      "Success\n",
      "2234: 869227993411051520\n",
      "Success\n",
      "2235: 869596645499047938\n",
      "Success\n",
      "2236: 869702957897576449\n",
      "Success\n",
      "2237: 869772420881756160\n",
      "Success\n",
      "2238: 869988702071779329\n",
      "Fail\n",
      "2239: 870063196459192321\n",
      "Success\n",
      "2240: 870308999962521604\n",
      "Success\n",
      "2241: 870374049280663552\n",
      "Success\n",
      "2242: 870656317836468226\n",
      "Success\n",
      "2243: 870726314365509632\n",
      "Success\n",
      "2244: 870804317367881728\n",
      "Success\n",
      "2245: 871032628920680449\n",
      "Success\n",
      "2246: 871102520638267392\n",
      "Success\n",
      "2247: 871166179821445120\n",
      "Success\n",
      "2248: 871515927908634625\n",
      "Success\n",
      "2249: 871762521631449091\n",
      "Success\n",
      "2250: 871879754684805121\n",
      "Success\n",
      "2251: 872122724285648897\n",
      "Success\n",
      "2252: 872261713294495745\n",
      "Fail\n",
      "2253: 872486979161796608\n",
      "Success\n",
      "2254: 872620804844003328\n",
      "Success\n",
      "2255: 872668790621863937\n",
      "Fail\n",
      "2256: 872820683541237760\n",
      "Success\n",
      "2257: 872967104147763200\n",
      "Success\n",
      "2258: 873213775632977920\n",
      "Success\n",
      "2259: 873337748698140672\n",
      "Success\n",
      "2260: 873580283840344065\n",
      "Success\n",
      "2261: 873697596434513921\n",
      "Fail\n",
      "2262: 874012996292530176\n",
      "Success\n",
      "2263: 874057562936811520\n",
      "Success\n",
      "2264: 874296783580663808\n",
      "Success\n",
      "2265: 874434818259525634\n",
      "Success\n",
      "2266: 874680097055178752\n",
      "Success\n",
      "2267: 875021211251597312\n",
      "Success\n",
      "2268: 875097192612077568\n",
      "Success\n",
      "2269: 875144289856114688\n",
      "Success\n",
      "2270: 875747767867523072\n",
      "Success\n",
      "2271: 876120275196170240\n",
      "Success\n",
      "2272: 876484053909872640\n",
      "Success\n",
      "2273: 876537666061221889\n",
      "Success\n",
      "2274: 876838120628539392\n",
      "Success\n",
      "2275: 877201837425926144\n",
      "Success\n",
      "2276: 877316821321428993\n",
      "Success\n",
      "2277: 877556246731214848\n",
      "Success\n",
      "2278: 877611172832227328\n",
      "Success\n",
      "2279: 877736472329191424\n",
      "Success\n",
      "2280: 878057613040115712\n",
      "Success\n",
      "2281: 878281511006478336\n",
      "Success\n",
      "2282: 878316110768087041\n",
      "Success\n",
      "2283: 878404777348136964\n",
      "Success\n",
      "2284: 878604707211726852\n",
      "Success\n",
      "2285: 878776093423087618\n",
      "Success\n",
      "2286: 879008229531029506\n",
      "Success\n",
      "2287: 879050749262655488\n",
      "Success\n",
      "2288: 879130579576475649\n",
      "Success\n",
      "2289: 879376492567855104\n",
      "Success\n",
      "2290: 879415818425184262\n",
      "Success\n",
      "2291: 879492040517615616\n",
      "Success\n",
      "2292: 879674319642796034\n",
      "Success\n",
      "2293: 879862464715927552\n",
      "Success\n",
      "2294: 880095782870896641\n",
      "Success\n",
      "2295: 880221127280381952\n",
      "Success\n",
      "2296: 880465832366813184\n",
      "Success\n",
      "2297: 880872448815771648\n",
      "Success\n",
      "2298: 880935762899988482\n",
      "Success\n",
      "2299: 881268444196462592\n",
      "Success\n",
      "2300: 881536004380872706\n",
      "Success\n",
      "2301: 881633300179243008\n",
      "Success\n",
      "2302: 881666595344535552\n",
      "Success\n",
      "2303: 881906580714921986\n",
      "Success\n",
      "2304: 882045870035918850\n",
      "Success\n",
      "2305: 882268110199369728\n",
      "Success\n",
      "2306: 882627270321602560\n",
      "Success\n",
      "2307: 882762694511734784\n",
      "Success\n",
      "2308: 882992080364220416\n",
      "Success\n",
      "2309: 883117836046086144\n",
      "Success\n",
      "2310: 883360690899218434\n",
      "Success\n",
      "2311: 883482846933004288\n",
      "Success\n",
      "2312: 883838122936631299\n",
      "Success\n",
      "2313: 884162670584377345\n",
      "Success\n",
      "2314: 884247878851493888\n",
      "Success\n",
      "2315: 884441805382717440\n",
      "Success\n",
      "2316: 884562892145688576\n",
      "Success\n",
      "2317: 884876753390489601\n",
      "Success\n",
      "2318: 884925521741709313\n",
      "Success\n",
      "2319: 885167619883638784\n",
      "Success\n",
      "2320: 885311592912609280\n",
      "Success\n",
      "2321: 885518971528720385\n",
      "Success\n",
      "2322: 885528943205470208\n",
      "Success\n",
      "2323: 885984800019947520\n",
      "Success\n",
      "2324: 886054160059072513\n",
      "Success\n",
      "2325: 886258384151887873\n",
      "Success\n",
      "2326: 886267009285017600\n",
      "Success\n",
      "2327: 886366144734445568\n",
      "Success\n",
      "2328: 886680336477933568\n",
      "Success\n",
      "2329: 886736880519319552\n",
      "Success\n",
      "2330: 886983233522544640\n",
      "Success\n",
      "2331: 887101392804085760\n",
      "Success\n",
      "2332: 887343217045368832\n",
      "Success\n",
      "2333: 887473957103951883\n",
      "Success\n",
      "2334: 887517139158093824\n",
      "Success\n",
      "2335: 887705289381826560\n",
      "Success\n",
      "2336: 888078434458587136\n",
      "Success\n",
      "2337: 888202515573088257\n",
      "Fail\n",
      "2338: 888554962724278272\n",
      "Success\n",
      "2339: 888804989199671297\n",
      "Success\n",
      "2340: 888917238123831296\n",
      "Success\n",
      "2341: 889278841981685760\n",
      "Success\n",
      "2342: 889531135344209921\n",
      "Success\n",
      "2343: 889638837579907072\n",
      "Success\n",
      "2344: 889665388333682689\n",
      "Success\n",
      "2345: 889880896479866881\n",
      "Success\n",
      "2346: 890006608113172480\n",
      "Success\n",
      "2347: 890240255349198849\n",
      "Success\n",
      "2348: 890609185150312448\n",
      "Success\n",
      "2349: 890729181411237888\n",
      "Success\n",
      "2350: 890971913173991426\n",
      "Success\n",
      "2351: 891087950875897856\n",
      "Success\n",
      "2352: 891327558926688256\n",
      "Success\n",
      "2353: 891689557279858688\n",
      "Success\n",
      "2354: 891815181378084864\n",
      "Success\n",
      "2355: 892177421306343426\n",
      "Success\n",
      "2356: 892420643555336193\n",
      "Success\n",
      "1963.1705693499998\n",
      "{680055455951884288: TweepError([{'code': 144, 'message': 'No status found with that ID.'}]), 754011816964026368: TweepError([{'code': 144, 'message': 'No status found with that ID.'}]), 759566828574212096: TweepError([{'code': 144, 'message': 'No status found with that ID.'}]), 770743923962707968: TweepError([{'code': 144, 'message': 'No status found with that ID.'}]), 771004394259247104: TweepError([{'code': 179, 'message': 'Sorry, you are not authorized to see this status.'}]), 775096608509886464: TweepError([{'code': 144, 'message': 'No status found with that ID.'}]), 779123168116150273: TweepError([{'code': 144, 'message': 'No status found with that ID.'}]), 802247111496568832: TweepError([{'code': 144, 'message': 'No status found with that ID.'}]), 812747805718642688: TweepError([{'code': 144, 'message': 'No status found with that ID.'}]), 827228250799742977: TweepError([{'code': 144, 'message': 'No status found with that ID.'}]), 829374341691346946: TweepError([{'code': 144, 'message': 'No status found with that ID.'}]), 837012587749474308: TweepError([{'code': 144, 'message': 'No status found with that ID.'}]), 837366284874571778: TweepError([{'code': 144, 'message': 'No status found with that ID.'}]), 842892208864923648: TweepError([{'code': 144, 'message': 'No status found with that ID.'}]), 844704788403113984: TweepError([{'code': 144, 'message': 'No status found with that ID.'}]), 845459076796616705: TweepError([{'code': 144, 'message': 'No status found with that ID.'}]), 851953902622658560: TweepError([{'code': 144, 'message': 'No status found with that ID.'}]), 856602993587888130: TweepError([{'code': 144, 'message': 'No status found with that ID.'}]), 861769973181624320: TweepError([{'code': 144, 'message': 'No status found with that ID.'}]), 866816280283807744: TweepError([{'code': 144, 'message': 'No status found with that ID.'}]), 869988702071779329: TweepError([{'code': 144, 'message': 'No status found with that ID.'}]), 872261713294495745: TweepError([{'code': 144, 'message': 'No status found with that ID.'}]), 872668790621863937: TweepError([{'code': 144, 'message': 'No status found with that ID.'}]), 873697596434513921: TweepError([{'code': 144, 'message': 'No status found with that ID.'}]), 888202515573088257: TweepError([{'code': 144, 'message': 'No status found with that ID.'}])}\n"
     ]
    }
   ],
   "source": [
    "# Query Twitter's API for JSON data for each tweet ID in the Twitter archive\n",
    "count = 0\n",
    "fails_dict = {}\n",
    "start = timer()\n",
    "# Save each tweet's returned JSON as a new line in a .txt file\n",
    "with open('tweet_json.txt', 'w') as outfile:\n",
    "    # This loop will likely take 20-30 minutes to run because of Twitter's rate limit\n",
    "    for tweet_id in tweet_ids:\n",
    "        count += 1\n",
    "        print(str(count) + \": \" + str(tweet_id))\n",
    "        try:\n",
    "            tweet = api.get_status(tweet_id, tweet_mode='extended')\n",
    "            print(\"Success\")\n",
    "            json.dump(tweet._json, outfile)\n",
    "            outfile.write('\\n')\n",
    "        except tweepy.TweepError as e:\n",
    "            print(\"Fail\")\n",
    "            fails_dict[tweet_id] = e\n",
    "            pass\n",
    "end = timer()\n",
    "print(end - start)\n",
    "print(fails_dict)"
   ]
  },
  {
   "cell_type": "code",
   "execution_count": 656,
   "metadata": {},
   "outputs": [],
   "source": [
    "with open('tweet_json.txt') as f:\n",
    "    listapi = []\n",
    "    for tweet in f:\n",
    "        listapi.append(json.loads(tweet))"
   ]
  },
  {
   "cell_type": "code",
   "execution_count": 657,
   "metadata": {},
   "outputs": [],
   "source": [
    "dfapi = pd.DataFrame(listapi)"
   ]
  },
  {
   "cell_type": "code",
   "execution_count": 658,
   "metadata": {},
   "outputs": [
    {
     "data": {
      "text/html": [
       "<div>\n",
       "<style scoped>\n",
       "    .dataframe tbody tr th:only-of-type {\n",
       "        vertical-align: middle;\n",
       "    }\n",
       "\n",
       "    .dataframe tbody tr th {\n",
       "        vertical-align: top;\n",
       "    }\n",
       "\n",
       "    .dataframe thead th {\n",
       "        text-align: right;\n",
       "    }\n",
       "</style>\n",
       "<table border=\"1\" class=\"dataframe\">\n",
       "  <thead>\n",
       "    <tr style=\"text-align: right;\">\n",
       "      <th></th>\n",
       "      <th>created_at</th>\n",
       "      <th>id</th>\n",
       "      <th>id_str</th>\n",
       "      <th>full_text</th>\n",
       "      <th>truncated</th>\n",
       "      <th>display_text_range</th>\n",
       "      <th>entities</th>\n",
       "      <th>extended_entities</th>\n",
       "      <th>source</th>\n",
       "      <th>in_reply_to_status_id</th>\n",
       "      <th>...</th>\n",
       "      <th>favorited</th>\n",
       "      <th>retweeted</th>\n",
       "      <th>possibly_sensitive</th>\n",
       "      <th>possibly_sensitive_appealable</th>\n",
       "      <th>lang</th>\n",
       "      <th>retweeted_status</th>\n",
       "      <th>quoted_status_id</th>\n",
       "      <th>quoted_status_id_str</th>\n",
       "      <th>quoted_status_permalink</th>\n",
       "      <th>quoted_status</th>\n",
       "    </tr>\n",
       "  </thead>\n",
       "  <tbody>\n",
       "    <tr>\n",
       "      <th>0</th>\n",
       "      <td>Sun Nov 15 22:32:08 +0000 2015</td>\n",
       "      <td>666020888022790149</td>\n",
       "      <td>666020888022790149</td>\n",
       "      <td>Here we have a Japanese Irish Setter. Lost eye...</td>\n",
       "      <td>False</td>\n",
       "      <td>[0, 131]</td>\n",
       "      <td>{'hashtags': [], 'symbols': [], 'user_mentions...</td>\n",
       "      <td>{'media': [{'id': 666020881337073664, 'id_str'...</td>\n",
       "      <td>&lt;a href=\"http://twitter.com/download/iphone\" r...</td>\n",
       "      <td>NaN</td>\n",
       "      <td>...</td>\n",
       "      <td>False</td>\n",
       "      <td>False</td>\n",
       "      <td>False</td>\n",
       "      <td>False</td>\n",
       "      <td>en</td>\n",
       "      <td>NaN</td>\n",
       "      <td>NaN</td>\n",
       "      <td>NaN</td>\n",
       "      <td>NaN</td>\n",
       "      <td>NaN</td>\n",
       "    </tr>\n",
       "    <tr>\n",
       "      <th>1</th>\n",
       "      <td>Sun Nov 15 23:05:30 +0000 2015</td>\n",
       "      <td>666029285002620928</td>\n",
       "      <td>666029285002620928</td>\n",
       "      <td>This is a western brown Mitsubishi terrier. Up...</td>\n",
       "      <td>False</td>\n",
       "      <td>[0, 139]</td>\n",
       "      <td>{'hashtags': [], 'symbols': [], 'user_mentions...</td>\n",
       "      <td>{'media': [{'id': 666029276303482880, 'id_str'...</td>\n",
       "      <td>&lt;a href=\"http://twitter.com/download/iphone\" r...</td>\n",
       "      <td>NaN</td>\n",
       "      <td>...</td>\n",
       "      <td>False</td>\n",
       "      <td>False</td>\n",
       "      <td>False</td>\n",
       "      <td>False</td>\n",
       "      <td>en</td>\n",
       "      <td>NaN</td>\n",
       "      <td>NaN</td>\n",
       "      <td>NaN</td>\n",
       "      <td>NaN</td>\n",
       "      <td>NaN</td>\n",
       "    </tr>\n",
       "    <tr>\n",
       "      <th>2</th>\n",
       "      <td>Sun Nov 15 23:21:54 +0000 2015</td>\n",
       "      <td>666033412701032449</td>\n",
       "      <td>666033412701032449</td>\n",
       "      <td>Here is a very happy pup. Big fan of well-main...</td>\n",
       "      <td>False</td>\n",
       "      <td>[0, 130]</td>\n",
       "      <td>{'hashtags': [], 'symbols': [], 'user_mentions...</td>\n",
       "      <td>{'media': [{'id': 666033409081393153, 'id_str'...</td>\n",
       "      <td>&lt;a href=\"http://twitter.com/download/iphone\" r...</td>\n",
       "      <td>NaN</td>\n",
       "      <td>...</td>\n",
       "      <td>False</td>\n",
       "      <td>False</td>\n",
       "      <td>False</td>\n",
       "      <td>False</td>\n",
       "      <td>en</td>\n",
       "      <td>NaN</td>\n",
       "      <td>NaN</td>\n",
       "      <td>NaN</td>\n",
       "      <td>NaN</td>\n",
       "      <td>NaN</td>\n",
       "    </tr>\n",
       "    <tr>\n",
       "      <th>3</th>\n",
       "      <td>Mon Nov 16 00:04:52 +0000 2015</td>\n",
       "      <td>666044226329800704</td>\n",
       "      <td>666044226329800704</td>\n",
       "      <td>This is a purebred Piers Morgan. Loves to Netf...</td>\n",
       "      <td>False</td>\n",
       "      <td>[0, 137]</td>\n",
       "      <td>{'hashtags': [], 'symbols': [], 'user_mentions...</td>\n",
       "      <td>{'media': [{'id': 666044217047650304, 'id_str'...</td>\n",
       "      <td>&lt;a href=\"http://twitter.com/download/iphone\" r...</td>\n",
       "      <td>NaN</td>\n",
       "      <td>...</td>\n",
       "      <td>False</td>\n",
       "      <td>False</td>\n",
       "      <td>False</td>\n",
       "      <td>False</td>\n",
       "      <td>en</td>\n",
       "      <td>NaN</td>\n",
       "      <td>NaN</td>\n",
       "      <td>NaN</td>\n",
       "      <td>NaN</td>\n",
       "      <td>NaN</td>\n",
       "    </tr>\n",
       "    <tr>\n",
       "      <th>4</th>\n",
       "      <td>Mon Nov 16 00:24:50 +0000 2015</td>\n",
       "      <td>666049248165822465</td>\n",
       "      <td>666049248165822465</td>\n",
       "      <td>Here we have a 1949 1st generation vulpix. Enj...</td>\n",
       "      <td>False</td>\n",
       "      <td>[0, 120]</td>\n",
       "      <td>{'hashtags': [], 'symbols': [], 'user_mentions...</td>\n",
       "      <td>{'media': [{'id': 666049244999131136, 'id_str'...</td>\n",
       "      <td>&lt;a href=\"http://twitter.com/download/iphone\" r...</td>\n",
       "      <td>NaN</td>\n",
       "      <td>...</td>\n",
       "      <td>False</td>\n",
       "      <td>False</td>\n",
       "      <td>False</td>\n",
       "      <td>False</td>\n",
       "      <td>en</td>\n",
       "      <td>NaN</td>\n",
       "      <td>NaN</td>\n",
       "      <td>NaN</td>\n",
       "      <td>NaN</td>\n",
       "      <td>NaN</td>\n",
       "    </tr>\n",
       "  </tbody>\n",
       "</table>\n",
       "<p>5 rows × 32 columns</p>\n",
       "</div>"
      ],
      "text/plain": [
       "                       created_at                  id              id_str  \\\n",
       "0  Sun Nov 15 22:32:08 +0000 2015  666020888022790149  666020888022790149   \n",
       "1  Sun Nov 15 23:05:30 +0000 2015  666029285002620928  666029285002620928   \n",
       "2  Sun Nov 15 23:21:54 +0000 2015  666033412701032449  666033412701032449   \n",
       "3  Mon Nov 16 00:04:52 +0000 2015  666044226329800704  666044226329800704   \n",
       "4  Mon Nov 16 00:24:50 +0000 2015  666049248165822465  666049248165822465   \n",
       "\n",
       "                                           full_text  truncated  \\\n",
       "0  Here we have a Japanese Irish Setter. Lost eye...      False   \n",
       "1  This is a western brown Mitsubishi terrier. Up...      False   \n",
       "2  Here is a very happy pup. Big fan of well-main...      False   \n",
       "3  This is a purebred Piers Morgan. Loves to Netf...      False   \n",
       "4  Here we have a 1949 1st generation vulpix. Enj...      False   \n",
       "\n",
       "  display_text_range                                           entities  \\\n",
       "0           [0, 131]  {'hashtags': [], 'symbols': [], 'user_mentions...   \n",
       "1           [0, 139]  {'hashtags': [], 'symbols': [], 'user_mentions...   \n",
       "2           [0, 130]  {'hashtags': [], 'symbols': [], 'user_mentions...   \n",
       "3           [0, 137]  {'hashtags': [], 'symbols': [], 'user_mentions...   \n",
       "4           [0, 120]  {'hashtags': [], 'symbols': [], 'user_mentions...   \n",
       "\n",
       "                                   extended_entities  \\\n",
       "0  {'media': [{'id': 666020881337073664, 'id_str'...   \n",
       "1  {'media': [{'id': 666029276303482880, 'id_str'...   \n",
       "2  {'media': [{'id': 666033409081393153, 'id_str'...   \n",
       "3  {'media': [{'id': 666044217047650304, 'id_str'...   \n",
       "4  {'media': [{'id': 666049244999131136, 'id_str'...   \n",
       "\n",
       "                                              source  in_reply_to_status_id  \\\n",
       "0  <a href=\"http://twitter.com/download/iphone\" r...                    NaN   \n",
       "1  <a href=\"http://twitter.com/download/iphone\" r...                    NaN   \n",
       "2  <a href=\"http://twitter.com/download/iphone\" r...                    NaN   \n",
       "3  <a href=\"http://twitter.com/download/iphone\" r...                    NaN   \n",
       "4  <a href=\"http://twitter.com/download/iphone\" r...                    NaN   \n",
       "\n",
       "   ... favorited  retweeted possibly_sensitive possibly_sensitive_appealable  \\\n",
       "0  ...     False      False              False                         False   \n",
       "1  ...     False      False              False                         False   \n",
       "2  ...     False      False              False                         False   \n",
       "3  ...     False      False              False                         False   \n",
       "4  ...     False      False              False                         False   \n",
       "\n",
       "  lang retweeted_status quoted_status_id quoted_status_id_str  \\\n",
       "0   en              NaN              NaN                  NaN   \n",
       "1   en              NaN              NaN                  NaN   \n",
       "2   en              NaN              NaN                  NaN   \n",
       "3   en              NaN              NaN                  NaN   \n",
       "4   en              NaN              NaN                  NaN   \n",
       "\n",
       "  quoted_status_permalink  quoted_status  \n",
       "0                     NaN            NaN  \n",
       "1                     NaN            NaN  \n",
       "2                     NaN            NaN  \n",
       "3                     NaN            NaN  \n",
       "4                     NaN            NaN  \n",
       "\n",
       "[5 rows x 32 columns]"
      ]
     },
     "execution_count": 658,
     "metadata": {},
     "output_type": "execute_result"
    }
   ],
   "source": [
    "dfapi.head()"
   ]
  },
  {
   "cell_type": "markdown",
   "metadata": {},
   "source": [
    "### Assess the files"
   ]
  },
  {
   "cell_type": "markdown",
   "metadata": {},
   "source": [
    "### dftweet"
   ]
  },
  {
   "cell_type": "code",
   "execution_count": 659,
   "metadata": {},
   "outputs": [
    {
     "data": {
      "text/html": [
       "<div>\n",
       "<style scoped>\n",
       "    .dataframe tbody tr th:only-of-type {\n",
       "        vertical-align: middle;\n",
       "    }\n",
       "\n",
       "    .dataframe tbody tr th {\n",
       "        vertical-align: top;\n",
       "    }\n",
       "\n",
       "    .dataframe thead th {\n",
       "        text-align: right;\n",
       "    }\n",
       "</style>\n",
       "<table border=\"1\" class=\"dataframe\">\n",
       "  <thead>\n",
       "    <tr style=\"text-align: right;\">\n",
       "      <th></th>\n",
       "      <th>tweet_id</th>\n",
       "      <th>in_reply_to_status_id</th>\n",
       "      <th>in_reply_to_user_id</th>\n",
       "      <th>timestamp</th>\n",
       "      <th>source</th>\n",
       "      <th>text</th>\n",
       "      <th>retweeted_status_id</th>\n",
       "      <th>retweeted_status_user_id</th>\n",
       "      <th>retweeted_status_timestamp</th>\n",
       "      <th>expanded_urls</th>\n",
       "      <th>rating_numerator</th>\n",
       "      <th>rating_denominator</th>\n",
       "      <th>name</th>\n",
       "      <th>doggo</th>\n",
       "      <th>floofer</th>\n",
       "      <th>pupper</th>\n",
       "      <th>puppo</th>\n",
       "    </tr>\n",
       "  </thead>\n",
       "  <tbody>\n",
       "    <tr>\n",
       "      <th>0</th>\n",
       "      <td>892420643555336193</td>\n",
       "      <td>NaN</td>\n",
       "      <td>NaN</td>\n",
       "      <td>2017-08-01 16:23:56 +0000</td>\n",
       "      <td>&lt;a href=\"http://twitter.com/download/iphone\" r...</td>\n",
       "      <td>This is Phineas. He's a mystical boy. Only eve...</td>\n",
       "      <td>NaN</td>\n",
       "      <td>NaN</td>\n",
       "      <td>NaN</td>\n",
       "      <td>https://twitter.com/dog_rates/status/892420643...</td>\n",
       "      <td>13</td>\n",
       "      <td>10</td>\n",
       "      <td>Phineas</td>\n",
       "      <td>None</td>\n",
       "      <td>None</td>\n",
       "      <td>None</td>\n",
       "      <td>None</td>\n",
       "    </tr>\n",
       "    <tr>\n",
       "      <th>1</th>\n",
       "      <td>892177421306343426</td>\n",
       "      <td>NaN</td>\n",
       "      <td>NaN</td>\n",
       "      <td>2017-08-01 00:17:27 +0000</td>\n",
       "      <td>&lt;a href=\"http://twitter.com/download/iphone\" r...</td>\n",
       "      <td>This is Tilly. She's just checking pup on you....</td>\n",
       "      <td>NaN</td>\n",
       "      <td>NaN</td>\n",
       "      <td>NaN</td>\n",
       "      <td>https://twitter.com/dog_rates/status/892177421...</td>\n",
       "      <td>13</td>\n",
       "      <td>10</td>\n",
       "      <td>Tilly</td>\n",
       "      <td>None</td>\n",
       "      <td>None</td>\n",
       "      <td>None</td>\n",
       "      <td>None</td>\n",
       "    </tr>\n",
       "    <tr>\n",
       "      <th>2</th>\n",
       "      <td>891815181378084864</td>\n",
       "      <td>NaN</td>\n",
       "      <td>NaN</td>\n",
       "      <td>2017-07-31 00:18:03 +0000</td>\n",
       "      <td>&lt;a href=\"http://twitter.com/download/iphone\" r...</td>\n",
       "      <td>This is Archie. He is a rare Norwegian Pouncin...</td>\n",
       "      <td>NaN</td>\n",
       "      <td>NaN</td>\n",
       "      <td>NaN</td>\n",
       "      <td>https://twitter.com/dog_rates/status/891815181...</td>\n",
       "      <td>12</td>\n",
       "      <td>10</td>\n",
       "      <td>Archie</td>\n",
       "      <td>None</td>\n",
       "      <td>None</td>\n",
       "      <td>None</td>\n",
       "      <td>None</td>\n",
       "    </tr>\n",
       "    <tr>\n",
       "      <th>3</th>\n",
       "      <td>891689557279858688</td>\n",
       "      <td>NaN</td>\n",
       "      <td>NaN</td>\n",
       "      <td>2017-07-30 15:58:51 +0000</td>\n",
       "      <td>&lt;a href=\"http://twitter.com/download/iphone\" r...</td>\n",
       "      <td>This is Darla. She commenced a snooze mid meal...</td>\n",
       "      <td>NaN</td>\n",
       "      <td>NaN</td>\n",
       "      <td>NaN</td>\n",
       "      <td>https://twitter.com/dog_rates/status/891689557...</td>\n",
       "      <td>13</td>\n",
       "      <td>10</td>\n",
       "      <td>Darla</td>\n",
       "      <td>None</td>\n",
       "      <td>None</td>\n",
       "      <td>None</td>\n",
       "      <td>None</td>\n",
       "    </tr>\n",
       "    <tr>\n",
       "      <th>4</th>\n",
       "      <td>891327558926688256</td>\n",
       "      <td>NaN</td>\n",
       "      <td>NaN</td>\n",
       "      <td>2017-07-29 16:00:24 +0000</td>\n",
       "      <td>&lt;a href=\"http://twitter.com/download/iphone\" r...</td>\n",
       "      <td>This is Franklin. He would like you to stop ca...</td>\n",
       "      <td>NaN</td>\n",
       "      <td>NaN</td>\n",
       "      <td>NaN</td>\n",
       "      <td>https://twitter.com/dog_rates/status/891327558...</td>\n",
       "      <td>12</td>\n",
       "      <td>10</td>\n",
       "      <td>Franklin</td>\n",
       "      <td>None</td>\n",
       "      <td>None</td>\n",
       "      <td>None</td>\n",
       "      <td>None</td>\n",
       "    </tr>\n",
       "  </tbody>\n",
       "</table>\n",
       "</div>"
      ],
      "text/plain": [
       "             tweet_id  in_reply_to_status_id  in_reply_to_user_id  \\\n",
       "0  892420643555336193                    NaN                  NaN   \n",
       "1  892177421306343426                    NaN                  NaN   \n",
       "2  891815181378084864                    NaN                  NaN   \n",
       "3  891689557279858688                    NaN                  NaN   \n",
       "4  891327558926688256                    NaN                  NaN   \n",
       "\n",
       "                   timestamp  \\\n",
       "0  2017-08-01 16:23:56 +0000   \n",
       "1  2017-08-01 00:17:27 +0000   \n",
       "2  2017-07-31 00:18:03 +0000   \n",
       "3  2017-07-30 15:58:51 +0000   \n",
       "4  2017-07-29 16:00:24 +0000   \n",
       "\n",
       "                                              source  \\\n",
       "0  <a href=\"http://twitter.com/download/iphone\" r...   \n",
       "1  <a href=\"http://twitter.com/download/iphone\" r...   \n",
       "2  <a href=\"http://twitter.com/download/iphone\" r...   \n",
       "3  <a href=\"http://twitter.com/download/iphone\" r...   \n",
       "4  <a href=\"http://twitter.com/download/iphone\" r...   \n",
       "\n",
       "                                                text  retweeted_status_id  \\\n",
       "0  This is Phineas. He's a mystical boy. Only eve...                  NaN   \n",
       "1  This is Tilly. She's just checking pup on you....                  NaN   \n",
       "2  This is Archie. He is a rare Norwegian Pouncin...                  NaN   \n",
       "3  This is Darla. She commenced a snooze mid meal...                  NaN   \n",
       "4  This is Franklin. He would like you to stop ca...                  NaN   \n",
       "\n",
       "   retweeted_status_user_id retweeted_status_timestamp  \\\n",
       "0                       NaN                        NaN   \n",
       "1                       NaN                        NaN   \n",
       "2                       NaN                        NaN   \n",
       "3                       NaN                        NaN   \n",
       "4                       NaN                        NaN   \n",
       "\n",
       "                                       expanded_urls  rating_numerator  \\\n",
       "0  https://twitter.com/dog_rates/status/892420643...                13   \n",
       "1  https://twitter.com/dog_rates/status/892177421...                13   \n",
       "2  https://twitter.com/dog_rates/status/891815181...                12   \n",
       "3  https://twitter.com/dog_rates/status/891689557...                13   \n",
       "4  https://twitter.com/dog_rates/status/891327558...                12   \n",
       "\n",
       "   rating_denominator      name doggo floofer pupper puppo  \n",
       "0                  10   Phineas  None    None   None  None  \n",
       "1                  10     Tilly  None    None   None  None  \n",
       "2                  10    Archie  None    None   None  None  \n",
       "3                  10     Darla  None    None   None  None  \n",
       "4                  10  Franklin  None    None   None  None  "
      ]
     },
     "execution_count": 659,
     "metadata": {},
     "output_type": "execute_result"
    }
   ],
   "source": [
    "dftweet.head()"
   ]
  },
  {
   "cell_type": "markdown",
   "metadata": {},
   "source": [
    "#### Visual Assessment"
   ]
  },
  {
   "cell_type": "raw",
   "metadata": {},
   "source": [
    "tweet_id                   - Need to match up tweeets\n",
    "in_reply_to_status_id      - Mostly empty\n",
    "in_reply_to_user_id        - Mostly empty\n",
    "timestamp                  - Time and Date of tweet\n",
    "source                     - Mostly looks the same\n",
    "text                       - Tweet Text\n",
    "retweeted_status_id        - Mostly empty\n",
    "retweeted_status_user_id   - Mostly empty\n",
    "retweeted_status_timestamp - Mostly empty\n",
    "expanded_urls              - URL of Tweet, same base the change of the id in the url\n",
    "rating_numerator           - Most look to be over 10\n",
    "rating_denominator         - Most seem to be mostly 10\n",
    "name                       - Gets name if name is in format of \"This is [name].\" format\n",
    "doggo                      - Says \"None\" when text doesn't have doggo in the tweet\n",
    "floofer                    - Says \"None\" when text doesn't have floofer in the tweet\n",
    "pupper                     - Says \"None\" when text doesn't have pupper in the tweet\n",
    "puppo                      - Says \"None\" when text doesn't have puppo in the tweet"
   ]
  },
  {
   "cell_type": "markdown",
   "metadata": {},
   "source": [
    "#### Programatic Assessment"
   ]
  },
  {
   "cell_type": "raw",
   "metadata": {},
   "source": [
    "tweet_id                   \t- All values are unique\n",
    "in_reply_to_status_id      \t- Loss of precision with usage of e\n",
    "in_reply_to_user_id        \t- Not much useful information with just the user id#\n",
    "timestamp                 \t- All are unique, and could be pulled apart for more info\n",
    "source                     \t- Where media was posted (mostly from iPhone)\n",
    "text                       \t- Text of tweet, all are unique\n",
    "retweeted_status_id        \t- Loss of precision with e,  \n",
    "retweeted_status_user_id   \t- Not much useful information with just the user id#\n",
    "retweeted_status_timestamp \t- While all are unique, no useful information is here\n",
    "expanded_urls              \t- Most are the same format aside from the tweet_id code\n",
    "rating_numerator           \t- A few outliers are pulling that st.dev up pretty high \n",
    "rating_denominator         \t- A few outlier, but most are alright  \n",
    "name                       \t- Mostly alright, but 55 dogs aren’t named ‘a’\n",
    "doggo                      \t- Boolean-esque, but with ‘doggo’ and None\n",
    "floofer                    \t- Boolean-esque, but with ‘floofer’ and None\n",
    "pupper                     \t- Boolean-esque, but with ‘pupper’ and None\n",
    "puppo\t\t\t\t\t    - Boolean-esque, but with ‘puppo’ and None"
   ]
  },
  {
   "cell_type": "code",
   "execution_count": 660,
   "metadata": {},
   "outputs": [
    {
     "name": "stdout",
     "output_type": "stream",
     "text": [
      "<class 'pandas.core.frame.DataFrame'>\n",
      "RangeIndex: 2356 entries, 0 to 2355\n",
      "Data columns (total 17 columns):\n",
      "tweet_id                      2356 non-null int64\n",
      "in_reply_to_status_id         78 non-null float64\n",
      "in_reply_to_user_id           78 non-null float64\n",
      "timestamp                     2356 non-null object\n",
      "source                        2356 non-null object\n",
      "text                          2356 non-null object\n",
      "retweeted_status_id           181 non-null float64\n",
      "retweeted_status_user_id      181 non-null float64\n",
      "retweeted_status_timestamp    181 non-null object\n",
      "expanded_urls                 2297 non-null object\n",
      "rating_numerator              2356 non-null int64\n",
      "rating_denominator            2356 non-null int64\n",
      "name                          2356 non-null object\n",
      "doggo                         2356 non-null object\n",
      "floofer                       2356 non-null object\n",
      "pupper                        2356 non-null object\n",
      "puppo                         2356 non-null object\n",
      "dtypes: float64(4), int64(3), object(10)\n",
      "memory usage: 313.0+ KB\n"
     ]
    }
   ],
   "source": [
    "dftweet.info()"
   ]
  },
  {
   "cell_type": "code",
   "execution_count": 661,
   "metadata": {
    "scrolled": true
   },
   "outputs": [
    {
     "data": {
      "text/html": [
       "<div>\n",
       "<style scoped>\n",
       "    .dataframe tbody tr th:only-of-type {\n",
       "        vertical-align: middle;\n",
       "    }\n",
       "\n",
       "    .dataframe tbody tr th {\n",
       "        vertical-align: top;\n",
       "    }\n",
       "\n",
       "    .dataframe thead th {\n",
       "        text-align: right;\n",
       "    }\n",
       "</style>\n",
       "<table border=\"1\" class=\"dataframe\">\n",
       "  <thead>\n",
       "    <tr style=\"text-align: right;\">\n",
       "      <th></th>\n",
       "      <th>tweet_id</th>\n",
       "      <th>in_reply_to_status_id</th>\n",
       "      <th>in_reply_to_user_id</th>\n",
       "      <th>retweeted_status_id</th>\n",
       "      <th>retweeted_status_user_id</th>\n",
       "      <th>rating_numerator</th>\n",
       "      <th>rating_denominator</th>\n",
       "    </tr>\n",
       "  </thead>\n",
       "  <tbody>\n",
       "    <tr>\n",
       "      <th>count</th>\n",
       "      <td>2.356000e+03</td>\n",
       "      <td>7.800000e+01</td>\n",
       "      <td>7.800000e+01</td>\n",
       "      <td>1.810000e+02</td>\n",
       "      <td>1.810000e+02</td>\n",
       "      <td>2356.000000</td>\n",
       "      <td>2356.000000</td>\n",
       "    </tr>\n",
       "    <tr>\n",
       "      <th>mean</th>\n",
       "      <td>7.427716e+17</td>\n",
       "      <td>7.455079e+17</td>\n",
       "      <td>2.014171e+16</td>\n",
       "      <td>7.720400e+17</td>\n",
       "      <td>1.241698e+16</td>\n",
       "      <td>13.126486</td>\n",
       "      <td>10.455433</td>\n",
       "    </tr>\n",
       "    <tr>\n",
       "      <th>std</th>\n",
       "      <td>6.856705e+16</td>\n",
       "      <td>7.582492e+16</td>\n",
       "      <td>1.252797e+17</td>\n",
       "      <td>6.236928e+16</td>\n",
       "      <td>9.599254e+16</td>\n",
       "      <td>45.876648</td>\n",
       "      <td>6.745237</td>\n",
       "    </tr>\n",
       "    <tr>\n",
       "      <th>min</th>\n",
       "      <td>6.660209e+17</td>\n",
       "      <td>6.658147e+17</td>\n",
       "      <td>1.185634e+07</td>\n",
       "      <td>6.661041e+17</td>\n",
       "      <td>7.832140e+05</td>\n",
       "      <td>0.000000</td>\n",
       "      <td>0.000000</td>\n",
       "    </tr>\n",
       "    <tr>\n",
       "      <th>25%</th>\n",
       "      <td>6.783989e+17</td>\n",
       "      <td>6.757419e+17</td>\n",
       "      <td>3.086374e+08</td>\n",
       "      <td>7.186315e+17</td>\n",
       "      <td>4.196984e+09</td>\n",
       "      <td>10.000000</td>\n",
       "      <td>10.000000</td>\n",
       "    </tr>\n",
       "    <tr>\n",
       "      <th>50%</th>\n",
       "      <td>7.196279e+17</td>\n",
       "      <td>7.038708e+17</td>\n",
       "      <td>4.196984e+09</td>\n",
       "      <td>7.804657e+17</td>\n",
       "      <td>4.196984e+09</td>\n",
       "      <td>11.000000</td>\n",
       "      <td>10.000000</td>\n",
       "    </tr>\n",
       "    <tr>\n",
       "      <th>75%</th>\n",
       "      <td>7.993373e+17</td>\n",
       "      <td>8.257804e+17</td>\n",
       "      <td>4.196984e+09</td>\n",
       "      <td>8.203146e+17</td>\n",
       "      <td>4.196984e+09</td>\n",
       "      <td>12.000000</td>\n",
       "      <td>10.000000</td>\n",
       "    </tr>\n",
       "    <tr>\n",
       "      <th>max</th>\n",
       "      <td>8.924206e+17</td>\n",
       "      <td>8.862664e+17</td>\n",
       "      <td>8.405479e+17</td>\n",
       "      <td>8.874740e+17</td>\n",
       "      <td>7.874618e+17</td>\n",
       "      <td>1776.000000</td>\n",
       "      <td>170.000000</td>\n",
       "    </tr>\n",
       "  </tbody>\n",
       "</table>\n",
       "</div>"
      ],
      "text/plain": [
       "           tweet_id  in_reply_to_status_id  in_reply_to_user_id  \\\n",
       "count  2.356000e+03           7.800000e+01         7.800000e+01   \n",
       "mean   7.427716e+17           7.455079e+17         2.014171e+16   \n",
       "std    6.856705e+16           7.582492e+16         1.252797e+17   \n",
       "min    6.660209e+17           6.658147e+17         1.185634e+07   \n",
       "25%    6.783989e+17           6.757419e+17         3.086374e+08   \n",
       "50%    7.196279e+17           7.038708e+17         4.196984e+09   \n",
       "75%    7.993373e+17           8.257804e+17         4.196984e+09   \n",
       "max    8.924206e+17           8.862664e+17         8.405479e+17   \n",
       "\n",
       "       retweeted_status_id  retweeted_status_user_id  rating_numerator  \\\n",
       "count         1.810000e+02              1.810000e+02       2356.000000   \n",
       "mean          7.720400e+17              1.241698e+16         13.126486   \n",
       "std           6.236928e+16              9.599254e+16         45.876648   \n",
       "min           6.661041e+17              7.832140e+05          0.000000   \n",
       "25%           7.186315e+17              4.196984e+09         10.000000   \n",
       "50%           7.804657e+17              4.196984e+09         11.000000   \n",
       "75%           8.203146e+17              4.196984e+09         12.000000   \n",
       "max           8.874740e+17              7.874618e+17       1776.000000   \n",
       "\n",
       "       rating_denominator  \n",
       "count         2356.000000  \n",
       "mean            10.455433  \n",
       "std              6.745237  \n",
       "min              0.000000  \n",
       "25%             10.000000  \n",
       "50%             10.000000  \n",
       "75%             10.000000  \n",
       "max            170.000000  "
      ]
     },
     "execution_count": 661,
     "metadata": {},
     "output_type": "execute_result"
    }
   ],
   "source": [
    "dftweet.describe()"
   ]
  },
  {
   "cell_type": "code",
   "execution_count": 662,
   "metadata": {},
   "outputs": [
    {
     "data": {
      "text/plain": [
       "True"
      ]
     },
     "execution_count": 662,
     "metadata": {},
     "output_type": "execute_result"
    }
   ],
   "source": [
    "len(dftweet.tweet_id.unique()) == dftweet.tweet_id.nunique()"
   ]
  },
  {
   "cell_type": "code",
   "execution_count": 663,
   "metadata": {},
   "outputs": [
    {
     "data": {
      "text/html": [
       "<div>\n",
       "<style scoped>\n",
       "    .dataframe tbody tr th:only-of-type {\n",
       "        vertical-align: middle;\n",
       "    }\n",
       "\n",
       "    .dataframe tbody tr th {\n",
       "        vertical-align: top;\n",
       "    }\n",
       "\n",
       "    .dataframe thead th {\n",
       "        text-align: right;\n",
       "    }\n",
       "</style>\n",
       "<table border=\"1\" class=\"dataframe\">\n",
       "  <thead>\n",
       "    <tr style=\"text-align: right;\">\n",
       "      <th></th>\n",
       "      <th>tweet_id</th>\n",
       "      <th>in_reply_to_status_id</th>\n",
       "      <th>in_reply_to_user_id</th>\n",
       "      <th>timestamp</th>\n",
       "      <th>source</th>\n",
       "      <th>text</th>\n",
       "      <th>retweeted_status_id</th>\n",
       "      <th>retweeted_status_user_id</th>\n",
       "      <th>retweeted_status_timestamp</th>\n",
       "      <th>expanded_urls</th>\n",
       "      <th>rating_numerator</th>\n",
       "      <th>rating_denominator</th>\n",
       "      <th>name</th>\n",
       "      <th>doggo</th>\n",
       "      <th>floofer</th>\n",
       "      <th>pupper</th>\n",
       "      <th>puppo</th>\n",
       "    </tr>\n",
       "  </thead>\n",
       "  <tbody>\n",
       "    <tr>\n",
       "      <th>30</th>\n",
       "      <td>886267009285017600</td>\n",
       "      <td>8.862664e+17</td>\n",
       "      <td>2.281182e+09</td>\n",
       "      <td>2017-07-15 16:51:35 +0000</td>\n",
       "      <td>&lt;a href=\"http://twitter.com/download/iphone\" r...</td>\n",
       "      <td>@NonWhiteHat @MayhewMayhem omg hello tanner yo...</td>\n",
       "      <td>NaN</td>\n",
       "      <td>NaN</td>\n",
       "      <td>NaN</td>\n",
       "      <td>NaN</td>\n",
       "      <td>12</td>\n",
       "      <td>10</td>\n",
       "      <td>None</td>\n",
       "      <td>None</td>\n",
       "      <td>None</td>\n",
       "      <td>None</td>\n",
       "      <td>None</td>\n",
       "    </tr>\n",
       "    <tr>\n",
       "      <th>55</th>\n",
       "      <td>881633300179243008</td>\n",
       "      <td>8.816070e+17</td>\n",
       "      <td>4.738443e+07</td>\n",
       "      <td>2017-07-02 21:58:53 +0000</td>\n",
       "      <td>&lt;a href=\"http://twitter.com/download/iphone\" r...</td>\n",
       "      <td>@roushfenway These are good dogs but 17/10 is ...</td>\n",
       "      <td>NaN</td>\n",
       "      <td>NaN</td>\n",
       "      <td>NaN</td>\n",
       "      <td>NaN</td>\n",
       "      <td>17</td>\n",
       "      <td>10</td>\n",
       "      <td>None</td>\n",
       "      <td>None</td>\n",
       "      <td>None</td>\n",
       "      <td>None</td>\n",
       "      <td>None</td>\n",
       "    </tr>\n",
       "    <tr>\n",
       "      <th>64</th>\n",
       "      <td>879674319642796034</td>\n",
       "      <td>8.795538e+17</td>\n",
       "      <td>3.105441e+09</td>\n",
       "      <td>2017-06-27 12:14:36 +0000</td>\n",
       "      <td>&lt;a href=\"http://twitter.com/download/iphone\" r...</td>\n",
       "      <td>@RealKentMurphy 14/10 confirmed</td>\n",
       "      <td>NaN</td>\n",
       "      <td>NaN</td>\n",
       "      <td>NaN</td>\n",
       "      <td>NaN</td>\n",
       "      <td>14</td>\n",
       "      <td>10</td>\n",
       "      <td>None</td>\n",
       "      <td>None</td>\n",
       "      <td>None</td>\n",
       "      <td>None</td>\n",
       "      <td>None</td>\n",
       "    </tr>\n",
       "    <tr>\n",
       "      <th>113</th>\n",
       "      <td>870726314365509632</td>\n",
       "      <td>8.707262e+17</td>\n",
       "      <td>1.648776e+07</td>\n",
       "      <td>2017-06-02 19:38:25 +0000</td>\n",
       "      <td>&lt;a href=\"http://twitter.com/download/iphone\" r...</td>\n",
       "      <td>@ComplicitOwl @ShopWeRateDogs &amp;gt;10/10 is res...</td>\n",
       "      <td>NaN</td>\n",
       "      <td>NaN</td>\n",
       "      <td>NaN</td>\n",
       "      <td>NaN</td>\n",
       "      <td>10</td>\n",
       "      <td>10</td>\n",
       "      <td>None</td>\n",
       "      <td>None</td>\n",
       "      <td>None</td>\n",
       "      <td>None</td>\n",
       "      <td>None</td>\n",
       "    </tr>\n",
       "    <tr>\n",
       "      <th>148</th>\n",
       "      <td>863427515083354112</td>\n",
       "      <td>8.634256e+17</td>\n",
       "      <td>7.759620e+07</td>\n",
       "      <td>2017-05-13 16:15:35 +0000</td>\n",
       "      <td>&lt;a href=\"http://twitter.com/download/iphone\" r...</td>\n",
       "      <td>@Jack_Septic_Eye I'd need a few more pics to p...</td>\n",
       "      <td>NaN</td>\n",
       "      <td>NaN</td>\n",
       "      <td>NaN</td>\n",
       "      <td>NaN</td>\n",
       "      <td>12</td>\n",
       "      <td>10</td>\n",
       "      <td>None</td>\n",
       "      <td>None</td>\n",
       "      <td>None</td>\n",
       "      <td>None</td>\n",
       "      <td>None</td>\n",
       "    </tr>\n",
       "  </tbody>\n",
       "</table>\n",
       "</div>"
      ],
      "text/plain": [
       "               tweet_id  in_reply_to_status_id  in_reply_to_user_id  \\\n",
       "30   886267009285017600           8.862664e+17         2.281182e+09   \n",
       "55   881633300179243008           8.816070e+17         4.738443e+07   \n",
       "64   879674319642796034           8.795538e+17         3.105441e+09   \n",
       "113  870726314365509632           8.707262e+17         1.648776e+07   \n",
       "148  863427515083354112           8.634256e+17         7.759620e+07   \n",
       "\n",
       "                     timestamp  \\\n",
       "30   2017-07-15 16:51:35 +0000   \n",
       "55   2017-07-02 21:58:53 +0000   \n",
       "64   2017-06-27 12:14:36 +0000   \n",
       "113  2017-06-02 19:38:25 +0000   \n",
       "148  2017-05-13 16:15:35 +0000   \n",
       "\n",
       "                                                source  \\\n",
       "30   <a href=\"http://twitter.com/download/iphone\" r...   \n",
       "55   <a href=\"http://twitter.com/download/iphone\" r...   \n",
       "64   <a href=\"http://twitter.com/download/iphone\" r...   \n",
       "113  <a href=\"http://twitter.com/download/iphone\" r...   \n",
       "148  <a href=\"http://twitter.com/download/iphone\" r...   \n",
       "\n",
       "                                                  text  retweeted_status_id  \\\n",
       "30   @NonWhiteHat @MayhewMayhem omg hello tanner yo...                  NaN   \n",
       "55   @roushfenway These are good dogs but 17/10 is ...                  NaN   \n",
       "64                     @RealKentMurphy 14/10 confirmed                  NaN   \n",
       "113  @ComplicitOwl @ShopWeRateDogs &gt;10/10 is res...                  NaN   \n",
       "148  @Jack_Septic_Eye I'd need a few more pics to p...                  NaN   \n",
       "\n",
       "     retweeted_status_user_id retweeted_status_timestamp expanded_urls  \\\n",
       "30                        NaN                        NaN           NaN   \n",
       "55                        NaN                        NaN           NaN   \n",
       "64                        NaN                        NaN           NaN   \n",
       "113                       NaN                        NaN           NaN   \n",
       "148                       NaN                        NaN           NaN   \n",
       "\n",
       "     rating_numerator  rating_denominator  name doggo floofer pupper puppo  \n",
       "30                 12                  10  None  None    None   None  None  \n",
       "55                 17                  10  None  None    None   None  None  \n",
       "64                 14                  10  None  None    None   None  None  \n",
       "113                10                  10  None  None    None   None  None  \n",
       "148                12                  10  None  None    None   None  None  "
      ]
     },
     "execution_count": 663,
     "metadata": {},
     "output_type": "execute_result"
    }
   ],
   "source": [
    "dftweet[dftweet['in_reply_to_status_id'].notnull()].head()"
   ]
  },
  {
   "cell_type": "code",
   "execution_count": 664,
   "metadata": {},
   "outputs": [
    {
     "data": {
      "text/plain": [
       "8.862663570751283e+17"
      ]
     },
     "execution_count": 664,
     "metadata": {},
     "output_type": "execute_result"
    }
   ],
   "source": [
    "dftweet['in_reply_to_status_id'][30]"
   ]
  },
  {
   "cell_type": "code",
   "execution_count": 665,
   "metadata": {},
   "outputs": [
    {
     "data": {
      "text/html": [
       "<div>\n",
       "<style scoped>\n",
       "    .dataframe tbody tr th:only-of-type {\n",
       "        vertical-align: middle;\n",
       "    }\n",
       "\n",
       "    .dataframe tbody tr th {\n",
       "        vertical-align: top;\n",
       "    }\n",
       "\n",
       "    .dataframe thead th {\n",
       "        text-align: right;\n",
       "    }\n",
       "</style>\n",
       "<table border=\"1\" class=\"dataframe\">\n",
       "  <thead>\n",
       "    <tr style=\"text-align: right;\">\n",
       "      <th></th>\n",
       "      <th>tweet_id</th>\n",
       "      <th>in_reply_to_status_id</th>\n",
       "      <th>in_reply_to_user_id</th>\n",
       "      <th>timestamp</th>\n",
       "      <th>source</th>\n",
       "      <th>text</th>\n",
       "      <th>retweeted_status_id</th>\n",
       "      <th>retweeted_status_user_id</th>\n",
       "      <th>retweeted_status_timestamp</th>\n",
       "      <th>expanded_urls</th>\n",
       "      <th>rating_numerator</th>\n",
       "      <th>rating_denominator</th>\n",
       "      <th>name</th>\n",
       "      <th>doggo</th>\n",
       "      <th>floofer</th>\n",
       "      <th>pupper</th>\n",
       "      <th>puppo</th>\n",
       "    </tr>\n",
       "  </thead>\n",
       "  <tbody>\n",
       "    <tr>\n",
       "      <th>30</th>\n",
       "      <td>886267009285017600</td>\n",
       "      <td>8.862664e+17</td>\n",
       "      <td>2.281182e+09</td>\n",
       "      <td>2017-07-15 16:51:35 +0000</td>\n",
       "      <td>&lt;a href=\"http://twitter.com/download/iphone\" r...</td>\n",
       "      <td>@NonWhiteHat @MayhewMayhem omg hello tanner yo...</td>\n",
       "      <td>NaN</td>\n",
       "      <td>NaN</td>\n",
       "      <td>NaN</td>\n",
       "      <td>NaN</td>\n",
       "      <td>12</td>\n",
       "      <td>10</td>\n",
       "      <td>None</td>\n",
       "      <td>None</td>\n",
       "      <td>None</td>\n",
       "      <td>None</td>\n",
       "      <td>None</td>\n",
       "    </tr>\n",
       "    <tr>\n",
       "      <th>55</th>\n",
       "      <td>881633300179243008</td>\n",
       "      <td>8.816070e+17</td>\n",
       "      <td>4.738443e+07</td>\n",
       "      <td>2017-07-02 21:58:53 +0000</td>\n",
       "      <td>&lt;a href=\"http://twitter.com/download/iphone\" r...</td>\n",
       "      <td>@roushfenway These are good dogs but 17/10 is ...</td>\n",
       "      <td>NaN</td>\n",
       "      <td>NaN</td>\n",
       "      <td>NaN</td>\n",
       "      <td>NaN</td>\n",
       "      <td>17</td>\n",
       "      <td>10</td>\n",
       "      <td>None</td>\n",
       "      <td>None</td>\n",
       "      <td>None</td>\n",
       "      <td>None</td>\n",
       "      <td>None</td>\n",
       "    </tr>\n",
       "    <tr>\n",
       "      <th>64</th>\n",
       "      <td>879674319642796034</td>\n",
       "      <td>8.795538e+17</td>\n",
       "      <td>3.105441e+09</td>\n",
       "      <td>2017-06-27 12:14:36 +0000</td>\n",
       "      <td>&lt;a href=\"http://twitter.com/download/iphone\" r...</td>\n",
       "      <td>@RealKentMurphy 14/10 confirmed</td>\n",
       "      <td>NaN</td>\n",
       "      <td>NaN</td>\n",
       "      <td>NaN</td>\n",
       "      <td>NaN</td>\n",
       "      <td>14</td>\n",
       "      <td>10</td>\n",
       "      <td>None</td>\n",
       "      <td>None</td>\n",
       "      <td>None</td>\n",
       "      <td>None</td>\n",
       "      <td>None</td>\n",
       "    </tr>\n",
       "    <tr>\n",
       "      <th>113</th>\n",
       "      <td>870726314365509632</td>\n",
       "      <td>8.707262e+17</td>\n",
       "      <td>1.648776e+07</td>\n",
       "      <td>2017-06-02 19:38:25 +0000</td>\n",
       "      <td>&lt;a href=\"http://twitter.com/download/iphone\" r...</td>\n",
       "      <td>@ComplicitOwl @ShopWeRateDogs &amp;gt;10/10 is res...</td>\n",
       "      <td>NaN</td>\n",
       "      <td>NaN</td>\n",
       "      <td>NaN</td>\n",
       "      <td>NaN</td>\n",
       "      <td>10</td>\n",
       "      <td>10</td>\n",
       "      <td>None</td>\n",
       "      <td>None</td>\n",
       "      <td>None</td>\n",
       "      <td>None</td>\n",
       "      <td>None</td>\n",
       "    </tr>\n",
       "    <tr>\n",
       "      <th>148</th>\n",
       "      <td>863427515083354112</td>\n",
       "      <td>8.634256e+17</td>\n",
       "      <td>7.759620e+07</td>\n",
       "      <td>2017-05-13 16:15:35 +0000</td>\n",
       "      <td>&lt;a href=\"http://twitter.com/download/iphone\" r...</td>\n",
       "      <td>@Jack_Septic_Eye I'd need a few more pics to p...</td>\n",
       "      <td>NaN</td>\n",
       "      <td>NaN</td>\n",
       "      <td>NaN</td>\n",
       "      <td>NaN</td>\n",
       "      <td>12</td>\n",
       "      <td>10</td>\n",
       "      <td>None</td>\n",
       "      <td>None</td>\n",
       "      <td>None</td>\n",
       "      <td>None</td>\n",
       "      <td>None</td>\n",
       "    </tr>\n",
       "  </tbody>\n",
       "</table>\n",
       "</div>"
      ],
      "text/plain": [
       "               tweet_id  in_reply_to_status_id  in_reply_to_user_id  \\\n",
       "30   886267009285017600           8.862664e+17         2.281182e+09   \n",
       "55   881633300179243008           8.816070e+17         4.738443e+07   \n",
       "64   879674319642796034           8.795538e+17         3.105441e+09   \n",
       "113  870726314365509632           8.707262e+17         1.648776e+07   \n",
       "148  863427515083354112           8.634256e+17         7.759620e+07   \n",
       "\n",
       "                     timestamp  \\\n",
       "30   2017-07-15 16:51:35 +0000   \n",
       "55   2017-07-02 21:58:53 +0000   \n",
       "64   2017-06-27 12:14:36 +0000   \n",
       "113  2017-06-02 19:38:25 +0000   \n",
       "148  2017-05-13 16:15:35 +0000   \n",
       "\n",
       "                                                source  \\\n",
       "30   <a href=\"http://twitter.com/download/iphone\" r...   \n",
       "55   <a href=\"http://twitter.com/download/iphone\" r...   \n",
       "64   <a href=\"http://twitter.com/download/iphone\" r...   \n",
       "113  <a href=\"http://twitter.com/download/iphone\" r...   \n",
       "148  <a href=\"http://twitter.com/download/iphone\" r...   \n",
       "\n",
       "                                                  text  retweeted_status_id  \\\n",
       "30   @NonWhiteHat @MayhewMayhem omg hello tanner yo...                  NaN   \n",
       "55   @roushfenway These are good dogs but 17/10 is ...                  NaN   \n",
       "64                     @RealKentMurphy 14/10 confirmed                  NaN   \n",
       "113  @ComplicitOwl @ShopWeRateDogs &gt;10/10 is res...                  NaN   \n",
       "148  @Jack_Septic_Eye I'd need a few more pics to p...                  NaN   \n",
       "\n",
       "     retweeted_status_user_id retweeted_status_timestamp expanded_urls  \\\n",
       "30                        NaN                        NaN           NaN   \n",
       "55                        NaN                        NaN           NaN   \n",
       "64                        NaN                        NaN           NaN   \n",
       "113                       NaN                        NaN           NaN   \n",
       "148                       NaN                        NaN           NaN   \n",
       "\n",
       "     rating_numerator  rating_denominator  name doggo floofer pupper puppo  \n",
       "30                 12                  10  None  None    None   None  None  \n",
       "55                 17                  10  None  None    None   None  None  \n",
       "64                 14                  10  None  None    None   None  None  \n",
       "113                10                  10  None  None    None   None  None  \n",
       "148                12                  10  None  None    None   None  None  "
      ]
     },
     "execution_count": 665,
     "metadata": {},
     "output_type": "execute_result"
    }
   ],
   "source": [
    "dftweet[dftweet['in_reply_to_user_id'].notnull()].head()"
   ]
  },
  {
   "cell_type": "code",
   "execution_count": 666,
   "metadata": {},
   "outputs": [
    {
     "data": {
      "text/plain": [
       "47384430.0"
      ]
     },
     "execution_count": 666,
     "metadata": {},
     "output_type": "execute_result"
    }
   ],
   "source": [
    "dftweet['in_reply_to_user_id'][55]"
   ]
  },
  {
   "cell_type": "code",
   "execution_count": 667,
   "metadata": {},
   "outputs": [
    {
     "data": {
      "text/plain": [
       "2016-01-28 21:54:41 +0000    1\n",
       "2016-01-12 16:25:26 +0000    1\n",
       "2016-02-27 17:24:05 +0000    1\n",
       "2016-05-27 15:58:54 +0000    1\n",
       "2015-12-21 22:15:18 +0000    1\n",
       "                            ..\n",
       "2016-01-08 03:50:03 +0000    1\n",
       "2015-12-23 18:25:38 +0000    1\n",
       "2016-06-04 00:01:35 +0000    1\n",
       "2016-06-09 19:52:53 +0000    1\n",
       "2016-10-02 23:23:04 +0000    1\n",
       "Name: timestamp, Length: 2356, dtype: int64"
      ]
     },
     "execution_count": 667,
     "metadata": {},
     "output_type": "execute_result"
    }
   ],
   "source": [
    "dftweet['timestamp'].value_counts()"
   ]
  },
  {
   "cell_type": "code",
   "execution_count": 668,
   "metadata": {},
   "outputs": [
    {
     "data": {
      "text/plain": [
       "<a href=\"http://twitter.com/download/iphone\" rel=\"nofollow\">Twitter for iPhone</a>     2221\n",
       "<a href=\"http://vine.co\" rel=\"nofollow\">Vine - Make a Scene</a>                          91\n",
       "<a href=\"http://twitter.com\" rel=\"nofollow\">Twitter Web Client</a>                       33\n",
       "<a href=\"https://about.twitter.com/products/tweetdeck\" rel=\"nofollow\">TweetDeck</a>      11\n",
       "Name: source, dtype: int64"
      ]
     },
     "execution_count": 668,
     "metadata": {},
     "output_type": "execute_result"
    }
   ],
   "source": [
    "dftweet['source'].value_counts()"
   ]
  },
  {
   "cell_type": "code",
   "execution_count": 669,
   "metadata": {},
   "outputs": [
    {
     "data": {
      "text/plain": [
       "This is Winnie. She's h*ckin ferocious. Dandelion doesn't even see her coming. 12/10 would pet with caution https://t.co/EFfLCP7oQv              1\n",
       "\"🎶 DO YOU BELIEVE IN LIFE AFTER LOVE 🎶\"\\n11/10 https://t.co/URNs5zFskc                                                                           1\n",
       "Say hello to William. He makes fun of others because he's terrified of his own deep-seated insecurities. 7/10 https://t.co/bwuV6FlRxr            1\n",
       "This is a dog swinging. I really enjoyed it so I hope you all do as well. 11/10 https://t.co/Ozo9KHTRND                                          1\n",
       "I WAS SENT THE ACTUAL DOG IN THE PROFILE PIC BY HIS OWNER THIS IS SO WILD. 14/10 ULTIMATE LEGEND STATUS https://t.co/7oQ1wpfxIH                  1\n",
       "                                                                                                                                                ..\n",
       "Meet Gerbald. He just found out he's adopted. Poor pupper. Snazzy tongue tho. 11/10 would hold close in time of need https://t.co/UfGkB9Wrud     1\n",
       "This is Albus. He's quite impressive at hide and seek. Knows he's been found this time. 13/10 usually elusive as h*ck https://t.co/ht47njyZ64    1\n",
       "Meet Sadie. She's addicted to balloons. It's tearing her family apart. Won't admit she has a problem. Still 10/10 https://t.co/h6s9Rch0gZ        1\n",
       "RT @dog_rates: This is Shaggy. He knows exactly how to solve the puzzle but can't talk. All he wants to do is help. 10/10 great guy https:/…     1\n",
       "RT @dog_rates: This is Bailey. She loves going down slides but is very bad at it. Still 11/10 https://t.co/ivPWhspN3E                            1\n",
       "Name: text, Length: 2356, dtype: int64"
      ]
     },
     "execution_count": 669,
     "metadata": {},
     "output_type": "execute_result"
    }
   ],
   "source": [
    "dftweet['text'].value_counts()"
   ]
  },
  {
   "cell_type": "code",
   "execution_count": 670,
   "metadata": {},
   "outputs": [
    {
     "data": {
      "text/html": [
       "<div>\n",
       "<style scoped>\n",
       "    .dataframe tbody tr th:only-of-type {\n",
       "        vertical-align: middle;\n",
       "    }\n",
       "\n",
       "    .dataframe tbody tr th {\n",
       "        vertical-align: top;\n",
       "    }\n",
       "\n",
       "    .dataframe thead th {\n",
       "        text-align: right;\n",
       "    }\n",
       "</style>\n",
       "<table border=\"1\" class=\"dataframe\">\n",
       "  <thead>\n",
       "    <tr style=\"text-align: right;\">\n",
       "      <th></th>\n",
       "      <th>tweet_id</th>\n",
       "      <th>in_reply_to_status_id</th>\n",
       "      <th>in_reply_to_user_id</th>\n",
       "      <th>timestamp</th>\n",
       "      <th>source</th>\n",
       "      <th>text</th>\n",
       "      <th>retweeted_status_id</th>\n",
       "      <th>retweeted_status_user_id</th>\n",
       "      <th>retweeted_status_timestamp</th>\n",
       "      <th>expanded_urls</th>\n",
       "      <th>rating_numerator</th>\n",
       "      <th>rating_denominator</th>\n",
       "      <th>name</th>\n",
       "      <th>doggo</th>\n",
       "      <th>floofer</th>\n",
       "      <th>pupper</th>\n",
       "      <th>puppo</th>\n",
       "    </tr>\n",
       "  </thead>\n",
       "  <tbody>\n",
       "    <tr>\n",
       "      <th>19</th>\n",
       "      <td>888202515573088257</td>\n",
       "      <td>NaN</td>\n",
       "      <td>NaN</td>\n",
       "      <td>2017-07-21 01:02:36 +0000</td>\n",
       "      <td>&lt;a href=\"http://twitter.com/download/iphone\" r...</td>\n",
       "      <td>RT @dog_rates: This is Canela. She attempted s...</td>\n",
       "      <td>8.874740e+17</td>\n",
       "      <td>4.196984e+09</td>\n",
       "      <td>2017-07-19 00:47:34 +0000</td>\n",
       "      <td>https://twitter.com/dog_rates/status/887473957...</td>\n",
       "      <td>13</td>\n",
       "      <td>10</td>\n",
       "      <td>Canela</td>\n",
       "      <td>None</td>\n",
       "      <td>None</td>\n",
       "      <td>None</td>\n",
       "      <td>None</td>\n",
       "    </tr>\n",
       "    <tr>\n",
       "      <th>32</th>\n",
       "      <td>886054160059072513</td>\n",
       "      <td>NaN</td>\n",
       "      <td>NaN</td>\n",
       "      <td>2017-07-15 02:45:48 +0000</td>\n",
       "      <td>&lt;a href=\"http://twitter.com/download/iphone\" r...</td>\n",
       "      <td>RT @Athletics: 12/10 #BATP https://t.co/WxwJmv...</td>\n",
       "      <td>8.860537e+17</td>\n",
       "      <td>1.960740e+07</td>\n",
       "      <td>2017-07-15 02:44:07 +0000</td>\n",
       "      <td>https://twitter.com/dog_rates/status/886053434...</td>\n",
       "      <td>12</td>\n",
       "      <td>10</td>\n",
       "      <td>None</td>\n",
       "      <td>None</td>\n",
       "      <td>None</td>\n",
       "      <td>None</td>\n",
       "      <td>None</td>\n",
       "    </tr>\n",
       "    <tr>\n",
       "      <th>36</th>\n",
       "      <td>885311592912609280</td>\n",
       "      <td>NaN</td>\n",
       "      <td>NaN</td>\n",
       "      <td>2017-07-13 01:35:06 +0000</td>\n",
       "      <td>&lt;a href=\"http://twitter.com/download/iphone\" r...</td>\n",
       "      <td>RT @dog_rates: This is Lilly. She just paralle...</td>\n",
       "      <td>8.305833e+17</td>\n",
       "      <td>4.196984e+09</td>\n",
       "      <td>2017-02-12 01:04:29 +0000</td>\n",
       "      <td>https://twitter.com/dog_rates/status/830583320...</td>\n",
       "      <td>13</td>\n",
       "      <td>10</td>\n",
       "      <td>Lilly</td>\n",
       "      <td>None</td>\n",
       "      <td>None</td>\n",
       "      <td>None</td>\n",
       "      <td>None</td>\n",
       "    </tr>\n",
       "    <tr>\n",
       "      <th>68</th>\n",
       "      <td>879130579576475649</td>\n",
       "      <td>NaN</td>\n",
       "      <td>NaN</td>\n",
       "      <td>2017-06-26 00:13:58 +0000</td>\n",
       "      <td>&lt;a href=\"http://twitter.com/download/iphone\" r...</td>\n",
       "      <td>RT @dog_rates: This is Emmy. She was adopted t...</td>\n",
       "      <td>8.780576e+17</td>\n",
       "      <td>4.196984e+09</td>\n",
       "      <td>2017-06-23 01:10:23 +0000</td>\n",
       "      <td>https://twitter.com/dog_rates/status/878057613...</td>\n",
       "      <td>14</td>\n",
       "      <td>10</td>\n",
       "      <td>Emmy</td>\n",
       "      <td>None</td>\n",
       "      <td>None</td>\n",
       "      <td>None</td>\n",
       "      <td>None</td>\n",
       "    </tr>\n",
       "    <tr>\n",
       "      <th>73</th>\n",
       "      <td>878404777348136964</td>\n",
       "      <td>NaN</td>\n",
       "      <td>NaN</td>\n",
       "      <td>2017-06-24 00:09:53 +0000</td>\n",
       "      <td>&lt;a href=\"http://twitter.com/download/iphone\" r...</td>\n",
       "      <td>RT @dog_rates: Meet Shadow. In an attempt to r...</td>\n",
       "      <td>8.782815e+17</td>\n",
       "      <td>4.196984e+09</td>\n",
       "      <td>2017-06-23 16:00:04 +0000</td>\n",
       "      <td>https://www.gofundme.com/3yd6y1c,https://twitt...</td>\n",
       "      <td>13</td>\n",
       "      <td>10</td>\n",
       "      <td>Shadow</td>\n",
       "      <td>None</td>\n",
       "      <td>None</td>\n",
       "      <td>None</td>\n",
       "      <td>None</td>\n",
       "    </tr>\n",
       "  </tbody>\n",
       "</table>\n",
       "</div>"
      ],
      "text/plain": [
       "              tweet_id  in_reply_to_status_id  in_reply_to_user_id  \\\n",
       "19  888202515573088257                    NaN                  NaN   \n",
       "32  886054160059072513                    NaN                  NaN   \n",
       "36  885311592912609280                    NaN                  NaN   \n",
       "68  879130579576475649                    NaN                  NaN   \n",
       "73  878404777348136964                    NaN                  NaN   \n",
       "\n",
       "                    timestamp  \\\n",
       "19  2017-07-21 01:02:36 +0000   \n",
       "32  2017-07-15 02:45:48 +0000   \n",
       "36  2017-07-13 01:35:06 +0000   \n",
       "68  2017-06-26 00:13:58 +0000   \n",
       "73  2017-06-24 00:09:53 +0000   \n",
       "\n",
       "                                               source  \\\n",
       "19  <a href=\"http://twitter.com/download/iphone\" r...   \n",
       "32  <a href=\"http://twitter.com/download/iphone\" r...   \n",
       "36  <a href=\"http://twitter.com/download/iphone\" r...   \n",
       "68  <a href=\"http://twitter.com/download/iphone\" r...   \n",
       "73  <a href=\"http://twitter.com/download/iphone\" r...   \n",
       "\n",
       "                                                 text  retweeted_status_id  \\\n",
       "19  RT @dog_rates: This is Canela. She attempted s...         8.874740e+17   \n",
       "32  RT @Athletics: 12/10 #BATP https://t.co/WxwJmv...         8.860537e+17   \n",
       "36  RT @dog_rates: This is Lilly. She just paralle...         8.305833e+17   \n",
       "68  RT @dog_rates: This is Emmy. She was adopted t...         8.780576e+17   \n",
       "73  RT @dog_rates: Meet Shadow. In an attempt to r...         8.782815e+17   \n",
       "\n",
       "    retweeted_status_user_id retweeted_status_timestamp  \\\n",
       "19              4.196984e+09  2017-07-19 00:47:34 +0000   \n",
       "32              1.960740e+07  2017-07-15 02:44:07 +0000   \n",
       "36              4.196984e+09  2017-02-12 01:04:29 +0000   \n",
       "68              4.196984e+09  2017-06-23 01:10:23 +0000   \n",
       "73              4.196984e+09  2017-06-23 16:00:04 +0000   \n",
       "\n",
       "                                        expanded_urls  rating_numerator  \\\n",
       "19  https://twitter.com/dog_rates/status/887473957...                13   \n",
       "32  https://twitter.com/dog_rates/status/886053434...                12   \n",
       "36  https://twitter.com/dog_rates/status/830583320...                13   \n",
       "68  https://twitter.com/dog_rates/status/878057613...                14   \n",
       "73  https://www.gofundme.com/3yd6y1c,https://twitt...                13   \n",
       "\n",
       "    rating_denominator    name doggo floofer pupper puppo  \n",
       "19                  10  Canela  None    None   None  None  \n",
       "32                  10    None  None    None   None  None  \n",
       "36                  10   Lilly  None    None   None  None  \n",
       "68                  10    Emmy  None    None   None  None  \n",
       "73                  10  Shadow  None    None   None  None  "
      ]
     },
     "execution_count": 670,
     "metadata": {},
     "output_type": "execute_result"
    }
   ],
   "source": [
    "dftweet[dftweet['retweeted_status_id'].notnull()].head()"
   ]
  },
  {
   "cell_type": "code",
   "execution_count": 671,
   "metadata": {},
   "outputs": [
    {
     "data": {
      "text/plain": [
       "8.874739571039519e+17"
      ]
     },
     "execution_count": 671,
     "metadata": {},
     "output_type": "execute_result"
    }
   ],
   "source": [
    "dftweet['retweeted_status_id'][19]"
   ]
  },
  {
   "cell_type": "code",
   "execution_count": 672,
   "metadata": {},
   "outputs": [
    {
     "data": {
      "text/html": [
       "<div>\n",
       "<style scoped>\n",
       "    .dataframe tbody tr th:only-of-type {\n",
       "        vertical-align: middle;\n",
       "    }\n",
       "\n",
       "    .dataframe tbody tr th {\n",
       "        vertical-align: top;\n",
       "    }\n",
       "\n",
       "    .dataframe thead th {\n",
       "        text-align: right;\n",
       "    }\n",
       "</style>\n",
       "<table border=\"1\" class=\"dataframe\">\n",
       "  <thead>\n",
       "    <tr style=\"text-align: right;\">\n",
       "      <th></th>\n",
       "      <th>tweet_id</th>\n",
       "      <th>in_reply_to_status_id</th>\n",
       "      <th>in_reply_to_user_id</th>\n",
       "      <th>timestamp</th>\n",
       "      <th>source</th>\n",
       "      <th>text</th>\n",
       "      <th>retweeted_status_id</th>\n",
       "      <th>retweeted_status_user_id</th>\n",
       "      <th>retweeted_status_timestamp</th>\n",
       "      <th>expanded_urls</th>\n",
       "      <th>rating_numerator</th>\n",
       "      <th>rating_denominator</th>\n",
       "      <th>name</th>\n",
       "      <th>doggo</th>\n",
       "      <th>floofer</th>\n",
       "      <th>pupper</th>\n",
       "      <th>puppo</th>\n",
       "    </tr>\n",
       "  </thead>\n",
       "  <tbody>\n",
       "    <tr>\n",
       "      <th>19</th>\n",
       "      <td>888202515573088257</td>\n",
       "      <td>NaN</td>\n",
       "      <td>NaN</td>\n",
       "      <td>2017-07-21 01:02:36 +0000</td>\n",
       "      <td>&lt;a href=\"http://twitter.com/download/iphone\" r...</td>\n",
       "      <td>RT @dog_rates: This is Canela. She attempted s...</td>\n",
       "      <td>8.874740e+17</td>\n",
       "      <td>4.196984e+09</td>\n",
       "      <td>2017-07-19 00:47:34 +0000</td>\n",
       "      <td>https://twitter.com/dog_rates/status/887473957...</td>\n",
       "      <td>13</td>\n",
       "      <td>10</td>\n",
       "      <td>Canela</td>\n",
       "      <td>None</td>\n",
       "      <td>None</td>\n",
       "      <td>None</td>\n",
       "      <td>None</td>\n",
       "    </tr>\n",
       "    <tr>\n",
       "      <th>32</th>\n",
       "      <td>886054160059072513</td>\n",
       "      <td>NaN</td>\n",
       "      <td>NaN</td>\n",
       "      <td>2017-07-15 02:45:48 +0000</td>\n",
       "      <td>&lt;a href=\"http://twitter.com/download/iphone\" r...</td>\n",
       "      <td>RT @Athletics: 12/10 #BATP https://t.co/WxwJmv...</td>\n",
       "      <td>8.860537e+17</td>\n",
       "      <td>1.960740e+07</td>\n",
       "      <td>2017-07-15 02:44:07 +0000</td>\n",
       "      <td>https://twitter.com/dog_rates/status/886053434...</td>\n",
       "      <td>12</td>\n",
       "      <td>10</td>\n",
       "      <td>None</td>\n",
       "      <td>None</td>\n",
       "      <td>None</td>\n",
       "      <td>None</td>\n",
       "      <td>None</td>\n",
       "    </tr>\n",
       "    <tr>\n",
       "      <th>36</th>\n",
       "      <td>885311592912609280</td>\n",
       "      <td>NaN</td>\n",
       "      <td>NaN</td>\n",
       "      <td>2017-07-13 01:35:06 +0000</td>\n",
       "      <td>&lt;a href=\"http://twitter.com/download/iphone\" r...</td>\n",
       "      <td>RT @dog_rates: This is Lilly. She just paralle...</td>\n",
       "      <td>8.305833e+17</td>\n",
       "      <td>4.196984e+09</td>\n",
       "      <td>2017-02-12 01:04:29 +0000</td>\n",
       "      <td>https://twitter.com/dog_rates/status/830583320...</td>\n",
       "      <td>13</td>\n",
       "      <td>10</td>\n",
       "      <td>Lilly</td>\n",
       "      <td>None</td>\n",
       "      <td>None</td>\n",
       "      <td>None</td>\n",
       "      <td>None</td>\n",
       "    </tr>\n",
       "    <tr>\n",
       "      <th>68</th>\n",
       "      <td>879130579576475649</td>\n",
       "      <td>NaN</td>\n",
       "      <td>NaN</td>\n",
       "      <td>2017-06-26 00:13:58 +0000</td>\n",
       "      <td>&lt;a href=\"http://twitter.com/download/iphone\" r...</td>\n",
       "      <td>RT @dog_rates: This is Emmy. She was adopted t...</td>\n",
       "      <td>8.780576e+17</td>\n",
       "      <td>4.196984e+09</td>\n",
       "      <td>2017-06-23 01:10:23 +0000</td>\n",
       "      <td>https://twitter.com/dog_rates/status/878057613...</td>\n",
       "      <td>14</td>\n",
       "      <td>10</td>\n",
       "      <td>Emmy</td>\n",
       "      <td>None</td>\n",
       "      <td>None</td>\n",
       "      <td>None</td>\n",
       "      <td>None</td>\n",
       "    </tr>\n",
       "    <tr>\n",
       "      <th>73</th>\n",
       "      <td>878404777348136964</td>\n",
       "      <td>NaN</td>\n",
       "      <td>NaN</td>\n",
       "      <td>2017-06-24 00:09:53 +0000</td>\n",
       "      <td>&lt;a href=\"http://twitter.com/download/iphone\" r...</td>\n",
       "      <td>RT @dog_rates: Meet Shadow. In an attempt to r...</td>\n",
       "      <td>8.782815e+17</td>\n",
       "      <td>4.196984e+09</td>\n",
       "      <td>2017-06-23 16:00:04 +0000</td>\n",
       "      <td>https://www.gofundme.com/3yd6y1c,https://twitt...</td>\n",
       "      <td>13</td>\n",
       "      <td>10</td>\n",
       "      <td>Shadow</td>\n",
       "      <td>None</td>\n",
       "      <td>None</td>\n",
       "      <td>None</td>\n",
       "      <td>None</td>\n",
       "    </tr>\n",
       "  </tbody>\n",
       "</table>\n",
       "</div>"
      ],
      "text/plain": [
       "              tweet_id  in_reply_to_status_id  in_reply_to_user_id  \\\n",
       "19  888202515573088257                    NaN                  NaN   \n",
       "32  886054160059072513                    NaN                  NaN   \n",
       "36  885311592912609280                    NaN                  NaN   \n",
       "68  879130579576475649                    NaN                  NaN   \n",
       "73  878404777348136964                    NaN                  NaN   \n",
       "\n",
       "                    timestamp  \\\n",
       "19  2017-07-21 01:02:36 +0000   \n",
       "32  2017-07-15 02:45:48 +0000   \n",
       "36  2017-07-13 01:35:06 +0000   \n",
       "68  2017-06-26 00:13:58 +0000   \n",
       "73  2017-06-24 00:09:53 +0000   \n",
       "\n",
       "                                               source  \\\n",
       "19  <a href=\"http://twitter.com/download/iphone\" r...   \n",
       "32  <a href=\"http://twitter.com/download/iphone\" r...   \n",
       "36  <a href=\"http://twitter.com/download/iphone\" r...   \n",
       "68  <a href=\"http://twitter.com/download/iphone\" r...   \n",
       "73  <a href=\"http://twitter.com/download/iphone\" r...   \n",
       "\n",
       "                                                 text  retweeted_status_id  \\\n",
       "19  RT @dog_rates: This is Canela. She attempted s...         8.874740e+17   \n",
       "32  RT @Athletics: 12/10 #BATP https://t.co/WxwJmv...         8.860537e+17   \n",
       "36  RT @dog_rates: This is Lilly. She just paralle...         8.305833e+17   \n",
       "68  RT @dog_rates: This is Emmy. She was adopted t...         8.780576e+17   \n",
       "73  RT @dog_rates: Meet Shadow. In an attempt to r...         8.782815e+17   \n",
       "\n",
       "    retweeted_status_user_id retweeted_status_timestamp  \\\n",
       "19              4.196984e+09  2017-07-19 00:47:34 +0000   \n",
       "32              1.960740e+07  2017-07-15 02:44:07 +0000   \n",
       "36              4.196984e+09  2017-02-12 01:04:29 +0000   \n",
       "68              4.196984e+09  2017-06-23 01:10:23 +0000   \n",
       "73              4.196984e+09  2017-06-23 16:00:04 +0000   \n",
       "\n",
       "                                        expanded_urls  rating_numerator  \\\n",
       "19  https://twitter.com/dog_rates/status/887473957...                13   \n",
       "32  https://twitter.com/dog_rates/status/886053434...                12   \n",
       "36  https://twitter.com/dog_rates/status/830583320...                13   \n",
       "68  https://twitter.com/dog_rates/status/878057613...                14   \n",
       "73  https://www.gofundme.com/3yd6y1c,https://twitt...                13   \n",
       "\n",
       "    rating_denominator    name doggo floofer pupper puppo  \n",
       "19                  10  Canela  None    None   None  None  \n",
       "32                  10    None  None    None   None  None  \n",
       "36                  10   Lilly  None    None   None  None  \n",
       "68                  10    Emmy  None    None   None  None  \n",
       "73                  10  Shadow  None    None   None  None  "
      ]
     },
     "execution_count": 672,
     "metadata": {},
     "output_type": "execute_result"
    }
   ],
   "source": [
    "dftweet[dftweet['retweeted_status_user_id'].notnull()].head()"
   ]
  },
  {
   "cell_type": "code",
   "execution_count": 673,
   "metadata": {},
   "outputs": [
    {
     "data": {
      "text/plain": [
       "19607400.0"
      ]
     },
     "execution_count": 673,
     "metadata": {},
     "output_type": "execute_result"
    }
   ],
   "source": [
    "dftweet['retweeted_status_user_id'][32]"
   ]
  },
  {
   "cell_type": "code",
   "execution_count": 674,
   "metadata": {},
   "outputs": [
    {
     "data": {
      "text/html": [
       "<div>\n",
       "<style scoped>\n",
       "    .dataframe tbody tr th:only-of-type {\n",
       "        vertical-align: middle;\n",
       "    }\n",
       "\n",
       "    .dataframe tbody tr th {\n",
       "        vertical-align: top;\n",
       "    }\n",
       "\n",
       "    .dataframe thead th {\n",
       "        text-align: right;\n",
       "    }\n",
       "</style>\n",
       "<table border=\"1\" class=\"dataframe\">\n",
       "  <thead>\n",
       "    <tr style=\"text-align: right;\">\n",
       "      <th></th>\n",
       "      <th>tweet_id</th>\n",
       "      <th>in_reply_to_status_id</th>\n",
       "      <th>in_reply_to_user_id</th>\n",
       "      <th>timestamp</th>\n",
       "      <th>source</th>\n",
       "      <th>text</th>\n",
       "      <th>retweeted_status_id</th>\n",
       "      <th>retweeted_status_user_id</th>\n",
       "      <th>retweeted_status_timestamp</th>\n",
       "      <th>expanded_urls</th>\n",
       "      <th>rating_numerator</th>\n",
       "      <th>rating_denominator</th>\n",
       "      <th>name</th>\n",
       "      <th>doggo</th>\n",
       "      <th>floofer</th>\n",
       "      <th>pupper</th>\n",
       "      <th>puppo</th>\n",
       "    </tr>\n",
       "  </thead>\n",
       "  <tbody>\n",
       "    <tr>\n",
       "      <th>19</th>\n",
       "      <td>888202515573088257</td>\n",
       "      <td>NaN</td>\n",
       "      <td>NaN</td>\n",
       "      <td>2017-07-21 01:02:36 +0000</td>\n",
       "      <td>&lt;a href=\"http://twitter.com/download/iphone\" r...</td>\n",
       "      <td>RT @dog_rates: This is Canela. She attempted s...</td>\n",
       "      <td>8.874740e+17</td>\n",
       "      <td>4.196984e+09</td>\n",
       "      <td>2017-07-19 00:47:34 +0000</td>\n",
       "      <td>https://twitter.com/dog_rates/status/887473957...</td>\n",
       "      <td>13</td>\n",
       "      <td>10</td>\n",
       "      <td>Canela</td>\n",
       "      <td>None</td>\n",
       "      <td>None</td>\n",
       "      <td>None</td>\n",
       "      <td>None</td>\n",
       "    </tr>\n",
       "    <tr>\n",
       "      <th>32</th>\n",
       "      <td>886054160059072513</td>\n",
       "      <td>NaN</td>\n",
       "      <td>NaN</td>\n",
       "      <td>2017-07-15 02:45:48 +0000</td>\n",
       "      <td>&lt;a href=\"http://twitter.com/download/iphone\" r...</td>\n",
       "      <td>RT @Athletics: 12/10 #BATP https://t.co/WxwJmv...</td>\n",
       "      <td>8.860537e+17</td>\n",
       "      <td>1.960740e+07</td>\n",
       "      <td>2017-07-15 02:44:07 +0000</td>\n",
       "      <td>https://twitter.com/dog_rates/status/886053434...</td>\n",
       "      <td>12</td>\n",
       "      <td>10</td>\n",
       "      <td>None</td>\n",
       "      <td>None</td>\n",
       "      <td>None</td>\n",
       "      <td>None</td>\n",
       "      <td>None</td>\n",
       "    </tr>\n",
       "    <tr>\n",
       "      <th>36</th>\n",
       "      <td>885311592912609280</td>\n",
       "      <td>NaN</td>\n",
       "      <td>NaN</td>\n",
       "      <td>2017-07-13 01:35:06 +0000</td>\n",
       "      <td>&lt;a href=\"http://twitter.com/download/iphone\" r...</td>\n",
       "      <td>RT @dog_rates: This is Lilly. She just paralle...</td>\n",
       "      <td>8.305833e+17</td>\n",
       "      <td>4.196984e+09</td>\n",
       "      <td>2017-02-12 01:04:29 +0000</td>\n",
       "      <td>https://twitter.com/dog_rates/status/830583320...</td>\n",
       "      <td>13</td>\n",
       "      <td>10</td>\n",
       "      <td>Lilly</td>\n",
       "      <td>None</td>\n",
       "      <td>None</td>\n",
       "      <td>None</td>\n",
       "      <td>None</td>\n",
       "    </tr>\n",
       "    <tr>\n",
       "      <th>68</th>\n",
       "      <td>879130579576475649</td>\n",
       "      <td>NaN</td>\n",
       "      <td>NaN</td>\n",
       "      <td>2017-06-26 00:13:58 +0000</td>\n",
       "      <td>&lt;a href=\"http://twitter.com/download/iphone\" r...</td>\n",
       "      <td>RT @dog_rates: This is Emmy. She was adopted t...</td>\n",
       "      <td>8.780576e+17</td>\n",
       "      <td>4.196984e+09</td>\n",
       "      <td>2017-06-23 01:10:23 +0000</td>\n",
       "      <td>https://twitter.com/dog_rates/status/878057613...</td>\n",
       "      <td>14</td>\n",
       "      <td>10</td>\n",
       "      <td>Emmy</td>\n",
       "      <td>None</td>\n",
       "      <td>None</td>\n",
       "      <td>None</td>\n",
       "      <td>None</td>\n",
       "    </tr>\n",
       "    <tr>\n",
       "      <th>73</th>\n",
       "      <td>878404777348136964</td>\n",
       "      <td>NaN</td>\n",
       "      <td>NaN</td>\n",
       "      <td>2017-06-24 00:09:53 +0000</td>\n",
       "      <td>&lt;a href=\"http://twitter.com/download/iphone\" r...</td>\n",
       "      <td>RT @dog_rates: Meet Shadow. In an attempt to r...</td>\n",
       "      <td>8.782815e+17</td>\n",
       "      <td>4.196984e+09</td>\n",
       "      <td>2017-06-23 16:00:04 +0000</td>\n",
       "      <td>https://www.gofundme.com/3yd6y1c,https://twitt...</td>\n",
       "      <td>13</td>\n",
       "      <td>10</td>\n",
       "      <td>Shadow</td>\n",
       "      <td>None</td>\n",
       "      <td>None</td>\n",
       "      <td>None</td>\n",
       "      <td>None</td>\n",
       "    </tr>\n",
       "  </tbody>\n",
       "</table>\n",
       "</div>"
      ],
      "text/plain": [
       "              tweet_id  in_reply_to_status_id  in_reply_to_user_id  \\\n",
       "19  888202515573088257                    NaN                  NaN   \n",
       "32  886054160059072513                    NaN                  NaN   \n",
       "36  885311592912609280                    NaN                  NaN   \n",
       "68  879130579576475649                    NaN                  NaN   \n",
       "73  878404777348136964                    NaN                  NaN   \n",
       "\n",
       "                    timestamp  \\\n",
       "19  2017-07-21 01:02:36 +0000   \n",
       "32  2017-07-15 02:45:48 +0000   \n",
       "36  2017-07-13 01:35:06 +0000   \n",
       "68  2017-06-26 00:13:58 +0000   \n",
       "73  2017-06-24 00:09:53 +0000   \n",
       "\n",
       "                                               source  \\\n",
       "19  <a href=\"http://twitter.com/download/iphone\" r...   \n",
       "32  <a href=\"http://twitter.com/download/iphone\" r...   \n",
       "36  <a href=\"http://twitter.com/download/iphone\" r...   \n",
       "68  <a href=\"http://twitter.com/download/iphone\" r...   \n",
       "73  <a href=\"http://twitter.com/download/iphone\" r...   \n",
       "\n",
       "                                                 text  retweeted_status_id  \\\n",
       "19  RT @dog_rates: This is Canela. She attempted s...         8.874740e+17   \n",
       "32  RT @Athletics: 12/10 #BATP https://t.co/WxwJmv...         8.860537e+17   \n",
       "36  RT @dog_rates: This is Lilly. She just paralle...         8.305833e+17   \n",
       "68  RT @dog_rates: This is Emmy. She was adopted t...         8.780576e+17   \n",
       "73  RT @dog_rates: Meet Shadow. In an attempt to r...         8.782815e+17   \n",
       "\n",
       "    retweeted_status_user_id retweeted_status_timestamp  \\\n",
       "19              4.196984e+09  2017-07-19 00:47:34 +0000   \n",
       "32              1.960740e+07  2017-07-15 02:44:07 +0000   \n",
       "36              4.196984e+09  2017-02-12 01:04:29 +0000   \n",
       "68              4.196984e+09  2017-06-23 01:10:23 +0000   \n",
       "73              4.196984e+09  2017-06-23 16:00:04 +0000   \n",
       "\n",
       "                                        expanded_urls  rating_numerator  \\\n",
       "19  https://twitter.com/dog_rates/status/887473957...                13   \n",
       "32  https://twitter.com/dog_rates/status/886053434...                12   \n",
       "36  https://twitter.com/dog_rates/status/830583320...                13   \n",
       "68  https://twitter.com/dog_rates/status/878057613...                14   \n",
       "73  https://www.gofundme.com/3yd6y1c,https://twitt...                13   \n",
       "\n",
       "    rating_denominator    name doggo floofer pupper puppo  \n",
       "19                  10  Canela  None    None   None  None  \n",
       "32                  10    None  None    None   None  None  \n",
       "36                  10   Lilly  None    None   None  None  \n",
       "68                  10    Emmy  None    None   None  None  \n",
       "73                  10  Shadow  None    None   None  None  "
      ]
     },
     "execution_count": 674,
     "metadata": {},
     "output_type": "execute_result"
    }
   ],
   "source": [
    "dftweet[dftweet['retweeted_status_timestamp'].notnull()].head()"
   ]
  },
  {
   "cell_type": "code",
   "execution_count": 675,
   "metadata": {},
   "outputs": [
    {
     "data": {
      "text/plain": [
       "2015-12-08 18:17:56 +0000    1\n",
       "2017-05-02 00:04:57 +0000    1\n",
       "2016-08-08 17:19:51 +0000    1\n",
       "2016-11-19 19:55:41 +0000    1\n",
       "2016-09-27 02:53:48 +0000    1\n",
       "                            ..\n",
       "2016-09-09 18:31:54 +0000    1\n",
       "2017-02-24 23:04:14 +0000    1\n",
       "2015-12-23 00:45:35 +0000    1\n",
       "2017-02-02 01:01:21 +0000    1\n",
       "2016-10-02 23:23:04 +0000    1\n",
       "Name: retweeted_status_timestamp, Length: 181, dtype: int64"
      ]
     },
     "execution_count": 675,
     "metadata": {},
     "output_type": "execute_result"
    }
   ],
   "source": [
    "dftweet[dftweet['retweeted_status_timestamp'].notnull()]['retweeted_status_timestamp'].value_counts()"
   ]
  },
  {
   "cell_type": "code",
   "execution_count": 676,
   "metadata": {},
   "outputs": [
    {
     "data": {
      "text/plain": [
       "https://twitter.com/dog_rates/status/    2099\n",
       "nan                                        59\n",
       "http://us.blastingnews.com/news/2017/       3\n",
       "https://www.gofundme.com/lolas-life-s       2\n",
       "https://www.gofundme.com/helpquinny,h       2\n",
       "                                         ... \n",
       "https://vine.co/v/iKIwAzEatd6               1\n",
       "https://vine.co/v/5rt6T3qm7hL               1\n",
       "https://vine.co/v/5QWd3LZqXxd               1\n",
       "https://twitter.com/deadspin/status/8       1\n",
       "https://vine.co/v/ixHYvdxUx1L               1\n",
       "Name: expanded_urls, Length: 183, dtype: int64"
      ]
     },
     "execution_count": 676,
     "metadata": {},
     "output_type": "execute_result"
    }
   ],
   "source": [
    "dftweet['expanded_urls'].astype(str).str[:37].value_counts()"
   ]
  },
  {
   "cell_type": "code",
   "execution_count": 677,
   "metadata": {},
   "outputs": [
    {
     "data": {
      "text/plain": [
       "True     1966\n",
       "False     390\n",
       "dtype: int64"
      ]
     },
     "execution_count": 677,
     "metadata": {},
     "output_type": "execute_result"
    }
   ],
   "source": [
    "(dftweet['expanded_urls'].astype(str).str[37:55] == dftweet['tweet_id'].astype(str)).value_counts()"
   ]
  },
  {
   "cell_type": "code",
   "execution_count": 678,
   "metadata": {},
   "outputs": [
    {
     "data": {
      "text/plain": [
       "892420643555336193"
      ]
     },
     "execution_count": 678,
     "metadata": {},
     "output_type": "execute_result"
    }
   ],
   "source": [
    "dftweet['tweet_id'][0]"
   ]
  },
  {
   "cell_type": "code",
   "execution_count": 679,
   "metadata": {
    "scrolled": true
   },
   "outputs": [
    {
     "data": {
      "text/plain": [
       "/photo/1                                                                                                                                                                                                    1452\n",
       "                                                                                                                                                                                                             164\n",
       "/video/1                                                                                                                                                                                                      78\n",
       "/photo/1,https://twitter.com/dog_rates/status/791406955684368384/photo/1,https://twitter.com/dog_rates/status/791406955684368384/photo/1,https://twitter.com/dog_rates/status/791406955684368384/photo/1       2\n",
       "/photo/1,https://twitter.com/dog_rates/status/771380798096281600/photo/1,https://twitter.com/dog_rates/status/771380798096281600/photo/1,https://twitter.com/dog_rates/status/771380798096281600/photo/1       2\n",
       "Name: expanded_urls, dtype: int64"
      ]
     },
     "execution_count": 679,
     "metadata": {},
     "output_type": "execute_result"
    }
   ],
   "source": [
    "dftweet['expanded_urls'].astype(str).str[55:].value_counts().head()"
   ]
  },
  {
   "cell_type": "code",
   "execution_count": 680,
   "metadata": {},
   "outputs": [
    {
     "data": {
      "text/plain": [
       "count    2356.000000\n",
       "mean       13.126486\n",
       "std        45.876648\n",
       "min         0.000000\n",
       "25%        10.000000\n",
       "50%        11.000000\n",
       "75%        12.000000\n",
       "max      1776.000000\n",
       "Name: rating_numerator, dtype: float64"
      ]
     },
     "execution_count": 680,
     "metadata": {},
     "output_type": "execute_result"
    }
   ],
   "source": [
    "dftweet['rating_numerator'].describe()"
   ]
  },
  {
   "cell_type": "code",
   "execution_count": 681,
   "metadata": {},
   "outputs": [
    {
     "data": {
      "text/plain": [
       "<matplotlib.axes._subplots.AxesSubplot at 0x1a29c35cd0>"
      ]
     },
     "execution_count": 681,
     "metadata": {},
     "output_type": "execute_result"
    },
    {
     "data": {
      "image/png": "[encoded data removed]",
      "text/plain": [
       "<Figure size 432x288 with 1 Axes>"
      ]
     },
     "metadata": {
      "needs_background": "light"
     },
     "output_type": "display_data"
    }
   ],
   "source": [
    "dftweet['rating_numerator'].hist()"
   ]
  },
  {
   "cell_type": "code",
   "execution_count": 682,
   "metadata": {
    "scrolled": true
   },
   "outputs": [
    {
     "data": {
      "text/plain": [
       "<matplotlib.axes._subplots.AxesSubplot at 0x1a29d12910>"
      ]
     },
     "execution_count": 682,
     "metadata": {},
     "output_type": "execute_result"
    },
    {
     "data": {
      "image/png": "[encoded data removed]",
      "text/plain": [
       "<Figure size 432x288 with 1 Axes>"
      ]
     },
     "metadata": {
      "needs_background": "light"
     },
     "output_type": "display_data"
    }
   ],
   "source": [
    "dftweet['rating_numerator'][dftweet['rating_numerator'].between(dftweet['rating_numerator'].quantile(.02), dftweet['rating_numerator'].quantile(.98))].hist()"
   ]
  },
  {
   "cell_type": "code",
   "execution_count": 683,
   "metadata": {},
   "outputs": [
    {
     "data": {
      "text/plain": [
       "12      558\n",
       "11      464\n",
       "10      461\n",
       "13      351\n",
       "9       158\n",
       "8       102\n",
       "7        55\n",
       "14       54\n",
       "5        37\n",
       "6        32\n",
       "3        19\n",
       "4        17\n",
       "1         9\n",
       "2         9\n",
       "420       2\n",
       "0         2\n",
       "15        2\n",
       "75        2\n",
       "80        1\n",
       "20        1\n",
       "24        1\n",
       "26        1\n",
       "44        1\n",
       "50        1\n",
       "60        1\n",
       "165       1\n",
       "84        1\n",
       "88        1\n",
       "144       1\n",
       "182       1\n",
       "143       1\n",
       "666       1\n",
       "960       1\n",
       "1776      1\n",
       "17        1\n",
       "27        1\n",
       "45        1\n",
       "99        1\n",
       "121       1\n",
       "204       1\n",
       "Name: rating_numerator, dtype: int64"
      ]
     },
     "execution_count": 683,
     "metadata": {},
     "output_type": "execute_result"
    }
   ],
   "source": [
    "dftweet['rating_numerator'].value_counts()"
   ]
  },
  {
   "cell_type": "code",
   "execution_count": 684,
   "metadata": {},
   "outputs": [
    {
     "data": {
      "text/plain": [
       "count    2356.000000\n",
       "mean       10.455433\n",
       "std         6.745237\n",
       "min         0.000000\n",
       "25%        10.000000\n",
       "50%        10.000000\n",
       "75%        10.000000\n",
       "max       170.000000\n",
       "Name: rating_denominator, dtype: float64"
      ]
     },
     "execution_count": 684,
     "metadata": {},
     "output_type": "execute_result"
    }
   ],
   "source": [
    "dftweet['rating_denominator'].describe()"
   ]
  },
  {
   "cell_type": "code",
   "execution_count": 685,
   "metadata": {},
   "outputs": [
    {
     "data": {
      "text/plain": [
       "<matplotlib.axes._subplots.AxesSubplot at 0x1a2d817e50>"
      ]
     },
     "execution_count": 685,
     "metadata": {},
     "output_type": "execute_result"
    },
    {
     "data": {
      "image/png": "[encoded data removed]",
      "text/plain": [
       "<Figure size 432x288 with 1 Axes>"
      ]
     },
     "metadata": {
      "needs_background": "light"
     },
     "output_type": "display_data"
    }
   ],
   "source": [
    "dftweet['rating_denominator'].hist()"
   ]
  },
  {
   "cell_type": "code",
   "execution_count": 686,
   "metadata": {
    "scrolled": true
   },
   "outputs": [
    {
     "data": {
      "text/plain": [
       "<matplotlib.axes._subplots.AxesSubplot at 0x1a29981310>"
      ]
     },
     "execution_count": 686,
     "metadata": {},
     "output_type": "execute_result"
    },
    {
     "data": {
      "image/png": "[encoded data removed]",
      "text/plain": [
       "<Figure size 432x288 with 1 Axes>"
      ]
     },
     "metadata": {
      "needs_background": "light"
     },
     "output_type": "display_data"
    }
   ],
   "source": [
    "dftweet['rating_denominator'][dftweet['rating_denominator'].between(dftweet['rating_denominator'].quantile(.02), dftweet['rating_denominator'].quantile(.98))].hist()"
   ]
  },
  {
   "cell_type": "code",
   "execution_count": 687,
   "metadata": {},
   "outputs": [
    {
     "data": {
      "text/plain": [
       "10     2333\n",
       "11        3\n",
       "50        3\n",
       "80        2\n",
       "20        2\n",
       "2         1\n",
       "16        1\n",
       "40        1\n",
       "70        1\n",
       "15        1\n",
       "90        1\n",
       "110       1\n",
       "120       1\n",
       "130       1\n",
       "150       1\n",
       "170       1\n",
       "7         1\n",
       "0         1\n",
       "Name: rating_denominator, dtype: int64"
      ]
     },
     "execution_count": 687,
     "metadata": {},
     "output_type": "execute_result"
    }
   ],
   "source": [
    "dftweet['rating_denominator'].value_counts()"
   ]
  },
  {
   "cell_type": "code",
   "execution_count": 688,
   "metadata": {},
   "outputs": [
    {
     "data": {
      "text/plain": [
       "957"
      ]
     },
     "execution_count": 688,
     "metadata": {},
     "output_type": "execute_result"
    }
   ],
   "source": [
    "dftweet['name'].nunique()"
   ]
  },
  {
   "cell_type": "code",
   "execution_count": 689,
   "metadata": {
    "scrolled": true
   },
   "outputs": [
    {
     "data": {
      "text/plain": [
       "array(['Phineas', 'Tilly', 'Archie', 'Darla', 'Franklin', 'None', 'Jax',\n",
       "       'Zoey', 'Cassie', 'Koda', 'Bruno', 'Ted', 'Stuart', 'Oliver',\n",
       "       'Jim', 'Zeke', 'Ralphus', 'Canela', 'Gerald', 'Jeffrey', 'such',\n",
       "       'Maya', 'Mingus', 'Derek', 'Roscoe', 'Waffles', 'Jimbo', 'Maisey',\n",
       "       'Lilly', 'Earl', 'Lola', 'Kevin', 'Yogi', 'Noah', 'Bella',\n",
       "       'Grizzwald', 'Rusty', 'Gus', 'Stanley', 'Alfy', 'Koko', 'Rey',\n",
       "       'Gary', 'a', 'Elliot', 'Louis', 'Jesse', 'Romeo', 'Bailey',\n",
       "       'Duddles', 'Jack', 'Emmy', 'Steven', 'Beau', 'Snoopy', 'Shadow',\n",
       "       'Terrance', 'Aja', 'Penny', 'Dante', 'Nelly', 'Ginger', 'Benedict',\n",
       "       'Venti', 'Goose', 'Nugget', 'Cash', 'Coco', 'Jed', 'Sebastian',\n",
       "       'Walter', 'Sierra', 'Monkey', 'Harry', 'Kody', 'Lassie', 'Rover',\n",
       "       'Napolean', 'Dawn', 'Boomer', 'Cody', 'Rumble', 'Clifford',\n",
       "       'quite', 'Dewey', 'Scout', 'Gizmo', 'Cooper', 'Harold', 'Shikha',\n",
       "       'Jamesy', 'Lili', 'Sammy', 'Meatball', 'Paisley', 'Albus',\n",
       "       'Neptune', 'Quinn', 'Belle', 'Zooey', 'Dave', 'Jersey', 'Hobbes',\n",
       "       'Burt', 'Lorenzo', 'Carl', 'Jordy', 'Milky', 'Trooper', 'Winston',\n",
       "       'Sophie', 'Wyatt', 'Rosie', 'Thor', 'Oscar', 'Luna', 'Callie',\n",
       "       'Cermet', 'George', 'Marlee', 'Arya', 'Einstein', 'Alice',\n",
       "       'Rumpole', 'Benny', 'Aspen', 'Jarod', 'Wiggles', 'General',\n",
       "       'Sailor', 'Astrid', 'Iggy', 'Snoop', 'Kyle', 'Leo', 'Riley',\n",
       "       'Gidget', 'Noosh', 'Odin', 'Jerry', 'Charlie', 'Georgie', 'Rontu',\n",
       "       'Cannon', 'Furzey', 'Daisy', 'Tuck', 'Barney', 'Vixen', 'Jarvis',\n",
       "       'Mimosa', 'Pickles', 'Bungalo', 'Brady', 'Margo', 'Sadie', 'Hank',\n",
       "       'Tycho', 'Stephan', 'Indie', 'Winnie', 'Bentley', 'Ken', 'Max',\n",
       "       'Maddie', 'Pipsy', 'Monty', 'Sojourner', 'Odie', 'Arlo', 'Sunny',\n",
       "       'Vincent', 'Lucy', 'Clark', 'Mookie', 'Meera', 'Buddy', 'Ava',\n",
       "       'Rory', 'Eli', 'Ash', 'Tucker', 'Tobi', 'Chester', 'Wilson',\n",
       "       'Sunshine', 'Lipton', 'Gabby', 'Bronte', 'Poppy', 'Rhino',\n",
       "       'Willow', 'not', 'Orion', 'Eevee', 'Smiley', 'Logan', 'Moreton',\n",
       "       'Klein', 'Miguel', 'Emanuel', 'Kuyu', 'Dutch', 'Pete', 'Scooter',\n",
       "       'Reggie', 'Kyro', 'Samson', 'Loki', 'Mia', 'Malcolm', 'Dexter',\n",
       "       'Alfie', 'Fiona', 'one', 'Mutt', 'Bear', 'Doobert', 'Beebop',\n",
       "       'Alexander', 'Sailer', 'Brutus', 'Kona', 'Boots', 'Ralphie',\n",
       "       'Phil', 'Cupid', 'Pawnd', 'Pilot', 'Ike', 'Mo', 'Toby', 'Sweet',\n",
       "       'Pablo', 'Nala', 'Balto', 'Crawford', 'Gabe', 'Mattie', 'Jimison',\n",
       "       'Hercules', 'Duchess', 'Harlso', 'Sampson', 'Sundance', 'Luca',\n",
       "       'Flash', 'Finn', 'Peaches', 'Howie', 'Jazzy', 'Anna', 'Bo',\n",
       "       'Seamus', 'Wafer', 'Chelsea', 'Tom', 'Moose', 'Florence', 'Autumn',\n",
       "       'Dido', 'Eugene', 'Herschel', 'Strudel', 'Tebow', 'Chloe', 'Betty',\n",
       "       'Timber', 'Binky', 'Dudley', 'Comet', 'Larry', 'Levi', 'Akumi',\n",
       "       'Titan', 'Olivia', 'Alf', 'Oshie', 'Bruce', 'Chubbs', 'Sky',\n",
       "       'Atlas', 'Eleanor', 'Layla', 'Rocky', 'Baron', 'Tyr', 'Bauer',\n",
       "       'Swagger', 'Brandi', 'Mary', 'Moe', 'Halo', 'Augie', 'Craig',\n",
       "       'Sam', 'Hunter', 'Pavlov', 'Maximus', 'Wallace', 'Ito', 'Milo',\n",
       "       'Ollie', 'Cali', 'Lennon', 'incredibly', 'Major', 'Duke',\n",
       "       'Reginald', 'Sansa', 'Shooter', 'Django', 'Diogi', 'Sonny',\n",
       "       'Philbert', 'Marley', 'Severus', 'Ronnie', 'Anakin', 'Bones',\n",
       "       'Mauve', 'Chef', 'Doc', 'Sobe', 'Longfellow', 'Mister', 'Iroh',\n",
       "       'Baloo', 'Stubert', 'Paull', 'Timison', 'Davey', 'Pancake',\n",
       "       'Tyrone', 'Snicku', 'Ruby', 'Brody', 'Rizzy', 'Mack', 'Butter',\n",
       "       'Nimbus', 'Laika', 'Dobby', 'Juno', 'Maude', 'Lily', 'Newt',\n",
       "       'Benji', 'Nida', 'Robin', 'Monster', 'BeBe', 'Remus', 'Mabel',\n",
       "       'Misty', 'Happy', 'Mosby', 'Maggie', 'Leela', 'Ralphy', 'Brownie',\n",
       "       'Meyer', 'Stella', 'mad', 'Frank', 'Tonks', 'Lincoln', 'Oakley',\n",
       "       'Dale', 'Rizzo', 'Arnie', 'Pinot', 'Dallas', 'Hero', 'Frankie',\n",
       "       'Stormy', 'Mairi', 'Loomis', 'Godi', 'Kenny', 'Deacon', 'Timmy',\n",
       "       'Harper', 'Chipson', 'Combo', 'Dash', 'Bell', 'Hurley', 'Jay',\n",
       "       'Mya', 'Strider', 'an', 'Wesley', 'Solomon', 'Huck', 'very', 'O',\n",
       "       'Blue', 'Finley', 'Sprinkles', 'Heinrich', 'Shakespeare', 'Fizz',\n",
       "       'Chip', 'Grey', 'Roosevelt', 'Gromit', 'Willem', 'Dakota', 'Dixie',\n",
       "       'Al', 'Jackson', 'just', 'Carbon', 'DonDon', 'Kirby', 'Lou',\n",
       "       'Nollie', 'Chevy', 'Tito', 'Louie', 'Rupert', 'Rufus', 'Brudge',\n",
       "       'Shadoe', 'Colby', 'Angel', 'Brat', 'Tove', 'my', 'Aubie', 'Kota',\n",
       "       'Eve', 'Glenn', 'Shelby', 'Sephie', 'Bonaparte', 'Albert',\n",
       "       'Wishes', 'Rose', 'Theo', 'Rocco', 'Fido', 'Emma', 'Spencer',\n",
       "       'Lilli', 'Boston', 'Brandonald', 'Corey', 'Leonard', 'Chompsky',\n",
       "       'Beckham', 'Devón', 'Gert', 'Watson', 'Rubio', 'Keith', 'Dex',\n",
       "       'Carly', 'Ace', 'Tayzie', 'Grizzie', 'Fred', 'Gilbert', 'Zoe',\n",
       "       'Stewie', 'Calvin', 'Lilah', 'Spanky', 'Jameson', 'Piper',\n",
       "       'Atticus', 'Blu', 'Dietrich', 'Divine', 'Tripp', 'his', 'Cora',\n",
       "       'Huxley', 'Keurig', 'Bookstore', 'Linus', 'Abby', 'Shaggy',\n",
       "       'Shiloh', 'Gustav', 'Arlen', 'Percy', 'Lenox', 'Sugar', 'Harvey',\n",
       "       'Blanket', 'actually', 'Geno', 'Stark', 'Beya', 'Kilo', 'Kayla',\n",
       "       'Maxaroni', 'Doug', 'Edmund', 'Aqua', 'Theodore', 'Chase',\n",
       "       'getting', 'Rorie', 'Simba', 'Charles', 'Bayley', 'Axel',\n",
       "       'Storkson', 'Remy', 'Chadrick', 'Kellogg', 'Buckley', 'Livvie',\n",
       "       'Terry', 'Hermione', 'Ralpher', 'Aldrick', 'this', 'unacceptable',\n",
       "       'Rooney', 'Crystal', 'Ziva', 'Stefan', 'Pupcasso', 'Puff',\n",
       "       'Flurpson', 'Coleman', 'Enchilada', 'Raymond', 'all', 'Rueben',\n",
       "       'Cilantro', 'Karll', 'Sprout', 'Blitz', 'Bloop', 'Lillie',\n",
       "       'Ashleigh', 'Kreggory', 'Sarge', 'Luther', 'Ivar', 'Jangle',\n",
       "       'Schnitzel', 'Panda', 'Berkeley', 'Ralphé', 'Charleson', 'Clyde',\n",
       "       'Harnold', 'Sid', 'Pippa', 'Otis', 'Carper', 'Bowie',\n",
       "       'Alexanderson', 'Suki', 'Barclay', 'Skittle', 'Ebby', 'Flávio',\n",
       "       'Smokey', 'Link', 'Jennifur', 'Ozzy', 'Bluebert', 'Stephanus',\n",
       "       'Bubbles', 'old', 'Zeus', 'Bertson', 'Nico', 'Michelangelope',\n",
       "       'Siba', 'Calbert', 'Curtis', 'Travis', 'Thumas', 'Kanu', 'Lance',\n",
       "       'Opie', 'Kane', 'Olive', 'Chuckles', 'Staniel', 'Sora', 'Beemo',\n",
       "       'Gunner', 'infuriating', 'Lacy', 'Tater', 'Olaf', 'Cecil', 'Vince',\n",
       "       'Karma', 'Billy', 'Walker', 'Rodney', 'Klevin', 'Malikai',\n",
       "       'Bobble', 'River', 'Jebberson', 'Remington', 'Farfle', 'Jiminus',\n",
       "       'Clarkus', 'Finnegus', 'Cupcake', 'Kathmandu', 'Ellie', 'Katie',\n",
       "       'Kara', 'Adele', 'Zara', 'Ambrose', 'Jimothy', 'Bode', 'Terrenth',\n",
       "       'Reese', 'Chesterson', 'Lucia', 'Bisquick', 'Ralphson', 'Socks',\n",
       "       'Rambo', 'Rudy', 'Fiji', 'Rilo', 'Bilbo', 'Coopson', 'Yoda',\n",
       "       'Millie', 'Chet', 'Crouton', 'Daniel', 'Kaia', 'Murphy', 'Dotsy',\n",
       "       'Eazy', 'Coops', 'Fillup', 'Miley', 'Charl', 'Reagan', 'Yukon',\n",
       "       'CeCe', 'Cuddles', 'Claude', 'Jessiga', 'Carter', 'Ole', 'Pherb',\n",
       "       'Blipson', 'Reptar', 'Trevith', 'Berb', 'Bob', 'Colin', 'Brian',\n",
       "       'Oliviér', 'Grady', 'Kobe', 'Freddery', 'Bodie', 'Dunkin', 'Wally',\n",
       "       'Tupawc', 'Amber', 'Edgar', 'Teddy', 'Kingsley', 'Brockly',\n",
       "       'Richie', 'Molly', 'Vinscent', 'Cedrick', 'Hazel', 'Lolo', 'Eriq',\n",
       "       'Phred', 'the', 'Oddie', 'Maxwell', 'Geoff', 'Covach', 'Durg',\n",
       "       'Fynn', 'Ricky', 'Herald', 'Lucky', 'Ferg', 'Trip', 'Clarence',\n",
       "       'Hamrick', 'Brad', 'Pubert', 'Frönq', 'Derby', 'Lizzie', 'Ember',\n",
       "       'Blakely', 'Opal', 'Marq', 'Kramer', 'Barry', 'Gordon', 'Baxter',\n",
       "       'Mona', 'Horace', 'Crimson', 'Birf', 'Hammond', 'Lorelei', 'Marty',\n",
       "       'Brooks', 'Petrick', 'Hubertson', 'Gerbald', 'Oreo', 'Bruiser',\n",
       "       'Perry', 'Bobby', 'Jeph', 'Obi', 'Tino', 'Kulet', 'Sweets', 'Lupe',\n",
       "       'Tiger', 'Jiminy', 'Griffin', 'Banjo', 'Brandy', 'Lulu', 'Darrel',\n",
       "       'Taco', 'Joey', 'Patrick', 'Kreg', 'Todo', 'Tess', 'Ulysses',\n",
       "       'Toffee', 'Apollo', 'Asher', 'Glacier', 'Chuck', 'Champ', 'Ozzie',\n",
       "       'Griswold', 'Cheesy', 'Moofasa', 'Hector', 'Goliath', 'Kawhi',\n",
       "       'by', 'Emmie', 'Penelope', 'Willie', 'Rinna', 'Mike', 'William',\n",
       "       'Dwight', 'Evy', 'officially', 'Rascal', 'Linda', 'Tug', 'Tango',\n",
       "       'Grizz', 'Jerome', 'Crumpet', 'Jessifer', 'Izzy', 'Ralph', 'Sandy',\n",
       "       'Humphrey', 'Tassy', 'Juckson', 'Chuq', 'Tyrus', 'Karl',\n",
       "       'Godzilla', 'Vinnie', 'Kenneth', 'Herm', 'Bert', 'Striker',\n",
       "       'Donny', 'Pepper', 'Bernie', 'Buddah', 'Lenny', 'Arnold', 'Zuzu',\n",
       "       'Mollie', 'Laela', 'Tedders', 'Superpup', 'Rufio', 'Jeb', 'Rodman',\n",
       "       'Jonah', 'Chesney', 'life', 'Henry', 'Bobbay', 'Mitch', 'Kaiya',\n",
       "       'Acro', 'Aiden', 'Obie', 'Dot', 'Shnuggles', 'Kendall', 'Jeffri',\n",
       "       'Steve', 'Mac', 'Fletcher', 'Kenzie', 'Pumpkin', 'Schnozz',\n",
       "       'Gustaf', 'Cheryl', 'Ed', 'Leonidas', 'Norman', 'Caryl', 'Scott',\n",
       "       'Taz', 'Darby', 'Jackie', 'light', 'Jazz', 'Franq', 'Pippin',\n",
       "       'Rolf', 'Snickers', 'Ridley', 'Cal', 'Bradley', 'Bubba', 'Tuco',\n",
       "       'Patch', 'Mojo', 'Batdog', 'Dylan', 'space', 'Mark', 'JD',\n",
       "       'Alejandro', 'Scruffers', 'Pip', 'Julius', 'Tanner', 'Sparky',\n",
       "       'Anthony', 'Holly', 'Jett', 'Amy', 'Sage', 'Andy', 'Mason',\n",
       "       'Trigger', 'Antony', 'Creg', 'Traviss', 'Gin', 'Jeffrie', 'Danny',\n",
       "       'Ester', 'Pluto', 'Bloo', 'Edd', 'Willy', 'Herb', 'Damon',\n",
       "       'Peanut', 'Nigel', 'Butters', 'Sandra', 'Fabio', 'Randall', 'Liam',\n",
       "       'Tommy', 'Ben', 'Raphael', 'Julio', 'Andru', 'Kloey', 'Shawwn',\n",
       "       'Skye', 'Kollin', 'Ronduh', 'Billl', 'Saydee', 'Dug', 'Tessa',\n",
       "       'Sully', 'Kirk', 'Ralf', 'Clarq', 'Jaspers', 'Samsom', 'Harrison',\n",
       "       'Chaz', 'Jeremy', 'Jaycob', 'Lambeau', 'Ruffles', 'Amélie', 'Bobb',\n",
       "       'Banditt', 'Kevon', 'Winifred', 'Hanz', 'Churlie', 'Zeek',\n",
       "       'Timofy', 'Maks', 'Jomathan', 'Kallie', 'Marvin', 'Spark',\n",
       "       'Gòrdón', 'Jo', 'DayZ', 'Jareld', 'Torque', 'Ron', 'Skittles',\n",
       "       'Cleopatricia', 'Erik', 'Stu', 'Tedrick', 'Filup', 'Kial',\n",
       "       'Naphaniel', 'Dook', 'Hall', 'Philippe', 'Biden', 'Fwed',\n",
       "       'Genevieve', 'Joshwa', 'Bradlay', 'Clybe', 'Keet', 'Carll',\n",
       "       'Jockson', 'Josep', 'Lugan', 'Christoper'], dtype=object)"
      ]
     },
     "execution_count": 689,
     "metadata": {},
     "output_type": "execute_result"
    }
   ],
   "source": [
    "dftweet['name'].unique()"
   ]
  },
  {
   "cell_type": "code",
   "execution_count": 690,
   "metadata": {},
   "outputs": [
    {
     "data": {
      "text/plain": [
       "None       745\n",
       "a           55\n",
       "Charlie     12\n",
       "Oliver      11\n",
       "Cooper      11\n",
       "          ... \n",
       "Clyde        1\n",
       "Bradley      1\n",
       "Striker      1\n",
       "Harlso       1\n",
       "Ralphie      1\n",
       "Name: name, Length: 957, dtype: int64"
      ]
     },
     "execution_count": 690,
     "metadata": {},
     "output_type": "execute_result"
    }
   ],
   "source": [
    "dftweet['name'].value_counts()"
   ]
  },
  {
   "cell_type": "code",
   "execution_count": 691,
   "metadata": {
    "scrolled": true
   },
   "outputs": [
    {
     "data": {
      "text/html": [
       "<div>\n",
       "<style scoped>\n",
       "    .dataframe tbody tr th:only-of-type {\n",
       "        vertical-align: middle;\n",
       "    }\n",
       "\n",
       "    .dataframe tbody tr th {\n",
       "        vertical-align: top;\n",
       "    }\n",
       "\n",
       "    .dataframe thead th {\n",
       "        text-align: right;\n",
       "    }\n",
       "</style>\n",
       "<table border=\"1\" class=\"dataframe\">\n",
       "  <thead>\n",
       "    <tr style=\"text-align: right;\">\n",
       "      <th></th>\n",
       "      <th>doggo</th>\n",
       "      <th>floofer</th>\n",
       "      <th>pupper</th>\n",
       "      <th>puppo</th>\n",
       "    </tr>\n",
       "  </thead>\n",
       "  <tbody>\n",
       "    <tr>\n",
       "      <th>0</th>\n",
       "      <td>None</td>\n",
       "      <td>None</td>\n",
       "      <td>None</td>\n",
       "      <td>None</td>\n",
       "    </tr>\n",
       "    <tr>\n",
       "      <th>1</th>\n",
       "      <td>None</td>\n",
       "      <td>None</td>\n",
       "      <td>None</td>\n",
       "      <td>None</td>\n",
       "    </tr>\n",
       "    <tr>\n",
       "      <th>2</th>\n",
       "      <td>None</td>\n",
       "      <td>None</td>\n",
       "      <td>None</td>\n",
       "      <td>None</td>\n",
       "    </tr>\n",
       "    <tr>\n",
       "      <th>3</th>\n",
       "      <td>None</td>\n",
       "      <td>None</td>\n",
       "      <td>None</td>\n",
       "      <td>None</td>\n",
       "    </tr>\n",
       "    <tr>\n",
       "      <th>4</th>\n",
       "      <td>None</td>\n",
       "      <td>None</td>\n",
       "      <td>None</td>\n",
       "      <td>None</td>\n",
       "    </tr>\n",
       "  </tbody>\n",
       "</table>\n",
       "</div>"
      ],
      "text/plain": [
       "  doggo floofer pupper puppo\n",
       "0  None    None   None  None\n",
       "1  None    None   None  None\n",
       "2  None    None   None  None\n",
       "3  None    None   None  None\n",
       "4  None    None   None  None"
      ]
     },
     "execution_count": 691,
     "metadata": {},
     "output_type": "execute_result"
    }
   ],
   "source": [
    "dftweet[['doggo','floofer','pupper','puppo']].head()"
   ]
  },
  {
   "cell_type": "code",
   "execution_count": 692,
   "metadata": {},
   "outputs": [
    {
     "data": {
      "text/plain": [
       "0.041171477079796265"
      ]
     },
     "execution_count": 692,
     "metadata": {},
     "output_type": "execute_result"
    }
   ],
   "source": [
    "dftweet['doggo'].value_counts()[1]/dftweet['tweet_id'].count()"
   ]
  },
  {
   "cell_type": "code",
   "execution_count": 693,
   "metadata": {},
   "outputs": [
    {
     "data": {
      "text/plain": [
       "0.004244482173174873"
      ]
     },
     "execution_count": 693,
     "metadata": {},
     "output_type": "execute_result"
    }
   ],
   "source": [
    "dftweet['floofer'].value_counts()[1]/dftweet['tweet_id'].count()"
   ]
  },
  {
   "cell_type": "code",
   "execution_count": 694,
   "metadata": {},
   "outputs": [
    {
     "data": {
      "text/plain": [
       "0.10908319185059423"
      ]
     },
     "execution_count": 694,
     "metadata": {},
     "output_type": "execute_result"
    }
   ],
   "source": [
    "dftweet['pupper'].value_counts()[1]/dftweet['tweet_id'].count()"
   ]
  },
  {
   "cell_type": "code",
   "execution_count": 695,
   "metadata": {},
   "outputs": [
    {
     "data": {
      "text/plain": [
       "0.012733446519524618"
      ]
     },
     "execution_count": 695,
     "metadata": {},
     "output_type": "execute_result"
    }
   ],
   "source": [
    "dftweet['puppo'].value_counts()[1]/dftweet['tweet_id'].count()"
   ]
  },
  {
   "cell_type": "markdown",
   "metadata": {},
   "source": [
    "#### Programatic Assessment"
   ]
  },
  {
   "cell_type": "code",
   "execution_count": null,
   "metadata": {},
   "outputs": [],
   "source": []
  },
  {
   "cell_type": "markdown",
   "metadata": {},
   "source": [
    "### dfimg"
   ]
  },
  {
   "cell_type": "code",
   "execution_count": 696,
   "metadata": {},
   "outputs": [
    {
     "data": {
      "text/html": [
       "<div>\n",
       "<style scoped>\n",
       "    .dataframe tbody tr th:only-of-type {\n",
       "        vertical-align: middle;\n",
       "    }\n",
       "\n",
       "    .dataframe tbody tr th {\n",
       "        vertical-align: top;\n",
       "    }\n",
       "\n",
       "    .dataframe thead th {\n",
       "        text-align: right;\n",
       "    }\n",
       "</style>\n",
       "<table border=\"1\" class=\"dataframe\">\n",
       "  <thead>\n",
       "    <tr style=\"text-align: right;\">\n",
       "      <th></th>\n",
       "      <th>tweet_id</th>\n",
       "      <th>jpg_url</th>\n",
       "      <th>img_num</th>\n",
       "      <th>p1</th>\n",
       "      <th>p1_conf</th>\n",
       "      <th>p1_dog</th>\n",
       "      <th>p2</th>\n",
       "      <th>p2_conf</th>\n",
       "      <th>p2_dog</th>\n",
       "      <th>p3</th>\n",
       "      <th>p3_conf</th>\n",
       "      <th>p3_dog</th>\n",
       "    </tr>\n",
       "  </thead>\n",
       "  <tbody>\n",
       "    <tr>\n",
       "      <th>0</th>\n",
       "      <td>666020888022790149</td>\n",
       "      <td>https://pbs.twimg.com/media/CT4udn0WwAA0aMy.jpg</td>\n",
       "      <td>1</td>\n",
       "      <td>Welsh_springer_spaniel</td>\n",
       "      <td>0.465074</td>\n",
       "      <td>True</td>\n",
       "      <td>collie</td>\n",
       "      <td>0.156665</td>\n",
       "      <td>True</td>\n",
       "      <td>Shetland_sheepdog</td>\n",
       "      <td>0.061428</td>\n",
       "      <td>True</td>\n",
       "    </tr>\n",
       "    <tr>\n",
       "      <th>1</th>\n",
       "      <td>666029285002620928</td>\n",
       "      <td>https://pbs.twimg.com/media/CT42GRgUYAA5iDo.jpg</td>\n",
       "      <td>1</td>\n",
       "      <td>redbone</td>\n",
       "      <td>0.506826</td>\n",
       "      <td>True</td>\n",
       "      <td>miniature_pinscher</td>\n",
       "      <td>0.074192</td>\n",
       "      <td>True</td>\n",
       "      <td>Rhodesian_ridgeback</td>\n",
       "      <td>0.072010</td>\n",
       "      <td>True</td>\n",
       "    </tr>\n",
       "    <tr>\n",
       "      <th>2</th>\n",
       "      <td>666033412701032449</td>\n",
       "      <td>https://pbs.twimg.com/media/CT4521TWwAEvMyu.jpg</td>\n",
       "      <td>1</td>\n",
       "      <td>German_shepherd</td>\n",
       "      <td>0.596461</td>\n",
       "      <td>True</td>\n",
       "      <td>malinois</td>\n",
       "      <td>0.138584</td>\n",
       "      <td>True</td>\n",
       "      <td>bloodhound</td>\n",
       "      <td>0.116197</td>\n",
       "      <td>True</td>\n",
       "    </tr>\n",
       "    <tr>\n",
       "      <th>3</th>\n",
       "      <td>666044226329800704</td>\n",
       "      <td>https://pbs.twimg.com/media/CT5Dr8HUEAA-lEu.jpg</td>\n",
       "      <td>1</td>\n",
       "      <td>Rhodesian_ridgeback</td>\n",
       "      <td>0.408143</td>\n",
       "      <td>True</td>\n",
       "      <td>redbone</td>\n",
       "      <td>0.360687</td>\n",
       "      <td>True</td>\n",
       "      <td>miniature_pinscher</td>\n",
       "      <td>0.222752</td>\n",
       "      <td>True</td>\n",
       "    </tr>\n",
       "    <tr>\n",
       "      <th>4</th>\n",
       "      <td>666049248165822465</td>\n",
       "      <td>https://pbs.twimg.com/media/CT5IQmsXIAAKY4A.jpg</td>\n",
       "      <td>1</td>\n",
       "      <td>miniature_pinscher</td>\n",
       "      <td>0.560311</td>\n",
       "      <td>True</td>\n",
       "      <td>Rottweiler</td>\n",
       "      <td>0.243682</td>\n",
       "      <td>True</td>\n",
       "      <td>Doberman</td>\n",
       "      <td>0.154629</td>\n",
       "      <td>True</td>\n",
       "    </tr>\n",
       "  </tbody>\n",
       "</table>\n",
       "</div>"
      ],
      "text/plain": [
       "             tweet_id                                          jpg_url  \\\n",
       "0  666020888022790149  https://pbs.twimg.com/media/CT4udn0WwAA0aMy.jpg   \n",
       "1  666029285002620928  https://pbs.twimg.com/media/CT42GRgUYAA5iDo.jpg   \n",
       "2  666033412701032449  https://pbs.twimg.com/media/CT4521TWwAEvMyu.jpg   \n",
       "3  666044226329800704  https://pbs.twimg.com/media/CT5Dr8HUEAA-lEu.jpg   \n",
       "4  666049248165822465  https://pbs.twimg.com/media/CT5IQmsXIAAKY4A.jpg   \n",
       "\n",
       "   img_num                      p1   p1_conf  p1_dog                  p2  \\\n",
       "0        1  Welsh_springer_spaniel  0.465074    True              collie   \n",
       "1        1                 redbone  0.506826    True  miniature_pinscher   \n",
       "2        1         German_shepherd  0.596461    True            malinois   \n",
       "3        1     Rhodesian_ridgeback  0.408143    True             redbone   \n",
       "4        1      miniature_pinscher  0.560311    True          Rottweiler   \n",
       "\n",
       "    p2_conf  p2_dog                   p3   p3_conf  p3_dog  \n",
       "0  0.156665    True    Shetland_sheepdog  0.061428    True  \n",
       "1  0.074192    True  Rhodesian_ridgeback  0.072010    True  \n",
       "2  0.138584    True           bloodhound  0.116197    True  \n",
       "3  0.360687    True   miniature_pinscher  0.222752    True  \n",
       "4  0.243682    True             Doberman  0.154629    True  "
      ]
     },
     "execution_count": 696,
     "metadata": {},
     "output_type": "execute_result"
    }
   ],
   "source": [
    "dfimg.head()"
   ]
  },
  {
   "cell_type": "markdown",
   "metadata": {},
   "source": [
    "#### Visual Assessment"
   ]
  },
  {
   "cell_type": "raw",
   "metadata": {},
   "source": [
    "tweet_id    - Need to match up tweeets\n",
    "jpg_url     - link of image\n",
    "img_num     - Which image in tweet\n",
    "p1          - Object #1 in image\n",
    "p1_conf     - Confidence interval of object #1 in image\n",
    "p1_dog      - Boolean of whether object #1 is a dog\n",
    "p2          - Object #2 in image\n",
    "p2_conf     - Confidence interval of object #2 in image\n",
    "p2_dog      - Boolean of whether object #2is a dog\n",
    "p3          - Object #3 in image\n",
    "p3_conf     - Confidence interval of object #3 in image\n",
    "p3_dog      - Boolean of whether object #3 is a dog"
   ]
  },
  {
   "cell_type": "markdown",
   "metadata": {},
   "source": [
    "#### Programatic Assessment"
   ]
  },
  {
   "cell_type": "code",
   "execution_count": 697,
   "metadata": {},
   "outputs": [
    {
     "name": "stdout",
     "output_type": "stream",
     "text": [
      "<class 'pandas.core.frame.DataFrame'>\n",
      "RangeIndex: 2075 entries, 0 to 2074\n",
      "Data columns (total 12 columns):\n",
      "tweet_id    2075 non-null int64\n",
      "jpg_url     2075 non-null object\n",
      "img_num     2075 non-null int64\n",
      "p1          2075 non-null object\n",
      "p1_conf     2075 non-null float64\n",
      "p1_dog      2075 non-null bool\n",
      "p2          2075 non-null object\n",
      "p2_conf     2075 non-null float64\n",
      "p2_dog      2075 non-null bool\n",
      "p3          2075 non-null object\n",
      "p3_conf     2075 non-null float64\n",
      "p3_dog      2075 non-null bool\n",
      "dtypes: bool(3), float64(3), int64(2), object(4)\n",
      "memory usage: 152.1+ KB\n"
     ]
    }
   ],
   "source": [
    "dfimg.info()"
   ]
  },
  {
   "cell_type": "code",
   "execution_count": 698,
   "metadata": {},
   "outputs": [
    {
     "data": {
      "text/plain": [
       "True"
      ]
     },
     "execution_count": 698,
     "metadata": {},
     "output_type": "execute_result"
    }
   ],
   "source": [
    "dfimg['tweet_id'].count() == dfimg['tweet_id'].nunique()"
   ]
  },
  {
   "cell_type": "code",
   "execution_count": 699,
   "metadata": {},
   "outputs": [
    {
     "data": {
      "text/plain": [
       "https://pbs.twimg.com/media/CkjMx99UoAM2B1a.jpg                                            2\n",
       "https://pbs.twimg.com/media/CkNjahBXAAQ2kWo.jpg                                            2\n",
       "https://pbs.twimg.com/media/Ct72q9jWcAAhlnw.jpg                                            2\n",
       "https://pbs.twimg.com/ext_tw_video_thumb/817423809049493505/pu/img/5OFW0yueFu9oTUiQ.jpg    2\n",
       "https://pbs.twimg.com/media/CtKHLuCWYAA2TTs.jpg                                            2\n",
       "                                                                                          ..\n",
       "https://pbs.twimg.com/media/Cfu1KSRXEAACC5X.jpg                                            1\n",
       "https://pbs.twimg.com/media/Cf9tuHUWsAAHSrV.jpg                                            1\n",
       "https://pbs.twimg.com/media/CVWGMQMWUAA7aOM.jpg                                            1\n",
       "https://pbs.twimg.com/media/CWjQm5gXAAA9GkD.jpg                                            1\n",
       "https://pbs.twimg.com/media/CWomSU_XIAAUYiK.jpg                                            1\n",
       "Name: jpg_url, Length: 2009, dtype: int64"
      ]
     },
     "execution_count": 699,
     "metadata": {},
     "output_type": "execute_result"
    }
   ],
   "source": [
    "dfimg['jpg_url'].value_counts()"
   ]
  },
  {
   "cell_type": "code",
   "execution_count": 700,
   "metadata": {},
   "outputs": [
    {
     "data": {
      "text/html": [
       "<div>\n",
       "<style scoped>\n",
       "    .dataframe tbody tr th:only-of-type {\n",
       "        vertical-align: middle;\n",
       "    }\n",
       "\n",
       "    .dataframe tbody tr th {\n",
       "        vertical-align: top;\n",
       "    }\n",
       "\n",
       "    .dataframe thead th {\n",
       "        text-align: right;\n",
       "    }\n",
       "</style>\n",
       "<table border=\"1\" class=\"dataframe\">\n",
       "  <thead>\n",
       "    <tr style=\"text-align: right;\">\n",
       "      <th></th>\n",
       "      <th>tweet_id</th>\n",
       "      <th>jpg_url</th>\n",
       "      <th>img_num</th>\n",
       "      <th>p1</th>\n",
       "      <th>p1_conf</th>\n",
       "      <th>p1_dog</th>\n",
       "      <th>p2</th>\n",
       "      <th>p2_conf</th>\n",
       "      <th>p2_dog</th>\n",
       "      <th>p3</th>\n",
       "      <th>p3_conf</th>\n",
       "      <th>p3_dog</th>\n",
       "    </tr>\n",
       "  </thead>\n",
       "  <tbody>\n",
       "    <tr>\n",
       "      <th>1297</th>\n",
       "      <td>752309394570878976</td>\n",
       "      <td>https://pbs.twimg.com/ext_tw_video_thumb/67535...</td>\n",
       "      <td>1</td>\n",
       "      <td>upright</td>\n",
       "      <td>0.303415</td>\n",
       "      <td>False</td>\n",
       "      <td>golden_retriever</td>\n",
       "      <td>0.181351</td>\n",
       "      <td>True</td>\n",
       "      <td>Brittany_spaniel</td>\n",
       "      <td>0.162084</td>\n",
       "      <td>True</td>\n",
       "    </tr>\n",
       "    <tr>\n",
       "      <th>1315</th>\n",
       "      <td>754874841593970688</td>\n",
       "      <td>https://pbs.twimg.com/media/CWza7kpWcAAdYLc.jpg</td>\n",
       "      <td>1</td>\n",
       "      <td>pug</td>\n",
       "      <td>0.272205</td>\n",
       "      <td>True</td>\n",
       "      <td>bull_mastiff</td>\n",
       "      <td>0.251530</td>\n",
       "      <td>True</td>\n",
       "      <td>bath_towel</td>\n",
       "      <td>0.116806</td>\n",
       "      <td>False</td>\n",
       "    </tr>\n",
       "    <tr>\n",
       "      <th>1333</th>\n",
       "      <td>757729163776290825</td>\n",
       "      <td>https://pbs.twimg.com/media/CWyD2HGUYAQ1Xa7.jpg</td>\n",
       "      <td>2</td>\n",
       "      <td>cash_machine</td>\n",
       "      <td>0.802333</td>\n",
       "      <td>False</td>\n",
       "      <td>schipperke</td>\n",
       "      <td>0.045519</td>\n",
       "      <td>True</td>\n",
       "      <td>German_shepherd</td>\n",
       "      <td>0.023353</td>\n",
       "      <td>True</td>\n",
       "    </tr>\n",
       "    <tr>\n",
       "      <th>1345</th>\n",
       "      <td>759159934323924993</td>\n",
       "      <td>https://pbs.twimg.com/media/CU1zsMSUAAAS0qW.jpg</td>\n",
       "      <td>1</td>\n",
       "      <td>Irish_terrier</td>\n",
       "      <td>0.254856</td>\n",
       "      <td>True</td>\n",
       "      <td>briard</td>\n",
       "      <td>0.227716</td>\n",
       "      <td>True</td>\n",
       "      <td>soft-coated_wheaten_terrier</td>\n",
       "      <td>0.223263</td>\n",
       "      <td>True</td>\n",
       "    </tr>\n",
       "    <tr>\n",
       "      <th>1349</th>\n",
       "      <td>759566828574212096</td>\n",
       "      <td>https://pbs.twimg.com/media/CkNjahBXAAQ2kWo.jpg</td>\n",
       "      <td>1</td>\n",
       "      <td>Labrador_retriever</td>\n",
       "      <td>0.967397</td>\n",
       "      <td>True</td>\n",
       "      <td>golden_retriever</td>\n",
       "      <td>0.016641</td>\n",
       "      <td>True</td>\n",
       "      <td>ice_bear</td>\n",
       "      <td>0.014858</td>\n",
       "      <td>False</td>\n",
       "    </tr>\n",
       "    <tr>\n",
       "      <th>...</th>\n",
       "      <td>...</td>\n",
       "      <td>...</td>\n",
       "      <td>...</td>\n",
       "      <td>...</td>\n",
       "      <td>...</td>\n",
       "      <td>...</td>\n",
       "      <td>...</td>\n",
       "      <td>...</td>\n",
       "      <td>...</td>\n",
       "      <td>...</td>\n",
       "      <td>...</td>\n",
       "      <td>...</td>\n",
       "    </tr>\n",
       "    <tr>\n",
       "      <th>1903</th>\n",
       "      <td>851953902622658560</td>\n",
       "      <td>https://pbs.twimg.com/media/C4KHj-nWQAA3poV.jpg</td>\n",
       "      <td>1</td>\n",
       "      <td>Staffordshire_bullterrier</td>\n",
       "      <td>0.757547</td>\n",
       "      <td>True</td>\n",
       "      <td>American_Staffordshire_terrier</td>\n",
       "      <td>0.149950</td>\n",
       "      <td>True</td>\n",
       "      <td>Chesapeake_Bay_retriever</td>\n",
       "      <td>0.047523</td>\n",
       "      <td>True</td>\n",
       "    </tr>\n",
       "    <tr>\n",
       "      <th>1944</th>\n",
       "      <td>861769973181624320</td>\n",
       "      <td>https://pbs.twimg.com/media/CzG425nWgAAnP7P.jpg</td>\n",
       "      <td>2</td>\n",
       "      <td>Arabian_camel</td>\n",
       "      <td>0.366248</td>\n",
       "      <td>False</td>\n",
       "      <td>house_finch</td>\n",
       "      <td>0.209852</td>\n",
       "      <td>False</td>\n",
       "      <td>cocker_spaniel</td>\n",
       "      <td>0.046403</td>\n",
       "      <td>True</td>\n",
       "    </tr>\n",
       "    <tr>\n",
       "      <th>1992</th>\n",
       "      <td>873697596434513921</td>\n",
       "      <td>https://pbs.twimg.com/media/DA7iHL5U0AA1OQo.jpg</td>\n",
       "      <td>1</td>\n",
       "      <td>laptop</td>\n",
       "      <td>0.153718</td>\n",
       "      <td>False</td>\n",
       "      <td>French_bulldog</td>\n",
       "      <td>0.099984</td>\n",
       "      <td>True</td>\n",
       "      <td>printer</td>\n",
       "      <td>0.077130</td>\n",
       "      <td>False</td>\n",
       "    </tr>\n",
       "    <tr>\n",
       "      <th>2041</th>\n",
       "      <td>885311592912609280</td>\n",
       "      <td>https://pbs.twimg.com/media/C4bTH6nWMAAX_bJ.jpg</td>\n",
       "      <td>1</td>\n",
       "      <td>Labrador_retriever</td>\n",
       "      <td>0.908703</td>\n",
       "      <td>True</td>\n",
       "      <td>seat_belt</td>\n",
       "      <td>0.057091</td>\n",
       "      <td>False</td>\n",
       "      <td>pug</td>\n",
       "      <td>0.011933</td>\n",
       "      <td>True</td>\n",
       "    </tr>\n",
       "    <tr>\n",
       "      <th>2055</th>\n",
       "      <td>888202515573088257</td>\n",
       "      <td>https://pbs.twimg.com/media/DFDw2tyUQAAAFke.jpg</td>\n",
       "      <td>2</td>\n",
       "      <td>Pembroke</td>\n",
       "      <td>0.809197</td>\n",
       "      <td>True</td>\n",
       "      <td>Rhodesian_ridgeback</td>\n",
       "      <td>0.054950</td>\n",
       "      <td>True</td>\n",
       "      <td>beagle</td>\n",
       "      <td>0.038915</td>\n",
       "      <td>True</td>\n",
       "    </tr>\n",
       "  </tbody>\n",
       "</table>\n",
       "<p>66 rows × 12 columns</p>\n",
       "</div>"
      ],
      "text/plain": [
       "                tweet_id                                            jpg_url  \\\n",
       "1297  752309394570878976  https://pbs.twimg.com/ext_tw_video_thumb/67535...   \n",
       "1315  754874841593970688    https://pbs.twimg.com/media/CWza7kpWcAAdYLc.jpg   \n",
       "1333  757729163776290825    https://pbs.twimg.com/media/CWyD2HGUYAQ1Xa7.jpg   \n",
       "1345  759159934323924993    https://pbs.twimg.com/media/CU1zsMSUAAAS0qW.jpg   \n",
       "1349  759566828574212096    https://pbs.twimg.com/media/CkNjahBXAAQ2kWo.jpg   \n",
       "...                  ...                                                ...   \n",
       "1903  851953902622658560    https://pbs.twimg.com/media/C4KHj-nWQAA3poV.jpg   \n",
       "1944  861769973181624320    https://pbs.twimg.com/media/CzG425nWgAAnP7P.jpg   \n",
       "1992  873697596434513921    https://pbs.twimg.com/media/DA7iHL5U0AA1OQo.jpg   \n",
       "2041  885311592912609280    https://pbs.twimg.com/media/C4bTH6nWMAAX_bJ.jpg   \n",
       "2055  888202515573088257    https://pbs.twimg.com/media/DFDw2tyUQAAAFke.jpg   \n",
       "\n",
       "      img_num                         p1   p1_conf  p1_dog  \\\n",
       "1297        1                    upright  0.303415   False   \n",
       "1315        1                        pug  0.272205    True   \n",
       "1333        2               cash_machine  0.802333   False   \n",
       "1345        1              Irish_terrier  0.254856    True   \n",
       "1349        1         Labrador_retriever  0.967397    True   \n",
       "...       ...                        ...       ...     ...   \n",
       "1903        1  Staffordshire_bullterrier  0.757547    True   \n",
       "1944        2              Arabian_camel  0.366248   False   \n",
       "1992        1                     laptop  0.153718   False   \n",
       "2041        1         Labrador_retriever  0.908703    True   \n",
       "2055        2                   Pembroke  0.809197    True   \n",
       "\n",
       "                                  p2   p2_conf  p2_dog  \\\n",
       "1297                golden_retriever  0.181351    True   \n",
       "1315                    bull_mastiff  0.251530    True   \n",
       "1333                      schipperke  0.045519    True   \n",
       "1345                          briard  0.227716    True   \n",
       "1349                golden_retriever  0.016641    True   \n",
       "...                              ...       ...     ...   \n",
       "1903  American_Staffordshire_terrier  0.149950    True   \n",
       "1944                     house_finch  0.209852   False   \n",
       "1992                  French_bulldog  0.099984    True   \n",
       "2041                       seat_belt  0.057091   False   \n",
       "2055             Rhodesian_ridgeback  0.054950    True   \n",
       "\n",
       "                               p3   p3_conf  p3_dog  \n",
       "1297             Brittany_spaniel  0.162084    True  \n",
       "1315                   bath_towel  0.116806   False  \n",
       "1333              German_shepherd  0.023353    True  \n",
       "1345  soft-coated_wheaten_terrier  0.223263    True  \n",
       "1349                     ice_bear  0.014858   False  \n",
       "...                           ...       ...     ...  \n",
       "1903     Chesapeake_Bay_retriever  0.047523    True  \n",
       "1944               cocker_spaniel  0.046403    True  \n",
       "1992                      printer  0.077130   False  \n",
       "2041                          pug  0.011933    True  \n",
       "2055                       beagle  0.038915    True  \n",
       "\n",
       "[66 rows x 12 columns]"
      ]
     },
     "execution_count": 700,
     "metadata": {},
     "output_type": "execute_result"
    }
   ],
   "source": [
    "dfimg[dfimg['jpg_url'].duplicated()]"
   ]
  },
  {
   "cell_type": "code",
   "execution_count": 701,
   "metadata": {},
   "outputs": [
    {
     "data": {
      "text/html": [
       "<div>\n",
       "<style scoped>\n",
       "    .dataframe tbody tr th:only-of-type {\n",
       "        vertical-align: middle;\n",
       "    }\n",
       "\n",
       "    .dataframe tbody tr th {\n",
       "        vertical-align: top;\n",
       "    }\n",
       "\n",
       "    .dataframe thead th {\n",
       "        text-align: right;\n",
       "    }\n",
       "</style>\n",
       "<table border=\"1\" class=\"dataframe\">\n",
       "  <thead>\n",
       "    <tr style=\"text-align: right;\">\n",
       "      <th></th>\n",
       "      <th>tweet_id</th>\n",
       "      <th>jpg_url</th>\n",
       "      <th>img_num</th>\n",
       "      <th>p1</th>\n",
       "      <th>p1_conf</th>\n",
       "      <th>p1_dog</th>\n",
       "      <th>p2</th>\n",
       "      <th>p2_conf</th>\n",
       "      <th>p2_dog</th>\n",
       "      <th>p3</th>\n",
       "      <th>p3_conf</th>\n",
       "      <th>p3_dog</th>\n",
       "    </tr>\n",
       "  </thead>\n",
       "  <tbody>\n",
       "    <tr>\n",
       "      <th>144</th>\n",
       "      <td>668623201287675904</td>\n",
       "      <td>https://pbs.twimg.com/media/CUdtP1xUYAIeBnE.jpg</td>\n",
       "      <td>4</td>\n",
       "      <td>Chihuahua</td>\n",
       "      <td>0.708163</td>\n",
       "      <td>True</td>\n",
       "      <td>Pomeranian</td>\n",
       "      <td>0.091372</td>\n",
       "      <td>True</td>\n",
       "      <td>titi</td>\n",
       "      <td>0.067325</td>\n",
       "      <td>False</td>\n",
       "    </tr>\n",
       "    <tr>\n",
       "      <th>312</th>\n",
       "      <td>671547767500775424</td>\n",
       "      <td>https://pbs.twimg.com/media/CVHRIiqWEAAj98K.jpg</td>\n",
       "      <td>2</td>\n",
       "      <td>Loafer</td>\n",
       "      <td>0.255088</td>\n",
       "      <td>False</td>\n",
       "      <td>platypus</td>\n",
       "      <td>0.090019</td>\n",
       "      <td>False</td>\n",
       "      <td>cowboy_boot</td>\n",
       "      <td>0.066536</td>\n",
       "      <td>False</td>\n",
       "    </tr>\n",
       "    <tr>\n",
       "      <th>315</th>\n",
       "      <td>671735591348891648</td>\n",
       "      <td>https://pbs.twimg.com/media/CVJ79MzW4AEpTom.jpg</td>\n",
       "      <td>2</td>\n",
       "      <td>stone_wall</td>\n",
       "      <td>0.271121</td>\n",
       "      <td>False</td>\n",
       "      <td>Irish_wolfhound</td>\n",
       "      <td>0.063078</td>\n",
       "      <td>True</td>\n",
       "      <td>poncho</td>\n",
       "      <td>0.048226</td>\n",
       "      <td>False</td>\n",
       "    </tr>\n",
       "    <tr>\n",
       "      <th>319</th>\n",
       "      <td>671768281401958400</td>\n",
       "      <td>https://pbs.twimg.com/media/CVKZsHtWwAA6gPj.jpg</td>\n",
       "      <td>2</td>\n",
       "      <td>Chihuahua</td>\n",
       "      <td>0.500373</td>\n",
       "      <td>True</td>\n",
       "      <td>French_bulldog</td>\n",
       "      <td>0.112796</td>\n",
       "      <td>True</td>\n",
       "      <td>Italian_greyhound</td>\n",
       "      <td>0.062893</td>\n",
       "      <td>True</td>\n",
       "    </tr>\n",
       "    <tr>\n",
       "      <th>345</th>\n",
       "      <td>672272411274932228</td>\n",
       "      <td>https://pbs.twimg.com/media/CVRkLuJWUAAhhYp.jpg</td>\n",
       "      <td>2</td>\n",
       "      <td>pug</td>\n",
       "      <td>0.914685</td>\n",
       "      <td>True</td>\n",
       "      <td>Norwegian_elkhound</td>\n",
       "      <td>0.014982</td>\n",
       "      <td>True</td>\n",
       "      <td>Siamese_cat</td>\n",
       "      <td>0.009221</td>\n",
       "      <td>False</td>\n",
       "    </tr>\n",
       "    <tr>\n",
       "      <th>...</th>\n",
       "      <td>...</td>\n",
       "      <td>...</td>\n",
       "      <td>...</td>\n",
       "      <td>...</td>\n",
       "      <td>...</td>\n",
       "      <td>...</td>\n",
       "      <td>...</td>\n",
       "      <td>...</td>\n",
       "      <td>...</td>\n",
       "      <td>...</td>\n",
       "      <td>...</td>\n",
       "      <td>...</td>\n",
       "    </tr>\n",
       "    <tr>\n",
       "      <th>2051</th>\n",
       "      <td>887473957103951883</td>\n",
       "      <td>https://pbs.twimg.com/media/DFDw2tyUQAAAFke.jpg</td>\n",
       "      <td>2</td>\n",
       "      <td>Pembroke</td>\n",
       "      <td>0.809197</td>\n",
       "      <td>True</td>\n",
       "      <td>Rhodesian_ridgeback</td>\n",
       "      <td>0.054950</td>\n",
       "      <td>True</td>\n",
       "      <td>beagle</td>\n",
       "      <td>0.038915</td>\n",
       "      <td>True</td>\n",
       "    </tr>\n",
       "    <tr>\n",
       "      <th>2055</th>\n",
       "      <td>888202515573088257</td>\n",
       "      <td>https://pbs.twimg.com/media/DFDw2tyUQAAAFke.jpg</td>\n",
       "      <td>2</td>\n",
       "      <td>Pembroke</td>\n",
       "      <td>0.809197</td>\n",
       "      <td>True</td>\n",
       "      <td>Rhodesian_ridgeback</td>\n",
       "      <td>0.054950</td>\n",
       "      <td>True</td>\n",
       "      <td>beagle</td>\n",
       "      <td>0.038915</td>\n",
       "      <td>True</td>\n",
       "    </tr>\n",
       "    <tr>\n",
       "      <th>2056</th>\n",
       "      <td>888554962724278272</td>\n",
       "      <td>https://pbs.twimg.com/media/DFTH_O-UQAACu20.jpg</td>\n",
       "      <td>3</td>\n",
       "      <td>Siberian_husky</td>\n",
       "      <td>0.700377</td>\n",
       "      <td>True</td>\n",
       "      <td>Eskimo_dog</td>\n",
       "      <td>0.166511</td>\n",
       "      <td>True</td>\n",
       "      <td>malamute</td>\n",
       "      <td>0.111411</td>\n",
       "      <td>True</td>\n",
       "    </tr>\n",
       "    <tr>\n",
       "      <th>2067</th>\n",
       "      <td>890729181411237888</td>\n",
       "      <td>https://pbs.twimg.com/media/DFyBahAVwAAhUTd.jpg</td>\n",
       "      <td>2</td>\n",
       "      <td>Pomeranian</td>\n",
       "      <td>0.566142</td>\n",
       "      <td>True</td>\n",
       "      <td>Eskimo_dog</td>\n",
       "      <td>0.178406</td>\n",
       "      <td>True</td>\n",
       "      <td>Pembroke</td>\n",
       "      <td>0.076507</td>\n",
       "      <td>True</td>\n",
       "    </tr>\n",
       "    <tr>\n",
       "      <th>2070</th>\n",
       "      <td>891327558926688256</td>\n",
       "      <td>https://pbs.twimg.com/media/DF6hr6BUMAAzZgT.jpg</td>\n",
       "      <td>2</td>\n",
       "      <td>basset</td>\n",
       "      <td>0.555712</td>\n",
       "      <td>True</td>\n",
       "      <td>English_springer</td>\n",
       "      <td>0.225770</td>\n",
       "      <td>True</td>\n",
       "      <td>German_short-haired_pointer</td>\n",
       "      <td>0.175219</td>\n",
       "      <td>True</td>\n",
       "    </tr>\n",
       "  </tbody>\n",
       "</table>\n",
       "<p>295 rows × 12 columns</p>\n",
       "</div>"
      ],
      "text/plain": [
       "                tweet_id                                          jpg_url  \\\n",
       "144   668623201287675904  https://pbs.twimg.com/media/CUdtP1xUYAIeBnE.jpg   \n",
       "312   671547767500775424  https://pbs.twimg.com/media/CVHRIiqWEAAj98K.jpg   \n",
       "315   671735591348891648  https://pbs.twimg.com/media/CVJ79MzW4AEpTom.jpg   \n",
       "319   671768281401958400  https://pbs.twimg.com/media/CVKZsHtWwAA6gPj.jpg   \n",
       "345   672272411274932228  https://pbs.twimg.com/media/CVRkLuJWUAAhhYp.jpg   \n",
       "...                  ...                                              ...   \n",
       "2051  887473957103951883  https://pbs.twimg.com/media/DFDw2tyUQAAAFke.jpg   \n",
       "2055  888202515573088257  https://pbs.twimg.com/media/DFDw2tyUQAAAFke.jpg   \n",
       "2056  888554962724278272  https://pbs.twimg.com/media/DFTH_O-UQAACu20.jpg   \n",
       "2067  890729181411237888  https://pbs.twimg.com/media/DFyBahAVwAAhUTd.jpg   \n",
       "2070  891327558926688256  https://pbs.twimg.com/media/DF6hr6BUMAAzZgT.jpg   \n",
       "\n",
       "      img_num              p1   p1_conf  p1_dog                   p2  \\\n",
       "144         4       Chihuahua  0.708163    True           Pomeranian   \n",
       "312         2          Loafer  0.255088   False             platypus   \n",
       "315         2      stone_wall  0.271121   False      Irish_wolfhound   \n",
       "319         2       Chihuahua  0.500373    True       French_bulldog   \n",
       "345         2             pug  0.914685    True   Norwegian_elkhound   \n",
       "...       ...             ...       ...     ...                  ...   \n",
       "2051        2        Pembroke  0.809197    True  Rhodesian_ridgeback   \n",
       "2055        2        Pembroke  0.809197    True  Rhodesian_ridgeback   \n",
       "2056        3  Siberian_husky  0.700377    True           Eskimo_dog   \n",
       "2067        2      Pomeranian  0.566142    True           Eskimo_dog   \n",
       "2070        2          basset  0.555712    True     English_springer   \n",
       "\n",
       "       p2_conf  p2_dog                           p3   p3_conf  p3_dog  \n",
       "144   0.091372    True                         titi  0.067325   False  \n",
       "312   0.090019   False                  cowboy_boot  0.066536   False  \n",
       "315   0.063078    True                       poncho  0.048226   False  \n",
       "319   0.112796    True            Italian_greyhound  0.062893    True  \n",
       "345   0.014982    True                  Siamese_cat  0.009221   False  \n",
       "...        ...     ...                          ...       ...     ...  \n",
       "2051  0.054950    True                       beagle  0.038915    True  \n",
       "2055  0.054950    True                       beagle  0.038915    True  \n",
       "2056  0.166511    True                     malamute  0.111411    True  \n",
       "2067  0.178406    True                     Pembroke  0.076507    True  \n",
       "2070  0.225770    True  German_short-haired_pointer  0.175219    True  \n",
       "\n",
       "[295 rows x 12 columns]"
      ]
     },
     "execution_count": 701,
     "metadata": {},
     "output_type": "execute_result"
    }
   ],
   "source": [
    "dfimg[dfimg['img_num']!=1]"
   ]
  },
  {
   "cell_type": "code",
   "execution_count": 702,
   "metadata": {
    "scrolled": true
   },
   "outputs": [
    {
     "data": {
      "text/plain": [
       "1    1780\n",
       "2     198\n",
       "3      66\n",
       "4      31\n",
       "Name: img_num, dtype: int64"
      ]
     },
     "execution_count": 702,
     "metadata": {},
     "output_type": "execute_result"
    }
   ],
   "source": [
    "dfimg['img_num'].value_counts()"
   ]
  },
  {
   "cell_type": "code",
   "execution_count": 703,
   "metadata": {
    "scrolled": true
   },
   "outputs": [
    {
     "data": {
      "text/plain": [
       "golden_retriever      150\n",
       "Labrador_retriever    100\n",
       "Pembroke               89\n",
       "Chihuahua              83\n",
       "pug                    57\n",
       "                     ... \n",
       "dhole                   1\n",
       "alp                     1\n",
       "lawn_mower              1\n",
       "hare                    1\n",
       "restaurant              1\n",
       "Name: p1, Length: 378, dtype: int64"
      ]
     },
     "execution_count": 703,
     "metadata": {},
     "output_type": "execute_result"
    }
   ],
   "source": [
    "dfimg['p1'].value_counts()"
   ]
  },
  {
   "cell_type": "code",
   "execution_count": 704,
   "metadata": {},
   "outputs": [
    {
     "data": {
      "text/plain": [
       "count    2075.000000\n",
       "mean        0.594548\n",
       "std         0.271174\n",
       "min         0.044333\n",
       "25%         0.364412\n",
       "50%         0.588230\n",
       "75%         0.843855\n",
       "max         1.000000\n",
       "Name: p1_conf, dtype: float64"
      ]
     },
     "execution_count": 704,
     "metadata": {},
     "output_type": "execute_result"
    }
   ],
   "source": [
    "dfimg['p1_conf'].describe()"
   ]
  },
  {
   "cell_type": "code",
   "execution_count": 705,
   "metadata": {
    "scrolled": true
   },
   "outputs": [
    {
     "data": {
      "text/plain": [
       "count     2075\n",
       "unique       2\n",
       "top       True\n",
       "freq      1532\n",
       "Name: p1_dog, dtype: object"
      ]
     },
     "execution_count": 705,
     "metadata": {},
     "output_type": "execute_result"
    }
   ],
   "source": [
    "dfimg['p1_dog'].describe()"
   ]
  },
  {
   "cell_type": "code",
   "execution_count": 706,
   "metadata": {
    "scrolled": true
   },
   "outputs": [
    {
     "data": {
      "text/plain": [
       "Labrador_retriever    104\n",
       "golden_retriever       92\n",
       "Cardigan               73\n",
       "Chihuahua              44\n",
       "Pomeranian             42\n",
       "                     ... \n",
       "shower_curtain          1\n",
       "white_wolf              1\n",
       "soccer_ball             1\n",
       "umbrella                1\n",
       "racket                  1\n",
       "Name: p2, Length: 405, dtype: int64"
      ]
     },
     "execution_count": 706,
     "metadata": {},
     "output_type": "execute_result"
    }
   ],
   "source": [
    "dfimg['p2'].value_counts()"
   ]
  },
  {
   "cell_type": "code",
   "execution_count": 707,
   "metadata": {},
   "outputs": [
    {
     "data": {
      "text/plain": [
       "count    2.075000e+03\n",
       "mean     1.345886e-01\n",
       "std      1.006657e-01\n",
       "min      1.011300e-08\n",
       "25%      5.388625e-02\n",
       "50%      1.181810e-01\n",
       "75%      1.955655e-01\n",
       "max      4.880140e-01\n",
       "Name: p2_conf, dtype: float64"
      ]
     },
     "execution_count": 707,
     "metadata": {},
     "output_type": "execute_result"
    }
   ],
   "source": [
    "dfimg['p2_conf'].describe()"
   ]
  },
  {
   "cell_type": "code",
   "execution_count": 708,
   "metadata": {
    "scrolled": true
   },
   "outputs": [
    {
     "data": {
      "text/plain": [
       "count     2075\n",
       "unique       2\n",
       "top       True\n",
       "freq      1553\n",
       "Name: p2_dog, dtype: object"
      ]
     },
     "execution_count": 708,
     "metadata": {},
     "output_type": "execute_result"
    }
   ],
   "source": [
    "dfimg['p2_dog'].describe()"
   ]
  },
  {
   "cell_type": "code",
   "execution_count": 709,
   "metadata": {
    "scrolled": true
   },
   "outputs": [
    {
     "data": {
      "text/plain": [
       "Labrador_retriever    79\n",
       "Chihuahua             58\n",
       "golden_retriever      48\n",
       "Eskimo_dog            38\n",
       "kelpie                35\n",
       "                      ..\n",
       "binder                 1\n",
       "soccer_ball            1\n",
       "go-kart                1\n",
       "quill                  1\n",
       "boathouse              1\n",
       "Name: p3, Length: 408, dtype: int64"
      ]
     },
     "execution_count": 709,
     "metadata": {},
     "output_type": "execute_result"
    }
   ],
   "source": [
    "dfimg['p3'].value_counts()"
   ]
  },
  {
   "cell_type": "code",
   "execution_count": 710,
   "metadata": {},
   "outputs": [
    {
     "data": {
      "text/plain": [
       "count    2.075000e+03\n",
       "mean     6.032417e-02\n",
       "std      5.090593e-02\n",
       "min      1.740170e-10\n",
       "25%      1.622240e-02\n",
       "50%      4.944380e-02\n",
       "75%      9.180755e-02\n",
       "max      2.734190e-01\n",
       "Name: p3_conf, dtype: float64"
      ]
     },
     "execution_count": 710,
     "metadata": {},
     "output_type": "execute_result"
    }
   ],
   "source": [
    "dfimg['p3_conf'].describe()"
   ]
  },
  {
   "cell_type": "code",
   "execution_count": 711,
   "metadata": {
    "scrolled": true
   },
   "outputs": [
    {
     "data": {
      "text/plain": [
       "count     2075\n",
       "unique       2\n",
       "top       True\n",
       "freq      1499\n",
       "Name: p3_dog, dtype: object"
      ]
     },
     "execution_count": 711,
     "metadata": {},
     "output_type": "execute_result"
    }
   ],
   "source": [
    "dfimg['p3_dog'].describe()"
   ]
  },
  {
   "cell_type": "code",
   "execution_count": 712,
   "metadata": {},
   "outputs": [
    {
     "data": {
      "text/html": [
       "<div>\n",
       "<style scoped>\n",
       "    .dataframe tbody tr th:only-of-type {\n",
       "        vertical-align: middle;\n",
       "    }\n",
       "\n",
       "    .dataframe tbody tr th {\n",
       "        vertical-align: top;\n",
       "    }\n",
       "\n",
       "    .dataframe thead th {\n",
       "        text-align: right;\n",
       "    }\n",
       "</style>\n",
       "<table border=\"1\" class=\"dataframe\">\n",
       "  <thead>\n",
       "    <tr style=\"text-align: right;\">\n",
       "      <th></th>\n",
       "      <th>tweet_id</th>\n",
       "      <th>jpg_url</th>\n",
       "      <th>img_num</th>\n",
       "      <th>p1</th>\n",
       "      <th>p1_conf</th>\n",
       "      <th>p1_dog</th>\n",
       "      <th>p2</th>\n",
       "      <th>p2_conf</th>\n",
       "      <th>p2_dog</th>\n",
       "      <th>p3</th>\n",
       "      <th>p3_conf</th>\n",
       "      <th>p3_dog</th>\n",
       "    </tr>\n",
       "  </thead>\n",
       "  <tbody>\n",
       "    <tr>\n",
       "      <th>6</th>\n",
       "      <td>666051853826850816</td>\n",
       "      <td>https://pbs.twimg.com/media/CT5KoJ1WoAAJash.jpg</td>\n",
       "      <td>1</td>\n",
       "      <td>box_turtle</td>\n",
       "      <td>0.933012</td>\n",
       "      <td>False</td>\n",
       "      <td>mud_turtle</td>\n",
       "      <td>0.045885</td>\n",
       "      <td>False</td>\n",
       "      <td>terrapin</td>\n",
       "      <td>0.017885</td>\n",
       "      <td>False</td>\n",
       "    </tr>\n",
       "    <tr>\n",
       "      <th>17</th>\n",
       "      <td>666104133288665088</td>\n",
       "      <td>https://pbs.twimg.com/media/CT56LSZWoAAlJj2.jpg</td>\n",
       "      <td>1</td>\n",
       "      <td>hen</td>\n",
       "      <td>0.965932</td>\n",
       "      <td>False</td>\n",
       "      <td>cock</td>\n",
       "      <td>0.033919</td>\n",
       "      <td>False</td>\n",
       "      <td>partridge</td>\n",
       "      <td>0.000052</td>\n",
       "      <td>False</td>\n",
       "    </tr>\n",
       "    <tr>\n",
       "      <th>18</th>\n",
       "      <td>666268910803644416</td>\n",
       "      <td>https://pbs.twimg.com/media/CT8QCd1WEAADXws.jpg</td>\n",
       "      <td>1</td>\n",
       "      <td>desktop_computer</td>\n",
       "      <td>0.086502</td>\n",
       "      <td>False</td>\n",
       "      <td>desk</td>\n",
       "      <td>0.085547</td>\n",
       "      <td>False</td>\n",
       "      <td>bookcase</td>\n",
       "      <td>0.079480</td>\n",
       "      <td>False</td>\n",
       "    </tr>\n",
       "    <tr>\n",
       "      <th>21</th>\n",
       "      <td>666293911632134144</td>\n",
       "      <td>https://pbs.twimg.com/media/CT8mx7KW4AEQu8N.jpg</td>\n",
       "      <td>1</td>\n",
       "      <td>three-toed_sloth</td>\n",
       "      <td>0.914671</td>\n",
       "      <td>False</td>\n",
       "      <td>otter</td>\n",
       "      <td>0.015250</td>\n",
       "      <td>False</td>\n",
       "      <td>great_grey_owl</td>\n",
       "      <td>0.013207</td>\n",
       "      <td>False</td>\n",
       "    </tr>\n",
       "    <tr>\n",
       "      <th>25</th>\n",
       "      <td>666362758909284353</td>\n",
       "      <td>https://pbs.twimg.com/media/CT9lXGsUcAAyUFt.jpg</td>\n",
       "      <td>1</td>\n",
       "      <td>guinea_pig</td>\n",
       "      <td>0.996496</td>\n",
       "      <td>False</td>\n",
       "      <td>skunk</td>\n",
       "      <td>0.002402</td>\n",
       "      <td>False</td>\n",
       "      <td>hamster</td>\n",
       "      <td>0.000461</td>\n",
       "      <td>False</td>\n",
       "    </tr>\n",
       "    <tr>\n",
       "      <th>...</th>\n",
       "      <td>...</td>\n",
       "      <td>...</td>\n",
       "      <td>...</td>\n",
       "      <td>...</td>\n",
       "      <td>...</td>\n",
       "      <td>...</td>\n",
       "      <td>...</td>\n",
       "      <td>...</td>\n",
       "      <td>...</td>\n",
       "      <td>...</td>\n",
       "      <td>...</td>\n",
       "      <td>...</td>\n",
       "    </tr>\n",
       "    <tr>\n",
       "      <th>2021</th>\n",
       "      <td>880935762899988482</td>\n",
       "      <td>https://pbs.twimg.com/media/DDm2Z5aXUAEDS2u.jpg</td>\n",
       "      <td>1</td>\n",
       "      <td>street_sign</td>\n",
       "      <td>0.251801</td>\n",
       "      <td>False</td>\n",
       "      <td>umbrella</td>\n",
       "      <td>0.115123</td>\n",
       "      <td>False</td>\n",
       "      <td>traffic_light</td>\n",
       "      <td>0.069534</td>\n",
       "      <td>False</td>\n",
       "    </tr>\n",
       "    <tr>\n",
       "      <th>2022</th>\n",
       "      <td>881268444196462592</td>\n",
       "      <td>https://pbs.twimg.com/media/DDrk-f9WAAI-WQv.jpg</td>\n",
       "      <td>1</td>\n",
       "      <td>tusker</td>\n",
       "      <td>0.473303</td>\n",
       "      <td>False</td>\n",
       "      <td>Indian_elephant</td>\n",
       "      <td>0.245646</td>\n",
       "      <td>False</td>\n",
       "      <td>ibex</td>\n",
       "      <td>0.055661</td>\n",
       "      <td>False</td>\n",
       "    </tr>\n",
       "    <tr>\n",
       "      <th>2046</th>\n",
       "      <td>886680336477933568</td>\n",
       "      <td>https://pbs.twimg.com/media/DE4fEDzWAAAyHMM.jpg</td>\n",
       "      <td>1</td>\n",
       "      <td>convertible</td>\n",
       "      <td>0.738995</td>\n",
       "      <td>False</td>\n",
       "      <td>sports_car</td>\n",
       "      <td>0.139952</td>\n",
       "      <td>False</td>\n",
       "      <td>car_wheel</td>\n",
       "      <td>0.044173</td>\n",
       "      <td>False</td>\n",
       "    </tr>\n",
       "    <tr>\n",
       "      <th>2052</th>\n",
       "      <td>887517139158093824</td>\n",
       "      <td>https://pbs.twimg.com/ext_tw_video_thumb/88751...</td>\n",
       "      <td>1</td>\n",
       "      <td>limousine</td>\n",
       "      <td>0.130432</td>\n",
       "      <td>False</td>\n",
       "      <td>tow_truck</td>\n",
       "      <td>0.029175</td>\n",
       "      <td>False</td>\n",
       "      <td>shopping_cart</td>\n",
       "      <td>0.026321</td>\n",
       "      <td>False</td>\n",
       "    </tr>\n",
       "    <tr>\n",
       "      <th>2074</th>\n",
       "      <td>892420643555336193</td>\n",
       "      <td>https://pbs.twimg.com/media/DGKD1-bXoAAIAUK.jpg</td>\n",
       "      <td>1</td>\n",
       "      <td>orange</td>\n",
       "      <td>0.097049</td>\n",
       "      <td>False</td>\n",
       "      <td>bagel</td>\n",
       "      <td>0.085851</td>\n",
       "      <td>False</td>\n",
       "      <td>banana</td>\n",
       "      <td>0.076110</td>\n",
       "      <td>False</td>\n",
       "    </tr>\n",
       "  </tbody>\n",
       "</table>\n",
       "<p>324 rows × 12 columns</p>\n",
       "</div>"
      ],
      "text/plain": [
       "                tweet_id                                            jpg_url  \\\n",
       "6     666051853826850816    https://pbs.twimg.com/media/CT5KoJ1WoAAJash.jpg   \n",
       "17    666104133288665088    https://pbs.twimg.com/media/CT56LSZWoAAlJj2.jpg   \n",
       "18    666268910803644416    https://pbs.twimg.com/media/CT8QCd1WEAADXws.jpg   \n",
       "21    666293911632134144    https://pbs.twimg.com/media/CT8mx7KW4AEQu8N.jpg   \n",
       "25    666362758909284353    https://pbs.twimg.com/media/CT9lXGsUcAAyUFt.jpg   \n",
       "...                  ...                                                ...   \n",
       "2021  880935762899988482    https://pbs.twimg.com/media/DDm2Z5aXUAEDS2u.jpg   \n",
       "2022  881268444196462592    https://pbs.twimg.com/media/DDrk-f9WAAI-WQv.jpg   \n",
       "2046  886680336477933568    https://pbs.twimg.com/media/DE4fEDzWAAAyHMM.jpg   \n",
       "2052  887517139158093824  https://pbs.twimg.com/ext_tw_video_thumb/88751...   \n",
       "2074  892420643555336193    https://pbs.twimg.com/media/DGKD1-bXoAAIAUK.jpg   \n",
       "\n",
       "      img_num                p1   p1_conf  p1_dog               p2   p2_conf  \\\n",
       "6           1        box_turtle  0.933012   False       mud_turtle  0.045885   \n",
       "17          1               hen  0.965932   False             cock  0.033919   \n",
       "18          1  desktop_computer  0.086502   False             desk  0.085547   \n",
       "21          1  three-toed_sloth  0.914671   False            otter  0.015250   \n",
       "25          1        guinea_pig  0.996496   False            skunk  0.002402   \n",
       "...       ...               ...       ...     ...              ...       ...   \n",
       "2021        1       street_sign  0.251801   False         umbrella  0.115123   \n",
       "2022        1            tusker  0.473303   False  Indian_elephant  0.245646   \n",
       "2046        1       convertible  0.738995   False       sports_car  0.139952   \n",
       "2052        1         limousine  0.130432   False        tow_truck  0.029175   \n",
       "2074        1            orange  0.097049   False            bagel  0.085851   \n",
       "\n",
       "      p2_dog              p3   p3_conf  p3_dog  \n",
       "6      False        terrapin  0.017885   False  \n",
       "17     False       partridge  0.000052   False  \n",
       "18     False        bookcase  0.079480   False  \n",
       "21     False  great_grey_owl  0.013207   False  \n",
       "25     False         hamster  0.000461   False  \n",
       "...      ...             ...       ...     ...  \n",
       "2021   False   traffic_light  0.069534   False  \n",
       "2022   False            ibex  0.055661   False  \n",
       "2046   False       car_wheel  0.044173   False  \n",
       "2052   False   shopping_cart  0.026321   False  \n",
       "2074   False          banana  0.076110   False  \n",
       "\n",
       "[324 rows x 12 columns]"
      ]
     },
     "execution_count": 712,
     "metadata": {},
     "output_type": "execute_result"
    }
   ],
   "source": [
    "dfimg[(dfimg['p1_dog'] == False) & (dfimg['p2_dog'] == False) & (dfimg['p3_dog'] == False)]"
   ]
  },
  {
   "cell_type": "code",
   "execution_count": null,
   "metadata": {},
   "outputs": [],
   "source": []
  },
  {
   "cell_type": "markdown",
   "metadata": {},
   "source": [
    "### dfapi"
   ]
  },
  {
   "cell_type": "code",
   "execution_count": 713,
   "metadata": {
    "scrolled": true
   },
   "outputs": [
    {
     "data": {
      "text/html": [
       "<div>\n",
       "<style scoped>\n",
       "    .dataframe tbody tr th:only-of-type {\n",
       "        vertical-align: middle;\n",
       "    }\n",
       "\n",
       "    .dataframe tbody tr th {\n",
       "        vertical-align: top;\n",
       "    }\n",
       "\n",
       "    .dataframe thead th {\n",
       "        text-align: right;\n",
       "    }\n",
       "</style>\n",
       "<table border=\"1\" class=\"dataframe\">\n",
       "  <thead>\n",
       "    <tr style=\"text-align: right;\">\n",
       "      <th></th>\n",
       "      <th>created_at</th>\n",
       "      <th>id</th>\n",
       "      <th>id_str</th>\n",
       "      <th>full_text</th>\n",
       "      <th>truncated</th>\n",
       "      <th>display_text_range</th>\n",
       "      <th>entities</th>\n",
       "      <th>extended_entities</th>\n",
       "      <th>source</th>\n",
       "      <th>in_reply_to_status_id</th>\n",
       "      <th>...</th>\n",
       "      <th>favorited</th>\n",
       "      <th>retweeted</th>\n",
       "      <th>possibly_sensitive</th>\n",
       "      <th>possibly_sensitive_appealable</th>\n",
       "      <th>lang</th>\n",
       "      <th>retweeted_status</th>\n",
       "      <th>quoted_status_id</th>\n",
       "      <th>quoted_status_id_str</th>\n",
       "      <th>quoted_status_permalink</th>\n",
       "      <th>quoted_status</th>\n",
       "    </tr>\n",
       "  </thead>\n",
       "  <tbody>\n",
       "    <tr>\n",
       "      <th>0</th>\n",
       "      <td>Sun Nov 15 22:32:08 +0000 2015</td>\n",
       "      <td>666020888022790149</td>\n",
       "      <td>666020888022790149</td>\n",
       "      <td>Here we have a Japanese Irish Setter. Lost eye...</td>\n",
       "      <td>False</td>\n",
       "      <td>[0, 131]</td>\n",
       "      <td>{'hashtags': [], 'symbols': [], 'user_mentions...</td>\n",
       "      <td>{'media': [{'id': 666020881337073664, 'id_str'...</td>\n",
       "      <td>&lt;a href=\"http://twitter.com/download/iphone\" r...</td>\n",
       "      <td>NaN</td>\n",
       "      <td>...</td>\n",
       "      <td>False</td>\n",
       "      <td>False</td>\n",
       "      <td>False</td>\n",
       "      <td>False</td>\n",
       "      <td>en</td>\n",
       "      <td>NaN</td>\n",
       "      <td>NaN</td>\n",
       "      <td>NaN</td>\n",
       "      <td>NaN</td>\n",
       "      <td>NaN</td>\n",
       "    </tr>\n",
       "    <tr>\n",
       "      <th>1</th>\n",
       "      <td>Sun Nov 15 23:05:30 +0000 2015</td>\n",
       "      <td>666029285002620928</td>\n",
       "      <td>666029285002620928</td>\n",
       "      <td>This is a western brown Mitsubishi terrier. Up...</td>\n",
       "      <td>False</td>\n",
       "      <td>[0, 139]</td>\n",
       "      <td>{'hashtags': [], 'symbols': [], 'user_mentions...</td>\n",
       "      <td>{'media': [{'id': 666029276303482880, 'id_str'...</td>\n",
       "      <td>&lt;a href=\"http://twitter.com/download/iphone\" r...</td>\n",
       "      <td>NaN</td>\n",
       "      <td>...</td>\n",
       "      <td>False</td>\n",
       "      <td>False</td>\n",
       "      <td>False</td>\n",
       "      <td>False</td>\n",
       "      <td>en</td>\n",
       "      <td>NaN</td>\n",
       "      <td>NaN</td>\n",
       "      <td>NaN</td>\n",
       "      <td>NaN</td>\n",
       "      <td>NaN</td>\n",
       "    </tr>\n",
       "    <tr>\n",
       "      <th>2</th>\n",
       "      <td>Sun Nov 15 23:21:54 +0000 2015</td>\n",
       "      <td>666033412701032449</td>\n",
       "      <td>666033412701032449</td>\n",
       "      <td>Here is a very happy pup. Big fan of well-main...</td>\n",
       "      <td>False</td>\n",
       "      <td>[0, 130]</td>\n",
       "      <td>{'hashtags': [], 'symbols': [], 'user_mentions...</td>\n",
       "      <td>{'media': [{'id': 666033409081393153, 'id_str'...</td>\n",
       "      <td>&lt;a href=\"http://twitter.com/download/iphone\" r...</td>\n",
       "      <td>NaN</td>\n",
       "      <td>...</td>\n",
       "      <td>False</td>\n",
       "      <td>False</td>\n",
       "      <td>False</td>\n",
       "      <td>False</td>\n",
       "      <td>en</td>\n",
       "      <td>NaN</td>\n",
       "      <td>NaN</td>\n",
       "      <td>NaN</td>\n",
       "      <td>NaN</td>\n",
       "      <td>NaN</td>\n",
       "    </tr>\n",
       "    <tr>\n",
       "      <th>3</th>\n",
       "      <td>Mon Nov 16 00:04:52 +0000 2015</td>\n",
       "      <td>666044226329800704</td>\n",
       "      <td>666044226329800704</td>\n",
       "      <td>This is a purebred Piers Morgan. Loves to Netf...</td>\n",
       "      <td>False</td>\n",
       "      <td>[0, 137]</td>\n",
       "      <td>{'hashtags': [], 'symbols': [], 'user_mentions...</td>\n",
       "      <td>{'media': [{'id': 666044217047650304, 'id_str'...</td>\n",
       "      <td>&lt;a href=\"http://twitter.com/download/iphone\" r...</td>\n",
       "      <td>NaN</td>\n",
       "      <td>...</td>\n",
       "      <td>False</td>\n",
       "      <td>False</td>\n",
       "      <td>False</td>\n",
       "      <td>False</td>\n",
       "      <td>en</td>\n",
       "      <td>NaN</td>\n",
       "      <td>NaN</td>\n",
       "      <td>NaN</td>\n",
       "      <td>NaN</td>\n",
       "      <td>NaN</td>\n",
       "    </tr>\n",
       "    <tr>\n",
       "      <th>4</th>\n",
       "      <td>Mon Nov 16 00:24:50 +0000 2015</td>\n",
       "      <td>666049248165822465</td>\n",
       "      <td>666049248165822465</td>\n",
       "      <td>Here we have a 1949 1st generation vulpix. Enj...</td>\n",
       "      <td>False</td>\n",
       "      <td>[0, 120]</td>\n",
       "      <td>{'hashtags': [], 'symbols': [], 'user_mentions...</td>\n",
       "      <td>{'media': [{'id': 666049244999131136, 'id_str'...</td>\n",
       "      <td>&lt;a href=\"http://twitter.com/download/iphone\" r...</td>\n",
       "      <td>NaN</td>\n",
       "      <td>...</td>\n",
       "      <td>False</td>\n",
       "      <td>False</td>\n",
       "      <td>False</td>\n",
       "      <td>False</td>\n",
       "      <td>en</td>\n",
       "      <td>NaN</td>\n",
       "      <td>NaN</td>\n",
       "      <td>NaN</td>\n",
       "      <td>NaN</td>\n",
       "      <td>NaN</td>\n",
       "    </tr>\n",
       "  </tbody>\n",
       "</table>\n",
       "<p>5 rows × 32 columns</p>\n",
       "</div>"
      ],
      "text/plain": [
       "                       created_at                  id              id_str  \\\n",
       "0  Sun Nov 15 22:32:08 +0000 2015  666020888022790149  666020888022790149   \n",
       "1  Sun Nov 15 23:05:30 +0000 2015  666029285002620928  666029285002620928   \n",
       "2  Sun Nov 15 23:21:54 +0000 2015  666033412701032449  666033412701032449   \n",
       "3  Mon Nov 16 00:04:52 +0000 2015  666044226329800704  666044226329800704   \n",
       "4  Mon Nov 16 00:24:50 +0000 2015  666049248165822465  666049248165822465   \n",
       "\n",
       "                                           full_text  truncated  \\\n",
       "0  Here we have a Japanese Irish Setter. Lost eye...      False   \n",
       "1  This is a western brown Mitsubishi terrier. Up...      False   \n",
       "2  Here is a very happy pup. Big fan of well-main...      False   \n",
       "3  This is a purebred Piers Morgan. Loves to Netf...      False   \n",
       "4  Here we have a 1949 1st generation vulpix. Enj...      False   \n",
       "\n",
       "  display_text_range                                           entities  \\\n",
       "0           [0, 131]  {'hashtags': [], 'symbols': [], 'user_mentions...   \n",
       "1           [0, 139]  {'hashtags': [], 'symbols': [], 'user_mentions...   \n",
       "2           [0, 130]  {'hashtags': [], 'symbols': [], 'user_mentions...   \n",
       "3           [0, 137]  {'hashtags': [], 'symbols': [], 'user_mentions...   \n",
       "4           [0, 120]  {'hashtags': [], 'symbols': [], 'user_mentions...   \n",
       "\n",
       "                                   extended_entities  \\\n",
       "0  {'media': [{'id': 666020881337073664, 'id_str'...   \n",
       "1  {'media': [{'id': 666029276303482880, 'id_str'...   \n",
       "2  {'media': [{'id': 666033409081393153, 'id_str'...   \n",
       "3  {'media': [{'id': 666044217047650304, 'id_str'...   \n",
       "4  {'media': [{'id': 666049244999131136, 'id_str'...   \n",
       "\n",
       "                                              source  in_reply_to_status_id  \\\n",
       "0  <a href=\"http://twitter.com/download/iphone\" r...                    NaN   \n",
       "1  <a href=\"http://twitter.com/download/iphone\" r...                    NaN   \n",
       "2  <a href=\"http://twitter.com/download/iphone\" r...                    NaN   \n",
       "3  <a href=\"http://twitter.com/download/iphone\" r...                    NaN   \n",
       "4  <a href=\"http://twitter.com/download/iphone\" r...                    NaN   \n",
       "\n",
       "   ... favorited  retweeted possibly_sensitive possibly_sensitive_appealable  \\\n",
       "0  ...     False      False              False                         False   \n",
       "1  ...     False      False              False                         False   \n",
       "2  ...     False      False              False                         False   \n",
       "3  ...     False      False              False                         False   \n",
       "4  ...     False      False              False                         False   \n",
       "\n",
       "  lang retweeted_status quoted_status_id quoted_status_id_str  \\\n",
       "0   en              NaN              NaN                  NaN   \n",
       "1   en              NaN              NaN                  NaN   \n",
       "2   en              NaN              NaN                  NaN   \n",
       "3   en              NaN              NaN                  NaN   \n",
       "4   en              NaN              NaN                  NaN   \n",
       "\n",
       "  quoted_status_permalink  quoted_status  \n",
       "0                     NaN            NaN  \n",
       "1                     NaN            NaN  \n",
       "2                     NaN            NaN  \n",
       "3                     NaN            NaN  \n",
       "4                     NaN            NaN  \n",
       "\n",
       "[5 rows x 32 columns]"
      ]
     },
     "execution_count": 713,
     "metadata": {},
     "output_type": "execute_result"
    }
   ],
   "source": [
    "dfapi.head()"
   ]
  },
  {
   "cell_type": "code",
   "execution_count": 714,
   "metadata": {},
   "outputs": [],
   "source": [
    "#Exported to more easily see what is in the columns in Excel\n",
    "dfapi.to_csv('dfapi.csv', index=False)"
   ]
  },
  {
   "cell_type": "code",
   "execution_count": 715,
   "metadata": {},
   "outputs": [],
   "source": [
    "# Realizing that Excel was still having trouble loading everything\n",
    "dfapi.drop(['entities','extended_entities', 'user'],axis=1).head(50).to_csv('dfapi50.csv', index=False)"
   ]
  },
  {
   "cell_type": "markdown",
   "metadata": {},
   "source": [
    "#### Visual Assessment"
   ]
  },
  {
   "cell_type": "raw",
   "metadata": {},
   "source": [
    "created_at                    - Looks alright\n",
    "id                            - Looks to be identical to id_str\n",
    "id_str                        - Looks to be identical to id\n",
    "full_text                     - Looks alright\n",
    "truncated                     - Mostly False, looks to have few if any True\n",
    "display_text_range            - Looks alright\n",
    "entities                      - Too much going on to do anything with\n",
    "extended_entities             - Too much going on to do anything with\n",
    "source                        - Mostly the same link, not sure if any other values\n",
    "in_reply_to_status_id         - Mostly empty if any\n",
    "in_reply_to_status_id_str     - Mostly empty if any\n",
    "in_reply_to_user_id           - Mostly empty if any\n",
    "in_reply_to_user_id_str       - Mostly empty if any\n",
    "in_reply_to_screen_name       - Mostly empty if any\n",
    "user                          - Too much going on to do anything with\n",
    "geo                           - Mostly empty if any\n",
    "coordinates                   - Mostly empty if any\n",
    "place                         - Mostly empty if any\n",
    "contributors                  - Mostly empty if any\n",
    "is_quote_status               - Mostly False, looks to have few if any True\n",
    "retweet_count                 - Looks alright\n",
    "favorite_count                - Looks alright\n",
    "favorited                     - Mostly False, looks to have few if any True\n",
    "retweeted                     - Mostly False, looks to have few if any True\n",
    "possibly_sensitive            - Mostly False, looks to have few if any True\n",
    "possibly_sensitive_appealable - Mostly False, looks to have few if any True\n",
    "lang                          - Mostly 'en', not sure if any other values\n",
    "retweeted_status              - Mostly empty if any\n",
    "quoted_status_id              - Mostly empty if any\n",
    "quoted_status_id_str          - Mostly empty if any\n",
    "quoted_status_permalink       - Mostly empty if any\n",
    "quoted_status                 - Mostly empty if any"
   ]
  },
  {
   "cell_type": "markdown",
   "metadata": {},
   "source": [
    "#### Programatic Assessment"
   ]
  },
  {
   "cell_type": "raw",
   "metadata": {},
   "source": [
    "created_at                    - All unique, may need to split to use\n",
    "id                            - Same as _str version, just in int64 format\n",
    "id_str                        - Same as non-_str version, just in string format\n",
    "full_text                     - Text of tweet, all unique\n",
    "truncated                     - All False\n",
    "display_text_range            - Removes tagged users if they are in the text of the tweet\n",
    "entities                      - A dictionary within the column, would be difficult to use easily\n",
    "extended_entities             - A dictionary within the column, would be difficult to use easily \n",
    "source                        - Mostly all the same, what Twitter client the tweet came from\n",
    "in_reply_to_status_id         - Mostly empty, same as _str version when not losing precision\n",
    "in_reply_to_status_id_str     - Mostly empty, same as non-_str version, no loss in precision\n",
    "in_reply_to_user_id           - Mostly empty, same as _str version when not losing precision\n",
    "in_reply_to_user_id_str       - Mostly empty, same as non-_str version, no loss in precision\n",
    "in_reply_to_screen_name       - Mostly empty\n",
    "user                          - A dictionary within the column, would be difficult to use easily \n",
    "geo                           - Empty\n",
    "coordinates                   - Empty\n",
    "place                         - Only has 1 entry, and it is a dictionary within the column\n",
    "contributors                  - Empty\n",
    "is_quote_status               - Mostly False, only 31 True values\n",
    "retweet_count                 - A usable column\n",
    "favorite_count                - A usable column\n",
    "favorited                     - All False\n",
    "retweeted                     - All False\n",
    "possibly_sensitive            - Missing some values, but all False otherwise\n",
    "possibly_sensitive_appealable - Missing some values, but all False otherwise\n",
    "lang                          - Mostly the same value, 'en'\n",
    "retweeted_status              - Mostly empty, a dictionary within the column\n",
    "quoted_status_id              - Mostly empty, same as _str version when not losing precision\n",
    "quoted_status_id_str          - Mostly empty, same as non-_str version, no loss in precision\n",
    "quoted_status_permalink       - Mostly empty, a dictionary within a column, but a managable one\n",
    "quoted_status                 - Mostly empty, a dictionary within a column, a large one at that"
   ]
  },
  {
   "cell_type": "code",
   "execution_count": 716,
   "metadata": {},
   "outputs": [
    {
     "name": "stdout",
     "output_type": "stream",
     "text": [
      "<class 'pandas.core.frame.DataFrame'>\n",
      "RangeIndex: 2331 entries, 0 to 2330\n",
      "Data columns (total 32 columns):\n",
      "created_at                       2331 non-null object\n",
      "id                               2331 non-null int64\n",
      "id_str                           2331 non-null object\n",
      "full_text                        2331 non-null object\n",
      "truncated                        2331 non-null bool\n",
      "display_text_range               2331 non-null object\n",
      "entities                         2331 non-null object\n",
      "extended_entities                2059 non-null object\n",
      "source                           2331 non-null object\n",
      "in_reply_to_status_id            77 non-null float64\n",
      "in_reply_to_status_id_str        77 non-null object\n",
      "in_reply_to_user_id              77 non-null float64\n",
      "in_reply_to_user_id_str          77 non-null object\n",
      "in_reply_to_screen_name          77 non-null object\n",
      "user                             2331 non-null object\n",
      "geo                              0 non-null object\n",
      "coordinates                      0 non-null object\n",
      "place                            1 non-null object\n",
      "contributors                     0 non-null object\n",
      "is_quote_status                  2331 non-null bool\n",
      "retweet_count                    2331 non-null int64\n",
      "favorite_count                   2331 non-null int64\n",
      "favorited                        2331 non-null bool\n",
      "retweeted                        2331 non-null bool\n",
      "possibly_sensitive               2196 non-null object\n",
      "possibly_sensitive_appealable    2196 non-null object\n",
      "lang                             2331 non-null object\n",
      "retweeted_status                 163 non-null object\n",
      "quoted_status_id                 26 non-null float64\n",
      "quoted_status_id_str             26 non-null object\n",
      "quoted_status_permalink          26 non-null object\n",
      "quoted_status                    24 non-null object\n",
      "dtypes: bool(4), float64(3), int64(3), object(22)\n",
      "memory usage: 519.1+ KB\n"
     ]
    }
   ],
   "source": [
    "dfapi.info()"
   ]
  },
  {
   "cell_type": "code",
   "execution_count": 717,
   "metadata": {
    "scrolled": true
   },
   "outputs": [
    {
     "data": {
      "text/plain": [
       "Mon Mar 14 16:02:49 +0000 2016    1\n",
       "Sat Nov 28 01:18:21 +0000 2015    1\n",
       "Thu Mar 10 01:24:13 +0000 2016    1\n",
       "Mon Nov 16 04:02:55 +0000 2015    1\n",
       "Sun Dec 13 21:07:04 +0000 2015    1\n",
       "                                 ..\n",
       "Thu Dec 03 00:07:09 +0000 2015    1\n",
       "Wed Mar 16 16:29:35 +0000 2016    1\n",
       "Fri Feb 26 02:20:37 +0000 2016    1\n",
       "Wed Dec 02 02:13:48 +0000 2015    1\n",
       "Tue Feb 23 19:44:20 +0000 2016    1\n",
       "Name: created_at, Length: 2331, dtype: int64"
      ]
     },
     "execution_count": 717,
     "metadata": {},
     "output_type": "execute_result"
    }
   ],
   "source": [
    "dfapi['created_at'].value_counts()"
   ]
  },
  {
   "cell_type": "code",
   "execution_count": 718,
   "metadata": {},
   "outputs": [
    {
     "data": {
      "text/plain": [
       "2331"
      ]
     },
     "execution_count": 718,
     "metadata": {},
     "output_type": "execute_result"
    }
   ],
   "source": [
    "dfapi['created_at'].nunique()"
   ]
  },
  {
   "cell_type": "code",
   "execution_count": 719,
   "metadata": {
    "scrolled": true
   },
   "outputs": [
    {
     "data": {
      "text/plain": [
       "0    666020888022790149\n",
       "1    666029285002620928\n",
       "2    666033412701032449\n",
       "3    666044226329800704\n",
       "4    666049248165822465\n",
       "Name: id, dtype: int64"
      ]
     },
     "execution_count": 719,
     "metadata": {},
     "output_type": "execute_result"
    }
   ],
   "source": [
    "dfapi['id'].head()"
   ]
  },
  {
   "cell_type": "code",
   "execution_count": 720,
   "metadata": {},
   "outputs": [
    {
     "data": {
      "text/plain": [
       "0    666020888022790149\n",
       "1    666029285002620928\n",
       "2    666033412701032449\n",
       "3    666044226329800704\n",
       "4    666049248165822465\n",
       "Name: id_str, dtype: object"
      ]
     },
     "execution_count": 720,
     "metadata": {},
     "output_type": "execute_result"
    }
   ],
   "source": [
    "dfapi['id_str'].head()"
   ]
  },
  {
   "cell_type": "code",
   "execution_count": 721,
   "metadata": {
    "scrolled": false
   },
   "outputs": [
    {
     "data": {
      "text/plain": [
       "True    2331\n",
       "dtype: int64"
      ]
     },
     "execution_count": 721,
     "metadata": {},
     "output_type": "execute_result"
    }
   ],
   "source": [
    "(dfapi['id'].astype(str) == dfapi['id_str']).value_counts()"
   ]
  },
  {
   "cell_type": "code",
   "execution_count": 722,
   "metadata": {},
   "outputs": [
    {
     "data": {
      "text/plain": [
       "2331"
      ]
     },
     "execution_count": 722,
     "metadata": {},
     "output_type": "execute_result"
    }
   ],
   "source": [
    "dfapi['full_text'].nunique()"
   ]
  },
  {
   "cell_type": "code",
   "execution_count": 723,
   "metadata": {},
   "outputs": [
    {
     "data": {
      "text/plain": [
       "0       Here we have a Japanese Irish Setter. Lost eye...\n",
       "1       This is a western brown Mitsubishi terrier. Up...\n",
       "2       Here is a very happy pup. Big fan of well-main...\n",
       "3       This is a purebred Piers Morgan. Loves to Netf...\n",
       "4       Here we have a 1949 1st generation vulpix. Enj...\n",
       "                              ...                        \n",
       "2326    This is Franklin. He would like you to stop ca...\n",
       "2327    This is Darla. She commenced a snooze mid meal...\n",
       "2328    This is Archie. He is a rare Norwegian Pouncin...\n",
       "2329    This is Tilly. She's just checking pup on you....\n",
       "2330    This is Phineas. He's a mystical boy. Only eve...\n",
       "Name: full_text, Length: 2331, dtype: object"
      ]
     },
     "execution_count": 723,
     "metadata": {},
     "output_type": "execute_result"
    }
   ],
   "source": [
    "dfapi['full_text']"
   ]
  },
  {
   "cell_type": "code",
   "execution_count": 724,
   "metadata": {
    "scrolled": true
   },
   "outputs": [
    {
     "data": {
      "text/plain": [
       "False    2331\n",
       "Name: truncated, dtype: int64"
      ]
     },
     "execution_count": 724,
     "metadata": {},
     "output_type": "execute_result"
    }
   ],
   "source": [
    "dfapi['truncated'].value_counts()"
   ]
  },
  {
   "cell_type": "code",
   "execution_count": 725,
   "metadata": {
    "scrolled": true
   },
   "outputs": [
    {
     "data": {
      "text/plain": [
       "0       [0, 131]\n",
       "1       [0, 139]\n",
       "2       [0, 130]\n",
       "3       [0, 137]\n",
       "4       [0, 120]\n",
       "          ...   \n",
       "2326    [0, 138]\n",
       "2327     [0, 79]\n",
       "2328    [0, 121]\n",
       "2329    [0, 138]\n",
       "2330     [0, 85]\n",
       "Name: display_text_range, Length: 2331, dtype: object"
      ]
     },
     "execution_count": 725,
     "metadata": {},
     "output_type": "execute_result"
    }
   ],
   "source": [
    "dfapi['display_text_range']"
   ]
  },
  {
   "cell_type": "code",
   "execution_count": 726,
   "metadata": {},
   "outputs": [
    {
     "data": {
      "text/plain": [
       "'Here we have a Japanese Irish Setter. Lost eye in Vietnam (?). Big fan of relaxing on stair. 8/10 would pet https://t.co/BLDqew2Ijj'"
      ]
     },
     "execution_count": 726,
     "metadata": {},
     "output_type": "execute_result"
    }
   ],
   "source": [
    "dfapi['full_text'][0]"
   ]
  },
  {
   "cell_type": "code",
   "execution_count": 727,
   "metadata": {},
   "outputs": [
    {
     "data": {
      "text/plain": [
       "[0, 131]"
      ]
     },
     "execution_count": 727,
     "metadata": {},
     "output_type": "execute_result"
    }
   ],
   "source": [
    "dfapi['display_text_range'][0]"
   ]
  },
  {
   "cell_type": "code",
   "execution_count": 728,
   "metadata": {},
   "outputs": [
    {
     "data": {
      "text/plain": [
       "'Here we have a Japanese Irish Setter. Lost eye in Vietnam (?). Big fan of relaxing on stair. 8/10 would pet https://t.co/BLDqew2Ijj'"
      ]
     },
     "execution_count": 728,
     "metadata": {},
     "output_type": "execute_result"
    }
   ],
   "source": [
    "dfapi['full_text'][0][0:131]"
   ]
  },
  {
   "cell_type": "code",
   "execution_count": 729,
   "metadata": {},
   "outputs": [
    {
     "data": {
      "text/html": [
       "<div>\n",
       "<style scoped>\n",
       "    .dataframe tbody tr th:only-of-type {\n",
       "        vertical-align: middle;\n",
       "    }\n",
       "\n",
       "    .dataframe tbody tr th {\n",
       "        vertical-align: top;\n",
       "    }\n",
       "\n",
       "    .dataframe thead th {\n",
       "        text-align: right;\n",
       "    }\n",
       "</style>\n",
       "<table border=\"1\" class=\"dataframe\">\n",
       "  <thead>\n",
       "    <tr style=\"text-align: right;\">\n",
       "      <th></th>\n",
       "      <th>created_at</th>\n",
       "      <th>id</th>\n",
       "      <th>id_str</th>\n",
       "      <th>full_text</th>\n",
       "      <th>truncated</th>\n",
       "      <th>display_text_range</th>\n",
       "      <th>entities</th>\n",
       "      <th>extended_entities</th>\n",
       "      <th>source</th>\n",
       "      <th>in_reply_to_status_id</th>\n",
       "      <th>...</th>\n",
       "      <th>favorited</th>\n",
       "      <th>retweeted</th>\n",
       "      <th>possibly_sensitive</th>\n",
       "      <th>possibly_sensitive_appealable</th>\n",
       "      <th>lang</th>\n",
       "      <th>retweeted_status</th>\n",
       "      <th>quoted_status_id</th>\n",
       "      <th>quoted_status_id_str</th>\n",
       "      <th>quoted_status_permalink</th>\n",
       "      <th>quoted_status</th>\n",
       "    </tr>\n",
       "  </thead>\n",
       "  <tbody>\n",
       "    <tr>\n",
       "      <th>1274</th>\n",
       "      <td>Sat Jun 04 00:32:32 +0000 2016</td>\n",
       "      <td>738891149612572673</td>\n",
       "      <td>738891149612572673</td>\n",
       "      <td>@mount_alex3 13/10</td>\n",
       "      <td>False</td>\n",
       "      <td>[13, 18]</td>\n",
       "      <td>{'hashtags': [], 'symbols': [], 'user_mentions...</td>\n",
       "      <td>NaN</td>\n",
       "      <td>&lt;a href=\"http://twitter.com/download/iphone\" r...</td>\n",
       "      <td>7.384119e+17</td>\n",
       "      <td>...</td>\n",
       "      <td>False</td>\n",
       "      <td>False</td>\n",
       "      <td>NaN</td>\n",
       "      <td>NaN</td>\n",
       "      <td>und</td>\n",
       "      <td>NaN</td>\n",
       "      <td>NaN</td>\n",
       "      <td>NaN</td>\n",
       "      <td>NaN</td>\n",
       "      <td>NaN</td>\n",
       "    </tr>\n",
       "    <tr>\n",
       "      <th>1495</th>\n",
       "      <td>Fri Aug 12 04:35:10 +0000 2016</td>\n",
       "      <td>763956972077010945</td>\n",
       "      <td>763956972077010945</td>\n",
       "      <td>@TheEllenShow I'm not sure if you know this bu...</td>\n",
       "      <td>False</td>\n",
       "      <td>[14, 81]</td>\n",
       "      <td>{'hashtags': [], 'symbols': [], 'user_mentions...</td>\n",
       "      <td>NaN</td>\n",
       "      <td>&lt;a href=\"http://twitter.com/download/iphone\" r...</td>\n",
       "      <td>7.638652e+17</td>\n",
       "      <td>...</td>\n",
       "      <td>False</td>\n",
       "      <td>False</td>\n",
       "      <td>NaN</td>\n",
       "      <td>NaN</td>\n",
       "      <td>en</td>\n",
       "      <td>NaN</td>\n",
       "      <td>NaN</td>\n",
       "      <td>NaN</td>\n",
       "      <td>NaN</td>\n",
       "      <td>NaN</td>\n",
       "    </tr>\n",
       "    <tr>\n",
       "      <th>1737</th>\n",
       "      <td>Fri Nov 11 19:55:50 +0000 2016</td>\n",
       "      <td>797165961484890113</td>\n",
       "      <td>797165961484890113</td>\n",
       "      <td>@JODYHiGHROLLER it may be an 11/10 but what do...</td>\n",
       "      <td>False</td>\n",
       "      <td>[16, 55]</td>\n",
       "      <td>{'hashtags': [], 'symbols': [], 'user_mentions...</td>\n",
       "      <td>NaN</td>\n",
       "      <td>&lt;a href=\"http://twitter.com/download/iphone\" r...</td>\n",
       "      <td>7.971238e+17</td>\n",
       "      <td>...</td>\n",
       "      <td>False</td>\n",
       "      <td>False</td>\n",
       "      <td>NaN</td>\n",
       "      <td>NaN</td>\n",
       "      <td>en</td>\n",
       "      <td>NaN</td>\n",
       "      <td>NaN</td>\n",
       "      <td>NaN</td>\n",
       "      <td>NaN</td>\n",
       "      <td>NaN</td>\n",
       "    </tr>\n",
       "    <tr>\n",
       "      <th>1772</th>\n",
       "      <td>Tue Nov 22 00:32:18 +0000 2016</td>\n",
       "      <td>800859414831898624</td>\n",
       "      <td>800859414831898624</td>\n",
       "      <td>@SkyWilliams doggo simply protecting you from ...</td>\n",
       "      <td>False</td>\n",
       "      <td>[13, 105]</td>\n",
       "      <td>{'hashtags': [], 'symbols': [], 'user_mentions...</td>\n",
       "      <td>NaN</td>\n",
       "      <td>&lt;a href=\"http://twitter.com/download/iphone\" r...</td>\n",
       "      <td>8.008580e+17</td>\n",
       "      <td>...</td>\n",
       "      <td>False</td>\n",
       "      <td>False</td>\n",
       "      <td>NaN</td>\n",
       "      <td>NaN</td>\n",
       "      <td>en</td>\n",
       "      <td>NaN</td>\n",
       "      <td>NaN</td>\n",
       "      <td>NaN</td>\n",
       "      <td>NaN</td>\n",
       "      <td>NaN</td>\n",
       "    </tr>\n",
       "    <tr>\n",
       "      <th>1919</th>\n",
       "      <td>Tue Jan 17 00:33:26 +0000 2017</td>\n",
       "      <td>821153421864615936</td>\n",
       "      <td>821153421864615936</td>\n",
       "      <td>@imgur for a polar bear tho I'd say 13/10 is a...</td>\n",
       "      <td>False</td>\n",
       "      <td>[7, 56]</td>\n",
       "      <td>{'hashtags': [], 'symbols': [], 'user_mentions...</td>\n",
       "      <td>NaN</td>\n",
       "      <td>&lt;a href=\"http://twitter.com/download/iphone\" r...</td>\n",
       "      <td>8.211526e+17</td>\n",
       "      <td>...</td>\n",
       "      <td>False</td>\n",
       "      <td>False</td>\n",
       "      <td>NaN</td>\n",
       "      <td>NaN</td>\n",
       "      <td>en</td>\n",
       "      <td>NaN</td>\n",
       "      <td>NaN</td>\n",
       "      <td>NaN</td>\n",
       "      <td>NaN</td>\n",
       "      <td>NaN</td>\n",
       "    </tr>\n",
       "  </tbody>\n",
       "</table>\n",
       "<p>5 rows × 32 columns</p>\n",
       "</div>"
      ],
      "text/plain": [
       "                          created_at                  id              id_str  \\\n",
       "1274  Sat Jun 04 00:32:32 +0000 2016  738891149612572673  738891149612572673   \n",
       "1495  Fri Aug 12 04:35:10 +0000 2016  763956972077010945  763956972077010945   \n",
       "1737  Fri Nov 11 19:55:50 +0000 2016  797165961484890113  797165961484890113   \n",
       "1772  Tue Nov 22 00:32:18 +0000 2016  800859414831898624  800859414831898624   \n",
       "1919  Tue Jan 17 00:33:26 +0000 2017  821153421864615936  821153421864615936   \n",
       "\n",
       "                                              full_text  truncated  \\\n",
       "1274                                 @mount_alex3 13/10      False   \n",
       "1495  @TheEllenShow I'm not sure if you know this bu...      False   \n",
       "1737  @JODYHiGHROLLER it may be an 11/10 but what do...      False   \n",
       "1772  @SkyWilliams doggo simply protecting you from ...      False   \n",
       "1919  @imgur for a polar bear tho I'd say 13/10 is a...      False   \n",
       "\n",
       "     display_text_range                                           entities  \\\n",
       "1274           [13, 18]  {'hashtags': [], 'symbols': [], 'user_mentions...   \n",
       "1495           [14, 81]  {'hashtags': [], 'symbols': [], 'user_mentions...   \n",
       "1737           [16, 55]  {'hashtags': [], 'symbols': [], 'user_mentions...   \n",
       "1772          [13, 105]  {'hashtags': [], 'symbols': [], 'user_mentions...   \n",
       "1919            [7, 56]  {'hashtags': [], 'symbols': [], 'user_mentions...   \n",
       "\n",
       "     extended_entities                                             source  \\\n",
       "1274               NaN  <a href=\"http://twitter.com/download/iphone\" r...   \n",
       "1495               NaN  <a href=\"http://twitter.com/download/iphone\" r...   \n",
       "1737               NaN  <a href=\"http://twitter.com/download/iphone\" r...   \n",
       "1772               NaN  <a href=\"http://twitter.com/download/iphone\" r...   \n",
       "1919               NaN  <a href=\"http://twitter.com/download/iphone\" r...   \n",
       "\n",
       "      in_reply_to_status_id  ... favorited  retweeted possibly_sensitive  \\\n",
       "1274           7.384119e+17  ...     False      False                NaN   \n",
       "1495           7.638652e+17  ...     False      False                NaN   \n",
       "1737           7.971238e+17  ...     False      False                NaN   \n",
       "1772           8.008580e+17  ...     False      False                NaN   \n",
       "1919           8.211526e+17  ...     False      False                NaN   \n",
       "\n",
       "     possibly_sensitive_appealable lang retweeted_status quoted_status_id  \\\n",
       "1274                           NaN  und              NaN              NaN   \n",
       "1495                           NaN   en              NaN              NaN   \n",
       "1737                           NaN   en              NaN              NaN   \n",
       "1772                           NaN   en              NaN              NaN   \n",
       "1919                           NaN   en              NaN              NaN   \n",
       "\n",
       "     quoted_status_id_str quoted_status_permalink  quoted_status  \n",
       "1274                  NaN                     NaN            NaN  \n",
       "1495                  NaN                     NaN            NaN  \n",
       "1737                  NaN                     NaN            NaN  \n",
       "1772                  NaN                     NaN            NaN  \n",
       "1919                  NaN                     NaN            NaN  \n",
       "\n",
       "[5 rows x 32 columns]"
      ]
     },
     "execution_count": 729,
     "metadata": {},
     "output_type": "execute_result"
    }
   ],
   "source": [
    "dfapi[dfapi['display_text_range'].astype(str).str[1:2] != \"0\"].head()"
   ]
  },
  {
   "cell_type": "code",
   "execution_count": 730,
   "metadata": {},
   "outputs": [
    {
     "data": {
      "text/plain": [
       "\"This is Alfie. He's touching a butt. Couldn't be happier. 11/10 https://t.co/gx3xF5mZbo\""
      ]
     },
     "execution_count": 730,
     "metadata": {},
     "output_type": "execute_result"
    }
   ],
   "source": [
    "dfapi['full_text'][1494]"
   ]
  },
  {
   "cell_type": "code",
   "execution_count": 731,
   "metadata": {},
   "outputs": [
    {
     "data": {
      "text/plain": [
       "[0, 63]"
      ]
     },
     "execution_count": 731,
     "metadata": {},
     "output_type": "execute_result"
    }
   ],
   "source": [
    "dfapi['display_text_range'][1494]"
   ]
  },
  {
   "cell_type": "code",
   "execution_count": 732,
   "metadata": {},
   "outputs": [
    {
     "data": {
      "text/plain": [
       "\" He's touching a butt. Couldn't be happier. 11/10 https://t.co/gx3x\""
      ]
     },
     "execution_count": 732,
     "metadata": {},
     "output_type": "execute_result"
    }
   ],
   "source": [
    "dfapi['full_text'][1494][14:81]"
   ]
  },
  {
   "cell_type": "code",
   "execution_count": 733,
   "metadata": {},
   "outputs": [
    {
     "data": {
      "text/plain": [
       "{'hashtags': [],\n",
       " 'symbols': [],\n",
       " 'user_mentions': [],\n",
       " 'urls': [],\n",
       " 'media': [{'id': 666020881337073664,\n",
       "   'id_str': '666020881337073664',\n",
       "   'indices': [108, 131],\n",
       "   'media_url': 'http://pbs.twimg.com/media/CT4udn0WwAA0aMy.jpg',\n",
       "   'media_url_https': 'https://pbs.twimg.com/media/CT4udn0WwAA0aMy.jpg',\n",
       "   'url': 'https://t.co/BLDqew2Ijj',\n",
       "   'display_url': 'pic.twitter.com/BLDqew2Ijj',\n",
       "   'expanded_url': 'https://twitter.com/dog_rates/status/666020888022790149/photo/1',\n",
       "   'type': 'photo',\n",
       "   'sizes': {'medium': {'w': 960, 'h': 720, 'resize': 'fit'},\n",
       "    'thumb': {'w': 150, 'h': 150, 'resize': 'crop'},\n",
       "    'large': {'w': 960, 'h': 720, 'resize': 'fit'},\n",
       "    'small': {'w': 680, 'h': 510, 'resize': 'fit'}}}]}"
      ]
     },
     "execution_count": 733,
     "metadata": {},
     "output_type": "execute_result"
    }
   ],
   "source": [
    "dfapi['entities'][0]"
   ]
  },
  {
   "cell_type": "code",
   "execution_count": 734,
   "metadata": {
    "scrolled": true
   },
   "outputs": [
    {
     "data": {
      "text/plain": [
       "'https://twitter.com/dog_rates/status/666020888022790149/photo/1'"
      ]
     },
     "execution_count": 734,
     "metadata": {},
     "output_type": "execute_result"
    }
   ],
   "source": [
    "dfapi['entities'][0]['media'][0]['expanded_url']"
   ]
  },
  {
   "cell_type": "code",
   "execution_count": 735,
   "metadata": {},
   "outputs": [
    {
     "data": {
      "text/plain": [
       "{'media': [{'id': 666020881337073664,\n",
       "   'id_str': '666020881337073664',\n",
       "   'indices': [108, 131],\n",
       "   'media_url': 'http://pbs.twimg.com/media/CT4udn0WwAA0aMy.jpg',\n",
       "   'media_url_https': 'https://pbs.twimg.com/media/CT4udn0WwAA0aMy.jpg',\n",
       "   'url': 'https://t.co/BLDqew2Ijj',\n",
       "   'display_url': 'pic.twitter.com/BLDqew2Ijj',\n",
       "   'expanded_url': 'https://twitter.com/dog_rates/status/666020888022790149/photo/1',\n",
       "   'type': 'photo',\n",
       "   'sizes': {'medium': {'w': 960, 'h': 720, 'resize': 'fit'},\n",
       "    'thumb': {'w': 150, 'h': 150, 'resize': 'crop'},\n",
       "    'large': {'w': 960, 'h': 720, 'resize': 'fit'},\n",
       "    'small': {'w': 680, 'h': 510, 'resize': 'fit'}}}]}"
      ]
     },
     "execution_count": 735,
     "metadata": {},
     "output_type": "execute_result"
    }
   ],
   "source": [
    "dfapi['extended_entities'][0]"
   ]
  },
  {
   "cell_type": "code",
   "execution_count": 736,
   "metadata": {
    "scrolled": true
   },
   "outputs": [
    {
     "data": {
      "text/plain": [
       "680"
      ]
     },
     "execution_count": 736,
     "metadata": {},
     "output_type": "execute_result"
    }
   ],
   "source": [
    "dfapi['extended_entities'][0]['media'][0]['sizes']['small']['w']"
   ]
  },
  {
   "cell_type": "code",
   "execution_count": 737,
   "metadata": {},
   "outputs": [
    {
     "data": {
      "text/plain": [
       "<a href=\"http://twitter.com/download/iphone\" rel=\"nofollow\">Twitter for iPhone</a>     2197\n",
       "<a href=\"http://vine.co\" rel=\"nofollow\">Vine - Make a Scene</a>                          91\n",
       "<a href=\"http://twitter.com\" rel=\"nofollow\">Twitter Web Client</a>                       33\n",
       "<a href=\"https://about.twitter.com/products/tweetdeck\" rel=\"nofollow\">TweetDeck</a>      10\n",
       "Name: source, dtype: int64"
      ]
     },
     "execution_count": 737,
     "metadata": {},
     "output_type": "execute_result"
    }
   ],
   "source": [
    "dfapi['source'].value_counts()"
   ]
  },
  {
   "cell_type": "code",
   "execution_count": 738,
   "metadata": {},
   "outputs": [
    {
     "data": {
      "text/plain": [
       "57      6.670655e+17\n",
       "166     6.689207e+17\n",
       "186     6.678065e+17\n",
       "206     6.693544e+17\n",
       "317     6.715449e+17\n",
       "            ...     \n",
       "2188    8.634256e+17\n",
       "2221    8.707262e+17\n",
       "2267    8.795538e+17\n",
       "2276    8.816070e+17\n",
       "2301    8.862664e+17\n",
       "Name: in_reply_to_status_id, Length: 77, dtype: float64"
      ]
     },
     "execution_count": 738,
     "metadata": {},
     "output_type": "execute_result"
    }
   ],
   "source": [
    "dfapi[dfapi['in_reply_to_status_id'].notnull()]['in_reply_to_status_id']"
   ]
  },
  {
   "cell_type": "code",
   "execution_count": 739,
   "metadata": {},
   "outputs": [
    {
     "data": {
      "text/plain": [
       "6.670655355705508e+17"
      ]
     },
     "execution_count": 739,
     "metadata": {},
     "output_type": "execute_result"
    }
   ],
   "source": [
    "dfapi['in_reply_to_status_id'][57]"
   ]
  },
  {
   "cell_type": "code",
   "execution_count": 740,
   "metadata": {
    "scrolled": false
   },
   "outputs": [
    {
     "data": {
      "text/plain": [
       "'667065535570550784'"
      ]
     },
     "execution_count": 740,
     "metadata": {},
     "output_type": "execute_result"
    }
   ],
   "source": [
    "dfapi['in_reply_to_status_id_str'][57]"
   ]
  },
  {
   "cell_type": "code",
   "execution_count": 741,
   "metadata": {
    "scrolled": true
   },
   "outputs": [
    {
     "data": {
      "text/plain": [
       "False    2331\n",
       "dtype: int64"
      ]
     },
     "execution_count": 741,
     "metadata": {},
     "output_type": "execute_result"
    }
   ],
   "source": [
    "(dfapi['in_reply_to_status_id'].astype(str) == dfapi['in_reply_to_status_id_str']).value_counts()"
   ]
  },
  {
   "cell_type": "raw",
   "metadata": {},
   "source": [
    "Removes the first digit and decimal point on the first non_-str, removes the first digit on the _str version"
   ]
  },
  {
   "cell_type": "code",
   "execution_count": 742,
   "metadata": {
    "scrolled": true
   },
   "outputs": [
    {
     "data": {
      "text/plain": [
       "False    2254\n",
       "True       77\n",
       "dtype: int64"
      ]
     },
     "execution_count": 742,
     "metadata": {},
     "output_type": "execute_result"
    }
   ],
   "source": [
    "(dfapi['in_reply_to_status_id'].astype(str).str[2:15] == dfapi['in_reply_to_status_id_str'].str[1:14]).value_counts()"
   ]
  },
  {
   "cell_type": "code",
   "execution_count": 743,
   "metadata": {
    "scrolled": true
   },
   "outputs": [
    {
     "data": {
      "text/plain": [
       "0   NaN\n",
       "1   NaN\n",
       "2   NaN\n",
       "3   NaN\n",
       "4   NaN\n",
       "Name: in_reply_to_user_id, dtype: float64"
      ]
     },
     "execution_count": 743,
     "metadata": {},
     "output_type": "execute_result"
    }
   ],
   "source": [
    "dfapi['in_reply_to_user_id'].head()"
   ]
  },
  {
   "cell_type": "code",
   "execution_count": 744,
   "metadata": {},
   "outputs": [
    {
     "data": {
      "text/plain": [
       "57     4.196984e+09\n",
       "166    2.143566e+07\n",
       "186    4.196984e+09\n",
       "206    4.196984e+09\n",
       "317    4.196984e+09\n",
       "Name: in_reply_to_user_id, dtype: float64"
      ]
     },
     "execution_count": 744,
     "metadata": {},
     "output_type": "execute_result"
    }
   ],
   "source": [
    "dfapi[dfapi['in_reply_to_user_id'].notnull()]['in_reply_to_user_id'].head()"
   ]
  },
  {
   "cell_type": "code",
   "execution_count": 745,
   "metadata": {},
   "outputs": [
    {
     "data": {
      "text/plain": [
       "57     4196983835\n",
       "166      21435658\n",
       "186    4196983835\n",
       "206    4196983835\n",
       "317    4196983835\n",
       "Name: in_reply_to_user_id_str, dtype: object"
      ]
     },
     "execution_count": 745,
     "metadata": {},
     "output_type": "execute_result"
    }
   ],
   "source": [
    "dfapi[dfapi['in_reply_to_user_id_str'].notnull()]['in_reply_to_user_id_str'].head()"
   ]
  },
  {
   "cell_type": "code",
   "execution_count": 746,
   "metadata": {},
   "outputs": [
    {
     "data": {
      "text/plain": [
       "57      4196983835\n",
       "166       21435658\n",
       "186     4196983835\n",
       "206     4196983835\n",
       "317     4196983835\n",
       "           ...    \n",
       "2188      77596200\n",
       "2221      16487760\n",
       "2267    3105440746\n",
       "2276      47384430\n",
       "2301    2281181600\n",
       "Name: in_reply_to_user_id, Length: 77, dtype: object"
      ]
     },
     "execution_count": 746,
     "metadata": {},
     "output_type": "execute_result"
    }
   ],
   "source": [
    "dfapi[dfapi['in_reply_to_user_id'].notnull()]['in_reply_to_user_id'].astype(str).str[:-2]"
   ]
  },
  {
   "cell_type": "code",
   "execution_count": 747,
   "metadata": {
    "scrolled": true
   },
   "outputs": [
    {
     "data": {
      "text/plain": [
       "True     75\n",
       "False     2\n",
       "dtype: int64"
      ]
     },
     "execution_count": 747,
     "metadata": {},
     "output_type": "execute_result"
    }
   ],
   "source": [
    "(dfapi[dfapi['in_reply_to_user_id_str'].notnull()]['in_reply_to_user_id_str'] == dfapi[dfapi['in_reply_to_user_id'].notnull()]['in_reply_to_user_id'].astype(str).str[:-2]).value_counts()"
   ]
  },
  {
   "cell_type": "code",
   "execution_count": 748,
   "metadata": {},
   "outputs": [
    {
     "data": {
      "text/plain": [
       "dog_rates          47\n",
       "markhoppus          2\n",
       "mount_alex3         1\n",
       "0_kelvin_0          1\n",
       "roushfenway         1\n",
       "serial              1\n",
       "NBCSports           1\n",
       "wane15              1\n",
       "ABC                 1\n",
       "JODYHiGHROLLER      1\n",
       "RealKentMurphy      1\n",
       "Marc_IRL            1\n",
       "ComplicitOwl        1\n",
       "Jack_Septic_Eye     1\n",
       "SweetsyPeets        1\n",
       "CommonWhiteGirI     1\n",
       "docmisterio         1\n",
       "NonWhiteHat         1\n",
       "jonnysun            1\n",
       "HistoryInPics       1\n",
       "ABC7                1\n",
       "dhmontgomery        1\n",
       "TheEllenShow        1\n",
       "spaghemily          1\n",
       "UNC                 1\n",
       "shibbnbot           1\n",
       "imgur               1\n",
       "LightningHoltt      1\n",
       "SkyWilliams         1\n",
       "s8n                 1\n",
       "Name: in_reply_to_screen_name, dtype: int64"
      ]
     },
     "execution_count": 748,
     "metadata": {},
     "output_type": "execute_result"
    }
   ],
   "source": [
    "dfapi[dfapi['in_reply_to_screen_name'].notnull()]['in_reply_to_screen_name'].value_counts()"
   ]
  },
  {
   "cell_type": "code",
   "execution_count": 749,
   "metadata": {
    "scrolled": true
   },
   "outputs": [
    {
     "data": {
      "text/plain": [
       "{'id': 4196983835,\n",
       " 'id_str': '4196983835',\n",
       " 'name': 'WeRateDogs®',\n",
       " 'screen_name': 'dog_rates',\n",
       " 'location': '「 DM YOUR DOGS 」',\n",
       " 'description': 'Your Only Source For Professional Dog Ratings Instagram and Facebook ➪ WeRateDogs partnerships@weratedogs.com ⠀⠀⠀⠀⠀⠀⠀⠀⠀⠀⠀⠀',\n",
       " 'url': 'https://t.co/N7sNNHAEXS',\n",
       " 'entities': {'url': {'urls': [{'url': 'https://t.co/N7sNNHAEXS',\n",
       "     'expanded_url': 'http://weratedogs.com',\n",
       "     'display_url': 'weratedogs.com',\n",
       "     'indices': [0, 23]}]},\n",
       "  'description': {'urls': []}},\n",
       " 'protected': False,\n",
       " 'followers_count': 8762885,\n",
       " 'friends_count': 15,\n",
       " 'listed_count': 7230,\n",
       " 'created_at': 'Sun Nov 15 21:41:29 +0000 2015',\n",
       " 'favourites_count': 145410,\n",
       " 'utc_offset': None,\n",
       " 'time_zone': None,\n",
       " 'geo_enabled': True,\n",
       " 'verified': True,\n",
       " 'statuses_count': 11941,\n",
       " 'lang': None,\n",
       " 'contributors_enabled': False,\n",
       " 'is_translator': False,\n",
       " 'is_translation_enabled': False,\n",
       " 'profile_background_color': '000000',\n",
       " 'profile_background_image_url': 'http://abs.twimg.com/images/themes/theme1/bg.png',\n",
       " 'profile_background_image_url_https': 'https://abs.twimg.com/images/themes/theme1/bg.png',\n",
       " 'profile_background_tile': False,\n",
       " 'profile_image_url': 'http://pbs.twimg.com/profile_images/1218319284557905920/ntuD-LOA_normal.jpg',\n",
       " 'profile_image_url_https': 'https://pbs.twimg.com/profile_images/1218319284557905920/ntuD-LOA_normal.jpg',\n",
       " 'profile_banner_url': 'https://pbs.twimg.com/profile_banners/4196983835/1586206146',\n",
       " 'profile_link_color': 'F5ABB5',\n",
       " 'profile_sidebar_border_color': '000000',\n",
       " 'profile_sidebar_fill_color': '000000',\n",
       " 'profile_text_color': '000000',\n",
       " 'profile_use_background_image': False,\n",
       " 'has_extended_profile': False,\n",
       " 'default_profile': False,\n",
       " 'default_profile_image': False,\n",
       " 'following': False,\n",
       " 'follow_request_sent': False,\n",
       " 'notifications': False,\n",
       " 'translator_type': 'none'}"
      ]
     },
     "execution_count": 749,
     "metadata": {},
     "output_type": "execute_result"
    }
   ],
   "source": [
    "dfapi['user'][0]"
   ]
  },
  {
   "cell_type": "code",
   "execution_count": 750,
   "metadata": {},
   "outputs": [
    {
     "data": {
      "text/plain": [
       "'https://t.co/N7sNNHAEXS'"
      ]
     },
     "execution_count": 750,
     "metadata": {},
     "output_type": "execute_result"
    }
   ],
   "source": [
    "dfapi['user'][0]['entities']['url']['urls'][0]['url']"
   ]
  },
  {
   "cell_type": "code",
   "execution_count": 751,
   "metadata": {},
   "outputs": [
    {
     "data": {
      "text/plain": [
       "False    2331\n",
       "Name: geo, dtype: int64"
      ]
     },
     "execution_count": 751,
     "metadata": {},
     "output_type": "execute_result"
    }
   ],
   "source": [
    "dfapi['geo'].notnull().value_counts()"
   ]
  },
  {
   "cell_type": "code",
   "execution_count": 752,
   "metadata": {},
   "outputs": [
    {
     "data": {
      "text/plain": [
       "False    2331\n",
       "Name: coordinates, dtype: int64"
      ]
     },
     "execution_count": 752,
     "metadata": {},
     "output_type": "execute_result"
    }
   ],
   "source": [
    "dfapi['coordinates'].notnull().value_counts()"
   ]
  },
  {
   "cell_type": "code",
   "execution_count": 753,
   "metadata": {},
   "outputs": [
    {
     "data": {
      "text/html": [
       "<div>\n",
       "<style scoped>\n",
       "    .dataframe tbody tr th:only-of-type {\n",
       "        vertical-align: middle;\n",
       "    }\n",
       "\n",
       "    .dataframe tbody tr th {\n",
       "        vertical-align: top;\n",
       "    }\n",
       "\n",
       "    .dataframe thead th {\n",
       "        text-align: right;\n",
       "    }\n",
       "</style>\n",
       "<table border=\"1\" class=\"dataframe\">\n",
       "  <thead>\n",
       "    <tr style=\"text-align: right;\">\n",
       "      <th></th>\n",
       "      <th>created_at</th>\n",
       "      <th>id</th>\n",
       "      <th>id_str</th>\n",
       "      <th>full_text</th>\n",
       "      <th>truncated</th>\n",
       "      <th>display_text_range</th>\n",
       "      <th>entities</th>\n",
       "      <th>extended_entities</th>\n",
       "      <th>source</th>\n",
       "      <th>in_reply_to_status_id</th>\n",
       "      <th>...</th>\n",
       "      <th>favorited</th>\n",
       "      <th>retweeted</th>\n",
       "      <th>possibly_sensitive</th>\n",
       "      <th>possibly_sensitive_appealable</th>\n",
       "      <th>lang</th>\n",
       "      <th>retweeted_status</th>\n",
       "      <th>quoted_status_id</th>\n",
       "      <th>quoted_status_id_str</th>\n",
       "      <th>quoted_status_permalink</th>\n",
       "      <th>quoted_status</th>\n",
       "    </tr>\n",
       "  </thead>\n",
       "  <tbody>\n",
       "    <tr>\n",
       "      <th>1493</th>\n",
       "      <td>Wed Aug 10 01:23:03 +0000 2016</td>\n",
       "      <td>763183847194451968</td>\n",
       "      <td>763183847194451968</td>\n",
       "      <td>This is Clark. He collects teddy bears. It's a...</td>\n",
       "      <td>False</td>\n",
       "      <td>[0, 102]</td>\n",
       "      <td>{'hashtags': [], 'symbols': [], 'user_mentions...</td>\n",
       "      <td>{'media': [{'id': 763183833575481344, 'id_str'...</td>\n",
       "      <td>&lt;a href=\"http://twitter.com/download/iphone\" r...</td>\n",
       "      <td>NaN</td>\n",
       "      <td>...</td>\n",
       "      <td>False</td>\n",
       "      <td>False</td>\n",
       "      <td>False</td>\n",
       "      <td>False</td>\n",
       "      <td>en</td>\n",
       "      <td>NaN</td>\n",
       "      <td>NaN</td>\n",
       "      <td>NaN</td>\n",
       "      <td>NaN</td>\n",
       "      <td>NaN</td>\n",
       "    </tr>\n",
       "  </tbody>\n",
       "</table>\n",
       "<p>1 rows × 32 columns</p>\n",
       "</div>"
      ],
      "text/plain": [
       "                          created_at                  id              id_str  \\\n",
       "1493  Wed Aug 10 01:23:03 +0000 2016  763183847194451968  763183847194451968   \n",
       "\n",
       "                                              full_text  truncated  \\\n",
       "1493  This is Clark. He collects teddy bears. It's a...      False   \n",
       "\n",
       "     display_text_range                                           entities  \\\n",
       "1493           [0, 102]  {'hashtags': [], 'symbols': [], 'user_mentions...   \n",
       "\n",
       "                                      extended_entities  \\\n",
       "1493  {'media': [{'id': 763183833575481344, 'id_str'...   \n",
       "\n",
       "                                                 source  \\\n",
       "1493  <a href=\"http://twitter.com/download/iphone\" r...   \n",
       "\n",
       "      in_reply_to_status_id  ... favorited  retweeted possibly_sensitive  \\\n",
       "1493                    NaN  ...     False      False              False   \n",
       "\n",
       "     possibly_sensitive_appealable lang retweeted_status quoted_status_id  \\\n",
       "1493                         False   en              NaN              NaN   \n",
       "\n",
       "     quoted_status_id_str quoted_status_permalink  quoted_status  \n",
       "1493                  NaN                     NaN            NaN  \n",
       "\n",
       "[1 rows x 32 columns]"
      ]
     },
     "execution_count": 753,
     "metadata": {},
     "output_type": "execute_result"
    }
   ],
   "source": [
    "dfapi[dfapi['place'].notnull()]"
   ]
  },
  {
   "cell_type": "code",
   "execution_count": 754,
   "metadata": {
    "scrolled": false
   },
   "outputs": [
    {
     "data": {
      "text/plain": [
       "{'id': '7356b662670b2c31',\n",
       " 'url': 'https://api.twitter.com/1.1/geo/id/7356b662670b2c31.json',\n",
       " 'place_type': 'city',\n",
       " 'name': 'Clifton',\n",
       " 'full_name': 'Clifton, NJ',\n",
       " 'country_code': 'US',\n",
       " 'country': 'United States',\n",
       " 'contained_within': [],\n",
       " 'bounding_box': {'type': 'Polygon',\n",
       "  'coordinates': [[[-74.1977277, 40.82028],\n",
       "    [-74.118533, 40.82028],\n",
       "    [-74.118533, 40.899384],\n",
       "    [-74.1977277, 40.899384]]]},\n",
       " 'attributes': {}}"
      ]
     },
     "execution_count": 754,
     "metadata": {},
     "output_type": "execute_result"
    }
   ],
   "source": [
    "dfapi[dfapi['place'].notnull()]['place'][1493]"
   ]
  },
  {
   "cell_type": "code",
   "execution_count": 755,
   "metadata": {},
   "outputs": [
    {
     "data": {
      "text/plain": [
       "[-74.1977277, 40.82028]"
      ]
     },
     "execution_count": 755,
     "metadata": {},
     "output_type": "execute_result"
    }
   ],
   "source": [
    "dfapi['place'][1493]['bounding_box']['coordinates'][0][0]"
   ]
  },
  {
   "cell_type": "code",
   "execution_count": 756,
   "metadata": {},
   "outputs": [
    {
     "data": {
      "text/plain": [
       "False    2331\n",
       "Name: contributors, dtype: int64"
      ]
     },
     "execution_count": 756,
     "metadata": {},
     "output_type": "execute_result"
    }
   ],
   "source": [
    "dfapi['contributors'].notnull().value_counts()"
   ]
  },
  {
   "cell_type": "code",
   "execution_count": 757,
   "metadata": {},
   "outputs": [
    {
     "data": {
      "text/plain": [
       "False    2300\n",
       "True       31\n",
       "Name: is_quote_status, dtype: int64"
      ]
     },
     "execution_count": 757,
     "metadata": {},
     "output_type": "execute_result"
    }
   ],
   "source": [
    "dfapi['is_quote_status'].value_counts()"
   ]
  },
  {
   "cell_type": "code",
   "execution_count": 758,
   "metadata": {},
   "outputs": [
    {
     "data": {
      "text/plain": [
       "count     2331.000000\n",
       "mean      2718.826255\n",
       "std       4598.851488\n",
       "min          1.000000\n",
       "25%        549.000000\n",
       "50%       1275.000000\n",
       "75%       3157.500000\n",
       "max      78280.000000\n",
       "Name: retweet_count, dtype: float64"
      ]
     },
     "execution_count": 758,
     "metadata": {},
     "output_type": "execute_result"
    }
   ],
   "source": [
    "dfapi['retweet_count'].describe()"
   ]
  },
  {
   "cell_type": "code",
   "execution_count": 759,
   "metadata": {},
   "outputs": [
    {
     "data": {
      "text/plain": [
       "count      2331.000000\n",
       "mean       7600.390390\n",
       "std       11792.492855\n",
       "min           0.000000\n",
       "25%        1327.000000\n",
       "50%        3310.000000\n",
       "75%        9313.000000\n",
       "max      157122.000000\n",
       "Name: favorite_count, dtype: float64"
      ]
     },
     "execution_count": 759,
     "metadata": {},
     "output_type": "execute_result"
    }
   ],
   "source": [
    "dfapi['favorite_count'].describe()"
   ]
  },
  {
   "cell_type": "code",
   "execution_count": 760,
   "metadata": {},
   "outputs": [
    {
     "data": {
      "text/plain": [
       "False    2331\n",
       "Name: favorited, dtype: int64"
      ]
     },
     "execution_count": 760,
     "metadata": {},
     "output_type": "execute_result"
    }
   ],
   "source": [
    "dfapi['favorited'].value_counts()"
   ]
  },
  {
   "cell_type": "code",
   "execution_count": 761,
   "metadata": {},
   "outputs": [
    {
     "data": {
      "text/plain": [
       "False    2331\n",
       "Name: retweeted, dtype: int64"
      ]
     },
     "execution_count": 761,
     "metadata": {},
     "output_type": "execute_result"
    }
   ],
   "source": [
    "dfapi['retweeted'].value_counts()"
   ]
  },
  {
   "cell_type": "code",
   "execution_count": 762,
   "metadata": {},
   "outputs": [
    {
     "data": {
      "text/plain": [
       "False    2196\n",
       "Name: possibly_sensitive, dtype: int64"
      ]
     },
     "execution_count": 762,
     "metadata": {},
     "output_type": "execute_result"
    }
   ],
   "source": [
    "dfapi['possibly_sensitive'].value_counts()"
   ]
  },
  {
   "cell_type": "code",
   "execution_count": 763,
   "metadata": {},
   "outputs": [
    {
     "data": {
      "text/plain": [
       "False    2196\n",
       "Name: possibly_sensitive_appealable, dtype: int64"
      ]
     },
     "execution_count": 763,
     "metadata": {},
     "output_type": "execute_result"
    }
   ],
   "source": [
    "dfapi['possibly_sensitive_appealable'].value_counts()"
   ]
  },
  {
   "cell_type": "code",
   "execution_count": 764,
   "metadata": {},
   "outputs": [
    {
     "data": {
      "text/plain": [
       "en     2313\n",
       "und       7\n",
       "nl        3\n",
       "in        3\n",
       "ro        1\n",
       "eu        1\n",
       "et        1\n",
       "es        1\n",
       "tl        1\n",
       "Name: lang, dtype: int64"
      ]
     },
     "execution_count": 764,
     "metadata": {},
     "output_type": "execute_result"
    }
   ],
   "source": [
    "dfapi['lang'].value_counts()"
   ]
  },
  {
   "cell_type": "code",
   "execution_count": 765,
   "metadata": {
    "scrolled": true
   },
   "outputs": [
    {
     "data": {
      "text/plain": [
       "95      {'created_at': 'Fri Nov 20 03:41:59 +0000 2015...\n",
       "96      {'created_at': 'Fri Nov 20 03:43:06 +0000 2015...\n",
       "1112    {'created_at': 'Mon Mar 21 19:29:52 +0000 2016...\n",
       "1311    {'created_at': 'Thu Nov 19 00:32:12 +0000 2015...\n",
       "1331    {'created_at': 'Sat Nov 21 00:46:50 +0000 2015...\n",
       "                              ...                        \n",
       "2257    {'created_at': 'Tue Nov 24 03:51:38 +0000 2015...\n",
       "2258    {'created_at': 'Fri Jun 23 16:00:04 +0000 2017...\n",
       "2263    {'created_at': 'Fri Jun 23 01:10:23 +0000 2017...\n",
       "2295    {'created_at': 'Sun Feb 12 01:04:29 +0000 2017...\n",
       "2299    {'created_at': 'Sat Jul 15 02:44:07 +0000 2017...\n",
       "Name: retweeted_status, Length: 163, dtype: object"
      ]
     },
     "execution_count": 765,
     "metadata": {},
     "output_type": "execute_result"
    }
   ],
   "source": [
    "dfapi[dfapi['retweeted_status'].notnull()]['retweeted_status']"
   ]
  },
  {
   "cell_type": "code",
   "execution_count": 766,
   "metadata": {
    "scrolled": true
   },
   "outputs": [
    {
     "data": {
      "text/plain": [
       "{'created_at': 'Fri Nov 20 03:41:59 +0000 2015',\n",
       " 'id': 667548415174144001,\n",
       " 'id_str': '667548415174144001',\n",
       " 'full_text': 'Unoriginal idea. Blatant plagiarism. Curious grammar. -5/10 https://t.co/r7XzeQZWzb',\n",
       " 'truncated': False,\n",
       " 'display_text_range': [0, 83],\n",
       " 'entities': {'hashtags': [],\n",
       "  'symbols': [],\n",
       "  'user_mentions': [],\n",
       "  'urls': [],\n",
       "  'media': [{'id': 667548406944960512,\n",
       "    'id_str': '667548406944960512',\n",
       "    'indices': [60, 83],\n",
       "    'media_url': 'http://pbs.twimg.com/media/CUObvUJVEAAnYPF.jpg',\n",
       "    'media_url_https': 'https://pbs.twimg.com/media/CUObvUJVEAAnYPF.jpg',\n",
       "    'url': 'https://t.co/r7XzeQZWzb',\n",
       "    'display_url': 'pic.twitter.com/r7XzeQZWzb',\n",
       "    'expanded_url': 'https://twitter.com/dogratingrating/status/667548415174144001/photo/1',\n",
       "    'type': 'photo',\n",
       "    'sizes': {'small': {'w': 382, 'h': 680, 'resize': 'fit'},\n",
       "     'thumb': {'w': 150, 'h': 150, 'resize': 'crop'},\n",
       "     'large': {'w': 575, 'h': 1024, 'resize': 'fit'},\n",
       "     'medium': {'w': 575, 'h': 1024, 'resize': 'fit'}}}]},\n",
       " 'extended_entities': {'media': [{'id': 667548406944960512,\n",
       "    'id_str': '667548406944960512',\n",
       "    'indices': [60, 83],\n",
       "    'media_url': 'http://pbs.twimg.com/media/CUObvUJVEAAnYPF.jpg',\n",
       "    'media_url_https': 'https://pbs.twimg.com/media/CUObvUJVEAAnYPF.jpg',\n",
       "    'url': 'https://t.co/r7XzeQZWzb',\n",
       "    'display_url': 'pic.twitter.com/r7XzeQZWzb',\n",
       "    'expanded_url': 'https://twitter.com/dogratingrating/status/667548415174144001/photo/1',\n",
       "    'type': 'photo',\n",
       "    'sizes': {'small': {'w': 382, 'h': 680, 'resize': 'fit'},\n",
       "     'thumb': {'w': 150, 'h': 150, 'resize': 'crop'},\n",
       "     'large': {'w': 575, 'h': 1024, 'resize': 'fit'},\n",
       "     'medium': {'w': 575, 'h': 1024, 'resize': 'fit'}}}]},\n",
       " 'source': '<a href=\"http://twitter.com/download/iphone\" rel=\"nofollow\">Twitter for iPhone</a>',\n",
       " 'in_reply_to_status_id': None,\n",
       " 'in_reply_to_status_id_str': None,\n",
       " 'in_reply_to_user_id': None,\n",
       " 'in_reply_to_user_id_str': None,\n",
       " 'in_reply_to_screen_name': None,\n",
       " 'user': {'id': 4296831739,\n",
       "  'id_str': '4296831739',\n",
       "  'name': 'We Rate Dog Ratings',\n",
       "  'screen_name': 'dogratingrating',\n",
       "  'location': '',\n",
       "  'description': 'The account no one asked for or needed. I like to argue about dogs on the Internet.',\n",
       "  'url': None,\n",
       "  'entities': {'description': {'urls': []}},\n",
       "  'protected': False,\n",
       "  'followers_count': 204,\n",
       "  'friends_count': 1,\n",
       "  'listed_count': 1,\n",
       "  'created_at': 'Fri Nov 20 03:38:52 +0000 2015',\n",
       "  'favourites_count': 14,\n",
       "  'utc_offset': None,\n",
       "  'time_zone': None,\n",
       "  'geo_enabled': False,\n",
       "  'verified': False,\n",
       "  'statuses_count': 10,\n",
       "  'lang': None,\n",
       "  'contributors_enabled': False,\n",
       "  'is_translator': False,\n",
       "  'is_translation_enabled': False,\n",
       "  'profile_background_color': 'C0DEED',\n",
       "  'profile_background_image_url': 'http://abs.twimg.com/images/themes/theme1/bg.png',\n",
       "  'profile_background_image_url_https': 'https://abs.twimg.com/images/themes/theme1/bg.png',\n",
       "  'profile_background_tile': False,\n",
       "  'profile_image_url': 'http://pbs.twimg.com/profile_images/667548137100197888/sdEC3QMT_normal.jpg',\n",
       "  'profile_image_url_https': 'https://pbs.twimg.com/profile_images/667548137100197888/sdEC3QMT_normal.jpg',\n",
       "  'profile_banner_url': 'https://pbs.twimg.com/profile_banners/4296831739/1448046308',\n",
       "  'profile_link_color': '1DA1F2',\n",
       "  'profile_sidebar_border_color': 'C0DEED',\n",
       "  'profile_sidebar_fill_color': 'DDEEF6',\n",
       "  'profile_text_color': '333333',\n",
       "  'profile_use_background_image': True,\n",
       "  'has_extended_profile': False,\n",
       "  'default_profile': True,\n",
       "  'default_profile_image': False,\n",
       "  'following': False,\n",
       "  'follow_request_sent': False,\n",
       "  'notifications': False,\n",
       "  'translator_type': 'none'},\n",
       " 'geo': None,\n",
       " 'coordinates': None,\n",
       " 'place': None,\n",
       " 'contributors': None,\n",
       " 'is_quote_status': False,\n",
       " 'retweet_count': 32,\n",
       " 'favorite_count': 167,\n",
       " 'favorited': False,\n",
       " 'retweeted': False,\n",
       " 'possibly_sensitive': False,\n",
       " 'possibly_sensitive_appealable': False,\n",
       " 'lang': 'ro'}"
      ]
     },
     "execution_count": 766,
     "metadata": {},
     "output_type": "execute_result"
    }
   ],
   "source": [
    "dfapi['retweeted_status'][95]"
   ]
  },
  {
   "cell_type": "code",
   "execution_count": 767,
   "metadata": {},
   "outputs": [
    {
     "data": {
      "text/plain": [
       "667548406944960512"
      ]
     },
     "execution_count": 767,
     "metadata": {},
     "output_type": "execute_result"
    }
   ],
   "source": [
    "dfapi['retweeted_status'][95]['extended_entities']['media'][0]['id']"
   ]
  },
  {
   "cell_type": "code",
   "execution_count": 768,
   "metadata": {},
   "outputs": [
    {
     "data": {
      "text/plain": [
       "1030    7.061659e+17\n",
       "1117    7.099191e+17\n",
       "1154    7.166371e+17\n",
       "1200    7.251361e+17\n",
       "1314    6.721083e+17\n",
       "1460    7.591676e+17\n",
       "1543    7.719056e+17\n",
       "1672    7.888183e+17\n",
       "1728    7.961237e+17\n",
       "1796    8.044179e+17\n",
       "1808    8.065709e+17\n",
       "1888    8.179021e+17\n",
       "1942    8.239662e+17\n",
       "2010    8.322683e+17\n",
       "2059    8.389487e+17\n",
       "2073    8.413114e+17\n",
       "2096    8.460885e+17\n",
       "2098    8.464848e+17\n",
       "2146    8.556564e+17\n",
       "2203    8.664587e+17\n",
       "2224    8.710758e+17\n",
       "2243    8.744134e+17\n",
       "2248    8.761630e+17\n",
       "2259    8.785999e+17\n",
       "2289    8.839657e+17\n",
       "2299    8.860534e+17\n",
       "Name: quoted_status_id, dtype: float64"
      ]
     },
     "execution_count": 768,
     "metadata": {},
     "output_type": "execute_result"
    }
   ],
   "source": [
    "dfapi[dfapi['quoted_status_id'].notnull()]['quoted_status_id']"
   ]
  },
  {
   "cell_type": "code",
   "execution_count": 769,
   "metadata": {},
   "outputs": [
    {
     "data": {
      "text/plain": [
       "1030    706165920809492480\n",
       "1117    709919141004595201\n",
       "1154    716637124322177024\n",
       "1200    725136065078521856\n",
       "1314    672108316018024452\n",
       "1460    759167558763196416\n",
       "1543    771905568600719360\n",
       "1672    788818328538099712\n",
       "1728    796123679771897856\n",
       "1796    804417859124273152\n",
       "1808    806570933175652352\n",
       "1888    817902080979599361\n",
       "1942    823966201328046080\n",
       "2010    832268302944579584\n",
       "2059    838948714227998720\n",
       "2073    841311395547250688\n",
       "2096    846088479142531073\n",
       "2098    846484798663245829\n",
       "2146    855656431005061120\n",
       "2203    866458718883467265\n",
       "2224    871075758080503809\n",
       "2243    874413398133547008\n",
       "2248    876162994446753793\n",
       "2259    878599868507402241\n",
       "2289    883965650754039809\n",
       "2299    886053434075471873\n",
       "Name: quoted_status_id_str, dtype: object"
      ]
     },
     "execution_count": 769,
     "metadata": {},
     "output_type": "execute_result"
    }
   ],
   "source": [
    "dfapi[dfapi['quoted_status_id_str'].notnull()]['quoted_status_id_str']"
   ]
  },
  {
   "cell_type": "code",
   "execution_count": 770,
   "metadata": {},
   "outputs": [
    {
     "data": {
      "text/plain": [
       "False    2305\n",
       "True       26\n",
       "dtype: int64"
      ]
     },
     "execution_count": 770,
     "metadata": {},
     "output_type": "execute_result"
    }
   ],
   "source": [
    "(dfapi['quoted_status_id'].astype(str).str[2:16] == dfapi['quoted_status_id_str'].str[1:15]).value_counts()"
   ]
  },
  {
   "cell_type": "code",
   "execution_count": 771,
   "metadata": {},
   "outputs": [
    {
     "data": {
      "text/plain": [
       "1030    {'url': 'https://t.co/WN4C6miCzR', 'expanded':...\n",
       "1117    {'url': 'https://t.co/kJIMNyMNKV', 'expanded':...\n",
       "1154    {'url': 'https://t.co/Juid3nnLbC', 'expanded':...\n",
       "1200    {'url': 'https://t.co/BHICimO58W', 'expanded':...\n",
       "1314    {'url': 'https://t.co/RNqS7C4Y4N', 'expanded':...\n",
       "1460    {'url': 'https://t.co/fRaTGcj68A', 'expanded':...\n",
       "1543    {'url': 'https://t.co/yOVzAomJ6k', 'expanded':...\n",
       "1672    {'url': 'https://t.co/G2ms0A5jWM', 'expanded':...\n",
       "1728    {'url': 'https://t.co/a18mzkhTf6', 'expanded':...\n",
       "1796    {'url': 'https://t.co/LEZ8jR5txd', 'expanded':...\n",
       "1808    {'url': 'https://t.co/QrFkqgHR1G', 'expanded':...\n",
       "1888    {'url': 'https://t.co/bbuKxk0fM8', 'expanded':...\n",
       "1942    {'url': 'https://t.co/50qq2DItPW', 'expanded':...\n",
       "2010    {'url': 'https://t.co/8YlD5lxPbQ', 'expanded':...\n",
       "2059    {'url': 'https://t.co/ngAxYLVYHP', 'expanded':...\n",
       "2073    {'url': 'https://t.co/cEORXhwZ5K', 'expanded':...\n",
       "2096    {'url': 'https://t.co/4ctgpGcqAd', 'expanded':...\n",
       "2098    {'url': 'https://t.co/GJ8rozumsy', 'expanded':...\n",
       "2146    {'url': 'https://t.co/5BEjzT2Tth', 'expanded':...\n",
       "2203    {'url': 'https://t.co/Q8mVwWN3f4', 'expanded':...\n",
       "2224    {'url': 'https://t.co/AbBLh2FZCH', 'expanded':...\n",
       "2243    {'url': 'https://t.co/PFp4MghzBW', 'expanded':...\n",
       "2248    {'url': 'https://t.co/8yoc1CNTsu', 'expanded':...\n",
       "2259    {'url': 'https://t.co/9uABQXgjwa', 'expanded':...\n",
       "2289    {'url': 'https://t.co/uF3pQ8Wubj', 'expanded':...\n",
       "2299    {'url': 'https://t.co/WxwJmvjfxo', 'expanded':...\n",
       "Name: quoted_status_permalink, dtype: object"
      ]
     },
     "execution_count": 771,
     "metadata": {},
     "output_type": "execute_result"
    }
   ],
   "source": [
    "dfapi[dfapi['quoted_status_permalink'].notnull()]['quoted_status_permalink']"
   ]
  },
  {
   "cell_type": "code",
   "execution_count": 772,
   "metadata": {},
   "outputs": [
    {
     "data": {
      "text/plain": [
       "{'url': 'https://t.co/WN4C6miCzR',\n",
       " 'expanded': 'https://twitter.com/wgnnews/status/706165920809492480',\n",
       " 'display': 'twitter.com/wgnnews/status…'}"
      ]
     },
     "execution_count": 772,
     "metadata": {},
     "output_type": "execute_result"
    }
   ],
   "source": [
    "dfapi['quoted_status_permalink'][1030]"
   ]
  },
  {
   "cell_type": "code",
   "execution_count": 773,
   "metadata": {},
   "outputs": [
    {
     "data": {
      "text/plain": [
       "{'created_at': 'Sat Mar 05 17:14:10 +0000 2016',\n",
       " 'id': 706165920809492480,\n",
       " 'id_str': '706165920809492480',\n",
       " 'full_text': 'Dog gets behind wheel of semi, crashes into tree and parked car in Minnesota https://t.co/KygFwGfIpE https://t.co/ky2Qyz7bFC',\n",
       " 'truncated': False,\n",
       " 'display_text_range': [0, 124],\n",
       " 'entities': {'hashtags': [],\n",
       "  'symbols': [],\n",
       "  'user_mentions': [],\n",
       "  'urls': [{'url': 'https://t.co/KygFwGfIpE',\n",
       "    'expanded_url': 'http://via.wgntv.com/tXVrG',\n",
       "    'display_url': 'via.wgntv.com/tXVrG',\n",
       "    'indices': [77, 100]}],\n",
       "  'media': [{'id': 706165920281075712,\n",
       "    'id_str': '706165920281075712',\n",
       "    'indices': [101, 124],\n",
       "    'media_url': 'http://pbs.twimg.com/media/CczOKb7XIAAsMtv.jpg',\n",
       "    'media_url_https': 'https://pbs.twimg.com/media/CczOKb7XIAAsMtv.jpg',\n",
       "    'url': 'https://t.co/ky2Qyz7bFC',\n",
       "    'display_url': 'pic.twitter.com/ky2Qyz7bFC',\n",
       "    'expanded_url': 'https://twitter.com/WGNNews/status/706165920809492480/photo/1',\n",
       "    'type': 'photo',\n",
       "    'sizes': {'thumb': {'w': 150, 'h': 150, 'resize': 'crop'},\n",
       "     'small': {'w': 555, 'h': 313, 'resize': 'fit'},\n",
       "     'medium': {'w': 555, 'h': 313, 'resize': 'fit'},\n",
       "     'large': {'w': 555, 'h': 313, 'resize': 'fit'}}}]},\n",
       " 'extended_entities': {'media': [{'id': 706165920281075712,\n",
       "    'id_str': '706165920281075712',\n",
       "    'indices': [101, 124],\n",
       "    'media_url': 'http://pbs.twimg.com/media/CczOKb7XIAAsMtv.jpg',\n",
       "    'media_url_https': 'https://pbs.twimg.com/media/CczOKb7XIAAsMtv.jpg',\n",
       "    'url': 'https://t.co/ky2Qyz7bFC',\n",
       "    'display_url': 'pic.twitter.com/ky2Qyz7bFC',\n",
       "    'expanded_url': 'https://twitter.com/WGNNews/status/706165920809492480/photo/1',\n",
       "    'type': 'photo',\n",
       "    'sizes': {'thumb': {'w': 150, 'h': 150, 'resize': 'crop'},\n",
       "     'small': {'w': 555, 'h': 313, 'resize': 'fit'},\n",
       "     'medium': {'w': 555, 'h': 313, 'resize': 'fit'},\n",
       "     'large': {'w': 555, 'h': 313, 'resize': 'fit'}}}]},\n",
       " 'source': '<a href=\"http://twitter.com\" rel=\"nofollow\">Twitter Web Client</a>',\n",
       " 'in_reply_to_status_id': None,\n",
       " 'in_reply_to_status_id_str': None,\n",
       " 'in_reply_to_user_id': None,\n",
       " 'in_reply_to_user_id_str': None,\n",
       " 'in_reply_to_screen_name': None,\n",
       " 'user': {'id': 14790524,\n",
       "  'id_str': '14790524',\n",
       "  'name': 'WGN TV News',\n",
       "  'screen_name': 'WGNNews',\n",
       "  'location': 'Chicago, IL',\n",
       "  'description': \"Chicago's very own source for news, weather, sports and entertainment. Join us on Facebook http://t.co/SDUdw1qFP4 & Instagram https://t.co/PIWgjjG87Y\",\n",
       "  'url': 'http://t.co/1Ah1yoD02k',\n",
       "  'entities': {'url': {'urls': [{'url': 'http://t.co/1Ah1yoD02k',\n",
       "      'expanded_url': 'http://wgntv.com',\n",
       "      'display_url': 'wgntv.com',\n",
       "      'indices': [0, 22]}]},\n",
       "   'description': {'urls': [{'url': 'http://t.co/SDUdw1qFP4',\n",
       "      'expanded_url': 'http://on.fb.me/cOkIXr',\n",
       "      'display_url': 'on.fb.me/cOkIXr',\n",
       "      'indices': [91, 113]},\n",
       "     {'url': 'https://t.co/PIWgjjG87Y',\n",
       "      'expanded_url': 'https://instagram.com/wgnnews/',\n",
       "      'display_url': 'instagram.com/wgnnews/',\n",
       "      'indices': [126, 149]}]}},\n",
       "  'protected': False,\n",
       "  'followers_count': 301002,\n",
       "  'friends_count': 1141,\n",
       "  'listed_count': 2664,\n",
       "  'created_at': 'Thu May 15 19:28:40 +0000 2008',\n",
       "  'favourites_count': 3735,\n",
       "  'utc_offset': None,\n",
       "  'time_zone': None,\n",
       "  'geo_enabled': True,\n",
       "  'verified': True,\n",
       "  'statuses_count': 137008,\n",
       "  'lang': None,\n",
       "  'contributors_enabled': False,\n",
       "  'is_translator': False,\n",
       "  'is_translation_enabled': False,\n",
       "  'profile_background_color': 'FFFFFF',\n",
       "  'profile_background_image_url': 'http://abs.twimg.com/images/themes/theme12/bg.gif',\n",
       "  'profile_background_image_url_https': 'https://abs.twimg.com/images/themes/theme12/bg.gif',\n",
       "  'profile_background_tile': False,\n",
       "  'profile_image_url': 'http://pbs.twimg.com/profile_images/864880514120925184/d2JEmQPg_normal.jpg',\n",
       "  'profile_image_url_https': 'https://pbs.twimg.com/profile_images/864880514120925184/d2JEmQPg_normal.jpg',\n",
       "  'profile_banner_url': 'https://pbs.twimg.com/profile_banners/14790524/1495038571',\n",
       "  'profile_link_color': '0E20AD',\n",
       "  'profile_sidebar_border_color': 'FFFFFF',\n",
       "  'profile_sidebar_fill_color': 'FFF7CC',\n",
       "  'profile_text_color': '0C3E53',\n",
       "  'profile_use_background_image': True,\n",
       "  'has_extended_profile': False,\n",
       "  'default_profile': False,\n",
       "  'default_profile_image': False,\n",
       "  'following': False,\n",
       "  'follow_request_sent': False,\n",
       "  'notifications': False,\n",
       "  'translator_type': 'none'},\n",
       " 'geo': None,\n",
       " 'coordinates': None,\n",
       " 'place': None,\n",
       " 'contributors': None,\n",
       " 'is_quote_status': False,\n",
       " 'retweet_count': 2677,\n",
       " 'favorite_count': 2724,\n",
       " 'favorited': False,\n",
       " 'retweeted': False,\n",
       " 'possibly_sensitive': False,\n",
       " 'possibly_sensitive_appealable': False,\n",
       " 'lang': 'en'}"
      ]
     },
     "execution_count": 773,
     "metadata": {},
     "output_type": "execute_result"
    }
   ],
   "source": [
    "dfapi['quoted_status'][1030]"
   ]
  },
  {
   "cell_type": "code",
   "execution_count": 774,
   "metadata": {},
   "outputs": [
    {
     "data": {
      "text/plain": [
       "{'w': 555, 'h': 313, 'resize': 'fit'}"
      ]
     },
     "execution_count": 774,
     "metadata": {},
     "output_type": "execute_result"
    }
   ],
   "source": [
    "dfapi['quoted_status'][1030]['entities']['media'][0]['sizes']['small']"
   ]
  },
  {
   "cell_type": "code",
   "execution_count": null,
   "metadata": {},
   "outputs": [],
   "source": []
  },
  {
   "cell_type": "markdown",
   "metadata": {},
   "source": [
    "### Clean the files"
   ]
  },
  {
   "cell_type": "markdown",
   "metadata": {},
   "source": [
    "#### Define: \n",
    "Make a copy of the files"
   ]
  },
  {
   "cell_type": "markdown",
   "metadata": {},
   "source": [
    "#### Code"
   ]
  },
  {
   "cell_type": "code",
   "execution_count": 775,
   "metadata": {},
   "outputs": [],
   "source": [
    "dftweetorig = dftweet.copy()"
   ]
  },
  {
   "cell_type": "code",
   "execution_count": 776,
   "metadata": {},
   "outputs": [],
   "source": [
    "dfimgorig = dfimg.copy()"
   ]
  },
  {
   "cell_type": "code",
   "execution_count": 777,
   "metadata": {},
   "outputs": [],
   "source": [
    "dfapiorig = dfapi.copy()"
   ]
  },
  {
   "cell_type": "markdown",
   "metadata": {},
   "source": [
    "#### Test"
   ]
  },
  {
   "cell_type": "code",
   "execution_count": 778,
   "metadata": {},
   "outputs": [
    {
     "data": {
      "text/plain": [
       "True"
      ]
     },
     "execution_count": 778,
     "metadata": {},
     "output_type": "execute_result"
    }
   ],
   "source": [
    "dftweet.equals(dftweetorig)"
   ]
  },
  {
   "cell_type": "code",
   "execution_count": 779,
   "metadata": {},
   "outputs": [
    {
     "data": {
      "text/plain": [
       "True"
      ]
     },
     "execution_count": 779,
     "metadata": {},
     "output_type": "execute_result"
    }
   ],
   "source": [
    "dfimg.equals(dfimgorig)"
   ]
  },
  {
   "cell_type": "code",
   "execution_count": 780,
   "metadata": {
    "scrolled": false
   },
   "outputs": [
    {
     "data": {
      "text/plain": [
       "True"
      ]
     },
     "execution_count": 780,
     "metadata": {},
     "output_type": "execute_result"
    }
   ],
   "source": [
    "dfapi.equals(dfapiorig)"
   ]
  },
  {
   "cell_type": "code",
   "execution_count": null,
   "metadata": {},
   "outputs": [],
   "source": []
  },
  {
   "cell_type": "markdown",
   "metadata": {},
   "source": [
    "#### Define:\n",
    "Tidiness: Remove retweets from dftweet"
   ]
  },
  {
   "cell_type": "markdown",
   "metadata": {},
   "source": [
    "#### Code:"
   ]
  },
  {
   "cell_type": "code",
   "execution_count": 781,
   "metadata": {},
   "outputs": [],
   "source": [
    "dftweet = dftweet[~dftweet['in_reply_to_status_id'].notnull()]"
   ]
  },
  {
   "cell_type": "markdown",
   "metadata": {},
   "source": [
    "#### Test:"
   ]
  },
  {
   "cell_type": "code",
   "execution_count": 782,
   "metadata": {},
   "outputs": [
    {
     "data": {
      "text/html": [
       "<div>\n",
       "<style scoped>\n",
       "    .dataframe tbody tr th:only-of-type {\n",
       "        vertical-align: middle;\n",
       "    }\n",
       "\n",
       "    .dataframe tbody tr th {\n",
       "        vertical-align: top;\n",
       "    }\n",
       "\n",
       "    .dataframe thead th {\n",
       "        text-align: right;\n",
       "    }\n",
       "</style>\n",
       "<table border=\"1\" class=\"dataframe\">\n",
       "  <thead>\n",
       "    <tr style=\"text-align: right;\">\n",
       "      <th></th>\n",
       "      <th>tweet_id</th>\n",
       "      <th>in_reply_to_status_id</th>\n",
       "      <th>in_reply_to_user_id</th>\n",
       "      <th>timestamp</th>\n",
       "      <th>source</th>\n",
       "      <th>text</th>\n",
       "      <th>retweeted_status_id</th>\n",
       "      <th>retweeted_status_user_id</th>\n",
       "      <th>retweeted_status_timestamp</th>\n",
       "      <th>expanded_urls</th>\n",
       "      <th>rating_numerator</th>\n",
       "      <th>rating_denominator</th>\n",
       "      <th>name</th>\n",
       "      <th>doggo</th>\n",
       "      <th>floofer</th>\n",
       "      <th>pupper</th>\n",
       "      <th>puppo</th>\n",
       "    </tr>\n",
       "  </thead>\n",
       "  <tbody>\n",
       "  </tbody>\n",
       "</table>\n",
       "</div>"
      ],
      "text/plain": [
       "Empty DataFrame\n",
       "Columns: [tweet_id, in_reply_to_status_id, in_reply_to_user_id, timestamp, source, text, retweeted_status_id, retweeted_status_user_id, retweeted_status_timestamp, expanded_urls, rating_numerator, rating_denominator, name, doggo, floofer, pupper, puppo]\n",
       "Index: []"
      ]
     },
     "execution_count": 782,
     "metadata": {},
     "output_type": "execute_result"
    }
   ],
   "source": [
    "dftweet[dftweet['in_reply_to_status_id'].notnull()]"
   ]
  },
  {
   "cell_type": "code",
   "execution_count": null,
   "metadata": {},
   "outputs": [],
   "source": []
  },
  {
   "cell_type": "markdown",
   "metadata": {},
   "source": [
    "#### Define: \n",
    "Tidiness: Remove the unnecessary columns from dftweet"
   ]
  },
  {
   "cell_type": "code",
   "execution_count": 783,
   "metadata": {},
   "outputs": [
    {
     "data": {
      "text/html": [
       "<div>\n",
       "<style scoped>\n",
       "    .dataframe tbody tr th:only-of-type {\n",
       "        vertical-align: middle;\n",
       "    }\n",
       "\n",
       "    .dataframe tbody tr th {\n",
       "        vertical-align: top;\n",
       "    }\n",
       "\n",
       "    .dataframe thead th {\n",
       "        text-align: right;\n",
       "    }\n",
       "</style>\n",
       "<table border=\"1\" class=\"dataframe\">\n",
       "  <thead>\n",
       "    <tr style=\"text-align: right;\">\n",
       "      <th></th>\n",
       "      <th>tweet_id</th>\n",
       "      <th>in_reply_to_status_id</th>\n",
       "      <th>in_reply_to_user_id</th>\n",
       "      <th>timestamp</th>\n",
       "      <th>source</th>\n",
       "      <th>text</th>\n",
       "      <th>retweeted_status_id</th>\n",
       "      <th>retweeted_status_user_id</th>\n",
       "      <th>retweeted_status_timestamp</th>\n",
       "      <th>expanded_urls</th>\n",
       "      <th>rating_numerator</th>\n",
       "      <th>rating_denominator</th>\n",
       "      <th>name</th>\n",
       "      <th>doggo</th>\n",
       "      <th>floofer</th>\n",
       "      <th>pupper</th>\n",
       "      <th>puppo</th>\n",
       "    </tr>\n",
       "  </thead>\n",
       "  <tbody>\n",
       "    <tr>\n",
       "      <th>0</th>\n",
       "      <td>892420643555336193</td>\n",
       "      <td>NaN</td>\n",
       "      <td>NaN</td>\n",
       "      <td>2017-08-01 16:23:56 +0000</td>\n",
       "      <td>&lt;a href=\"http://twitter.com/download/iphone\" r...</td>\n",
       "      <td>This is Phineas. He's a mystical boy. Only eve...</td>\n",
       "      <td>NaN</td>\n",
       "      <td>NaN</td>\n",
       "      <td>NaN</td>\n",
       "      <td>https://twitter.com/dog_rates/status/892420643...</td>\n",
       "      <td>13</td>\n",
       "      <td>10</td>\n",
       "      <td>Phineas</td>\n",
       "      <td>None</td>\n",
       "      <td>None</td>\n",
       "      <td>None</td>\n",
       "      <td>None</td>\n",
       "    </tr>\n",
       "    <tr>\n",
       "      <th>1</th>\n",
       "      <td>892177421306343426</td>\n",
       "      <td>NaN</td>\n",
       "      <td>NaN</td>\n",
       "      <td>2017-08-01 00:17:27 +0000</td>\n",
       "      <td>&lt;a href=\"http://twitter.com/download/iphone\" r...</td>\n",
       "      <td>This is Tilly. She's just checking pup on you....</td>\n",
       "      <td>NaN</td>\n",
       "      <td>NaN</td>\n",
       "      <td>NaN</td>\n",
       "      <td>https://twitter.com/dog_rates/status/892177421...</td>\n",
       "      <td>13</td>\n",
       "      <td>10</td>\n",
       "      <td>Tilly</td>\n",
       "      <td>None</td>\n",
       "      <td>None</td>\n",
       "      <td>None</td>\n",
       "      <td>None</td>\n",
       "    </tr>\n",
       "    <tr>\n",
       "      <th>2</th>\n",
       "      <td>891815181378084864</td>\n",
       "      <td>NaN</td>\n",
       "      <td>NaN</td>\n",
       "      <td>2017-07-31 00:18:03 +0000</td>\n",
       "      <td>&lt;a href=\"http://twitter.com/download/iphone\" r...</td>\n",
       "      <td>This is Archie. He is a rare Norwegian Pouncin...</td>\n",
       "      <td>NaN</td>\n",
       "      <td>NaN</td>\n",
       "      <td>NaN</td>\n",
       "      <td>https://twitter.com/dog_rates/status/891815181...</td>\n",
       "      <td>12</td>\n",
       "      <td>10</td>\n",
       "      <td>Archie</td>\n",
       "      <td>None</td>\n",
       "      <td>None</td>\n",
       "      <td>None</td>\n",
       "      <td>None</td>\n",
       "    </tr>\n",
       "    <tr>\n",
       "      <th>3</th>\n",
       "      <td>891689557279858688</td>\n",
       "      <td>NaN</td>\n",
       "      <td>NaN</td>\n",
       "      <td>2017-07-30 15:58:51 +0000</td>\n",
       "      <td>&lt;a href=\"http://twitter.com/download/iphone\" r...</td>\n",
       "      <td>This is Darla. She commenced a snooze mid meal...</td>\n",
       "      <td>NaN</td>\n",
       "      <td>NaN</td>\n",
       "      <td>NaN</td>\n",
       "      <td>https://twitter.com/dog_rates/status/891689557...</td>\n",
       "      <td>13</td>\n",
       "      <td>10</td>\n",
       "      <td>Darla</td>\n",
       "      <td>None</td>\n",
       "      <td>None</td>\n",
       "      <td>None</td>\n",
       "      <td>None</td>\n",
       "    </tr>\n",
       "    <tr>\n",
       "      <th>4</th>\n",
       "      <td>891327558926688256</td>\n",
       "      <td>NaN</td>\n",
       "      <td>NaN</td>\n",
       "      <td>2017-07-29 16:00:24 +0000</td>\n",
       "      <td>&lt;a href=\"http://twitter.com/download/iphone\" r...</td>\n",
       "      <td>This is Franklin. He would like you to stop ca...</td>\n",
       "      <td>NaN</td>\n",
       "      <td>NaN</td>\n",
       "      <td>NaN</td>\n",
       "      <td>https://twitter.com/dog_rates/status/891327558...</td>\n",
       "      <td>12</td>\n",
       "      <td>10</td>\n",
       "      <td>Franklin</td>\n",
       "      <td>None</td>\n",
       "      <td>None</td>\n",
       "      <td>None</td>\n",
       "      <td>None</td>\n",
       "    </tr>\n",
       "  </tbody>\n",
       "</table>\n",
       "</div>"
      ],
      "text/plain": [
       "             tweet_id  in_reply_to_status_id  in_reply_to_user_id  \\\n",
       "0  892420643555336193                    NaN                  NaN   \n",
       "1  892177421306343426                    NaN                  NaN   \n",
       "2  891815181378084864                    NaN                  NaN   \n",
       "3  891689557279858688                    NaN                  NaN   \n",
       "4  891327558926688256                    NaN                  NaN   \n",
       "\n",
       "                   timestamp  \\\n",
       "0  2017-08-01 16:23:56 +0000   \n",
       "1  2017-08-01 00:17:27 +0000   \n",
       "2  2017-07-31 00:18:03 +0000   \n",
       "3  2017-07-30 15:58:51 +0000   \n",
       "4  2017-07-29 16:00:24 +0000   \n",
       "\n",
       "                                              source  \\\n",
       "0  <a href=\"http://twitter.com/download/iphone\" r...   \n",
       "1  <a href=\"http://twitter.com/download/iphone\" r...   \n",
       "2  <a href=\"http://twitter.com/download/iphone\" r...   \n",
       "3  <a href=\"http://twitter.com/download/iphone\" r...   \n",
       "4  <a href=\"http://twitter.com/download/iphone\" r...   \n",
       "\n",
       "                                                text  retweeted_status_id  \\\n",
       "0  This is Phineas. He's a mystical boy. Only eve...                  NaN   \n",
       "1  This is Tilly. She's just checking pup on you....                  NaN   \n",
       "2  This is Archie. He is a rare Norwegian Pouncin...                  NaN   \n",
       "3  This is Darla. She commenced a snooze mid meal...                  NaN   \n",
       "4  This is Franklin. He would like you to stop ca...                  NaN   \n",
       "\n",
       "   retweeted_status_user_id retweeted_status_timestamp  \\\n",
       "0                       NaN                        NaN   \n",
       "1                       NaN                        NaN   \n",
       "2                       NaN                        NaN   \n",
       "3                       NaN                        NaN   \n",
       "4                       NaN                        NaN   \n",
       "\n",
       "                                       expanded_urls  rating_numerator  \\\n",
       "0  https://twitter.com/dog_rates/status/892420643...                13   \n",
       "1  https://twitter.com/dog_rates/status/892177421...                13   \n",
       "2  https://twitter.com/dog_rates/status/891815181...                12   \n",
       "3  https://twitter.com/dog_rates/status/891689557...                13   \n",
       "4  https://twitter.com/dog_rates/status/891327558...                12   \n",
       "\n",
       "   rating_denominator      name doggo floofer pupper puppo  \n",
       "0                  10   Phineas  None    None   None  None  \n",
       "1                  10     Tilly  None    None   None  None  \n",
       "2                  10    Archie  None    None   None  None  \n",
       "3                  10     Darla  None    None   None  None  \n",
       "4                  10  Franklin  None    None   None  None  "
      ]
     },
     "execution_count": 783,
     "metadata": {},
     "output_type": "execute_result"
    }
   ],
   "source": [
    "dftweet.head()"
   ]
  },
  {
   "cell_type": "markdown",
   "metadata": {},
   "source": [
    "#### Code:"
   ]
  },
  {
   "cell_type": "code",
   "execution_count": 784,
   "metadata": {},
   "outputs": [],
   "source": [
    "dftweet.drop(['in_reply_to_status_id','in_reply_to_user_id','source','retweeted_status_id','retweeted_status_user_id','retweeted_status_timestamp','expanded_urls'],axis=1, inplace=True)"
   ]
  },
  {
   "cell_type": "markdown",
   "metadata": {},
   "source": [
    "#### Test:"
   ]
  },
  {
   "cell_type": "code",
   "execution_count": 785,
   "metadata": {
    "scrolled": true
   },
   "outputs": [
    {
     "data": {
      "text/html": [
       "<div>\n",
       "<style scoped>\n",
       "    .dataframe tbody tr th:only-of-type {\n",
       "        vertical-align: middle;\n",
       "    }\n",
       "\n",
       "    .dataframe tbody tr th {\n",
       "        vertical-align: top;\n",
       "    }\n",
       "\n",
       "    .dataframe thead th {\n",
       "        text-align: right;\n",
       "    }\n",
       "</style>\n",
       "<table border=\"1\" class=\"dataframe\">\n",
       "  <thead>\n",
       "    <tr style=\"text-align: right;\">\n",
       "      <th></th>\n",
       "      <th>tweet_id</th>\n",
       "      <th>timestamp</th>\n",
       "      <th>text</th>\n",
       "      <th>rating_numerator</th>\n",
       "      <th>rating_denominator</th>\n",
       "      <th>name</th>\n",
       "      <th>doggo</th>\n",
       "      <th>floofer</th>\n",
       "      <th>pupper</th>\n",
       "      <th>puppo</th>\n",
       "    </tr>\n",
       "  </thead>\n",
       "  <tbody>\n",
       "    <tr>\n",
       "      <th>0</th>\n",
       "      <td>892420643555336193</td>\n",
       "      <td>2017-08-01 16:23:56 +0000</td>\n",
       "      <td>This is Phineas. He's a mystical boy. Only eve...</td>\n",
       "      <td>13</td>\n",
       "      <td>10</td>\n",
       "      <td>Phineas</td>\n",
       "      <td>None</td>\n",
       "      <td>None</td>\n",
       "      <td>None</td>\n",
       "      <td>None</td>\n",
       "    </tr>\n",
       "    <tr>\n",
       "      <th>1</th>\n",
       "      <td>892177421306343426</td>\n",
       "      <td>2017-08-01 00:17:27 +0000</td>\n",
       "      <td>This is Tilly. She's just checking pup on you....</td>\n",
       "      <td>13</td>\n",
       "      <td>10</td>\n",
       "      <td>Tilly</td>\n",
       "      <td>None</td>\n",
       "      <td>None</td>\n",
       "      <td>None</td>\n",
       "      <td>None</td>\n",
       "    </tr>\n",
       "    <tr>\n",
       "      <th>2</th>\n",
       "      <td>891815181378084864</td>\n",
       "      <td>2017-07-31 00:18:03 +0000</td>\n",
       "      <td>This is Archie. He is a rare Norwegian Pouncin...</td>\n",
       "      <td>12</td>\n",
       "      <td>10</td>\n",
       "      <td>Archie</td>\n",
       "      <td>None</td>\n",
       "      <td>None</td>\n",
       "      <td>None</td>\n",
       "      <td>None</td>\n",
       "    </tr>\n",
       "    <tr>\n",
       "      <th>3</th>\n",
       "      <td>891689557279858688</td>\n",
       "      <td>2017-07-30 15:58:51 +0000</td>\n",
       "      <td>This is Darla. She commenced a snooze mid meal...</td>\n",
       "      <td>13</td>\n",
       "      <td>10</td>\n",
       "      <td>Darla</td>\n",
       "      <td>None</td>\n",
       "      <td>None</td>\n",
       "      <td>None</td>\n",
       "      <td>None</td>\n",
       "    </tr>\n",
       "    <tr>\n",
       "      <th>4</th>\n",
       "      <td>891327558926688256</td>\n",
       "      <td>2017-07-29 16:00:24 +0000</td>\n",
       "      <td>This is Franklin. He would like you to stop ca...</td>\n",
       "      <td>12</td>\n",
       "      <td>10</td>\n",
       "      <td>Franklin</td>\n",
       "      <td>None</td>\n",
       "      <td>None</td>\n",
       "      <td>None</td>\n",
       "      <td>None</td>\n",
       "    </tr>\n",
       "  </tbody>\n",
       "</table>\n",
       "</div>"
      ],
      "text/plain": [
       "             tweet_id                  timestamp  \\\n",
       "0  892420643555336193  2017-08-01 16:23:56 +0000   \n",
       "1  892177421306343426  2017-08-01 00:17:27 +0000   \n",
       "2  891815181378084864  2017-07-31 00:18:03 +0000   \n",
       "3  891689557279858688  2017-07-30 15:58:51 +0000   \n",
       "4  891327558926688256  2017-07-29 16:00:24 +0000   \n",
       "\n",
       "                                                text  rating_numerator  \\\n",
       "0  This is Phineas. He's a mystical boy. Only eve...                13   \n",
       "1  This is Tilly. She's just checking pup on you....                13   \n",
       "2  This is Archie. He is a rare Norwegian Pouncin...                12   \n",
       "3  This is Darla. She commenced a snooze mid meal...                13   \n",
       "4  This is Franklin. He would like you to stop ca...                12   \n",
       "\n",
       "   rating_denominator      name doggo floofer pupper puppo  \n",
       "0                  10   Phineas  None    None   None  None  \n",
       "1                  10     Tilly  None    None   None  None  \n",
       "2                  10    Archie  None    None   None  None  \n",
       "3                  10     Darla  None    None   None  None  \n",
       "4                  10  Franklin  None    None   None  None  "
      ]
     },
     "execution_count": 785,
     "metadata": {},
     "output_type": "execute_result"
    }
   ],
   "source": [
    "dftweet.head()"
   ]
  },
  {
   "cell_type": "code",
   "execution_count": null,
   "metadata": {},
   "outputs": [],
   "source": []
  },
  {
   "cell_type": "markdown",
   "metadata": {},
   "source": [
    "#### Define:\n",
    "Tidiness: Remove retweets from dfapi"
   ]
  },
  {
   "cell_type": "markdown",
   "metadata": {},
   "source": [
    "#### Code:"
   ]
  },
  {
   "cell_type": "code",
   "execution_count": 786,
   "metadata": {
    "scrolled": true
   },
   "outputs": [],
   "source": [
    "dfapi = dfapi[~dfapi['in_reply_to_status_id'].notnull()]"
   ]
  },
  {
   "cell_type": "markdown",
   "metadata": {},
   "source": [
    "#### Test:"
   ]
  },
  {
   "cell_type": "code",
   "execution_count": 787,
   "metadata": {},
   "outputs": [
    {
     "data": {
      "text/html": [
       "<div>\n",
       "<style scoped>\n",
       "    .dataframe tbody tr th:only-of-type {\n",
       "        vertical-align: middle;\n",
       "    }\n",
       "\n",
       "    .dataframe tbody tr th {\n",
       "        vertical-align: top;\n",
       "    }\n",
       "\n",
       "    .dataframe thead th {\n",
       "        text-align: right;\n",
       "    }\n",
       "</style>\n",
       "<table border=\"1\" class=\"dataframe\">\n",
       "  <thead>\n",
       "    <tr style=\"text-align: right;\">\n",
       "      <th></th>\n",
       "      <th>created_at</th>\n",
       "      <th>id</th>\n",
       "      <th>id_str</th>\n",
       "      <th>full_text</th>\n",
       "      <th>truncated</th>\n",
       "      <th>display_text_range</th>\n",
       "      <th>entities</th>\n",
       "      <th>extended_entities</th>\n",
       "      <th>source</th>\n",
       "      <th>in_reply_to_status_id</th>\n",
       "      <th>...</th>\n",
       "      <th>favorited</th>\n",
       "      <th>retweeted</th>\n",
       "      <th>possibly_sensitive</th>\n",
       "      <th>possibly_sensitive_appealable</th>\n",
       "      <th>lang</th>\n",
       "      <th>retweeted_status</th>\n",
       "      <th>quoted_status_id</th>\n",
       "      <th>quoted_status_id_str</th>\n",
       "      <th>quoted_status_permalink</th>\n",
       "      <th>quoted_status</th>\n",
       "    </tr>\n",
       "  </thead>\n",
       "  <tbody>\n",
       "  </tbody>\n",
       "</table>\n",
       "<p>0 rows × 32 columns</p>\n",
       "</div>"
      ],
      "text/plain": [
       "Empty DataFrame\n",
       "Columns: [created_at, id, id_str, full_text, truncated, display_text_range, entities, extended_entities, source, in_reply_to_status_id, in_reply_to_status_id_str, in_reply_to_user_id, in_reply_to_user_id_str, in_reply_to_screen_name, user, geo, coordinates, place, contributors, is_quote_status, retweet_count, favorite_count, favorited, retweeted, possibly_sensitive, possibly_sensitive_appealable, lang, retweeted_status, quoted_status_id, quoted_status_id_str, quoted_status_permalink, quoted_status]\n",
       "Index: []\n",
       "\n",
       "[0 rows x 32 columns]"
      ]
     },
     "execution_count": 787,
     "metadata": {},
     "output_type": "execute_result"
    }
   ],
   "source": [
    "dfapi[dfapi['in_reply_to_status_id'].notnull()]"
   ]
  },
  {
   "cell_type": "code",
   "execution_count": null,
   "metadata": {},
   "outputs": [],
   "source": []
  },
  {
   "cell_type": "markdown",
   "metadata": {},
   "source": [
    "#### Define:\n",
    "Tidiness: Remove retweets from dfapi (those beginning with 'RT')"
   ]
  },
  {
   "cell_type": "markdown",
   "metadata": {},
   "source": [
    "#### Code:"
   ]
  },
  {
   "cell_type": "code",
   "execution_count": 788,
   "metadata": {},
   "outputs": [
    {
     "data": {
      "text/html": [
       "<div>\n",
       "<style scoped>\n",
       "    .dataframe tbody tr th:only-of-type {\n",
       "        vertical-align: middle;\n",
       "    }\n",
       "\n",
       "    .dataframe tbody tr th {\n",
       "        vertical-align: top;\n",
       "    }\n",
       "\n",
       "    .dataframe thead th {\n",
       "        text-align: right;\n",
       "    }\n",
       "</style>\n",
       "<table border=\"1\" class=\"dataframe\">\n",
       "  <thead>\n",
       "    <tr style=\"text-align: right;\">\n",
       "      <th></th>\n",
       "      <th>created_at</th>\n",
       "      <th>id</th>\n",
       "      <th>id_str</th>\n",
       "      <th>full_text</th>\n",
       "      <th>truncated</th>\n",
       "      <th>display_text_range</th>\n",
       "      <th>entities</th>\n",
       "      <th>extended_entities</th>\n",
       "      <th>source</th>\n",
       "      <th>in_reply_to_status_id</th>\n",
       "      <th>...</th>\n",
       "      <th>favorited</th>\n",
       "      <th>retweeted</th>\n",
       "      <th>possibly_sensitive</th>\n",
       "      <th>possibly_sensitive_appealable</th>\n",
       "      <th>lang</th>\n",
       "      <th>retweeted_status</th>\n",
       "      <th>quoted_status_id</th>\n",
       "      <th>quoted_status_id_str</th>\n",
       "      <th>quoted_status_permalink</th>\n",
       "      <th>quoted_status</th>\n",
       "    </tr>\n",
       "  </thead>\n",
       "  <tbody>\n",
       "    <tr>\n",
       "      <th>95</th>\n",
       "      <td>Fri Nov 20 03:51:47 +0000 2015</td>\n",
       "      <td>667550882905632768</td>\n",
       "      <td>667550882905632768</td>\n",
       "      <td>RT @dogratingrating: Unoriginal idea. Blatant ...</td>\n",
       "      <td>False</td>\n",
       "      <td>[0, 104]</td>\n",
       "      <td>{'hashtags': [], 'symbols': [], 'user_mentions...</td>\n",
       "      <td>{'media': [{'id': 667548406944960512, 'id_str'...</td>\n",
       "      <td>&lt;a href=\"http://twitter.com\" rel=\"nofollow\"&gt;Tw...</td>\n",
       "      <td>NaN</td>\n",
       "      <td>...</td>\n",
       "      <td>False</td>\n",
       "      <td>False</td>\n",
       "      <td>False</td>\n",
       "      <td>False</td>\n",
       "      <td>ro</td>\n",
       "      <td>{'created_at': 'Fri Nov 20 03:41:59 +0000 2015...</td>\n",
       "      <td>NaN</td>\n",
       "      <td>NaN</td>\n",
       "      <td>NaN</td>\n",
       "      <td>NaN</td>\n",
       "    </tr>\n",
       "    <tr>\n",
       "      <th>96</th>\n",
       "      <td>Fri Nov 20 03:51:52 +0000 2015</td>\n",
       "      <td>667550904950915073</td>\n",
       "      <td>667550904950915073</td>\n",
       "      <td>RT @dogratingrating: Exceptional talent. Origi...</td>\n",
       "      <td>False</td>\n",
       "      <td>[0, 123]</td>\n",
       "      <td>{'hashtags': [], 'symbols': [], 'user_mentions...</td>\n",
       "      <td>{'media': [{'id': 667548685090197504, 'id_str'...</td>\n",
       "      <td>&lt;a href=\"http://twitter.com\" rel=\"nofollow\"&gt;Tw...</td>\n",
       "      <td>NaN</td>\n",
       "      <td>...</td>\n",
       "      <td>False</td>\n",
       "      <td>False</td>\n",
       "      <td>False</td>\n",
       "      <td>False</td>\n",
       "      <td>en</td>\n",
       "      <td>{'created_at': 'Fri Nov 20 03:43:06 +0000 2015...</td>\n",
       "      <td>NaN</td>\n",
       "      <td>NaN</td>\n",
       "      <td>NaN</td>\n",
       "      <td>NaN</td>\n",
       "    </tr>\n",
       "    <tr>\n",
       "      <th>495</th>\n",
       "      <td>Sat Dec 12 01:38:53 +0000 2015</td>\n",
       "      <td>675489971617296384</td>\n",
       "      <td>675489971617296384</td>\n",
       "      <td>RT until we find this dog. Clearly a cool dog ...</td>\n",
       "      <td>False</td>\n",
       "      <td>[0, 136]</td>\n",
       "      <td>{'hashtags': [], 'symbols': [], 'user_mentions...</td>\n",
       "      <td>{'media': [{'id': 675489960972165120, 'id_str'...</td>\n",
       "      <td>&lt;a href=\"http://twitter.com/download/iphone\" r...</td>\n",
       "      <td>NaN</td>\n",
       "      <td>...</td>\n",
       "      <td>False</td>\n",
       "      <td>False</td>\n",
       "      <td>False</td>\n",
       "      <td>False</td>\n",
       "      <td>en</td>\n",
       "      <td>NaN</td>\n",
       "      <td>NaN</td>\n",
       "      <td>NaN</td>\n",
       "      <td>NaN</td>\n",
       "      <td>NaN</td>\n",
       "    </tr>\n",
       "    <tr>\n",
       "      <th>1068</th>\n",
       "      <td>Fri Mar 11 21:15:02 +0000 2016</td>\n",
       "      <td>708400866336894977</td>\n",
       "      <td>708400866336894977</td>\n",
       "      <td>RT if you are as ready for summer as this pup ...</td>\n",
       "      <td>False</td>\n",
       "      <td>[0, 78]</td>\n",
       "      <td>{'hashtags': [], 'symbols': [], 'user_mentions...</td>\n",
       "      <td>NaN</td>\n",
       "      <td>&lt;a href=\"http://vine.co\" rel=\"nofollow\"&gt;Vine -...</td>\n",
       "      <td>NaN</td>\n",
       "      <td>...</td>\n",
       "      <td>False</td>\n",
       "      <td>False</td>\n",
       "      <td>False</td>\n",
       "      <td>False</td>\n",
       "      <td>en</td>\n",
       "      <td>NaN</td>\n",
       "      <td>NaN</td>\n",
       "      <td>NaN</td>\n",
       "      <td>NaN</td>\n",
       "      <td>NaN</td>\n",
       "    </tr>\n",
       "    <tr>\n",
       "      <th>1112</th>\n",
       "      <td>Mon Mar 21 19:31:59 +0000 2016</td>\n",
       "      <td>711998809858043904</td>\n",
       "      <td>711998809858043904</td>\n",
       "      <td>RT @twitter: @dog_rates Awesome Tweet! 12/10. ...</td>\n",
       "      <td>False</td>\n",
       "      <td>[0, 97]</td>\n",
       "      <td>{'hashtags': [{'text': 'LoveTwitter', 'indices...</td>\n",
       "      <td>{'media': [{'id': 711998175234510848, 'id_str'...</td>\n",
       "      <td>&lt;a href=\"http://twitter.com/download/iphone\" r...</td>\n",
       "      <td>NaN</td>\n",
       "      <td>...</td>\n",
       "      <td>False</td>\n",
       "      <td>False</td>\n",
       "      <td>False</td>\n",
       "      <td>False</td>\n",
       "      <td>en</td>\n",
       "      <td>{'created_at': 'Mon Mar 21 19:29:52 +0000 2016...</td>\n",
       "      <td>NaN</td>\n",
       "      <td>NaN</td>\n",
       "      <td>NaN</td>\n",
       "      <td>NaN</td>\n",
       "    </tr>\n",
       "  </tbody>\n",
       "</table>\n",
       "<p>5 rows × 32 columns</p>\n",
       "</div>"
      ],
      "text/plain": [
       "                          created_at                  id              id_str  \\\n",
       "95    Fri Nov 20 03:51:47 +0000 2015  667550882905632768  667550882905632768   \n",
       "96    Fri Nov 20 03:51:52 +0000 2015  667550904950915073  667550904950915073   \n",
       "495   Sat Dec 12 01:38:53 +0000 2015  675489971617296384  675489971617296384   \n",
       "1068  Fri Mar 11 21:15:02 +0000 2016  708400866336894977  708400866336894977   \n",
       "1112  Mon Mar 21 19:31:59 +0000 2016  711998809858043904  711998809858043904   \n",
       "\n",
       "                                              full_text  truncated  \\\n",
       "95    RT @dogratingrating: Unoriginal idea. Blatant ...      False   \n",
       "96    RT @dogratingrating: Exceptional talent. Origi...      False   \n",
       "495   RT until we find this dog. Clearly a cool dog ...      False   \n",
       "1068  RT if you are as ready for summer as this pup ...      False   \n",
       "1112  RT @twitter: @dog_rates Awesome Tweet! 12/10. ...      False   \n",
       "\n",
       "     display_text_range                                           entities  \\\n",
       "95             [0, 104]  {'hashtags': [], 'symbols': [], 'user_mentions...   \n",
       "96             [0, 123]  {'hashtags': [], 'symbols': [], 'user_mentions...   \n",
       "495            [0, 136]  {'hashtags': [], 'symbols': [], 'user_mentions...   \n",
       "1068            [0, 78]  {'hashtags': [], 'symbols': [], 'user_mentions...   \n",
       "1112            [0, 97]  {'hashtags': [{'text': 'LoveTwitter', 'indices...   \n",
       "\n",
       "                                      extended_entities  \\\n",
       "95    {'media': [{'id': 667548406944960512, 'id_str'...   \n",
       "96    {'media': [{'id': 667548685090197504, 'id_str'...   \n",
       "495   {'media': [{'id': 675489960972165120, 'id_str'...   \n",
       "1068                                                NaN   \n",
       "1112  {'media': [{'id': 711998175234510848, 'id_str'...   \n",
       "\n",
       "                                                 source  \\\n",
       "95    <a href=\"http://twitter.com\" rel=\"nofollow\">Tw...   \n",
       "96    <a href=\"http://twitter.com\" rel=\"nofollow\">Tw...   \n",
       "495   <a href=\"http://twitter.com/download/iphone\" r...   \n",
       "1068  <a href=\"http://vine.co\" rel=\"nofollow\">Vine -...   \n",
       "1112  <a href=\"http://twitter.com/download/iphone\" r...   \n",
       "\n",
       "      in_reply_to_status_id  ... favorited  retweeted possibly_sensitive  \\\n",
       "95                      NaN  ...     False      False              False   \n",
       "96                      NaN  ...     False      False              False   \n",
       "495                     NaN  ...     False      False              False   \n",
       "1068                    NaN  ...     False      False              False   \n",
       "1112                    NaN  ...     False      False              False   \n",
       "\n",
       "     possibly_sensitive_appealable lang  \\\n",
       "95                           False   ro   \n",
       "96                           False   en   \n",
       "495                          False   en   \n",
       "1068                         False   en   \n",
       "1112                         False   en   \n",
       "\n",
       "                                       retweeted_status quoted_status_id  \\\n",
       "95    {'created_at': 'Fri Nov 20 03:41:59 +0000 2015...              NaN   \n",
       "96    {'created_at': 'Fri Nov 20 03:43:06 +0000 2015...              NaN   \n",
       "495                                                 NaN              NaN   \n",
       "1068                                                NaN              NaN   \n",
       "1112  {'created_at': 'Mon Mar 21 19:29:52 +0000 2016...              NaN   \n",
       "\n",
       "     quoted_status_id_str quoted_status_permalink  quoted_status  \n",
       "95                    NaN                     NaN            NaN  \n",
       "96                    NaN                     NaN            NaN  \n",
       "495                   NaN                     NaN            NaN  \n",
       "1068                  NaN                     NaN            NaN  \n",
       "1112                  NaN                     NaN            NaN  \n",
       "\n",
       "[5 rows x 32 columns]"
      ]
     },
     "execution_count": 788,
     "metadata": {},
     "output_type": "execute_result"
    }
   ],
   "source": [
    "dfapi[dfapi['full_text'].astype(str).str[:2] == 'RT'].head()"
   ]
  },
  {
   "cell_type": "code",
   "execution_count": 789,
   "metadata": {},
   "outputs": [],
   "source": [
    "dfapi = dfapi[dfapi['full_text'].astype(str).str[:2] != 'RT']"
   ]
  },
  {
   "cell_type": "markdown",
   "metadata": {},
   "source": [
    "#### Test:"
   ]
  },
  {
   "cell_type": "code",
   "execution_count": 790,
   "metadata": {},
   "outputs": [
    {
     "data": {
      "text/html": [
       "<div>\n",
       "<style scoped>\n",
       "    .dataframe tbody tr th:only-of-type {\n",
       "        vertical-align: middle;\n",
       "    }\n",
       "\n",
       "    .dataframe tbody tr th {\n",
       "        vertical-align: top;\n",
       "    }\n",
       "\n",
       "    .dataframe thead th {\n",
       "        text-align: right;\n",
       "    }\n",
       "</style>\n",
       "<table border=\"1\" class=\"dataframe\">\n",
       "  <thead>\n",
       "    <tr style=\"text-align: right;\">\n",
       "      <th></th>\n",
       "      <th>created_at</th>\n",
       "      <th>id</th>\n",
       "      <th>id_str</th>\n",
       "      <th>full_text</th>\n",
       "      <th>truncated</th>\n",
       "      <th>display_text_range</th>\n",
       "      <th>entities</th>\n",
       "      <th>extended_entities</th>\n",
       "      <th>source</th>\n",
       "      <th>in_reply_to_status_id</th>\n",
       "      <th>...</th>\n",
       "      <th>favorited</th>\n",
       "      <th>retweeted</th>\n",
       "      <th>possibly_sensitive</th>\n",
       "      <th>possibly_sensitive_appealable</th>\n",
       "      <th>lang</th>\n",
       "      <th>retweeted_status</th>\n",
       "      <th>quoted_status_id</th>\n",
       "      <th>quoted_status_id_str</th>\n",
       "      <th>quoted_status_permalink</th>\n",
       "      <th>quoted_status</th>\n",
       "    </tr>\n",
       "  </thead>\n",
       "  <tbody>\n",
       "  </tbody>\n",
       "</table>\n",
       "<p>0 rows × 32 columns</p>\n",
       "</div>"
      ],
      "text/plain": [
       "Empty DataFrame\n",
       "Columns: [created_at, id, id_str, full_text, truncated, display_text_range, entities, extended_entities, source, in_reply_to_status_id, in_reply_to_status_id_str, in_reply_to_user_id, in_reply_to_user_id_str, in_reply_to_screen_name, user, geo, coordinates, place, contributors, is_quote_status, retweet_count, favorite_count, favorited, retweeted, possibly_sensitive, possibly_sensitive_appealable, lang, retweeted_status, quoted_status_id, quoted_status_id_str, quoted_status_permalink, quoted_status]\n",
       "Index: []\n",
       "\n",
       "[0 rows x 32 columns]"
      ]
     },
     "execution_count": 790,
     "metadata": {},
     "output_type": "execute_result"
    }
   ],
   "source": [
    "dfapi[dfapi['full_text'].astype(str).str[:2] == 'RT']"
   ]
  },
  {
   "cell_type": "code",
   "execution_count": null,
   "metadata": {},
   "outputs": [],
   "source": []
  },
  {
   "cell_type": "markdown",
   "metadata": {},
   "source": [
    "#### Define:\n",
    "Tidiness: Remove the unnecessary columns from dfapi"
   ]
  },
  {
   "cell_type": "code",
   "execution_count": 791,
   "metadata": {
    "scrolled": true
   },
   "outputs": [
    {
     "data": {
      "text/html": [
       "<div>\n",
       "<style scoped>\n",
       "    .dataframe tbody tr th:only-of-type {\n",
       "        vertical-align: middle;\n",
       "    }\n",
       "\n",
       "    .dataframe tbody tr th {\n",
       "        vertical-align: top;\n",
       "    }\n",
       "\n",
       "    .dataframe thead th {\n",
       "        text-align: right;\n",
       "    }\n",
       "</style>\n",
       "<table border=\"1\" class=\"dataframe\">\n",
       "  <thead>\n",
       "    <tr style=\"text-align: right;\">\n",
       "      <th></th>\n",
       "      <th>created_at</th>\n",
       "      <th>id</th>\n",
       "      <th>id_str</th>\n",
       "      <th>full_text</th>\n",
       "      <th>truncated</th>\n",
       "      <th>display_text_range</th>\n",
       "      <th>entities</th>\n",
       "      <th>extended_entities</th>\n",
       "      <th>source</th>\n",
       "      <th>in_reply_to_status_id</th>\n",
       "      <th>...</th>\n",
       "      <th>favorited</th>\n",
       "      <th>retweeted</th>\n",
       "      <th>possibly_sensitive</th>\n",
       "      <th>possibly_sensitive_appealable</th>\n",
       "      <th>lang</th>\n",
       "      <th>retweeted_status</th>\n",
       "      <th>quoted_status_id</th>\n",
       "      <th>quoted_status_id_str</th>\n",
       "      <th>quoted_status_permalink</th>\n",
       "      <th>quoted_status</th>\n",
       "    </tr>\n",
       "  </thead>\n",
       "  <tbody>\n",
       "    <tr>\n",
       "      <th>0</th>\n",
       "      <td>Sun Nov 15 22:32:08 +0000 2015</td>\n",
       "      <td>666020888022790149</td>\n",
       "      <td>666020888022790149</td>\n",
       "      <td>Here we have a Japanese Irish Setter. Lost eye...</td>\n",
       "      <td>False</td>\n",
       "      <td>[0, 131]</td>\n",
       "      <td>{'hashtags': [], 'symbols': [], 'user_mentions...</td>\n",
       "      <td>{'media': [{'id': 666020881337073664, 'id_str'...</td>\n",
       "      <td>&lt;a href=\"http://twitter.com/download/iphone\" r...</td>\n",
       "      <td>NaN</td>\n",
       "      <td>...</td>\n",
       "      <td>False</td>\n",
       "      <td>False</td>\n",
       "      <td>False</td>\n",
       "      <td>False</td>\n",
       "      <td>en</td>\n",
       "      <td>NaN</td>\n",
       "      <td>NaN</td>\n",
       "      <td>NaN</td>\n",
       "      <td>NaN</td>\n",
       "      <td>NaN</td>\n",
       "    </tr>\n",
       "    <tr>\n",
       "      <th>1</th>\n",
       "      <td>Sun Nov 15 23:05:30 +0000 2015</td>\n",
       "      <td>666029285002620928</td>\n",
       "      <td>666029285002620928</td>\n",
       "      <td>This is a western brown Mitsubishi terrier. Up...</td>\n",
       "      <td>False</td>\n",
       "      <td>[0, 139]</td>\n",
       "      <td>{'hashtags': [], 'symbols': [], 'user_mentions...</td>\n",
       "      <td>{'media': [{'id': 666029276303482880, 'id_str'...</td>\n",
       "      <td>&lt;a href=\"http://twitter.com/download/iphone\" r...</td>\n",
       "      <td>NaN</td>\n",
       "      <td>...</td>\n",
       "      <td>False</td>\n",
       "      <td>False</td>\n",
       "      <td>False</td>\n",
       "      <td>False</td>\n",
       "      <td>en</td>\n",
       "      <td>NaN</td>\n",
       "      <td>NaN</td>\n",
       "      <td>NaN</td>\n",
       "      <td>NaN</td>\n",
       "      <td>NaN</td>\n",
       "    </tr>\n",
       "    <tr>\n",
       "      <th>2</th>\n",
       "      <td>Sun Nov 15 23:21:54 +0000 2015</td>\n",
       "      <td>666033412701032449</td>\n",
       "      <td>666033412701032449</td>\n",
       "      <td>Here is a very happy pup. Big fan of well-main...</td>\n",
       "      <td>False</td>\n",
       "      <td>[0, 130]</td>\n",
       "      <td>{'hashtags': [], 'symbols': [], 'user_mentions...</td>\n",
       "      <td>{'media': [{'id': 666033409081393153, 'id_str'...</td>\n",
       "      <td>&lt;a href=\"http://twitter.com/download/iphone\" r...</td>\n",
       "      <td>NaN</td>\n",
       "      <td>...</td>\n",
       "      <td>False</td>\n",
       "      <td>False</td>\n",
       "      <td>False</td>\n",
       "      <td>False</td>\n",
       "      <td>en</td>\n",
       "      <td>NaN</td>\n",
       "      <td>NaN</td>\n",
       "      <td>NaN</td>\n",
       "      <td>NaN</td>\n",
       "      <td>NaN</td>\n",
       "    </tr>\n",
       "    <tr>\n",
       "      <th>3</th>\n",
       "      <td>Mon Nov 16 00:04:52 +0000 2015</td>\n",
       "      <td>666044226329800704</td>\n",
       "      <td>666044226329800704</td>\n",
       "      <td>This is a purebred Piers Morgan. Loves to Netf...</td>\n",
       "      <td>False</td>\n",
       "      <td>[0, 137]</td>\n",
       "      <td>{'hashtags': [], 'symbols': [], 'user_mentions...</td>\n",
       "      <td>{'media': [{'id': 666044217047650304, 'id_str'...</td>\n",
       "      <td>&lt;a href=\"http://twitter.com/download/iphone\" r...</td>\n",
       "      <td>NaN</td>\n",
       "      <td>...</td>\n",
       "      <td>False</td>\n",
       "      <td>False</td>\n",
       "      <td>False</td>\n",
       "      <td>False</td>\n",
       "      <td>en</td>\n",
       "      <td>NaN</td>\n",
       "      <td>NaN</td>\n",
       "      <td>NaN</td>\n",
       "      <td>NaN</td>\n",
       "      <td>NaN</td>\n",
       "    </tr>\n",
       "    <tr>\n",
       "      <th>4</th>\n",
       "      <td>Mon Nov 16 00:24:50 +0000 2015</td>\n",
       "      <td>666049248165822465</td>\n",
       "      <td>666049248165822465</td>\n",
       "      <td>Here we have a 1949 1st generation vulpix. Enj...</td>\n",
       "      <td>False</td>\n",
       "      <td>[0, 120]</td>\n",
       "      <td>{'hashtags': [], 'symbols': [], 'user_mentions...</td>\n",
       "      <td>{'media': [{'id': 666049244999131136, 'id_str'...</td>\n",
       "      <td>&lt;a href=\"http://twitter.com/download/iphone\" r...</td>\n",
       "      <td>NaN</td>\n",
       "      <td>...</td>\n",
       "      <td>False</td>\n",
       "      <td>False</td>\n",
       "      <td>False</td>\n",
       "      <td>False</td>\n",
       "      <td>en</td>\n",
       "      <td>NaN</td>\n",
       "      <td>NaN</td>\n",
       "      <td>NaN</td>\n",
       "      <td>NaN</td>\n",
       "      <td>NaN</td>\n",
       "    </tr>\n",
       "  </tbody>\n",
       "</table>\n",
       "<p>5 rows × 32 columns</p>\n",
       "</div>"
      ],
      "text/plain": [
       "                       created_at                  id              id_str  \\\n",
       "0  Sun Nov 15 22:32:08 +0000 2015  666020888022790149  666020888022790149   \n",
       "1  Sun Nov 15 23:05:30 +0000 2015  666029285002620928  666029285002620928   \n",
       "2  Sun Nov 15 23:21:54 +0000 2015  666033412701032449  666033412701032449   \n",
       "3  Mon Nov 16 00:04:52 +0000 2015  666044226329800704  666044226329800704   \n",
       "4  Mon Nov 16 00:24:50 +0000 2015  666049248165822465  666049248165822465   \n",
       "\n",
       "                                           full_text  truncated  \\\n",
       "0  Here we have a Japanese Irish Setter. Lost eye...      False   \n",
       "1  This is a western brown Mitsubishi terrier. Up...      False   \n",
       "2  Here is a very happy pup. Big fan of well-main...      False   \n",
       "3  This is a purebred Piers Morgan. Loves to Netf...      False   \n",
       "4  Here we have a 1949 1st generation vulpix. Enj...      False   \n",
       "\n",
       "  display_text_range                                           entities  \\\n",
       "0           [0, 131]  {'hashtags': [], 'symbols': [], 'user_mentions...   \n",
       "1           [0, 139]  {'hashtags': [], 'symbols': [], 'user_mentions...   \n",
       "2           [0, 130]  {'hashtags': [], 'symbols': [], 'user_mentions...   \n",
       "3           [0, 137]  {'hashtags': [], 'symbols': [], 'user_mentions...   \n",
       "4           [0, 120]  {'hashtags': [], 'symbols': [], 'user_mentions...   \n",
       "\n",
       "                                   extended_entities  \\\n",
       "0  {'media': [{'id': 666020881337073664, 'id_str'...   \n",
       "1  {'media': [{'id': 666029276303482880, 'id_str'...   \n",
       "2  {'media': [{'id': 666033409081393153, 'id_str'...   \n",
       "3  {'media': [{'id': 666044217047650304, 'id_str'...   \n",
       "4  {'media': [{'id': 666049244999131136, 'id_str'...   \n",
       "\n",
       "                                              source  in_reply_to_status_id  \\\n",
       "0  <a href=\"http://twitter.com/download/iphone\" r...                    NaN   \n",
       "1  <a href=\"http://twitter.com/download/iphone\" r...                    NaN   \n",
       "2  <a href=\"http://twitter.com/download/iphone\" r...                    NaN   \n",
       "3  <a href=\"http://twitter.com/download/iphone\" r...                    NaN   \n",
       "4  <a href=\"http://twitter.com/download/iphone\" r...                    NaN   \n",
       "\n",
       "   ... favorited  retweeted possibly_sensitive possibly_sensitive_appealable  \\\n",
       "0  ...     False      False              False                         False   \n",
       "1  ...     False      False              False                         False   \n",
       "2  ...     False      False              False                         False   \n",
       "3  ...     False      False              False                         False   \n",
       "4  ...     False      False              False                         False   \n",
       "\n",
       "  lang retweeted_status quoted_status_id quoted_status_id_str  \\\n",
       "0   en              NaN              NaN                  NaN   \n",
       "1   en              NaN              NaN                  NaN   \n",
       "2   en              NaN              NaN                  NaN   \n",
       "3   en              NaN              NaN                  NaN   \n",
       "4   en              NaN              NaN                  NaN   \n",
       "\n",
       "  quoted_status_permalink  quoted_status  \n",
       "0                     NaN            NaN  \n",
       "1                     NaN            NaN  \n",
       "2                     NaN            NaN  \n",
       "3                     NaN            NaN  \n",
       "4                     NaN            NaN  \n",
       "\n",
       "[5 rows x 32 columns]"
      ]
     },
     "execution_count": 791,
     "metadata": {},
     "output_type": "execute_result"
    }
   ],
   "source": [
    "dfapi.head()"
   ]
  },
  {
   "cell_type": "markdown",
   "metadata": {},
   "source": [
    "#### Code:"
   ]
  },
  {
   "cell_type": "code",
   "execution_count": 792,
   "metadata": {},
   "outputs": [],
   "source": [
    "dfapi.drop(['id_str', 'truncated', 'display_text_range', 'entities', 'extended_entities', 'source',\n",
    "       'in_reply_to_status_id', 'in_reply_to_status_id_str',\n",
    "       'in_reply_to_user_id', 'in_reply_to_user_id_str',\n",
    "       'in_reply_to_screen_name', 'user', 'geo', 'coordinates', 'place',\n",
    "       'contributors', 'is_quote_status',\n",
    "       'favorited', 'retweeted', 'possibly_sensitive',\n",
    "       'possibly_sensitive_appealable', 'lang', 'retweeted_status',\n",
    "       'quoted_status_id', 'quoted_status_id_str', 'quoted_status_permalink',\n",
    "       'quoted_status'], axis=1, inplace=True)"
   ]
  },
  {
   "cell_type": "markdown",
   "metadata": {},
   "source": [
    "#### Test:"
   ]
  },
  {
   "cell_type": "code",
   "execution_count": 793,
   "metadata": {
    "scrolled": false
   },
   "outputs": [
    {
     "data": {
      "text/html": [
       "<div>\n",
       "<style scoped>\n",
       "    .dataframe tbody tr th:only-of-type {\n",
       "        vertical-align: middle;\n",
       "    }\n",
       "\n",
       "    .dataframe tbody tr th {\n",
       "        vertical-align: top;\n",
       "    }\n",
       "\n",
       "    .dataframe thead th {\n",
       "        text-align: right;\n",
       "    }\n",
       "</style>\n",
       "<table border=\"1\" class=\"dataframe\">\n",
       "  <thead>\n",
       "    <tr style=\"text-align: right;\">\n",
       "      <th></th>\n",
       "      <th>created_at</th>\n",
       "      <th>id</th>\n",
       "      <th>full_text</th>\n",
       "      <th>retweet_count</th>\n",
       "      <th>favorite_count</th>\n",
       "    </tr>\n",
       "  </thead>\n",
       "  <tbody>\n",
       "    <tr>\n",
       "      <th>0</th>\n",
       "      <td>Sun Nov 15 22:32:08 +0000 2015</td>\n",
       "      <td>666020888022790149</td>\n",
       "      <td>Here we have a Japanese Irish Setter. Lost eye...</td>\n",
       "      <td>465</td>\n",
       "      <td>2422</td>\n",
       "    </tr>\n",
       "    <tr>\n",
       "      <th>1</th>\n",
       "      <td>Sun Nov 15 23:05:30 +0000 2015</td>\n",
       "      <td>666029285002620928</td>\n",
       "      <td>This is a western brown Mitsubishi terrier. Up...</td>\n",
       "      <td>42</td>\n",
       "      <td>121</td>\n",
       "    </tr>\n",
       "    <tr>\n",
       "      <th>2</th>\n",
       "      <td>Sun Nov 15 23:21:54 +0000 2015</td>\n",
       "      <td>666033412701032449</td>\n",
       "      <td>Here is a very happy pup. Big fan of well-main...</td>\n",
       "      <td>41</td>\n",
       "      <td>113</td>\n",
       "    </tr>\n",
       "    <tr>\n",
       "      <th>3</th>\n",
       "      <td>Mon Nov 16 00:04:52 +0000 2015</td>\n",
       "      <td>666044226329800704</td>\n",
       "      <td>This is a purebred Piers Morgan. Loves to Netf...</td>\n",
       "      <td>133</td>\n",
       "      <td>274</td>\n",
       "    </tr>\n",
       "    <tr>\n",
       "      <th>4</th>\n",
       "      <td>Mon Nov 16 00:24:50 +0000 2015</td>\n",
       "      <td>666049248165822465</td>\n",
       "      <td>Here we have a 1949 1st generation vulpix. Enj...</td>\n",
       "      <td>41</td>\n",
       "      <td>97</td>\n",
       "    </tr>\n",
       "  </tbody>\n",
       "</table>\n",
       "</div>"
      ],
      "text/plain": [
       "                       created_at                  id  \\\n",
       "0  Sun Nov 15 22:32:08 +0000 2015  666020888022790149   \n",
       "1  Sun Nov 15 23:05:30 +0000 2015  666029285002620928   \n",
       "2  Sun Nov 15 23:21:54 +0000 2015  666033412701032449   \n",
       "3  Mon Nov 16 00:04:52 +0000 2015  666044226329800704   \n",
       "4  Mon Nov 16 00:24:50 +0000 2015  666049248165822465   \n",
       "\n",
       "                                           full_text  retweet_count  \\\n",
       "0  Here we have a Japanese Irish Setter. Lost eye...            465   \n",
       "1  This is a western brown Mitsubishi terrier. Up...             42   \n",
       "2  Here is a very happy pup. Big fan of well-main...             41   \n",
       "3  This is a purebred Piers Morgan. Loves to Netf...            133   \n",
       "4  Here we have a 1949 1st generation vulpix. Enj...             41   \n",
       "\n",
       "   favorite_count  \n",
       "0            2422  \n",
       "1             121  \n",
       "2             113  \n",
       "3             274  \n",
       "4              97  "
      ]
     },
     "execution_count": 793,
     "metadata": {},
     "output_type": "execute_result"
    }
   ],
   "source": [
    "dfapi.head()"
   ]
  },
  {
   "cell_type": "markdown",
   "metadata": {},
   "source": [
    "#### Define:\n",
    "Tidiness: Add dog_stage columns for dfapi"
   ]
  },
  {
   "cell_type": "markdown",
   "metadata": {},
   "source": [
    "#### Code:"
   ]
  },
  {
   "cell_type": "code",
   "execution_count": 794,
   "metadata": {},
   "outputs": [],
   "source": [
    "dfapi['dog_stage'] = dfapi['full_text'].str.extract('(doggo|floofer|pupper|puppo)', expand=True)"
   ]
  },
  {
   "cell_type": "markdown",
   "metadata": {},
   "source": [
    "#### Test:"
   ]
  },
  {
   "cell_type": "code",
   "execution_count": 795,
   "metadata": {
    "scrolled": true
   },
   "outputs": [
    {
     "data": {
      "text/html": [
       "<div>\n",
       "<style scoped>\n",
       "    .dataframe tbody tr th:only-of-type {\n",
       "        vertical-align: middle;\n",
       "    }\n",
       "\n",
       "    .dataframe tbody tr th {\n",
       "        vertical-align: top;\n",
       "    }\n",
       "\n",
       "    .dataframe thead th {\n",
       "        text-align: right;\n",
       "    }\n",
       "</style>\n",
       "<table border=\"1\" class=\"dataframe\">\n",
       "  <thead>\n",
       "    <tr style=\"text-align: right;\">\n",
       "      <th></th>\n",
       "      <th>created_at</th>\n",
       "      <th>id</th>\n",
       "      <th>full_text</th>\n",
       "      <th>retweet_count</th>\n",
       "      <th>favorite_count</th>\n",
       "      <th>dog_stage</th>\n",
       "    </tr>\n",
       "  </thead>\n",
       "  <tbody>\n",
       "    <tr>\n",
       "      <th>0</th>\n",
       "      <td>Sun Nov 15 22:32:08 +0000 2015</td>\n",
       "      <td>666020888022790149</td>\n",
       "      <td>Here we have a Japanese Irish Setter. Lost eye...</td>\n",
       "      <td>465</td>\n",
       "      <td>2422</td>\n",
       "      <td>NaN</td>\n",
       "    </tr>\n",
       "    <tr>\n",
       "      <th>1150</th>\n",
       "      <td>Sat Apr 02 01:52:38 +0000 2016</td>\n",
       "      <td>716080869887381504</td>\n",
       "      <td>Here's a super majestic doggo and a sunset 11/...</td>\n",
       "      <td>1903</td>\n",
       "      <td>6738</td>\n",
       "      <td>doggo</td>\n",
       "    </tr>\n",
       "    <tr>\n",
       "      <th>1332</th>\n",
       "      <td>Sat Jun 25 03:17:46 +0000 2016</td>\n",
       "      <td>746542875601690625</td>\n",
       "      <td>Here's a golden floofer helping with the groce...</td>\n",
       "      <td>1889</td>\n",
       "      <td>5067</td>\n",
       "      <td>floofer</td>\n",
       "    </tr>\n",
       "    <tr>\n",
       "      <th>214</th>\n",
       "      <td>Thu Nov 26 21:36:12 +0000 2015</td>\n",
       "      <td>669993076832759809</td>\n",
       "      <td>This is Zoey. Her dreams of becoming a hippo b...</td>\n",
       "      <td>81</td>\n",
       "      <td>314</td>\n",
       "      <td>pupper</td>\n",
       "    </tr>\n",
       "    <tr>\n",
       "      <th>1271</th>\n",
       "      <td>Fri Jun 03 01:07:16 +0000 2016</td>\n",
       "      <td>738537504001953792</td>\n",
       "      <td>This is Bayley. She fell asleep trying to esca...</td>\n",
       "      <td>1544</td>\n",
       "      <td>5101</td>\n",
       "      <td>puppo</td>\n",
       "    </tr>\n",
       "  </tbody>\n",
       "</table>\n",
       "</div>"
      ],
      "text/plain": [
       "                          created_at                  id  \\\n",
       "0     Sun Nov 15 22:32:08 +0000 2015  666020888022790149   \n",
       "1150  Sat Apr 02 01:52:38 +0000 2016  716080869887381504   \n",
       "1332  Sat Jun 25 03:17:46 +0000 2016  746542875601690625   \n",
       "214   Thu Nov 26 21:36:12 +0000 2015  669993076832759809   \n",
       "1271  Fri Jun 03 01:07:16 +0000 2016  738537504001953792   \n",
       "\n",
       "                                              full_text  retweet_count  \\\n",
       "0     Here we have a Japanese Irish Setter. Lost eye...            465   \n",
       "1150  Here's a super majestic doggo and a sunset 11/...           1903   \n",
       "1332  Here's a golden floofer helping with the groce...           1889   \n",
       "214   This is Zoey. Her dreams of becoming a hippo b...             81   \n",
       "1271  This is Bayley. She fell asleep trying to esca...           1544   \n",
       "\n",
       "      favorite_count dog_stage  \n",
       "0               2422       NaN  \n",
       "1150            6738     doggo  \n",
       "1332            5067   floofer  \n",
       "214              314    pupper  \n",
       "1271            5101     puppo  "
      ]
     },
     "execution_count": 795,
     "metadata": {},
     "output_type": "execute_result"
    }
   ],
   "source": [
    "dfapi.loc[[0,1150,1332,214,1271]]"
   ]
  },
  {
   "cell_type": "code",
   "execution_count": null,
   "metadata": {},
   "outputs": [],
   "source": []
  },
  {
   "cell_type": "markdown",
   "metadata": {},
   "source": [
    "#### Define:\n",
    "Tidiness: Add dog_stage column for dftweet"
   ]
  },
  {
   "cell_type": "markdown",
   "metadata": {},
   "source": [
    "#### Code:"
   ]
  },
  {
   "cell_type": "code",
   "execution_count": 796,
   "metadata": {},
   "outputs": [],
   "source": [
    "dftweet['dog_stage'] = dftweet['text'].str.extract('(doggo|floofer|pupper|puppo)', expand=True)"
   ]
  },
  {
   "cell_type": "code",
   "execution_count": 797,
   "metadata": {
    "scrolled": true
   },
   "outputs": [
    {
     "data": {
      "text/html": [
       "<div>\n",
       "<style scoped>\n",
       "    .dataframe tbody tr th:only-of-type {\n",
       "        vertical-align: middle;\n",
       "    }\n",
       "\n",
       "    .dataframe tbody tr th {\n",
       "        vertical-align: top;\n",
       "    }\n",
       "\n",
       "    .dataframe thead th {\n",
       "        text-align: right;\n",
       "    }\n",
       "</style>\n",
       "<table border=\"1\" class=\"dataframe\">\n",
       "  <thead>\n",
       "    <tr style=\"text-align: right;\">\n",
       "      <th></th>\n",
       "      <th>tweet_id</th>\n",
       "      <th>timestamp</th>\n",
       "      <th>text</th>\n",
       "      <th>rating_numerator</th>\n",
       "      <th>rating_denominator</th>\n",
       "      <th>name</th>\n",
       "      <th>doggo</th>\n",
       "      <th>floofer</th>\n",
       "      <th>pupper</th>\n",
       "      <th>puppo</th>\n",
       "      <th>dog_stage</th>\n",
       "    </tr>\n",
       "  </thead>\n",
       "  <tbody>\n",
       "    <tr>\n",
       "      <th>0</th>\n",
       "      <td>892420643555336193</td>\n",
       "      <td>2017-08-01 16:23:56 +0000</td>\n",
       "      <td>This is Phineas. He's a mystical boy. Only eve...</td>\n",
       "      <td>13</td>\n",
       "      <td>10</td>\n",
       "      <td>Phineas</td>\n",
       "      <td>None</td>\n",
       "      <td>None</td>\n",
       "      <td>None</td>\n",
       "      <td>None</td>\n",
       "      <td>NaN</td>\n",
       "    </tr>\n",
       "    <tr>\n",
       "      <th>9</th>\n",
       "      <td>890240255349198849</td>\n",
       "      <td>2017-07-26 15:59:51 +0000</td>\n",
       "      <td>This is Cassie. She is a college pup. Studying...</td>\n",
       "      <td>14</td>\n",
       "      <td>10</td>\n",
       "      <td>Cassie</td>\n",
       "      <td>doggo</td>\n",
       "      <td>None</td>\n",
       "      <td>None</td>\n",
       "      <td>None</td>\n",
       "      <td>doggo</td>\n",
       "    </tr>\n",
       "    <tr>\n",
       "      <th>46</th>\n",
       "      <td>883360690899218434</td>\n",
       "      <td>2017-07-07 16:22:55 +0000</td>\n",
       "      <td>Meet Grizzwald. He may be the floofiest floofe...</td>\n",
       "      <td>13</td>\n",
       "      <td>10</td>\n",
       "      <td>Grizzwald</td>\n",
       "      <td>None</td>\n",
       "      <td>floofer</td>\n",
       "      <td>None</td>\n",
       "      <td>None</td>\n",
       "      <td>floofer</td>\n",
       "    </tr>\n",
       "    <tr>\n",
       "      <th>49</th>\n",
       "      <td>882762694511734784</td>\n",
       "      <td>2017-07-06 00:46:41 +0000</td>\n",
       "      <td>This is Gus. He's quite the cheeky pupper. Alr...</td>\n",
       "      <td>12</td>\n",
       "      <td>10</td>\n",
       "      <td>Gus</td>\n",
       "      <td>None</td>\n",
       "      <td>None</td>\n",
       "      <td>pupper</td>\n",
       "      <td>None</td>\n",
       "      <td>pupper</td>\n",
       "    </tr>\n",
       "    <tr>\n",
       "      <th>94</th>\n",
       "      <td>874012996292530176</td>\n",
       "      <td>2017-06-11 21:18:31 +0000</td>\n",
       "      <td>This is Sebastian. He can't see all the colors...</td>\n",
       "      <td>13</td>\n",
       "      <td>10</td>\n",
       "      <td>Sebastian</td>\n",
       "      <td>None</td>\n",
       "      <td>None</td>\n",
       "      <td>None</td>\n",
       "      <td>puppo</td>\n",
       "      <td>puppo</td>\n",
       "    </tr>\n",
       "  </tbody>\n",
       "</table>\n",
       "</div>"
      ],
      "text/plain": [
       "              tweet_id                  timestamp  \\\n",
       "0   892420643555336193  2017-08-01 16:23:56 +0000   \n",
       "9   890240255349198849  2017-07-26 15:59:51 +0000   \n",
       "46  883360690899218434  2017-07-07 16:22:55 +0000   \n",
       "49  882762694511734784  2017-07-06 00:46:41 +0000   \n",
       "94  874012996292530176  2017-06-11 21:18:31 +0000   \n",
       "\n",
       "                                                 text  rating_numerator  \\\n",
       "0   This is Phineas. He's a mystical boy. Only eve...                13   \n",
       "9   This is Cassie. She is a college pup. Studying...                14   \n",
       "46  Meet Grizzwald. He may be the floofiest floofe...                13   \n",
       "49  This is Gus. He's quite the cheeky pupper. Alr...                12   \n",
       "94  This is Sebastian. He can't see all the colors...                13   \n",
       "\n",
       "    rating_denominator       name  doggo  floofer  pupper  puppo dog_stage  \n",
       "0                   10    Phineas   None     None    None   None       NaN  \n",
       "9                   10     Cassie  doggo     None    None   None     doggo  \n",
       "46                  10  Grizzwald   None  floofer    None   None   floofer  \n",
       "49                  10        Gus   None     None  pupper   None    pupper  \n",
       "94                  10  Sebastian   None     None    None  puppo     puppo  "
      ]
     },
     "execution_count": 797,
     "metadata": {},
     "output_type": "execute_result"
    }
   ],
   "source": [
    "dftweet.loc[[0,9,46,49,94]]"
   ]
  },
  {
   "cell_type": "code",
   "execution_count": null,
   "metadata": {},
   "outputs": [],
   "source": []
  },
  {
   "cell_type": "markdown",
   "metadata": {},
   "source": [
    "#### Define:\n",
    "Quality: Drop other doggo-lingo columns for dftweet"
   ]
  },
  {
   "cell_type": "markdown",
   "metadata": {},
   "source": [
    "#### Code:"
   ]
  },
  {
   "cell_type": "code",
   "execution_count": 798,
   "metadata": {},
   "outputs": [],
   "source": [
    "dftweet.drop(['doggo','floofer','pupper','puppo'], axis=1, inplace=True)"
   ]
  },
  {
   "cell_type": "code",
   "execution_count": 799,
   "metadata": {},
   "outputs": [
    {
     "data": {
      "text/html": [
       "<div>\n",
       "<style scoped>\n",
       "    .dataframe tbody tr th:only-of-type {\n",
       "        vertical-align: middle;\n",
       "    }\n",
       "\n",
       "    .dataframe tbody tr th {\n",
       "        vertical-align: top;\n",
       "    }\n",
       "\n",
       "    .dataframe thead th {\n",
       "        text-align: right;\n",
       "    }\n",
       "</style>\n",
       "<table border=\"1\" class=\"dataframe\">\n",
       "  <thead>\n",
       "    <tr style=\"text-align: right;\">\n",
       "      <th></th>\n",
       "      <th>tweet_id</th>\n",
       "      <th>timestamp</th>\n",
       "      <th>text</th>\n",
       "      <th>rating_numerator</th>\n",
       "      <th>rating_denominator</th>\n",
       "      <th>name</th>\n",
       "      <th>dog_stage</th>\n",
       "    </tr>\n",
       "  </thead>\n",
       "  <tbody>\n",
       "    <tr>\n",
       "      <th>0</th>\n",
       "      <td>892420643555336193</td>\n",
       "      <td>2017-08-01 16:23:56 +0000</td>\n",
       "      <td>This is Phineas. He's a mystical boy. Only eve...</td>\n",
       "      <td>13</td>\n",
       "      <td>10</td>\n",
       "      <td>Phineas</td>\n",
       "      <td>NaN</td>\n",
       "    </tr>\n",
       "    <tr>\n",
       "      <th>9</th>\n",
       "      <td>890240255349198849</td>\n",
       "      <td>2017-07-26 15:59:51 +0000</td>\n",
       "      <td>This is Cassie. She is a college pup. Studying...</td>\n",
       "      <td>14</td>\n",
       "      <td>10</td>\n",
       "      <td>Cassie</td>\n",
       "      <td>doggo</td>\n",
       "    </tr>\n",
       "    <tr>\n",
       "      <th>46</th>\n",
       "      <td>883360690899218434</td>\n",
       "      <td>2017-07-07 16:22:55 +0000</td>\n",
       "      <td>Meet Grizzwald. He may be the floofiest floofe...</td>\n",
       "      <td>13</td>\n",
       "      <td>10</td>\n",
       "      <td>Grizzwald</td>\n",
       "      <td>floofer</td>\n",
       "    </tr>\n",
       "    <tr>\n",
       "      <th>49</th>\n",
       "      <td>882762694511734784</td>\n",
       "      <td>2017-07-06 00:46:41 +0000</td>\n",
       "      <td>This is Gus. He's quite the cheeky pupper. Alr...</td>\n",
       "      <td>12</td>\n",
       "      <td>10</td>\n",
       "      <td>Gus</td>\n",
       "      <td>pupper</td>\n",
       "    </tr>\n",
       "    <tr>\n",
       "      <th>94</th>\n",
       "      <td>874012996292530176</td>\n",
       "      <td>2017-06-11 21:18:31 +0000</td>\n",
       "      <td>This is Sebastian. He can't see all the colors...</td>\n",
       "      <td>13</td>\n",
       "      <td>10</td>\n",
       "      <td>Sebastian</td>\n",
       "      <td>puppo</td>\n",
       "    </tr>\n",
       "  </tbody>\n",
       "</table>\n",
       "</div>"
      ],
      "text/plain": [
       "              tweet_id                  timestamp  \\\n",
       "0   892420643555336193  2017-08-01 16:23:56 +0000   \n",
       "9   890240255349198849  2017-07-26 15:59:51 +0000   \n",
       "46  883360690899218434  2017-07-07 16:22:55 +0000   \n",
       "49  882762694511734784  2017-07-06 00:46:41 +0000   \n",
       "94  874012996292530176  2017-06-11 21:18:31 +0000   \n",
       "\n",
       "                                                 text  rating_numerator  \\\n",
       "0   This is Phineas. He's a mystical boy. Only eve...                13   \n",
       "9   This is Cassie. She is a college pup. Studying...                14   \n",
       "46  Meet Grizzwald. He may be the floofiest floofe...                13   \n",
       "49  This is Gus. He's quite the cheeky pupper. Alr...                12   \n",
       "94  This is Sebastian. He can't see all the colors...                13   \n",
       "\n",
       "    rating_denominator       name dog_stage  \n",
       "0                   10    Phineas       NaN  \n",
       "9                   10     Cassie     doggo  \n",
       "46                  10  Grizzwald   floofer  \n",
       "49                  10        Gus    pupper  \n",
       "94                  10  Sebastian     puppo  "
      ]
     },
     "execution_count": 799,
     "metadata": {},
     "output_type": "execute_result"
    }
   ],
   "source": [
    "dftweet.loc[[0,9,46,49,94]]"
   ]
  },
  {
   "cell_type": "code",
   "execution_count": null,
   "metadata": {},
   "outputs": [],
   "source": []
  },
  {
   "cell_type": "markdown",
   "metadata": {},
   "source": [
    "#### Define:\n",
    "Tidiness: Extract base of rating_numerator and rating_denominator from full_text"
   ]
  },
  {
   "cell_type": "markdown",
   "metadata": {},
   "source": [
    "#### Code:"
   ]
  },
  {
   "cell_type": "code",
   "execution_count": 800,
   "metadata": {},
   "outputs": [],
   "source": [
    "dfapi[['pre','post']] = dfapi['full_text'].str.split('/', n=1, expand=True)"
   ]
  },
  {
   "cell_type": "code",
   "execution_count": 801,
   "metadata": {},
   "outputs": [],
   "source": [
    "dfapi['before'] = dfapi.pre.str[-3:]\n",
    "dfapi['after'] = dfapi.post.str[:3]"
   ]
  },
  {
   "cell_type": "markdown",
   "metadata": {},
   "source": [
    "#### Test:"
   ]
  },
  {
   "cell_type": "code",
   "execution_count": 802,
   "metadata": {
    "scrolled": true
   },
   "outputs": [
    {
     "data": {
      "text/html": [
       "<div>\n",
       "<style scoped>\n",
       "    .dataframe tbody tr th:only-of-type {\n",
       "        vertical-align: middle;\n",
       "    }\n",
       "\n",
       "    .dataframe tbody tr th {\n",
       "        vertical-align: top;\n",
       "    }\n",
       "\n",
       "    .dataframe thead th {\n",
       "        text-align: right;\n",
       "    }\n",
       "</style>\n",
       "<table border=\"1\" class=\"dataframe\">\n",
       "  <thead>\n",
       "    <tr style=\"text-align: right;\">\n",
       "      <th></th>\n",
       "      <th>before</th>\n",
       "      <th>after</th>\n",
       "    </tr>\n",
       "  </thead>\n",
       "  <tbody>\n",
       "    <tr>\n",
       "      <th>0</th>\n",
       "      <td>. 8</td>\n",
       "      <td>10</td>\n",
       "    </tr>\n",
       "    <tr>\n",
       "      <th>1</th>\n",
       "      <td>. 7</td>\n",
       "      <td>10</td>\n",
       "    </tr>\n",
       "    <tr>\n",
       "      <th>2</th>\n",
       "      <td>. 9</td>\n",
       "      <td>10</td>\n",
       "    </tr>\n",
       "    <tr>\n",
       "      <th>3</th>\n",
       "      <td>. 6</td>\n",
       "      <td>10</td>\n",
       "    </tr>\n",
       "    <tr>\n",
       "      <th>4</th>\n",
       "      <td>. 5</td>\n",
       "      <td>10</td>\n",
       "    </tr>\n",
       "    <tr>\n",
       "      <th>...</th>\n",
       "      <td>...</td>\n",
       "      <td>...</td>\n",
       "    </tr>\n",
       "    <tr>\n",
       "      <th>2326</th>\n",
       "      <td>12</td>\n",
       "      <td>10</td>\n",
       "    </tr>\n",
       "    <tr>\n",
       "      <th>2327</th>\n",
       "      <td>13</td>\n",
       "      <td>10</td>\n",
       "    </tr>\n",
       "    <tr>\n",
       "      <th>2328</th>\n",
       "      <td>12</td>\n",
       "      <td>10</td>\n",
       "    </tr>\n",
       "    <tr>\n",
       "      <th>2329</th>\n",
       "      <td>13</td>\n",
       "      <td>10</td>\n",
       "    </tr>\n",
       "    <tr>\n",
       "      <th>2330</th>\n",
       "      <td>13</td>\n",
       "      <td>10</td>\n",
       "    </tr>\n",
       "  </tbody>\n",
       "</table>\n",
       "<p>2089 rows × 2 columns</p>\n",
       "</div>"
      ],
      "text/plain": [
       "     before after\n",
       "0       . 8   10 \n",
       "1       . 7   10 \n",
       "2       . 9   10 \n",
       "3       . 6   10 \n",
       "4       . 5   10 \n",
       "...     ...   ...\n",
       "2326     12   10 \n",
       "2327     13   10 \n",
       "2328     12   10 \n",
       "2329     13   10 \n",
       "2330     13   10 \n",
       "\n",
       "[2089 rows x 2 columns]"
      ]
     },
     "execution_count": 802,
     "metadata": {},
     "output_type": "execute_result"
    }
   ],
   "source": [
    "dfapi[['before','after']]"
   ]
  },
  {
   "cell_type": "code",
   "execution_count": null,
   "metadata": {},
   "outputs": [],
   "source": []
  },
  {
   "cell_type": "markdown",
   "metadata": {},
   "source": [
    "#### Define:\n",
    "Quality: Remove punctuation (except periods/decimal points) and letters from before"
   ]
  },
  {
   "cell_type": "markdown",
   "metadata": {},
   "source": [
    "#### Code:"
   ]
  },
  {
   "cell_type": "code",
   "execution_count": 803,
   "metadata": {},
   "outputs": [
    {
     "data": {
      "text/plain": [
       "      1623\n",
       ".      380\n",
       "\\n      15\n",
       "1       10\n",
       "t        7\n",
       "e        7\n",
       "?        7\n",
       "s        5\n",
       "l        4\n",
       "o        4\n",
       "y        3\n",
       ")        3\n",
       "h        2\n",
       "\"        2\n",
       "3        2\n",
       "d        2\n",
       "g        2\n",
       "c        2\n",
       "r        2\n",
       "4        1\n",
       "2        1\n",
       "a        1\n",
       "f        1\n",
       "(        1\n",
       "p        1\n",
       "7        1\n",
       "Name: before, dtype: int64"
      ]
     },
     "execution_count": 803,
     "metadata": {},
     "output_type": "execute_result"
    }
   ],
   "source": [
    "dfapi['before'].astype(str).str[:1].value_counts()"
   ]
  },
  {
   "cell_type": "code",
   "execution_count": 804,
   "metadata": {},
   "outputs": [],
   "source": [
    "dfapi['before'] = dfapi['before'].map(lambda x: x.lstrip(' ea?toslcf)yr;d\"gp(\\n'))"
   ]
  },
  {
   "cell_type": "code",
   "execution_count": 805,
   "metadata": {},
   "outputs": [
    {
     "data": {
      "text/plain": [
       "5      2\n",
       "3      2\n",
       "88     1\n",
       "45     1\n",
       ".26    1\n",
       "..8    1\n",
       "60     1\n",
       "420    1\n",
       "24     1\n",
       "3.5    1\n",
       "144    1\n",
       "121    1\n",
       "       1\n",
       "44     1\n",
       "99     1\n",
       "1      1\n",
       ".27    1\n",
       "204    1\n",
       ".75    1\n",
       "3 1    1\n",
       "h 7    1\n",
       "h 9    1\n",
       "165    1\n",
       "50     1\n",
       "84     1\n",
       ". 0    1\n",
       "80     1\n",
       ".13    1\n",
       "776    1\n",
       "w      1\n",
       "Name: before, dtype: int64"
      ]
     },
     "execution_count": 805,
     "metadata": {},
     "output_type": "execute_result"
    }
   ],
   "source": [
    "dfapi['before'].value_counts().tail(30)"
   ]
  },
  {
   "cell_type": "code",
   "execution_count": 806,
   "metadata": {},
   "outputs": [],
   "source": [
    "dfapi['before'] = dfapi['before'].map(lambda x: x.lstrip(' wh'))"
   ]
  },
  {
   "cell_type": "code",
   "execution_count": 807,
   "metadata": {
    "scrolled": true
   },
   "outputs": [
    {
     "data": {
      "text/plain": [
       "12     480\n",
       "10     425\n",
       "11     409\n",
       "13     282\n",
       ". 9    130\n",
       ". 8     89\n",
       ". 7     46\n",
       "14      39\n",
       ". 5     31\n",
       ". 6     25\n",
       "9       20\n",
       ". 3     16\n",
       ". 4     11\n",
       ".10      9\n",
       "8        8\n",
       "6        7\n",
       "7        6\n",
       "4        5\n",
       ". 2      5\n",
       ".11      4\n",
       "2        4\n",
       ". 1      3\n",
       "..9      3\n",
       "         2\n",
       ".12      2\n",
       "5        2\n",
       "3        2\n",
       ".13      1\n",
       "..8      1\n",
       "420      1\n",
       "121      1\n",
       "144      1\n",
       "44       1\n",
       "3.5      1\n",
       "24       1\n",
       "88       1\n",
       "60       1\n",
       "45       1\n",
       ".26      1\n",
       "84       1\n",
       "1        1\n",
       "99       1\n",
       ".27      1\n",
       "204      1\n",
       ".75      1\n",
       "3 1      1\n",
       "165      1\n",
       "50       1\n",
       ". 0      1\n",
       "80       1\n",
       "Name: before, dtype: int64"
      ]
     },
     "execution_count": 807,
     "metadata": {},
     "output_type": "execute_result"
    }
   ],
   "source": [
    "dfapi['before'].value_counts().head(50)"
   ]
  },
  {
   "cell_type": "code",
   "execution_count": 808,
   "metadata": {},
   "outputs": [],
   "source": [
    "dfapi.before.replace('. 9','9', inplace=True)\n",
    "dfapi.before.replace('. 8','8', inplace=True)\n",
    "dfapi.before.replace('. 7','7', inplace=True)\n",
    "dfapi.before.replace('. 6','6', inplace=True)\n",
    "dfapi.before.replace('. 5','5', inplace=True)\n",
    "dfapi.before.replace('. 4','4', inplace=True)\n",
    "dfapi.before.replace('. 3','3', inplace=True)\n",
    "dfapi.before.replace('. 2','2', inplace=True)\n",
    "dfapi.before.replace('. 1','1', inplace=True)\n",
    "dfapi.before.replace('. 0','0', inplace=True)"
   ]
  },
  {
   "cell_type": "code",
   "execution_count": 809,
   "metadata": {},
   "outputs": [
    {
     "data": {
      "text/plain": [
       "12     480\n",
       "10     425\n",
       "11     409\n",
       "13     282\n",
       "9      150\n",
       "8       97\n",
       "7       52\n",
       "14      39\n",
       "5       33\n",
       "6       32\n",
       "3       18\n",
       "4       16\n",
       ".10      9\n",
       "2        9\n",
       ".11      4\n",
       "1        4\n",
       "..9      3\n",
       ".12      2\n",
       "         2\n",
       "420      1\n",
       ".26      1\n",
       "0        1\n",
       "144      1\n",
       "44       1\n",
       "121      1\n",
       "3.5      1\n",
       "..8      1\n",
       "88       1\n",
       "60       1\n",
       "45       1\n",
       "204      1\n",
       "80       1\n",
       "165      1\n",
       "99       1\n",
       ".27      1\n",
       "84       1\n",
       ".13      1\n",
       ".75      1\n",
       "3 1      1\n",
       "776      1\n",
       "50       1\n",
       "24       1\n",
       "Name: before, dtype: int64"
      ]
     },
     "execution_count": 809,
     "metadata": {},
     "output_type": "execute_result"
    }
   ],
   "source": [
    "dfapi['before'].value_counts()"
   ]
  },
  {
   "cell_type": "code",
   "execution_count": 810,
   "metadata": {},
   "outputs": [],
   "source": [
    "dfapi.before.replace('..9','9', inplace=True)\n",
    "dfapi.before.replace('..8','8', inplace=True)"
   ]
  },
  {
   "cell_type": "code",
   "execution_count": 811,
   "metadata": {},
   "outputs": [
    {
     "data": {
      "text/plain": [
       "12     480\n",
       "10     425\n",
       "11     409\n",
       "13     282\n",
       "9      153\n",
       "8       98\n",
       "7       52\n",
       "14      39\n",
       "5       33\n",
       "6       32\n",
       "3       18\n",
       "4       16\n",
       "2        9\n",
       ".10      9\n",
       "1        4\n",
       ".11      4\n",
       "         2\n",
       ".12      2\n",
       "0        1\n",
       "121      1\n",
       "144      1\n",
       "44       1\n",
       "88       1\n",
       "60       1\n",
       "3.5      1\n",
       ".26      1\n",
       "45       1\n",
       ".13      1\n",
       "776      1\n",
       ".27      1\n",
       "204      1\n",
       "165      1\n",
       ".75      1\n",
       "3 1      1\n",
       "50       1\n",
       "24       1\n",
       "80       1\n",
       "84       1\n",
       "420      1\n",
       "99       1\n",
       "Name: before, dtype: int64"
      ]
     },
     "execution_count": 811,
     "metadata": {},
     "output_type": "execute_result"
    }
   ],
   "source": [
    "dfapi['before'].value_counts()"
   ]
  },
  {
   "cell_type": "code",
   "execution_count": 812,
   "metadata": {},
   "outputs": [
    {
     "data": {
      "text/plain": [
       "727     OTS ARE GREY DAMN IT CINDY\" ...10/10 https://t...\n",
       "1243    is is dog how may I assist\" ...10/10 https://t...\n",
       "1256    rely work a washing machine ...10/10 https://t...\n",
       "1270    my son ever again\" ...10/10 for both https://t...\n",
       "1277    nly send in dogs. Thank you ...10/10 https://t...\n",
       "1283    y rate dogs. Only send dogs ...10/10 https://t...\n",
       "1345    aking the photos. Thank you ...10/10 https://t...\n",
       "1366    is is @dog_rates. Thank you ...10/10 https://t...\n",
       "1545    on it.10/10 would attempt to comfort https://t...\n",
       "Name: full_text, dtype: object"
      ]
     },
     "execution_count": 812,
     "metadata": {},
     "output_type": "execute_result"
    }
   ],
   "source": [
    "dfapi[dfapi['before'] == '.10']['full_text'].astype(str).str[-60:]"
   ]
  },
  {
   "cell_type": "code",
   "execution_count": 813,
   "metadata": {},
   "outputs": [
    {
     "data": {
      "text/plain": [
       "1032    ill out the FAFSA ...11/10 https://t.co/qy33OB...\n",
       "1337     know this by now ...11/10 https://t.co/9e48aP...\n",
       "1339    e a real frighten ...11/10 https://t.co/DX1JUH...\n",
       "1346    l sharks. Thank u ...11/10 https://t.co/Ie2mWX...\n",
       "Name: full_text, dtype: object"
      ]
     },
     "execution_count": 813,
     "metadata": {},
     "output_type": "execute_result"
    }
   ],
   "source": [
    "dfapi[dfapi['before'] == '.11']['full_text'].astype(str).str[-50:]"
   ]
  },
  {
   "cell_type": "code",
   "execution_count": 814,
   "metadata": {
    "scrolled": true
   },
   "outputs": [
    {
     "data": {
      "text/plain": [
       "1013     with no pickles\" ...12/10 https://t.co/kQPVxq...\n",
       "1088    d then collapses* ...12/10 https://t.co/BNdVZE...\n",
       "Name: full_text, dtype: object"
      ]
     },
     "execution_count": 814,
     "metadata": {},
     "output_type": "execute_result"
    }
   ],
   "source": [
    "dfapi[dfapi['before'] == '.12']['full_text'].astype(str).str[-50:]"
   ]
  },
  {
   "cell_type": "code",
   "execution_count": 815,
   "metadata": {},
   "outputs": [
    {
     "data": {
      "text/plain": [
       "1028    ng ovation.13/10 just magnificent (vid by @CSB...\n",
       "Name: full_text, dtype: object"
      ]
     },
     "execution_count": 815,
     "metadata": {},
     "output_type": "execute_result"
    }
   ],
   "source": [
    "dfapi[dfapi['before'] == '.13']['full_text'].astype(str).str[40:]"
   ]
  },
  {
   "cell_type": "code",
   "execution_count": 816,
   "metadata": {},
   "outputs": [
    {
     "data": {
      "text/plain": [
       "1653     H*ckin magical af 9.75/10 https://t.co/yBO5wu...\n",
       "Name: full_text, dtype: object"
      ]
     },
     "execution_count": 816,
     "metadata": {},
     "output_type": "execute_result"
    }
   ],
   "source": [
    "dfapi[dfapi['before'] == '.75']['full_text'].astype(str).str[-50:]"
   ]
  },
  {
   "cell_type": "code",
   "execution_count": 817,
   "metadata": {
    "scrolled": true
   },
   "outputs": [
    {
     "data": {
      "text/plain": [
       "642    ppers. Average of 11.26/10 https://t.co/eNm2S6...\n",
       "Name: full_text, dtype: object"
      ]
     },
     "execution_count": 817,
     "metadata": {},
     "output_type": "execute_result"
    }
   ],
   "source": [
    "dfapi[dfapi['before'] == '.26']['full_text'].astype(str).str[-50:]"
   ]
  },
  {
   "cell_type": "code",
   "execution_count": 818,
   "metadata": {
    "scrolled": true
   },
   "outputs": [
    {
     "data": {
      "text/plain": [
       "1586    he locals. 11.27/10 would smile back https://t...\n",
       "Name: full_text, dtype: object"
      ]
     },
     "execution_count": 818,
     "metadata": {},
     "output_type": "execute_result"
    }
   ],
   "source": [
    "dfapi[dfapi['before'] == '.27']['full_text'].astype(str).str[-60:]"
   ]
  },
  {
   "cell_type": "code",
   "execution_count": 819,
   "metadata": {},
   "outputs": [
    {
     "data": {
      "text/plain": [
       "20     Penis on the collar. 9/10 https://t.co/d9NcXF...\n",
       "Name: full_text, dtype: object"
      ]
     },
     "execution_count": 819,
     "metadata": {},
     "output_type": "execute_result"
    }
   ],
   "source": [
    "dfapi[dfapi['before'] == '3 1']['full_text'].astype(str).str[-50:]"
   ]
  },
  {
   "cell_type": "code",
   "execution_count": 820,
   "metadata": {},
   "outputs": [],
   "source": [
    "dfapi.before.replace('.10','10', inplace=True)\n",
    "dfapi.before.replace('.11','11', inplace=True)\n",
    "dfapi.before.replace('.12','12', inplace=True)\n",
    "dfapi.before.replace('.13','13', inplace=True)\n",
    "dfapi.before.replace('.75','9.75', inplace=True)\n",
    "dfapi.before.replace('.26','11.26', inplace=True)\n",
    "dfapi.before.replace('.27','11.27', inplace=True)\n",
    "dfapi.before.replace('3 1','9', inplace=True)"
   ]
  },
  {
   "cell_type": "code",
   "execution_count": 821,
   "metadata": {},
   "outputs": [
    {
     "data": {
      "text/plain": [
       "12       482\n",
       "10       434\n",
       "11       413\n",
       "13       283\n",
       "9        154\n",
       "8         98\n",
       "7         52\n",
       "14        39\n",
       "5         33\n",
       "6         32\n",
       "3         18\n",
       "4         16\n",
       "2          9\n",
       "1          4\n",
       "           2\n",
       "420        1\n",
       "776        1\n",
       "0          1\n",
       "121        1\n",
       "144        1\n",
       "44         1\n",
       "88         1\n",
       "60         1\n",
       "3.5        1\n",
       "11.26      1\n",
       "11.27      1\n",
       "45         1\n",
       "99         1\n",
       "204        1\n",
       "165        1\n",
       "84         1\n",
       "9.75       1\n",
       "24         1\n",
       "50         1\n",
       "80         1\n",
       "Name: before, dtype: int64"
      ]
     },
     "execution_count": 821,
     "metadata": {},
     "output_type": "execute_result"
    }
   ],
   "source": [
    "dfapi['before'].value_counts()"
   ]
  },
  {
   "cell_type": "code",
   "execution_count": 822,
   "metadata": {},
   "outputs": [
    {
     "data": {
      "text/plain": [
       "2029    orget what day it is. 0/10 https://t.co/YbEJPk...\n",
       "Name: full_text, dtype: object"
      ]
     },
     "execution_count": 822,
     "metadata": {},
     "output_type": "execute_result"
    }
   ],
   "source": [
    "dfapi[dfapi['before'] == '0']['full_text'].astype(str).str[-50:]"
   ]
  },
  {
   "cell_type": "code",
   "execution_count": 823,
   "metadata": {},
   "outputs": [
    {
     "data": {
      "text/plain": [
       "281    you go.\\n\\nGood dogg. 420/10 https://t.co/yfAA...\n",
       "Name: full_text, dtype: object"
      ]
     },
     "execution_count": 823,
     "metadata": {},
     "output_type": "execute_result"
    }
   ],
   "source": [
    "dfapi[dfapi['before'] == '420']['full_text'].astype(str).str[-50:]"
   ]
  },
  {
   "cell_type": "code",
   "execution_count": 824,
   "metadata": {},
   "outputs": [
    {
     "data": {
      "text/plain": [
       "1126    n a bench. 99/90 good work everybody https://t...\n",
       "Name: full_text, dtype: object"
      ]
     },
     "execution_count": 824,
     "metadata": {},
     "output_type": "execute_result"
    }
   ],
   "source": [
    "dfapi[dfapi['before'] == '99']['full_text'].astype(str).str[-60:]"
   ]
  },
  {
   "cell_type": "code",
   "execution_count": 825,
   "metadata": {},
   "outputs": [
    {
     "data": {
      "text/plain": [
       "1375    simply America af. 1776/10 https://t.co/GRXwMx...\n",
       "Name: full_text, dtype: object"
      ]
     },
     "execution_count": 825,
     "metadata": {},
     "output_type": "execute_result"
    }
   ],
   "source": [
    "dfapi[dfapi['before'] == '776']['full_text'].astype(str).str[-50:]"
   ]
  },
  {
   "cell_type": "code",
   "execution_count": 826,
   "metadata": {},
   "outputs": [
    {
     "data": {
      "text/plain": [
       "1152    are split 50/50. Amazed af. 11/10 https://t.co...\n",
       "Name: full_text, dtype: object"
      ]
     },
     "execution_count": 826,
     "metadata": {},
     "output_type": "execute_result"
    }
   ],
   "source": [
    "dfapi[dfapi['before'] == '50']['full_text'].astype(str).str[60:]"
   ]
  },
  {
   "cell_type": "code",
   "execution_count": 827,
   "metadata": {},
   "outputs": [
    {
     "data": {
      "text/plain": [
       "576    otal of 144/120 ...I think https://t.co/ZanVtA...\n",
       "Name: full_text, dtype: object"
      ]
     },
     "execution_count": 827,
     "metadata": {},
     "output_type": "execute_result"
    }
   ],
   "source": [
    "dfapi[dfapi['before'] == '144']['full_text'].astype(str).str[-50:]"
   ]
  },
  {
   "cell_type": "code",
   "execution_count": 828,
   "metadata": {},
   "outputs": [
    {
     "data": {
      "text/plain": [
       "921    t of pups. 44/40 would pet all at once https:/...\n",
       "Name: full_text, dtype: object"
      ]
     },
     "execution_count": 828,
     "metadata": {},
     "output_type": "execute_result"
    }
   ],
   "source": [
    "dfapi[dfapi['before'] == '44']['full_text'].astype(str).str[30:]"
   ]
  },
  {
   "cell_type": "code",
   "execution_count": 829,
   "metadata": {},
   "outputs": [
    {
     "data": {
      "text/plain": [
       "1831    Meet Sam. She smiles 24/7 &amp; secretly aspir...\n",
       "Name: full_text, dtype: object"
      ]
     },
     "execution_count": 829,
     "metadata": {},
     "output_type": "execute_result"
    }
   ],
   "source": [
    "dfapi[dfapi['before'] == '24']['full_text'].astype(str).str[0:]"
   ]
  },
  {
   "cell_type": "code",
   "execution_count": 830,
   "metadata": {},
   "outputs": [
    {
     "data": {
      "text/html": [
       "<div>\n",
       "<style scoped>\n",
       "    .dataframe tbody tr th:only-of-type {\n",
       "        vertical-align: middle;\n",
       "    }\n",
       "\n",
       "    .dataframe tbody tr th {\n",
       "        vertical-align: top;\n",
       "    }\n",
       "\n",
       "    .dataframe thead th {\n",
       "        text-align: right;\n",
       "    }\n",
       "</style>\n",
       "<table border=\"1\" class=\"dataframe\">\n",
       "  <thead>\n",
       "    <tr style=\"text-align: right;\">\n",
       "      <th></th>\n",
       "      <th>created_at</th>\n",
       "      <th>id</th>\n",
       "      <th>full_text</th>\n",
       "      <th>retweet_count</th>\n",
       "      <th>favorite_count</th>\n",
       "      <th>dog_stage</th>\n",
       "      <th>pre</th>\n",
       "      <th>post</th>\n",
       "      <th>before</th>\n",
       "      <th>after</th>\n",
       "    </tr>\n",
       "  </thead>\n",
       "  <tbody>\n",
       "    <tr>\n",
       "      <th>1831</th>\n",
       "      <td>Mon Dec 19 23:06:23 +0000 2016</td>\n",
       "      <td>810984652412424192</td>\n",
       "      <td>Meet Sam. She smiles 24/7 &amp;amp; secretly aspir...</td>\n",
       "      <td>1471</td>\n",
       "      <td>5468</td>\n",
       "      <td>NaN</td>\n",
       "      <td>Meet Sam. She smiles 24</td>\n",
       "      <td>7 &amp;amp; secretly aspires to be a reindeer. \\nK...</td>\n",
       "      <td>24</td>\n",
       "      <td>7 &amp;</td>\n",
       "    </tr>\n",
       "  </tbody>\n",
       "</table>\n",
       "</div>"
      ],
      "text/plain": [
       "                          created_at                  id  \\\n",
       "1831  Mon Dec 19 23:06:23 +0000 2016  810984652412424192   \n",
       "\n",
       "                                              full_text  retweet_count  \\\n",
       "1831  Meet Sam. She smiles 24/7 &amp; secretly aspir...           1471   \n",
       "\n",
       "      favorite_count dog_stage                      pre  \\\n",
       "1831            5468       NaN  Meet Sam. She smiles 24   \n",
       "\n",
       "                                                   post before after  \n",
       "1831  7 &amp; secretly aspires to be a reindeer. \\nK...     24   7 &  "
      ]
     },
     "execution_count": 830,
     "metadata": {},
     "output_type": "execute_result"
    }
   ],
   "source": [
    "dfapi[dfapi['before'] == '24']"
   ]
  },
  {
   "cell_type": "code",
   "execution_count": 831,
   "metadata": {},
   "outputs": [
    {
     "data": {
      "text/plain": [
       "'Meet Sam. She smiles 24/7 &amp; secretly aspires to be a reindeer. \\nKeep Sam smiling by clicking and sharing this link:\\nhttps://t.co/98tB8y7y7t https://t.co/LouL5vdvxx'"
      ]
     },
     "execution_count": 831,
     "metadata": {},
     "output_type": "execute_result"
    }
   ],
   "source": [
    "dfapi['full_text'][1831]"
   ]
  },
  {
   "cell_type": "code",
   "execution_count": 832,
   "metadata": {
    "scrolled": false
   },
   "outputs": [
    {
     "data": {
      "text/plain": [
       "1234    ved squad of doggos. 204/170 would try to pet ...\n",
       "Name: full_text, dtype: object"
      ]
     },
     "execution_count": 832,
     "metadata": {},
     "output_type": "execute_result"
    }
   ],
   "source": [
    "dfapi[dfapi['before'] == '204']['full_text'].astype(str).str[40:]"
   ]
  },
  {
   "cell_type": "code",
   "execution_count": 833,
   "metadata": {},
   "outputs": [
    {
     "data": {
      "text/plain": [
       "1913    he floofs have been released. 84/70 https://t....\n",
       "Name: full_text, dtype: object"
      ]
     },
     "execution_count": 833,
     "metadata": {},
     "output_type": "execute_result"
    }
   ],
   "source": [
    "dfapi[dfapi['before'] == '84']['full_text'].astype(str).str[40:]"
   ]
  },
  {
   "cell_type": "code",
   "execution_count": 834,
   "metadata": {},
   "outputs": [
    {
     "data": {
      "text/plain": [
       "1080    mera is. 45/50 would hug all at once https://t...\n",
       "Name: full_text, dtype: object"
      ]
     },
     "execution_count": 834,
     "metadata": {},
     "output_type": "execute_result"
    }
   ],
   "source": [
    "dfapi[dfapi['before'] == '45']['full_text'].astype(str).str[-60:]"
   ]
  },
  {
   "cell_type": "code",
   "execution_count": 835,
   "metadata": {},
   "outputs": [
    {
     "data": {
      "text/plain": [
       "1451    my front door... 165/150 https://t.co/HmwrdfEfUE\n",
       "Name: full_text, dtype: object"
      ]
     },
     "execution_count": 835,
     "metadata": {},
     "output_type": "execute_result"
    }
   ],
   "source": [
    "dfapi[dfapi['before'] == '165']['full_text'].astype(str).str[30:]"
   ]
  },
  {
   "cell_type": "code",
   "execution_count": 836,
   "metadata": {
    "scrolled": true
   },
   "outputs": [
    {
     "data": {
      "text/plain": [
       "719    es. Clever puppers 121/110 https://t.co/1zfnTJ...\n",
       "Name: full_text, dtype: object"
      ]
     },
     "execution_count": 836,
     "metadata": {},
     "output_type": "execute_result"
    }
   ],
   "source": [
    "dfapi[dfapi['before'] == '121']['full_text'].astype(str).str[90:]"
   ]
  },
  {
   "cell_type": "code",
   "execution_count": 837,
   "metadata": {},
   "outputs": [
    {
     "data": {
      "text/plain": [
       "2286    vorite monkey. 13.5/10 https://t.co/qjrljjt948\n",
       "Name: full_text, dtype: object"
      ]
     },
     "execution_count": 837,
     "metadata": {},
     "output_type": "execute_result"
    }
   ],
   "source": [
    "dfapi[dfapi['before'] == '3.5']['full_text'].astype(str).str[90:]"
   ]
  },
  {
   "cell_type": "code",
   "execution_count": 838,
   "metadata": {},
   "outputs": [
    {
     "data": {
      "text/plain": [
       "1100    ever happens next. 80/80 https://t.co/0eb7R1Om12\n",
       "Name: full_text, dtype: object"
      ]
     },
     "execution_count": 838,
     "metadata": {},
     "output_type": "execute_result"
    }
   ],
   "source": [
    "dfapi[dfapi['before'] == '80']['full_text'].astype(str).str[60:]"
   ]
  },
  {
   "cell_type": "code",
   "execution_count": 839,
   "metadata": {},
   "outputs": [
    {
     "data": {
      "text/plain": [
       "1003    k of puppers.  60/50 I'll take the lot https:/...\n",
       "Name: full_text, dtype: object"
      ]
     },
     "execution_count": 839,
     "metadata": {},
     "output_type": "execute_result"
    }
   ],
   "source": [
    "dfapi[dfapi['before'] == '60']['full_text'].astype(str).str[20:]"
   ]
  },
  {
   "cell_type": "code",
   "execution_count": 840,
   "metadata": {},
   "outputs": [
    {
     "data": {
      "text/plain": [
       "512    re platoon of puppers. Total score: 88/80 woul...\n",
       "Name: full_text, dtype: object"
      ]
     },
     "execution_count": 840,
     "metadata": {},
     "output_type": "execute_result"
    }
   ],
   "source": [
    "dfapi[dfapi['before'] == '88']['full_text'].astype(str).str[20:]"
   ]
  },
  {
   "cell_type": "code",
   "execution_count": 841,
   "metadata": {
    "scrolled": true
   },
   "outputs": [],
   "source": [
    "dfapi.before.replace('960','13', inplace=True)\n",
    "dfapi.before.replace('776','1776', inplace=True)\n",
    "dfapi.before.replace('50','11', inplace=True)\n",
    "dfapi.before.replace('3.5','13.5', inplace=True)\n",
    "dfapi.before.replace('24', np.nan, inplace=True)"
   ]
  },
  {
   "cell_type": "code",
   "execution_count": 842,
   "metadata": {},
   "outputs": [
    {
     "data": {
      "text/plain": [
       "12       482\n",
       "10       434\n",
       "11       414\n",
       "13       283\n",
       "9        154\n",
       "8         98\n",
       "7         52\n",
       "14        39\n",
       "5         33\n",
       "6         32\n",
       "3         18\n",
       "4         16\n",
       "2          9\n",
       "1          4\n",
       "           2\n",
       "60         1\n",
       "144        1\n",
       "121        1\n",
       "13.5       1\n",
       "44         1\n",
       "11.27      1\n",
       "1776       1\n",
       "88         1\n",
       "420        1\n",
       "45         1\n",
       "204        1\n",
       "99         1\n",
       "165        1\n",
       "84         1\n",
       "0          1\n",
       "9.75       1\n",
       "80         1\n",
       "11.26      1\n",
       "Name: before, dtype: int64"
      ]
     },
     "execution_count": 842,
     "metadata": {},
     "output_type": "execute_result"
    }
   ],
   "source": [
    "dfapi['before'].value_counts()"
   ]
  },
  {
   "cell_type": "code",
   "execution_count": 843,
   "metadata": {},
   "outputs": [
    {
     "data": {
      "text/plain": [
       "540     This is the saddest/sweetest/best picture I've...\n",
       "1105    What hooligan sent in pictures w/out a dog in ...\n",
       "Name: full_text, dtype: object"
      ]
     },
     "execution_count": 843,
     "metadata": {},
     "output_type": "execute_result"
    }
   ],
   "source": [
    "dfapi[dfapi['before'] == \"\"]['full_text']"
   ]
  },
  {
   "cell_type": "code",
   "execution_count": 844,
   "metadata": {},
   "outputs": [
    {
     "data": {
      "text/plain": [
       "\"This is the saddest/sweetest/best picture I've been sent. 12/10 😢🐶 https://t.co/vQ2Lw1BLBF\""
      ]
     },
     "execution_count": 844,
     "metadata": {},
     "output_type": "execute_result"
    }
   ],
   "source": [
    "dfapi['full_text'][540]"
   ]
  },
  {
   "cell_type": "code",
   "execution_count": 845,
   "metadata": {},
   "outputs": [
    {
     "data": {
      "text/plain": [
       "\"What hooligan sent in pictures w/out a dog in them? Churlish af. 3/10 just bc that's a neat fluffy bean bag chair https://t.co/wcwoGOkZvz\""
      ]
     },
     "execution_count": 845,
     "metadata": {},
     "output_type": "execute_result"
    }
   ],
   "source": [
    "dfapi['full_text'][1105]"
   ]
  },
  {
   "cell_type": "code",
   "execution_count": 846,
   "metadata": {},
   "outputs": [],
   "source": [
    "dfapi.loc[540, 'before'] = '12'\n",
    "dfapi.loc[1105, 'before'] = '3'"
   ]
  },
  {
   "cell_type": "code",
   "execution_count": 847,
   "metadata": {},
   "outputs": [
    {
     "data": {
      "text/plain": [
       "12       483\n",
       "10       434\n",
       "11       414\n",
       "13       283\n",
       "9        154\n",
       "8         98\n",
       "7         52\n",
       "14        39\n",
       "5         33\n",
       "6         32\n",
       "3         19\n",
       "4         16\n",
       "2          9\n",
       "1          4\n",
       "45         1\n",
       "121        1\n",
       "13.5       1\n",
       "84         1\n",
       "144        1\n",
       "1776       1\n",
       "88         1\n",
       "60         1\n",
       "11.26      1\n",
       "80         1\n",
       "44         1\n",
       "165        1\n",
       "99         1\n",
       "11.27      1\n",
       "420        1\n",
       "0          1\n",
       "9.75       1\n",
       "204        1\n",
       "Name: before, dtype: int64"
      ]
     },
     "execution_count": 847,
     "metadata": {},
     "output_type": "execute_result"
    }
   ],
   "source": [
    "dfapi['before'].value_counts()"
   ]
  },
  {
   "cell_type": "code",
   "execution_count": 848,
   "metadata": {},
   "outputs": [
    {
     "data": {
      "text/plain": [
       "17     ly quick. Shits eggs. 1/10 https://t.co/Asgdc6...\n",
       "94     h. Not even cordless. 1/10 https://t.co/i9iSGN...\n",
       "264    ing doesn't look fun. 1/10 https://t.co/jxukeh...\n",
       "486    ecause that's a nice table https://t.co/RDXCfk...\n",
       "Name: full_text, dtype: object"
      ]
     },
     "execution_count": 848,
     "metadata": {},
     "output_type": "execute_result"
    }
   ],
   "source": [
    "dfapi[dfapi['before'] == '1']['full_text'].astype(str).str[-50:]"
   ]
  },
  {
   "cell_type": "code",
   "execution_count": 849,
   "metadata": {},
   "outputs": [
    {
     "data": {
      "text/plain": [
       "\"What kind of person sends in a picture without a dog in it? 1/10 just because that's a nice table https://t.co/RDXCfk8hK0\""
      ]
     },
     "execution_count": 849,
     "metadata": {},
     "output_type": "execute_result"
    }
   ],
   "source": [
    "dfapi['full_text'][486]"
   ]
  },
  {
   "cell_type": "markdown",
   "metadata": {},
   "source": [
    "#### Test:"
   ]
  },
  {
   "cell_type": "code",
   "execution_count": 850,
   "metadata": {
    "scrolled": true
   },
   "outputs": [
    {
     "data": {
      "text/plain": [
       "12       483\n",
       "10       434\n",
       "11       414\n",
       "13       283\n",
       "9        154\n",
       "8         98\n",
       "7         52\n",
       "14        39\n",
       "5         33\n",
       "6         32\n",
       "3         19\n",
       "4         16\n",
       "2          9\n",
       "1          4\n",
       "45         1\n",
       "121        1\n",
       "13.5       1\n",
       "84         1\n",
       "144        1\n",
       "1776       1\n",
       "88         1\n",
       "60         1\n",
       "11.26      1\n",
       "80         1\n",
       "44         1\n",
       "165        1\n",
       "99         1\n",
       "11.27      1\n",
       "420        1\n",
       "0          1\n",
       "9.75       1\n",
       "204        1\n",
       "Name: before, dtype: int64"
      ]
     },
     "execution_count": 850,
     "metadata": {},
     "output_type": "execute_result"
    }
   ],
   "source": [
    "dfapi['before'].value_counts()"
   ]
  },
  {
   "cell_type": "markdown",
   "metadata": {},
   "source": [
    "#### Define:\n",
    "Quality: Remove punctuation (except periods/decimal points) and letters from after"
   ]
  },
  {
   "cell_type": "markdown",
   "metadata": {},
   "source": [
    "#### Code:"
   ]
  },
  {
   "cell_type": "code",
   "execution_count": 851,
   "metadata": {},
   "outputs": [
    {
     "data": {
      "text/plain": [
       "      2035\n",
       "s       18\n",
       "\\n      10\n",
       ".        8\n",
       ",        7\n",
       "0        5\n",
       "&        2\n",
       "t        1\n",
       "e        1\n",
       "!        1\n",
       "l        1\n",
       "Name: after, dtype: int64"
      ]
     },
     "execution_count": 851,
     "metadata": {},
     "output_type": "execute_result"
    }
   ],
   "source": [
    "dfapi['after'].astype(str).str[-1:].value_counts()"
   ]
  },
  {
   "cell_type": "code",
   "execution_count": 852,
   "metadata": {},
   "outputs": [],
   "source": [
    "dfapi['after'] = dfapi['after'].map(lambda x: x.rstrip(' s\\n,&t!lre)!/'))"
   ]
  },
  {
   "cell_type": "code",
   "execution_count": 853,
   "metadata": {
    "scrolled": true
   },
   "outputs": [
    {
     "data": {
      "text/plain": [
       "0    2075\n",
       ".       8\n",
       "1       2\n",
       "2       1\n",
       "w       1\n",
       "u       1\n",
       "7       1\n",
       "Name: after, dtype: int64"
      ]
     },
     "execution_count": 853,
     "metadata": {},
     "output_type": "execute_result"
    }
   ],
   "source": [
    "dfapi['after'].astype(str).str[-1:].value_counts()"
   ]
  },
  {
   "cell_type": "code",
   "execution_count": 854,
   "metadata": {},
   "outputs": [],
   "source": [
    "dfapi['after'] = dfapi['after'].map(lambda x: x.rstrip('wpu'))"
   ]
  },
  {
   "cell_type": "code",
   "execution_count": 855,
   "metadata": {},
   "outputs": [
    {
     "data": {
      "text/plain": [
       "0    2075\n",
       ".       8\n",
       "1       2\n",
       "2       1\n",
       "o       1\n",
       "s       1\n",
       "7       1\n",
       "Name: after, dtype: int64"
      ]
     },
     "execution_count": 855,
     "metadata": {},
     "output_type": "execute_result"
    }
   ],
   "source": [
    "dfapi['after'].astype(str).str[-1:].value_counts()"
   ]
  },
  {
   "cell_type": "code",
   "execution_count": 856,
   "metadata": {},
   "outputs": [],
   "source": [
    "dfapi['after'] = dfapi['after'].map(lambda x: x.rstrip('so'))"
   ]
  },
  {
   "cell_type": "code",
   "execution_count": 857,
   "metadata": {},
   "outputs": [
    {
     "data": {
      "text/plain": [
       "10     2063\n",
       "10.       7\n",
       "          2\n",
       "11        2\n",
       "50        2\n",
       "80        2\n",
       "7         1\n",
       "20        1\n",
       "50.       1\n",
       "90        1\n",
       "70        1\n",
       "2         1\n",
       "110       1\n",
       "150       1\n",
       "40        1\n",
       "170       1\n",
       "120       1\n",
       "Name: after, dtype: int64"
      ]
     },
     "execution_count": 857,
     "metadata": {},
     "output_type": "execute_result"
    }
   ],
   "source": [
    "dfapi['after'].value_counts()"
   ]
  },
  {
   "cell_type": "code",
   "execution_count": 858,
   "metadata": {
    "scrolled": true
   },
   "outputs": [
    {
     "data": {
      "text/plain": [
       "540     st/sweetest/best picture I've been sent. 12/10...\n",
       "1105     3/10 just bc that's a neat fluffy bean bag ch...\n",
       "Name: full_text, dtype: object"
      ]
     },
     "execution_count": 858,
     "metadata": {},
     "output_type": "execute_result"
    }
   ],
   "source": [
    "dfapi[dfapi['after'] == '']['full_text'].astype(str).str[-73:]"
   ]
  },
  {
   "cell_type": "code",
   "execution_count": 859,
   "metadata": {},
   "outputs": [
    {
     "data": {
      "text/plain": [
       "692     ed by the helicopter 10/10 https://t.co/7EsP8L...\n",
       "1286    our second ever 14/10. RIP https://t.co/XAVDND...\n",
       "Name: full_text, dtype: object"
      ]
     },
     "execution_count": 859,
     "metadata": {},
     "output_type": "execute_result"
    }
   ],
   "source": [
    "dfapi[dfapi['after'] == '11']['full_text'].astype(str).str[-50:]"
   ]
  },
  {
   "cell_type": "code",
   "execution_count": 860,
   "metadata": {},
   "outputs": [
    {
     "data": {
      "text/plain": [
       "20     Penis on the collar. 9/10 https://t.co/d9NcXF...\n",
       "Name: full_text, dtype: object"
      ]
     },
     "execution_count": 860,
     "metadata": {},
     "output_type": "execute_result"
    }
   ],
   "source": [
    "dfapi[dfapi['after'] == '2']['full_text'].astype(str).str[-50:]"
   ]
  },
  {
   "cell_type": "code",
   "execution_count": 861,
   "metadata": {},
   "outputs": [
    {
     "data": {
      "text/plain": [
       "719    es. Clever puppers 121/110 https://t.co/1zfnTJ...\n",
       "Name: full_text, dtype: object"
      ]
     },
     "execution_count": 861,
     "metadata": {},
     "output_type": "execute_result"
    }
   ],
   "source": [
    "dfapi[dfapi['after'] == '110']['full_text'].astype(str).str[-50:]"
   ]
  },
  {
   "cell_type": "code",
   "execution_count": 862,
   "metadata": {
    "scrolled": true
   },
   "outputs": [
    {
     "data": {
      "text/plain": [
       "1234     well behaved squad of doggos. 204/170 would t...\n",
       "Name: full_text, dtype: object"
      ]
     },
     "execution_count": 862,
     "metadata": {},
     "output_type": "execute_result"
    }
   ],
   "source": [
    "dfapi[dfapi['after'] == '170']['full_text'].astype(str).str[30:]"
   ]
  },
  {
   "cell_type": "code",
   "execution_count": 863,
   "metadata": {},
   "outputs": [
    {
     "data": {
      "text/plain": [
       "1831    Meet Sam. She smiles 24/7 &amp; secretly aspir...\n",
       "Name: full_text, dtype: object"
      ]
     },
     "execution_count": 863,
     "metadata": {},
     "output_type": "execute_result"
    }
   ],
   "source": [
    "dfapi[dfapi['after'] == '7']['full_text']"
   ]
  },
  {
   "cell_type": "code",
   "execution_count": 864,
   "metadata": {},
   "outputs": [
    {
     "data": {
      "text/plain": [
       "'Meet Sam. She smiles 24/7 &amp; secretly aspires to be a reindeer. \\nKeep Sam smiling by clicking and sharing this link:\\nhttps://t.co/98tB8y7y7t https://t.co/LouL5vdvxx'"
      ]
     },
     "execution_count": 864,
     "metadata": {},
     "output_type": "execute_result"
    }
   ],
   "source": [
    "dfapi['full_text'][1831]"
   ]
  },
  {
   "cell_type": "code",
   "execution_count": 865,
   "metadata": {},
   "outputs": [
    {
     "data": {
      "text/plain": [
       "810984652412424192"
      ]
     },
     "execution_count": 865,
     "metadata": {},
     "output_type": "execute_result"
    }
   ],
   "source": [
    "dfapi['id'][1831]"
   ]
  },
  {
   "cell_type": "markdown",
   "metadata": {},
   "source": [
    "going to https://twitter.com/dog_rates/status/810984652412424192 shows that there is no rating"
   ]
  },
  {
   "cell_type": "code",
   "execution_count": 866,
   "metadata": {},
   "outputs": [],
   "source": [
    "dfapi.after.replace('','10', inplace=True)\n",
    "dfapi.after.replace('11','10', inplace=True)\n",
    "dfapi.after.replace('2','10', inplace=True)\n",
    "dfapi.after.replace('7', np.nan, inplace=True)"
   ]
  },
  {
   "cell_type": "code",
   "execution_count": 867,
   "metadata": {
    "scrolled": true
   },
   "outputs": [
    {
     "data": {
      "text/plain": [
       "10     2068\n",
       "10.       7\n",
       "50        2\n",
       "80        2\n",
       "70        1\n",
       "150       1\n",
       "170       1\n",
       "40        1\n",
       "120       1\n",
       "110       1\n",
       "90        1\n",
       "50.       1\n",
       "20        1\n",
       "Name: after, dtype: int64"
      ]
     },
     "execution_count": 867,
     "metadata": {},
     "output_type": "execute_result"
    }
   ],
   "source": [
    "dfapi['after'].value_counts()"
   ]
  },
  {
   "cell_type": "code",
   "execution_count": 868,
   "metadata": {},
   "outputs": [
    {
     "data": {
      "text/plain": [
       "127     s and Gentleman... 13/10. This dog is utterly ...\n",
       "266     icking out of its back. They each get 9/10. Wo...\n",
       "492     The tail alone is 13/10. Great dog, better own...\n",
       "733     als. Been through it all together. Both 11/10....\n",
       "745     y needs to read this. Jack is our first 14/10....\n",
       "1948    to see why Pablo requests your assistance\\n\\nh...\n",
       "2234     of ICU her whole life. Help Sierra below\\n\\nh...\n",
       "Name: full_text, dtype: object"
      ]
     },
     "execution_count": 868,
     "metadata": {},
     "output_type": "execute_result"
    }
   ],
   "source": [
    "dfapi[dfapi['after'] == '10.']['full_text'].astype(str).str[-90:]"
   ]
  },
  {
   "cell_type": "code",
   "execution_count": 869,
   "metadata": {},
   "outputs": [
    {
     "data": {
      "text/plain": [
       "\"Say hello to Pablo. He's one gorgeous puppo. A true 12/10. Click the link to see why Pablo requests your assistance\\n\\nhttps://t.co/koHvVQp9bL https://t.co/IhW0JKf7kc\""
      ]
     },
     "execution_count": 869,
     "metadata": {},
     "output_type": "execute_result"
    }
   ],
   "source": [
    "dfapi['full_text'][1948]"
   ]
  },
  {
   "cell_type": "code",
   "execution_count": 870,
   "metadata": {},
   "outputs": [
    {
     "data": {
      "text/plain": [
       "\"This is Sierra. She's one precious pupper. Absolute 12/10. Been in and out of ICU her whole life. Help Sierra below\\n\\nhttps://t.co/Xp01EU3qyD https://t.co/V5lkvrGLdQ\""
      ]
     },
     "execution_count": 870,
     "metadata": {},
     "output_type": "execute_result"
    }
   ],
   "source": [
    "dfapi['full_text'][2234]"
   ]
  },
  {
   "cell_type": "code",
   "execution_count": 871,
   "metadata": {
    "scrolled": true
   },
   "outputs": [
    {
     "data": {
      "text/plain": [
       "1152    are split 50/50. Amazed af. 11/10 https://t.co...\n",
       "Name: full_text, dtype: object"
      ]
     },
     "execution_count": 871,
     "metadata": {},
     "output_type": "execute_result"
    }
   ],
   "source": [
    "dfapi[dfapi['after'] == '50.']['full_text'].astype(str).str[60:]"
   ]
  },
  {
   "cell_type": "code",
   "execution_count": 872,
   "metadata": {
    "scrolled": true
   },
   "outputs": [
    {
     "data": {
      "text/plain": [
       "'This is Bluebert. He just saw that both #FinalFur match ups are split 50/50. Amazed af. 11/10 https://t.co/Kky1DPG4iq'"
      ]
     },
     "execution_count": 872,
     "metadata": {},
     "output_type": "execute_result"
    }
   ],
   "source": [
    "dfapi['full_text'][1152]"
   ]
  },
  {
   "cell_type": "code",
   "execution_count": 873,
   "metadata": {
    "scrolled": true
   },
   "outputs": [
    {
     "data": {
      "text/plain": [
       "716439118184652801"
      ]
     },
     "execution_count": 873,
     "metadata": {},
     "output_type": "execute_result"
    }
   ],
   "source": [
    "dfapi['id'][1152]"
   ]
  },
  {
   "cell_type": "code",
   "execution_count": 874,
   "metadata": {},
   "outputs": [
    {
     "data": {
      "text/plain": [
       "'11'"
      ]
     },
     "execution_count": 874,
     "metadata": {},
     "output_type": "execute_result"
    }
   ],
   "source": [
    "dfapi['before'][1152]"
   ]
  },
  {
   "cell_type": "markdown",
   "metadata": {},
   "source": [
    "going to https://twitter.com/dog_rates/status/716439118184652801 shows that only one dog is present, rating is 11/10, and that the numerator has it as before"
   ]
  },
  {
   "cell_type": "code",
   "execution_count": 875,
   "metadata": {},
   "outputs": [],
   "source": [
    "dfapi.after.replace('10.', '10', inplace=True)\n",
    "dfapi.after.replace('50.', '10', inplace=True)"
   ]
  },
  {
   "cell_type": "code",
   "execution_count": 876,
   "metadata": {},
   "outputs": [
    {
     "data": {
      "text/plain": [
       "10     2076\n",
       "50        2\n",
       "80        2\n",
       "70        1\n",
       "150       1\n",
       "170       1\n",
       "40        1\n",
       "120       1\n",
       "110       1\n",
       "90        1\n",
       "20        1\n",
       "Name: after, dtype: int64"
      ]
     },
     "execution_count": 876,
     "metadata": {},
     "output_type": "execute_result"
    }
   ],
   "source": [
    "dfapi['after'].value_counts()"
   ]
  },
  {
   "cell_type": "code",
   "execution_count": 877,
   "metadata": {},
   "outputs": [
    {
     "data": {
      "text/plain": [
       "512     s. Total score: 88/80 would pet all at once ht...\n",
       "1100    ry prepared for whatever happens next. 80/80 h...\n",
       "Name: full_text, dtype: object"
      ]
     },
     "execution_count": 877,
     "metadata": {},
     "output_type": "execute_result"
    }
   ],
   "source": [
    "dfapi[dfapi['after'] == '80']['full_text'].astype(str).str[40:]"
   ]
  },
  {
   "cell_type": "code",
   "execution_count": 878,
   "metadata": {},
   "outputs": [
    {
     "data": {
      "text/plain": [
       "1003    Here is a whole flock of puppers.  60/50 I'll ...\n",
       "1080    From left to right:\\nCletus, Jerome, Alejandro...\n",
       "Name: full_text, dtype: object"
      ]
     },
     "execution_count": 878,
     "metadata": {},
     "output_type": "execute_result"
    }
   ],
   "source": [
    "dfapi[dfapi['after'] == '50']['full_text'].astype(str)"
   ]
  },
  {
   "cell_type": "code",
   "execution_count": 879,
   "metadata": {},
   "outputs": [
    {
     "data": {
      "text/plain": [
       "'From left to right:\\nCletus, Jerome, Alejandro, Burp, &amp; Titson\\nNone know where camera is. 45/50 would hug all at once https://t.co/sedre1ivTK'"
      ]
     },
     "execution_count": 879,
     "metadata": {},
     "output_type": "execute_result"
    }
   ],
   "source": [
    "dfapi['full_text'][1080]"
   ]
  },
  {
   "cell_type": "code",
   "execution_count": 880,
   "metadata": {},
   "outputs": [
    {
     "data": {
      "text/plain": [
       "1234    ved squad of doggos. 204/170 would try to pet ...\n",
       "Name: full_text, dtype: object"
      ]
     },
     "execution_count": 880,
     "metadata": {},
     "output_type": "execute_result"
    }
   ],
   "source": [
    "dfapi[dfapi['after'] == '170']['full_text'].astype(str).str[40:]"
   ]
  },
  {
   "cell_type": "code",
   "execution_count": 881,
   "metadata": {
    "scrolled": true
   },
   "outputs": [
    {
     "data": {
      "text/plain": [
       "1189    Happy 4/20 from the squad! 13/10 for all https...\n",
       "Name: full_text, dtype: object"
      ]
     },
     "execution_count": 881,
     "metadata": {},
     "output_type": "execute_result"
    }
   ],
   "source": [
    "dfapi[dfapi['after'] == '20']['full_text'].astype(str).str[0:]"
   ]
  },
  {
   "cell_type": "code",
   "execution_count": 882,
   "metadata": {},
   "outputs": [
    {
     "data": {
      "text/plain": [
       "'4'"
      ]
     },
     "execution_count": 882,
     "metadata": {},
     "output_type": "execute_result"
    }
   ],
   "source": [
    "dfapi['before'][1189]"
   ]
  },
  {
   "cell_type": "markdown",
   "metadata": {},
   "source": [
    "Correct both the before and after for this tweet^^^"
   ]
  },
  {
   "cell_type": "code",
   "execution_count": 883,
   "metadata": {},
   "outputs": [
    {
     "data": {
      "text/plain": [
       "719    es. Clever puppers 121/110 https://t.co/1zfnTJ...\n",
       "Name: full_text, dtype: object"
      ]
     },
     "execution_count": 883,
     "metadata": {},
     "output_type": "execute_result"
    }
   ],
   "source": [
    "dfapi[dfapi['after'] == '110']['full_text'].astype(str).str[90:]"
   ]
  },
  {
   "cell_type": "code",
   "execution_count": 884,
   "metadata": {},
   "outputs": [
    {
     "data": {
      "text/plain": [
       "1451    my front door... 165/150 https://t.co/HmwrdfEfUE\n",
       "Name: full_text, dtype: object"
      ]
     },
     "execution_count": 884,
     "metadata": {},
     "output_type": "execute_result"
    }
   ],
   "source": [
    "dfapi[dfapi['after'] == '150']['full_text'].astype(str).str[30:]"
   ]
  },
  {
   "cell_type": "code",
   "execution_count": 885,
   "metadata": {},
   "outputs": [
    {
     "data": {
      "text/plain": [
       "1126    s on a bench. 99/90 good work everybody https:...\n",
       "Name: full_text, dtype: object"
      ]
     },
     "execution_count": 885,
     "metadata": {},
     "output_type": "execute_result"
    }
   ],
   "source": [
    "dfapi[dfapi['after'] == '90']['full_text'].astype(str).str[30:]"
   ]
  },
  {
   "cell_type": "code",
   "execution_count": 886,
   "metadata": {},
   "outputs": [
    {
     "data": {
      "text/plain": [
       "576    IT'S PUPPERGEDDON. Total of 144/120 ...I think...\n",
       "Name: full_text, dtype: object"
      ]
     },
     "execution_count": 886,
     "metadata": {},
     "output_type": "execute_result"
    }
   ],
   "source": [
    "dfapi[dfapi['after'] == '120']['full_text'].astype(str).str[0:]"
   ]
  },
  {
   "cell_type": "code",
   "execution_count": 887,
   "metadata": {},
   "outputs": [
    {
     "data": {
      "text/plain": [
       "1913    have been released. 84/70 https://t.co/NIYC820tmd\n",
       "Name: full_text, dtype: object"
      ]
     },
     "execution_count": 887,
     "metadata": {},
     "output_type": "execute_result"
    }
   ],
   "source": [
    "dfapi[dfapi['after'] == '70']['full_text'].astype(str).str[50:]"
   ]
  },
  {
   "cell_type": "code",
   "execution_count": 888,
   "metadata": {},
   "outputs": [
    {
     "data": {
      "text/plain": [
       "921    t of pups. 44/40 would pet all at once https:/...\n",
       "Name: full_text, dtype: object"
      ]
     },
     "execution_count": 888,
     "metadata": {},
     "output_type": "execute_result"
    }
   ],
   "source": [
    "dfapi[dfapi['after'] == '40']['full_text'].astype(str).str[30:]"
   ]
  },
  {
   "cell_type": "code",
   "execution_count": 889,
   "metadata": {},
   "outputs": [],
   "source": [
    "dfapi.loc[1189, 'before'] = '13'\n",
    "dfapi.loc[1189, 'after'] = '10'"
   ]
  },
  {
   "cell_type": "markdown",
   "metadata": {},
   "source": [
    "#### Test:"
   ]
  },
  {
   "cell_type": "code",
   "execution_count": 890,
   "metadata": {
    "scrolled": true
   },
   "outputs": [
    {
     "data": {
      "text/plain": [
       "10     2077\n",
       "50        2\n",
       "80        2\n",
       "70        1\n",
       "150       1\n",
       "170       1\n",
       "40        1\n",
       "120       1\n",
       "110       1\n",
       "90        1\n",
       "Name: after, dtype: int64"
      ]
     },
     "execution_count": 890,
     "metadata": {},
     "output_type": "execute_result"
    }
   ],
   "source": [
    "dfapi['after'].value_counts()"
   ]
  },
  {
   "cell_type": "markdown",
   "metadata": {},
   "source": [
    "#### Define:\n",
    "Tidiness: Get name of dog following format of, 'This is...\" and getting the next word"
   ]
  },
  {
   "cell_type": "markdown",
   "metadata": {},
   "source": [
    "#### Code:"
   ]
  },
  {
   "cell_type": "code",
   "execution_count": 891,
   "metadata": {},
   "outputs": [
    {
     "data": {
      "text/html": [
       "<div>\n",
       "<style scoped>\n",
       "    .dataframe tbody tr th:only-of-type {\n",
       "        vertical-align: middle;\n",
       "    }\n",
       "\n",
       "    .dataframe tbody tr th {\n",
       "        vertical-align: top;\n",
       "    }\n",
       "\n",
       "    .dataframe thead th {\n",
       "        text-align: right;\n",
       "    }\n",
       "</style>\n",
       "<table border=\"1\" class=\"dataframe\">\n",
       "  <thead>\n",
       "    <tr style=\"text-align: right;\">\n",
       "      <th></th>\n",
       "      <th>created_at</th>\n",
       "      <th>id</th>\n",
       "      <th>full_text</th>\n",
       "      <th>retweet_count</th>\n",
       "      <th>favorite_count</th>\n",
       "      <th>dog_stage</th>\n",
       "      <th>pre</th>\n",
       "      <th>post</th>\n",
       "      <th>before</th>\n",
       "      <th>after</th>\n",
       "    </tr>\n",
       "  </thead>\n",
       "  <tbody>\n",
       "    <tr>\n",
       "      <th>0</th>\n",
       "      <td>Sun Nov 15 22:32:08 +0000 2015</td>\n",
       "      <td>666020888022790149</td>\n",
       "      <td>Here we have a Japanese Irish Setter. Lost eye...</td>\n",
       "      <td>465</td>\n",
       "      <td>2422</td>\n",
       "      <td>NaN</td>\n",
       "      <td>Here we have a Japanese Irish Setter. Lost eye...</td>\n",
       "      <td>10 would pet https://t.co/BLDqew2Ijj</td>\n",
       "      <td>8</td>\n",
       "      <td>10</td>\n",
       "    </tr>\n",
       "    <tr>\n",
       "      <th>1</th>\n",
       "      <td>Sun Nov 15 23:05:30 +0000 2015</td>\n",
       "      <td>666029285002620928</td>\n",
       "      <td>This is a western brown Mitsubishi terrier. Up...</td>\n",
       "      <td>42</td>\n",
       "      <td>121</td>\n",
       "      <td>NaN</td>\n",
       "      <td>This is a western brown Mitsubishi terrier. Up...</td>\n",
       "      <td>10 would walk the shit out of https://t.co/r7m...</td>\n",
       "      <td>7</td>\n",
       "      <td>10</td>\n",
       "    </tr>\n",
       "    <tr>\n",
       "      <th>2</th>\n",
       "      <td>Sun Nov 15 23:21:54 +0000 2015</td>\n",
       "      <td>666033412701032449</td>\n",
       "      <td>Here is a very happy pup. Big fan of well-main...</td>\n",
       "      <td>41</td>\n",
       "      <td>113</td>\n",
       "      <td>NaN</td>\n",
       "      <td>Here is a very happy pup. Big fan of well-main...</td>\n",
       "      <td>10 would cuddle af https://t.co/y671yMhoiR</td>\n",
       "      <td>9</td>\n",
       "      <td>10</td>\n",
       "    </tr>\n",
       "    <tr>\n",
       "      <th>3</th>\n",
       "      <td>Mon Nov 16 00:04:52 +0000 2015</td>\n",
       "      <td>666044226329800704</td>\n",
       "      <td>This is a purebred Piers Morgan. Loves to Netf...</td>\n",
       "      <td>133</td>\n",
       "      <td>274</td>\n",
       "      <td>NaN</td>\n",
       "      <td>This is a purebred Piers Morgan. Loves to Netf...</td>\n",
       "      <td>10 https://t.co/DWnyCjf2mx</td>\n",
       "      <td>6</td>\n",
       "      <td>10</td>\n",
       "    </tr>\n",
       "    <tr>\n",
       "      <th>4</th>\n",
       "      <td>Mon Nov 16 00:24:50 +0000 2015</td>\n",
       "      <td>666049248165822465</td>\n",
       "      <td>Here we have a 1949 1st generation vulpix. Enj...</td>\n",
       "      <td>41</td>\n",
       "      <td>97</td>\n",
       "      <td>NaN</td>\n",
       "      <td>Here we have a 1949 1st generation vulpix. Enj...</td>\n",
       "      <td>10 https://t.co/4B7cOc1EDq</td>\n",
       "      <td>5</td>\n",
       "      <td>10</td>\n",
       "    </tr>\n",
       "  </tbody>\n",
       "</table>\n",
       "</div>"
      ],
      "text/plain": [
       "                       created_at                  id  \\\n",
       "0  Sun Nov 15 22:32:08 +0000 2015  666020888022790149   \n",
       "1  Sun Nov 15 23:05:30 +0000 2015  666029285002620928   \n",
       "2  Sun Nov 15 23:21:54 +0000 2015  666033412701032449   \n",
       "3  Mon Nov 16 00:04:52 +0000 2015  666044226329800704   \n",
       "4  Mon Nov 16 00:24:50 +0000 2015  666049248165822465   \n",
       "\n",
       "                                           full_text  retweet_count  \\\n",
       "0  Here we have a Japanese Irish Setter. Lost eye...            465   \n",
       "1  This is a western brown Mitsubishi terrier. Up...             42   \n",
       "2  Here is a very happy pup. Big fan of well-main...             41   \n",
       "3  This is a purebred Piers Morgan. Loves to Netf...            133   \n",
       "4  Here we have a 1949 1st generation vulpix. Enj...             41   \n",
       "\n",
       "   favorite_count dog_stage  \\\n",
       "0            2422       NaN   \n",
       "1             121       NaN   \n",
       "2             113       NaN   \n",
       "3             274       NaN   \n",
       "4              97       NaN   \n",
       "\n",
       "                                                 pre  \\\n",
       "0  Here we have a Japanese Irish Setter. Lost eye...   \n",
       "1  This is a western brown Mitsubishi terrier. Up...   \n",
       "2  Here is a very happy pup. Big fan of well-main...   \n",
       "3  This is a purebred Piers Morgan. Loves to Netf...   \n",
       "4  Here we have a 1949 1st generation vulpix. Enj...   \n",
       "\n",
       "                                                post before after  \n",
       "0               10 would pet https://t.co/BLDqew2Ijj      8    10  \n",
       "1  10 would walk the shit out of https://t.co/r7m...      7    10  \n",
       "2         10 would cuddle af https://t.co/y671yMhoiR      9    10  \n",
       "3                         10 https://t.co/DWnyCjf2mx      6    10  \n",
       "4                         10 https://t.co/4B7cOc1EDq      5    10  "
      ]
     },
     "execution_count": 891,
     "metadata": {},
     "output_type": "execute_result"
    }
   ],
   "source": [
    "dfapi.head()"
   ]
  },
  {
   "cell_type": "code",
   "execution_count": 892,
   "metadata": {},
   "outputs": [],
   "source": [
    "noname = dfapi[dfapi['full_text'].astype(str).str[:8] != 'This is ']"
   ]
  },
  {
   "cell_type": "code",
   "execution_count": 893,
   "metadata": {},
   "outputs": [
    {
     "name": "stderr",
     "output_type": "stream",
     "text": [
      "/opt/anaconda3/lib/python3.7/site-packages/ipykernel_launcher.py:1: SettingWithCopyWarning: \n",
      "A value is trying to be set on a copy of a slice from a DataFrame.\n",
      "Try using .loc[row_indexer,col_indexer] = value instead\n",
      "\n",
      "See the caveats in the documentation: http://pandas.pydata.org/pandas-docs/stable/user_guide/indexing.html#returning-a-view-versus-a-copy\n",
      "  \"\"\"Entry point for launching an IPython kernel.\n"
     ]
    }
   ],
   "source": [
    "noname['name'] = np.nan"
   ]
  },
  {
   "cell_type": "code",
   "execution_count": 894,
   "metadata": {},
   "outputs": [],
   "source": [
    "name = dfapi[dfapi['full_text'].astype(str).str[:8] == 'This is ']"
   ]
  },
  {
   "cell_type": "code",
   "execution_count": 895,
   "metadata": {},
   "outputs": [],
   "source": [
    "name[['first','second']] = name['full_text'].astype(str).str[8:].str.split(' ', n=1, expand=True)"
   ]
  },
  {
   "cell_type": "code",
   "execution_count": 896,
   "metadata": {},
   "outputs": [
    {
     "data": {
      "text/plain": [
       ".    1028\n",
       "a      43\n",
       "e      19\n",
       "n       9\n",
       "y       7\n",
       "t       7\n",
       "r       4\n",
       "k       3\n",
       ",       3\n",
       "l       2\n",
       "i       2\n",
       "o       2\n",
       "s       2\n",
       "d       1\n",
       "D       1\n",
       "h       1\n",
       "q       1\n",
       "g       1\n",
       "w       1\n",
       "Name: first, dtype: int64"
      ]
     },
     "execution_count": 896,
     "metadata": {},
     "output_type": "execute_result"
    }
   ],
   "source": [
    "name['first'].astype(str).str[-1:].value_counts()"
   ]
  },
  {
   "cell_type": "code",
   "execution_count": 897,
   "metadata": {
    "scrolled": true
   },
   "outputs": [
    {
     "name": "stderr",
     "output_type": "stream",
     "text": [
      "/opt/anaconda3/lib/python3.7/site-packages/ipykernel_launcher.py:1: SettingWithCopyWarning: \n",
      "A value is trying to be set on a copy of a slice from a DataFrame.\n",
      "Try using .loc[row_indexer,col_indexer] = value instead\n",
      "\n",
      "See the caveats in the documentation: http://pandas.pydata.org/pandas-docs/stable/user_guide/indexing.html#returning-a-view-versus-a-copy\n",
      "  \"\"\"Entry point for launching an IPython kernel.\n"
     ]
    }
   ],
   "source": [
    "name['first'] = name['first'].map(lambda x: x.rstrip('.,'))"
   ]
  },
  {
   "cell_type": "code",
   "execution_count": 898,
   "metadata": {},
   "outputs": [
    {
     "data": {
      "text/plain": [
       "a          39\n",
       "Cooper      9\n",
       "Lucy        9\n",
       "Oliver      8\n",
       "Tucker      8\n",
       "Penny       8\n",
       "Charlie     7\n",
       "an          6\n",
       "Bo          6\n",
       "Bella       6\n",
       "Oscar       6\n",
       "Lola        6\n",
       "the         5\n",
       "Scout       5\n",
       "Louis       5\n",
       "Koda        5\n",
       "Buddy       5\n",
       "Bailey      5\n",
       "Finn        4\n",
       "Bentley     4\n",
       "Name: first, dtype: int64"
      ]
     },
     "execution_count": 898,
     "metadata": {},
     "output_type": "execute_result"
    }
   ],
   "source": [
    "name['first'].value_counts().head(20)"
   ]
  },
  {
   "cell_type": "code",
   "execution_count": 899,
   "metadata": {},
   "outputs": [
    {
     "data": {
      "text/plain": [
       "array(['a', 'an', 'the', 'quite', 'Walter', 'Scout', 'Jimothy',\n",
       "       'Christoper', 'Lugan', 'Josep', 'Jockson', 'Jeph', 'Carll',\n",
       "       'Klevin', 'Keet', 'Clybe', 'Gabe', 'Pipsy', 'Bradlay', 'Churlie',\n",
       "       'Clarence', 'Timison', 'Joshwa', 'Genevieve', 'Fwed', 'Biden',\n",
       "       'Reese', 'Philippe', 'Dook', 'Frank', 'Kial', 'Calvin', 'Filup',\n",
       "       'Shaggy', 'Tedrick', 'Erik', 'Cleopatricia', 'Jiminy', 'Alfie',\n",
       "       'Skittles', 'Ron', 'Torque', 'Jareld', 'Jo', 'Gòrdón', 'Spark',\n",
       "       'Marvin', 'Jomathan', 'Maks', 'Timofy', 'Kevon', 'Banditt',\n",
       "       'Amélie', 'Ruffles', 'Herald', 'Jeremy', 'Chaz', 'Ruby', 'Bernie',\n",
       "       'Harrison', 'Tucker', 'Samsom', 'Jaspers', 'Clarq', 'Kirk',\n",
       "       'Sully', 'Chip', 'Oliviér', 'Billl', 'Keith', 'Linda', 'Skye',\n",
       "       'Penny', 'Shawwn', 'Kloey', 'Andru', 'Julio', 'Zoey', 'Raphael',\n",
       "       'Ben', 'Tommy', 'Liam', 'Randall', 'Wally', 'Sandra', 'Butters',\n",
       "       'Nigel', 'Peanut', 'Damon', 'Willy', 'Sam', 'Paull', 'Edd',\n",
       "       'Phineas', 'Bloo', 'Pluto', 'Ester', 'Jeffrie', 'Jerry', 'Traviss',\n",
       "       'Creg', 'Antony', 'Trigger', 'Sage', 'Remington', 'Amy', 'Jett',\n",
       "       'Toby', 'Anthony', 'Herm', 'Sparky', 'Lola', 'Lou', 'Tanner',\n",
       "       'Malcolm', 'Julius', 'Pip', 'Charlie', 'Scruffers', 'Reginald',\n",
       "       'Baxter', 'JD', 'Marley', 'Oscar', 'space', 'Mia', 'Brad',\n",
       "       'Batdog', 'Mojo', 'Patch', 'Tuco', 'just', 'Bubba', 'Bradley',\n",
       "       'Opal', 'Cal', 'Ridley', 'Rolf', 'Kreg', 'Pippin', 'Franq',\n",
       "       'Buddy', 'light', 'Jackie', 'Taz', 'Caryl', 'Norman', 'Leonidas',\n",
       "       'Ed', 'Cheryl', 'Jimison', 'Terry', 'Gustaf', 'Chet', 'Chuckles',\n",
       "       'Schnozz', 'Pumpkin', 'Fletcher', 'Dexter', 'Mac', 'Frankie',\n",
       "       'Django', 'Gerald', 'Bella', 'Koda', 'Steve', 'Sandy', 'Jeffri',\n",
       "       'Albert', 'Kendall', 'Shnuggles', 'George', 'Pickles', 'Dot',\n",
       "       'Raymond', 'Riley', 'Obie', 'one', 'Acro', 'Kaiya', 'Lucy',\n",
       "       'Stanley', 'Earl', 'Gus', 'Henry', 'Bob', 'Kenny', 'life-changing',\n",
       "       'Lennon', 'Gary', 'Lenny', 'Jonah', 'Ava', 'Louis', 'Rodman',\n",
       "       'Sophie', 'Superpup', 'Tedders', 'Steven', 'Coops', 'Arnold',\n",
       "       'Daisy', 'Ellie', 'Pepper', 'Donny', 'Bert', 'Kenneth', 'Bubbles',\n",
       "       'Godzilla', 'Karl', 'Tyrus', 'Cooper', 'Juckson', 'Derek', 'Sadie',\n",
       "       'Ralph', 'Izzy', 'Jessifer', 'Rosie', 'Crumpet', 'Crystal', 'Dash',\n",
       "       'Tug', 'Rascal', 'Chompsky', 'officially', 'Rubio', 'Evy',\n",
       "       'Dwight', 'Mike', 'Hunter', 'Rinna', 'Willie', 'Bruce', 'Rocco',\n",
       "       'by', 'Ozzy', 'Reggie', 'CeCe', 'Hector', 'Brody', 'Cheesy',\n",
       "       'Alice', 'Ozzie', 'Aspen', 'Champ', 'actually', 'Chuck', 'Glacier',\n",
       "       'Asher', 'Carly', 'Apollo', 'Toffee', 'Bo', 'Ulysses', 'Tess',\n",
       "       'Samson', 'Todo', 'Patrick', 'Darrel', 'Lulu', 'Larry', 'Griffin',\n",
       "       'Sweets', 'Kulet', 'Tino', 'Obi', 'Bobby', 'Perry', 'Oreo',\n",
       "       'Hubertson', 'Rocky', 'Otis', 'Marty', 'Olive', 'Lorelei',\n",
       "       'Hammond', 'Flávio', 'Olivia', 'Mona', 'Jackson', 'Tyrone',\n",
       "       'Barry', 'Kramer', 'Curtis', 'Marq', 'Ember', 'Kilo', 'Lizzie',\n",
       "       'Derby', 'Frönq', 'Hamrick', 'Ferg', 'Carl', 'Ricky', 'Durg',\n",
       "       'Covach', 'Maxwell', 'Oddie', 'Phred', 'Eriq', 'Lolo', 'Hazel',\n",
       "       'Cedrick', 'Vinscent', 'Molly', 'Bailey', 'Richie', 'Brockly',\n",
       "       'Kingsley', 'Teddy', 'Edgar', 'Amber', 'Chester', 'Milo', 'Dunkin',\n",
       "       'Bodie', 'Lincoln', 'Kobe', 'Phil', 'Archie', 'Lorenzo', 'Colin',\n",
       "       'Wyatt', 'Berb', 'Trevith', 'Reptar', 'Misty', 'Oakley', 'Bentley',\n",
       "       'Ole', 'Carter', 'Cassie', 'Doug', 'Lily', 'Franklin', 'Maximus',\n",
       "       'Jessiga', 'Claude', 'Rusty', 'Cuddles', 'Oliver', 'Yukon',\n",
       "       'Charl', 'Dave', 'Thumas', 'Eazy-E', 'Dotsy', 'Murphy', 'Kaia',\n",
       "       'Vincent', 'Daniel', 'Yoda', 'Coopson', 'Bilbo', 'Fiji', 'Rudy',\n",
       "       'Sansa', 'Socks', 'Ralphson', 'Chesterson', 'Terrenth', 'Bode',\n",
       "       'Ambrose', 'Adele', 'Layla', 'Kara', 'Elliot', 'Kathmandu',\n",
       "       'Finnegus', 'Keurig', 'Harper', 'Jiminus', 'Farfle', 'Jebberson',\n",
       "       'River', 'Bobble', 'Smokey', 'Coco', 'Mister', 'Sammy', 'Walker',\n",
       "       'Billy', 'Vince', 'Cecil', 'Olaf', 'Tater', 'Lacy', 'Gunner',\n",
       "       'Oshie', 'Beemo', 'Staniel', 'Kane', 'Stubert', 'Lance', 'Piper',\n",
       "       'Kanu', 'Blitz', 'Benedict', 'Calbert', 'Siba', 'Michelangelope',\n",
       "       'Nico', 'Bertson', 'Zeus', 'old', 'Stephanus', 'Bluebert', 'Link',\n",
       "       'Ebby', 'Skittle', 'Barclay', 'Suki', 'Alexanderson', 'Carper',\n",
       "       'Pippa', 'Harnold', 'Clyde', 'Neptune', 'Charleson', 'Ralphé',\n",
       "       'Berkeley', 'Panda', 'Jangle', 'Ivar', 'Sugar', 'Luther', 'Sarge',\n",
       "       'Kreggory', 'Ashleigh', 'Fred-Rick', 'Colby', 'Bloop', 'Sprout',\n",
       "       'Karll', 'Cilantro', 'Rueben', 'all', 'Enchilada', 'Wallace',\n",
       "       'Coleman', 'Flurpson', 'Puff', 'Stefan', 'Charles', 'Ziva',\n",
       "       'Rooney', 'Solomon', 'Kyle', 'Aldrick', 'Ralpher', 'Hermione',\n",
       "       'Moose', 'Livvie', 'Jax', 'Kellogg', 'Dakota', 'Maxaroni', 'Rory',\n",
       "       'Chadrick', 'Remy', 'Storkson', 'Axel', 'Bayley', 'Simba',\n",
       "       'Nollie', 'getting', 'Chase', 'Leo', 'Ted', 'Theodore', 'Edmund',\n",
       "       'Bell', 'Beya', 'Harold', 'Geno', 'Blanket', 'Harvey', 'Abby',\n",
       "       'Jeffrey', 'Lenox', 'Percy', 'Arlen', 'Gustav', 'Shiloh', 'Maddie',\n",
       "       'Clark', 'Atticus', 'Linus', 'Bookstore', 'Huxley', 'Duke', 'Cora',\n",
       "       'Dietrich', 'Boomer', 'Blu', 'Finn', 'Beau', 'Jameson', 'Spanky',\n",
       "       'Stewie', 'Zoe', 'Arnie', 'Meyer', 'Gilbert', 'Max', 'Fred',\n",
       "       'Grizzie', 'Ace', 'Hank', 'Dex', 'Winnie', 'Watson', 'Gert',\n",
       "       'Devón', 'Beckham', 'Leonard', 'Corey', 'Odie', 'Brandonald',\n",
       "       'Lilli', 'Spencer', 'Luna', 'Emma', 'Kirby', 'Fido', 'Atlas',\n",
       "       'Theo', 'Rose', 'Wishes', 'Sephie', 'Shelby', 'Leela', 'Belle',\n",
       "       'Kota', 'Aubie', 'Gromit', 'Louie', 'my', 'Tove', 'Brat', 'Angel',\n",
       "       'Juno', 'Shadoe', 'Brudge', 'Rufus', 'Rupert', 'Philbert', 'Tito',\n",
       "       'Jesse', 'DonDon', 'Titan', 'Klein', 'Sebastian', 'Winston',\n",
       "       'Dixie', 'Davey', 'Willem', 'Grey', 'Bungalo', 'Chelsea',\n",
       "       'Shakespeare', 'Loki', 'Heinrich', 'Sprinkles', 'Finley', 'Anakin',\n",
       "       'Blue', 'Sampson', \"O'Malley\", 'Huck', 'Wesley', 'Nala', 'Mya',\n",
       "       'Jay', 'Bear', 'Combo', 'Chipson', 'Timmy', 'Deacon', 'Cali',\n",
       "       'Loomis', 'Mairi', 'Balto', 'Stormy', 'Hero', 'Doc', 'Dallas',\n",
       "       'Pinot', 'Mattie', 'Rizzo', 'Dale', 'Logan', 'Tonks', 'Butter',\n",
       "       'Stella', 'Rizzy', 'Brownie', 'Eli', 'Ralphy', 'Happy', 'Mosby',\n",
       "       'Betty', 'Mabel', 'Remus', 'Monster', 'Robin', 'Nida', 'Benji',\n",
       "       'Newt', 'Maude', 'Moreton', 'Fiona', 'Dobby', 'Laika', 'Nimbus',\n",
       "       'Mack', 'Yogi', 'Snicku', 'Tyr', 'Pancake', 'Shadow', 'Iroh',\n",
       "       'Longfellow', 'Sobe', 'Peaches', 'Chef', 'Bones', 'Ronnie',\n",
       "       'Severus', 'Diogi', 'Shooter', 'Zeke', 'Major', 'Waffles',\n",
       "       'Stephan', 'Ollie', 'Seamus', 'Ito', 'Kyro', 'Pavlov', 'Craig',\n",
       "       'Augie', 'Halo', 'Moe', 'Mary', 'Brandi', 'Swagger', 'Bauer',\n",
       "       'Baron', 'Eleanor', 'Sky', 'Chubbs', 'Alf', 'Akumi', 'Comet',\n",
       "       'Dudley', 'Binky', 'Timber', 'Chloe', 'Tebow', 'Ken', 'Dido',\n",
       "       'Autumn', 'Florence', 'Tom', 'Sunny', 'Jazzy', 'Howie', 'Flash',\n",
       "       'Luca', 'Sundance', 'Harlso', 'Duchess', 'Paisley', 'Hobbes',\n",
       "       'Albus', 'Crawford', 'Cash', 'Wilson', 'Scooter', 'Sweet', 'Mo',\n",
       "       'Ike', 'Pilot', 'Pawnd', 'Cupid', 'Ralphie', 'Boots', 'Kona',\n",
       "       'Sailer', 'Alexander', 'Beebop', 'Mutt', 'Lilly', 'Pete', 'Dutch',\n",
       "       'Emanuel', 'Miguel', 'Eevee', 'Orion', 'Willow', 'Rhino', 'Gidget',\n",
       "       'Poppy', 'Bronte', 'Lipton', 'Sunshine', 'Tobi', 'Meera', 'Mookie',\n",
       "       'Arlo', 'Monty', 'Dawn', 'Tycho', 'Margo', 'Brady', 'Vixen',\n",
       "       'Barney', 'Tuck', 'Furzey', 'Cannon', 'Rontu', 'Georgie', 'Kevin',\n",
       "       'Noosh', 'Iggy', 'Sailor', 'Wiggles', 'Jarod', 'Rumpole',\n",
       "       'Einstein', 'Arya', 'Marlee', 'Cermet', 'Callie', 'Jordy', 'Burt',\n",
       "       'Jersey', 'Zooey', 'Meatball', 'Nelly', 'Jamesy', 'Lili', 'Shikha',\n",
       "       'Gizmo', 'Dewey', 'Rumble', 'Cody', 'Napolean', 'Rover', 'Kody',\n",
       "       'Monkey', 'Sierra', 'Jed', 'Goose', 'Ginger', 'Aja', 'Emmy',\n",
       "       'Snoopy', 'Jack', 'Duddles', 'Romeo', 'Rey', 'Koko', 'Alfy',\n",
       "       'Noah', 'Maisey', 'Roscoe', 'Mingus', 'Maya', 'Canela', 'Ralphus',\n",
       "       'Jim', 'Stuart', 'Bruno', 'Darla', 'Tilly'], dtype=object)"
      ]
     },
     "execution_count": 899,
     "metadata": {},
     "output_type": "execute_result"
    }
   ],
   "source": [
    "name['first'].unique()"
   ]
  },
  {
   "cell_type": "code",
   "execution_count": 900,
   "metadata": {},
   "outputs": [],
   "source": [
    "name['first'].replace('a', np.nan, inplace=True)\n",
    "name['first'].replace('an', np.nan, inplace=True)\n",
    "name['first'].replace('the', np.nan, inplace=True)\n",
    "name['first'].replace('quite', np.nan, inplace=True)\n",
    "name['first'].replace('space', np.nan, inplace=True)\n",
    "name['first'].replace('just', np.nan, inplace=True)\n",
    "name['first'].replace('light', np.nan, inplace=True)\n",
    "name['first'].replace('one', np.nan, inplace=True)\n",
    "name['first'].replace('life-changing', np.nan, inplace=True)\n",
    "name['first'].replace('officially', np.nan, inplace=True)\n",
    "name['first'].replace('by', np.nan, inplace=True)\n",
    "name['first'].replace('actually', np.nan, inplace=True)\n",
    "name['first'].replace('old', np.nan, inplace=True)\n",
    "name['first'].replace('all', np.nan, inplace=True)\n",
    "name['first'].replace('getting', np.nan, inplace=True)\n",
    "name['first'].replace('my', np.nan, inplace=True)"
   ]
  },
  {
   "cell_type": "code",
   "execution_count": 901,
   "metadata": {},
   "outputs": [
    {
     "data": {
      "text/plain": [
       "B    109\n",
       "C    108\n",
       "S     95\n",
       "L     71\n",
       "R     70\n",
       "n     68\n",
       "M     63\n",
       "D     59\n",
       "J     56\n",
       "T     56\n",
       "A     53\n",
       "K     52\n",
       "P     44\n",
       "O     40\n",
       "F     32\n",
       "G     32\n",
       "W     31\n",
       "H     30\n",
       "E     27\n",
       "N     16\n",
       "Z     10\n",
       "I      6\n",
       "V      5\n",
       "Y      3\n",
       "U      1\n",
       "Name: first, dtype: int64"
      ]
     },
     "execution_count": 901,
     "metadata": {},
     "output_type": "execute_result"
    }
   ],
   "source": [
    "name['first'].astype(str).str[0].value_counts()"
   ]
  },
  {
   "cell_type": "code",
   "execution_count": 902,
   "metadata": {},
   "outputs": [
    {
     "data": {
      "text/plain": [
       "Cooper     9\n",
       "Lucy       9\n",
       "Tucker     8\n",
       "Penny      8\n",
       "Oliver     8\n",
       "Charlie    7\n",
       "Bo         6\n",
       "Bella      6\n",
       "Lola       6\n",
       "Oscar      6\n",
       "Louis      5\n",
       "Buddy      5\n",
       "Scout      5\n",
       "Koda       5\n",
       "Bailey     5\n",
       "Finn       4\n",
       "Dexter     4\n",
       "Chip       4\n",
       "Clark      4\n",
       "Stanley    4\n",
       "Name: first, dtype: int64"
      ]
     },
     "execution_count": 902,
     "metadata": {},
     "output_type": "execute_result"
    }
   ],
   "source": [
    "name['first'].value_counts().head(20)"
   ]
  },
  {
   "cell_type": "code",
   "execution_count": 903,
   "metadata": {},
   "outputs": [],
   "source": [
    "name.rename(columns={'first':'name'}, inplace=True)"
   ]
  },
  {
   "cell_type": "code",
   "execution_count": 904,
   "metadata": {},
   "outputs": [],
   "source": [
    "name.drop('second', axis=1, inplace=True)"
   ]
  },
  {
   "cell_type": "code",
   "execution_count": 905,
   "metadata": {},
   "outputs": [
    {
     "data": {
      "text/plain": [
       "Index(['created_at', 'id', 'full_text', 'retweet_count', 'favorite_count',\n",
       "       'dog_stage', 'pre', 'post', 'before', 'after', 'name'],\n",
       "      dtype='object')"
      ]
     },
     "execution_count": 905,
     "metadata": {},
     "output_type": "execute_result"
    }
   ],
   "source": [
    "name.columns"
   ]
  },
  {
   "cell_type": "code",
   "execution_count": 906,
   "metadata": {
    "scrolled": true
   },
   "outputs": [
    {
     "data": {
      "text/plain": [
       "Index(['created_at', 'id', 'full_text', 'retweet_count', 'favorite_count',\n",
       "       'dog_stage', 'pre', 'post', 'before', 'after', 'name'],\n",
       "      dtype='object')"
      ]
     },
     "execution_count": 906,
     "metadata": {},
     "output_type": "execute_result"
    }
   ],
   "source": [
    "noname.columns"
   ]
  },
  {
   "cell_type": "code",
   "execution_count": 907,
   "metadata": {},
   "outputs": [],
   "source": [
    "dfapi = noname.append(name, ignore_index=True)"
   ]
  },
  {
   "cell_type": "code",
   "execution_count": 908,
   "metadata": {},
   "outputs": [
    {
     "data": {
      "text/html": [
       "<div>\n",
       "<style scoped>\n",
       "    .dataframe tbody tr th:only-of-type {\n",
       "        vertical-align: middle;\n",
       "    }\n",
       "\n",
       "    .dataframe tbody tr th {\n",
       "        vertical-align: top;\n",
       "    }\n",
       "\n",
       "    .dataframe thead th {\n",
       "        text-align: right;\n",
       "    }\n",
       "</style>\n",
       "<table border=\"1\" class=\"dataframe\">\n",
       "  <thead>\n",
       "    <tr style=\"text-align: right;\">\n",
       "      <th></th>\n",
       "      <th>created_at</th>\n",
       "      <th>id</th>\n",
       "      <th>full_text</th>\n",
       "      <th>retweet_count</th>\n",
       "      <th>favorite_count</th>\n",
       "      <th>dog_stage</th>\n",
       "      <th>pre</th>\n",
       "      <th>post</th>\n",
       "      <th>before</th>\n",
       "      <th>after</th>\n",
       "      <th>name</th>\n",
       "    </tr>\n",
       "  </thead>\n",
       "  <tbody>\n",
       "    <tr>\n",
       "      <th>0</th>\n",
       "      <td>Sun Nov 15 22:32:08 +0000 2015</td>\n",
       "      <td>666020888022790149</td>\n",
       "      <td>Here we have a Japanese Irish Setter. Lost eye...</td>\n",
       "      <td>465</td>\n",
       "      <td>2422</td>\n",
       "      <td>NaN</td>\n",
       "      <td>Here we have a Japanese Irish Setter. Lost eye...</td>\n",
       "      <td>10 would pet https://t.co/BLDqew2Ijj</td>\n",
       "      <td>8</td>\n",
       "      <td>10</td>\n",
       "      <td>NaN</td>\n",
       "    </tr>\n",
       "    <tr>\n",
       "      <th>1</th>\n",
       "      <td>Sun Nov 15 23:21:54 +0000 2015</td>\n",
       "      <td>666033412701032449</td>\n",
       "      <td>Here is a very happy pup. Big fan of well-main...</td>\n",
       "      <td>41</td>\n",
       "      <td>113</td>\n",
       "      <td>NaN</td>\n",
       "      <td>Here is a very happy pup. Big fan of well-main...</td>\n",
       "      <td>10 would cuddle af https://t.co/y671yMhoiR</td>\n",
       "      <td>9</td>\n",
       "      <td>10</td>\n",
       "      <td>NaN</td>\n",
       "    </tr>\n",
       "    <tr>\n",
       "      <th>2</th>\n",
       "      <td>Mon Nov 16 00:24:50 +0000 2015</td>\n",
       "      <td>666049248165822465</td>\n",
       "      <td>Here we have a 1949 1st generation vulpix. Enj...</td>\n",
       "      <td>41</td>\n",
       "      <td>97</td>\n",
       "      <td>NaN</td>\n",
       "      <td>Here we have a 1949 1st generation vulpix. Enj...</td>\n",
       "      <td>10 https://t.co/4B7cOc1EDq</td>\n",
       "      <td>5</td>\n",
       "      <td>10</td>\n",
       "      <td>NaN</td>\n",
       "    </tr>\n",
       "    <tr>\n",
       "      <th>3</th>\n",
       "      <td>Mon Nov 16 00:49:46 +0000 2015</td>\n",
       "      <td>666055525042405380</td>\n",
       "      <td>Here is a Siberian heavily armored polar bear ...</td>\n",
       "      <td>222</td>\n",
       "      <td>411</td>\n",
       "      <td>NaN</td>\n",
       "      <td>Here is a Siberian heavily armored polar bear ...</td>\n",
       "      <td>10 I would do unspeakable things to pet this d...</td>\n",
       "      <td>10</td>\n",
       "      <td>10</td>\n",
       "      <td>NaN</td>\n",
       "    </tr>\n",
       "    <tr>\n",
       "      <th>4</th>\n",
       "      <td>Mon Nov 16 00:55:59 +0000 2015</td>\n",
       "      <td>666057090499244032</td>\n",
       "      <td>My oh my. This is a rare blond Canadian terrie...</td>\n",
       "      <td>128</td>\n",
       "      <td>272</td>\n",
       "      <td>NaN</td>\n",
       "      <td>My oh my. This is a rare blond Canadian terrie...</td>\n",
       "      <td>10 very rare https://t.co/yWBqbrzy8O</td>\n",
       "      <td>9</td>\n",
       "      <td>10</td>\n",
       "      <td>NaN</td>\n",
       "    </tr>\n",
       "  </tbody>\n",
       "</table>\n",
       "</div>"
      ],
      "text/plain": [
       "                       created_at                  id  \\\n",
       "0  Sun Nov 15 22:32:08 +0000 2015  666020888022790149   \n",
       "1  Sun Nov 15 23:21:54 +0000 2015  666033412701032449   \n",
       "2  Mon Nov 16 00:24:50 +0000 2015  666049248165822465   \n",
       "3  Mon Nov 16 00:49:46 +0000 2015  666055525042405380   \n",
       "4  Mon Nov 16 00:55:59 +0000 2015  666057090499244032   \n",
       "\n",
       "                                           full_text  retweet_count  \\\n",
       "0  Here we have a Japanese Irish Setter. Lost eye...            465   \n",
       "1  Here is a very happy pup. Big fan of well-main...             41   \n",
       "2  Here we have a 1949 1st generation vulpix. Enj...             41   \n",
       "3  Here is a Siberian heavily armored polar bear ...            222   \n",
       "4  My oh my. This is a rare blond Canadian terrie...            128   \n",
       "\n",
       "   favorite_count dog_stage  \\\n",
       "0            2422       NaN   \n",
       "1             113       NaN   \n",
       "2              97       NaN   \n",
       "3             411       NaN   \n",
       "4             272       NaN   \n",
       "\n",
       "                                                 pre  \\\n",
       "0  Here we have a Japanese Irish Setter. Lost eye...   \n",
       "1  Here is a very happy pup. Big fan of well-main...   \n",
       "2  Here we have a 1949 1st generation vulpix. Enj...   \n",
       "3  Here is a Siberian heavily armored polar bear ...   \n",
       "4  My oh my. This is a rare blond Canadian terrie...   \n",
       "\n",
       "                                                post before after name  \n",
       "0               10 would pet https://t.co/BLDqew2Ijj      8    10  NaN  \n",
       "1         10 would cuddle af https://t.co/y671yMhoiR      9    10  NaN  \n",
       "2                         10 https://t.co/4B7cOc1EDq      5    10  NaN  \n",
       "3  10 I would do unspeakable things to pet this d...     10    10  NaN  \n",
       "4               10 very rare https://t.co/yWBqbrzy8O      9    10  NaN  "
      ]
     },
     "execution_count": 908,
     "metadata": {},
     "output_type": "execute_result"
    }
   ],
   "source": [
    "dfapi.head()"
   ]
  },
  {
   "cell_type": "code",
   "execution_count": null,
   "metadata": {},
   "outputs": [],
   "source": []
  },
  {
   "cell_type": "markdown",
   "metadata": {},
   "source": [
    "#### Define:\n",
    "Tidiness: Remove working columns ('pre' and 'post)"
   ]
  },
  {
   "cell_type": "markdown",
   "metadata": {},
   "source": [
    "#### Code:"
   ]
  },
  {
   "cell_type": "code",
   "execution_count": 909,
   "metadata": {},
   "outputs": [],
   "source": [
    "dfapi.drop(['pre','post'], axis=1, inplace=True)"
   ]
  },
  {
   "cell_type": "markdown",
   "metadata": {},
   "source": [
    "#### Test:"
   ]
  },
  {
   "cell_type": "code",
   "execution_count": 910,
   "metadata": {},
   "outputs": [
    {
     "data": {
      "text/html": [
       "<div>\n",
       "<style scoped>\n",
       "    .dataframe tbody tr th:only-of-type {\n",
       "        vertical-align: middle;\n",
       "    }\n",
       "\n",
       "    .dataframe tbody tr th {\n",
       "        vertical-align: top;\n",
       "    }\n",
       "\n",
       "    .dataframe thead th {\n",
       "        text-align: right;\n",
       "    }\n",
       "</style>\n",
       "<table border=\"1\" class=\"dataframe\">\n",
       "  <thead>\n",
       "    <tr style=\"text-align: right;\">\n",
       "      <th></th>\n",
       "      <th>created_at</th>\n",
       "      <th>id</th>\n",
       "      <th>full_text</th>\n",
       "      <th>retweet_count</th>\n",
       "      <th>favorite_count</th>\n",
       "      <th>dog_stage</th>\n",
       "      <th>before</th>\n",
       "      <th>after</th>\n",
       "      <th>name</th>\n",
       "    </tr>\n",
       "  </thead>\n",
       "  <tbody>\n",
       "    <tr>\n",
       "      <th>0</th>\n",
       "      <td>Sun Nov 15 22:32:08 +0000 2015</td>\n",
       "      <td>666020888022790149</td>\n",
       "      <td>Here we have a Japanese Irish Setter. Lost eye...</td>\n",
       "      <td>465</td>\n",
       "      <td>2422</td>\n",
       "      <td>NaN</td>\n",
       "      <td>8</td>\n",
       "      <td>10</td>\n",
       "      <td>NaN</td>\n",
       "    </tr>\n",
       "    <tr>\n",
       "      <th>1</th>\n",
       "      <td>Sun Nov 15 23:21:54 +0000 2015</td>\n",
       "      <td>666033412701032449</td>\n",
       "      <td>Here is a very happy pup. Big fan of well-main...</td>\n",
       "      <td>41</td>\n",
       "      <td>113</td>\n",
       "      <td>NaN</td>\n",
       "      <td>9</td>\n",
       "      <td>10</td>\n",
       "      <td>NaN</td>\n",
       "    </tr>\n",
       "    <tr>\n",
       "      <th>2</th>\n",
       "      <td>Mon Nov 16 00:24:50 +0000 2015</td>\n",
       "      <td>666049248165822465</td>\n",
       "      <td>Here we have a 1949 1st generation vulpix. Enj...</td>\n",
       "      <td>41</td>\n",
       "      <td>97</td>\n",
       "      <td>NaN</td>\n",
       "      <td>5</td>\n",
       "      <td>10</td>\n",
       "      <td>NaN</td>\n",
       "    </tr>\n",
       "    <tr>\n",
       "      <th>3</th>\n",
       "      <td>Mon Nov 16 00:49:46 +0000 2015</td>\n",
       "      <td>666055525042405380</td>\n",
       "      <td>Here is a Siberian heavily armored polar bear ...</td>\n",
       "      <td>222</td>\n",
       "      <td>411</td>\n",
       "      <td>NaN</td>\n",
       "      <td>10</td>\n",
       "      <td>10</td>\n",
       "      <td>NaN</td>\n",
       "    </tr>\n",
       "    <tr>\n",
       "      <th>4</th>\n",
       "      <td>Mon Nov 16 00:55:59 +0000 2015</td>\n",
       "      <td>666057090499244032</td>\n",
       "      <td>My oh my. This is a rare blond Canadian terrie...</td>\n",
       "      <td>128</td>\n",
       "      <td>272</td>\n",
       "      <td>NaN</td>\n",
       "      <td>9</td>\n",
       "      <td>10</td>\n",
       "      <td>NaN</td>\n",
       "    </tr>\n",
       "  </tbody>\n",
       "</table>\n",
       "</div>"
      ],
      "text/plain": [
       "                       created_at                  id  \\\n",
       "0  Sun Nov 15 22:32:08 +0000 2015  666020888022790149   \n",
       "1  Sun Nov 15 23:21:54 +0000 2015  666033412701032449   \n",
       "2  Mon Nov 16 00:24:50 +0000 2015  666049248165822465   \n",
       "3  Mon Nov 16 00:49:46 +0000 2015  666055525042405380   \n",
       "4  Mon Nov 16 00:55:59 +0000 2015  666057090499244032   \n",
       "\n",
       "                                           full_text  retweet_count  \\\n",
       "0  Here we have a Japanese Irish Setter. Lost eye...            465   \n",
       "1  Here is a very happy pup. Big fan of well-main...             41   \n",
       "2  Here we have a 1949 1st generation vulpix. Enj...             41   \n",
       "3  Here is a Siberian heavily armored polar bear ...            222   \n",
       "4  My oh my. This is a rare blond Canadian terrie...            128   \n",
       "\n",
       "   favorite_count dog_stage before after name  \n",
       "0            2422       NaN      8    10  NaN  \n",
       "1             113       NaN      9    10  NaN  \n",
       "2              97       NaN      5    10  NaN  \n",
       "3             411       NaN     10    10  NaN  \n",
       "4             272       NaN      9    10  NaN  "
      ]
     },
     "execution_count": 910,
     "metadata": {},
     "output_type": "execute_result"
    }
   ],
   "source": [
    "dfapi.head()"
   ]
  },
  {
   "cell_type": "code",
   "execution_count": null,
   "metadata": {},
   "outputs": [],
   "source": []
  },
  {
   "cell_type": "markdown",
   "metadata": {},
   "source": [
    "#### Define:\n",
    "Tidiness: Rename columns in dfapi to match those of dftweet "
   ]
  },
  {
   "cell_type": "markdown",
   "metadata": {},
   "source": [
    "#### Code:"
   ]
  },
  {
   "cell_type": "code",
   "execution_count": 911,
   "metadata": {},
   "outputs": [
    {
     "data": {
      "text/plain": [
       "Index(['tweet_id', 'timestamp', 'text', 'rating_numerator',\n",
       "       'rating_denominator', 'name', 'dog_stage'],\n",
       "      dtype='object')"
      ]
     },
     "execution_count": 911,
     "metadata": {},
     "output_type": "execute_result"
    }
   ],
   "source": [
    "dftweet.columns"
   ]
  },
  {
   "cell_type": "code",
   "execution_count": 912,
   "metadata": {},
   "outputs": [
    {
     "data": {
      "text/plain": [
       "Index(['created_at', 'id', 'full_text', 'retweet_count', 'favorite_count',\n",
       "       'dog_stage', 'before', 'after', 'name'],\n",
       "      dtype='object')"
      ]
     },
     "execution_count": 912,
     "metadata": {},
     "output_type": "execute_result"
    }
   ],
   "source": [
    "dfapi.columns"
   ]
  },
  {
   "cell_type": "code",
   "execution_count": 913,
   "metadata": {},
   "outputs": [],
   "source": [
    "dfapi.rename(columns={'id': 'tweet_id', 'created_at': 'timestamp', 'full_text': 'text',\n",
    "                      'before': 'rating_numerator', 'after': 'rating_denominator'}, inplace=True)\n"
   ]
  },
  {
   "cell_type": "markdown",
   "metadata": {},
   "source": [
    "#### Test:"
   ]
  },
  {
   "cell_type": "code",
   "execution_count": 914,
   "metadata": {
    "scrolled": true
   },
   "outputs": [
    {
     "data": {
      "text/plain": [
       "Index(['tweet_id', 'timestamp', 'text', 'rating_numerator',\n",
       "       'rating_denominator', 'name', 'dog_stage'],\n",
       "      dtype='object')"
      ]
     },
     "execution_count": 914,
     "metadata": {},
     "output_type": "execute_result"
    }
   ],
   "source": [
    "dftweet.columns"
   ]
  },
  {
   "cell_type": "code",
   "execution_count": 915,
   "metadata": {},
   "outputs": [
    {
     "data": {
      "text/plain": [
       "Index(['timestamp', 'tweet_id', 'text', 'retweet_count', 'favorite_count',\n",
       "       'dog_stage', 'rating_numerator', 'rating_denominator', 'name'],\n",
       "      dtype='object')"
      ]
     },
     "execution_count": 915,
     "metadata": {},
     "output_type": "execute_result"
    }
   ],
   "source": [
    "dfapi.columns"
   ]
  },
  {
   "cell_type": "markdown",
   "metadata": {},
   "source": [
    "Only two columns that differentiate the two are the 'retweet_count' and 'favorite_count' columns"
   ]
  },
  {
   "cell_type": "code",
   "execution_count": null,
   "metadata": {},
   "outputs": [],
   "source": []
  },
  {
   "cell_type": "markdown",
   "metadata": {},
   "source": [
    "#### Define:\n",
    "Tidiness: Filter out dfimg with most common type of dog"
   ]
  },
  {
   "cell_type": "markdown",
   "metadata": {},
   "source": [
    "if p1_dog == True, breed = p1\n",
    "\n",
    "if p1_dog == False & p2_dog == True, breed = p2\n",
    "\n",
    "if p1_dog == False & p2_dog == False & p3_dog == True, breed = p3\n",
    "\n",
    "if p1_dog == False & p2_dog == False & p3_dog == False, dog = np.nan"
   ]
  },
  {
   "cell_type": "markdown",
   "metadata": {},
   "source": [
    "#### Code:"
   ]
  },
  {
   "cell_type": "code",
   "execution_count": 916,
   "metadata": {},
   "outputs": [
    {
     "data": {
      "text/html": [
       "<div>\n",
       "<style scoped>\n",
       "    .dataframe tbody tr th:only-of-type {\n",
       "        vertical-align: middle;\n",
       "    }\n",
       "\n",
       "    .dataframe tbody tr th {\n",
       "        vertical-align: top;\n",
       "    }\n",
       "\n",
       "    .dataframe thead th {\n",
       "        text-align: right;\n",
       "    }\n",
       "</style>\n",
       "<table border=\"1\" class=\"dataframe\">\n",
       "  <thead>\n",
       "    <tr style=\"text-align: right;\">\n",
       "      <th></th>\n",
       "      <th>tweet_id</th>\n",
       "      <th>jpg_url</th>\n",
       "      <th>img_num</th>\n",
       "      <th>p1</th>\n",
       "      <th>p1_conf</th>\n",
       "      <th>p1_dog</th>\n",
       "      <th>p2</th>\n",
       "      <th>p2_conf</th>\n",
       "      <th>p2_dog</th>\n",
       "      <th>p3</th>\n",
       "      <th>p3_conf</th>\n",
       "      <th>p3_dog</th>\n",
       "    </tr>\n",
       "  </thead>\n",
       "  <tbody>\n",
       "    <tr>\n",
       "      <th>0</th>\n",
       "      <td>666020888022790149</td>\n",
       "      <td>https://pbs.twimg.com/media/CT4udn0WwAA0aMy.jpg</td>\n",
       "      <td>1</td>\n",
       "      <td>Welsh_springer_spaniel</td>\n",
       "      <td>0.465074</td>\n",
       "      <td>True</td>\n",
       "      <td>collie</td>\n",
       "      <td>0.156665</td>\n",
       "      <td>True</td>\n",
       "      <td>Shetland_sheepdog</td>\n",
       "      <td>0.061428</td>\n",
       "      <td>True</td>\n",
       "    </tr>\n",
       "    <tr>\n",
       "      <th>1</th>\n",
       "      <td>666029285002620928</td>\n",
       "      <td>https://pbs.twimg.com/media/CT42GRgUYAA5iDo.jpg</td>\n",
       "      <td>1</td>\n",
       "      <td>redbone</td>\n",
       "      <td>0.506826</td>\n",
       "      <td>True</td>\n",
       "      <td>miniature_pinscher</td>\n",
       "      <td>0.074192</td>\n",
       "      <td>True</td>\n",
       "      <td>Rhodesian_ridgeback</td>\n",
       "      <td>0.072010</td>\n",
       "      <td>True</td>\n",
       "    </tr>\n",
       "    <tr>\n",
       "      <th>2</th>\n",
       "      <td>666033412701032449</td>\n",
       "      <td>https://pbs.twimg.com/media/CT4521TWwAEvMyu.jpg</td>\n",
       "      <td>1</td>\n",
       "      <td>German_shepherd</td>\n",
       "      <td>0.596461</td>\n",
       "      <td>True</td>\n",
       "      <td>malinois</td>\n",
       "      <td>0.138584</td>\n",
       "      <td>True</td>\n",
       "      <td>bloodhound</td>\n",
       "      <td>0.116197</td>\n",
       "      <td>True</td>\n",
       "    </tr>\n",
       "    <tr>\n",
       "      <th>3</th>\n",
       "      <td>666044226329800704</td>\n",
       "      <td>https://pbs.twimg.com/media/CT5Dr8HUEAA-lEu.jpg</td>\n",
       "      <td>1</td>\n",
       "      <td>Rhodesian_ridgeback</td>\n",
       "      <td>0.408143</td>\n",
       "      <td>True</td>\n",
       "      <td>redbone</td>\n",
       "      <td>0.360687</td>\n",
       "      <td>True</td>\n",
       "      <td>miniature_pinscher</td>\n",
       "      <td>0.222752</td>\n",
       "      <td>True</td>\n",
       "    </tr>\n",
       "    <tr>\n",
       "      <th>4</th>\n",
       "      <td>666049248165822465</td>\n",
       "      <td>https://pbs.twimg.com/media/CT5IQmsXIAAKY4A.jpg</td>\n",
       "      <td>1</td>\n",
       "      <td>miniature_pinscher</td>\n",
       "      <td>0.560311</td>\n",
       "      <td>True</td>\n",
       "      <td>Rottweiler</td>\n",
       "      <td>0.243682</td>\n",
       "      <td>True</td>\n",
       "      <td>Doberman</td>\n",
       "      <td>0.154629</td>\n",
       "      <td>True</td>\n",
       "    </tr>\n",
       "  </tbody>\n",
       "</table>\n",
       "</div>"
      ],
      "text/plain": [
       "             tweet_id                                          jpg_url  \\\n",
       "0  666020888022790149  https://pbs.twimg.com/media/CT4udn0WwAA0aMy.jpg   \n",
       "1  666029285002620928  https://pbs.twimg.com/media/CT42GRgUYAA5iDo.jpg   \n",
       "2  666033412701032449  https://pbs.twimg.com/media/CT4521TWwAEvMyu.jpg   \n",
       "3  666044226329800704  https://pbs.twimg.com/media/CT5Dr8HUEAA-lEu.jpg   \n",
       "4  666049248165822465  https://pbs.twimg.com/media/CT5IQmsXIAAKY4A.jpg   \n",
       "\n",
       "   img_num                      p1   p1_conf  p1_dog                  p2  \\\n",
       "0        1  Welsh_springer_spaniel  0.465074    True              collie   \n",
       "1        1                 redbone  0.506826    True  miniature_pinscher   \n",
       "2        1         German_shepherd  0.596461    True            malinois   \n",
       "3        1     Rhodesian_ridgeback  0.408143    True             redbone   \n",
       "4        1      miniature_pinscher  0.560311    True          Rottweiler   \n",
       "\n",
       "    p2_conf  p2_dog                   p3   p3_conf  p3_dog  \n",
       "0  0.156665    True    Shetland_sheepdog  0.061428    True  \n",
       "1  0.074192    True  Rhodesian_ridgeback  0.072010    True  \n",
       "2  0.138584    True           bloodhound  0.116197    True  \n",
       "3  0.360687    True   miniature_pinscher  0.222752    True  \n",
       "4  0.243682    True             Doberman  0.154629    True  "
      ]
     },
     "execution_count": 916,
     "metadata": {},
     "output_type": "execute_result"
    }
   ],
   "source": [
    "dfimg.head()"
   ]
  },
  {
   "cell_type": "code",
   "execution_count": 917,
   "metadata": {},
   "outputs": [],
   "source": [
    "dfimg1 = dfimg[dfimg['p1_dog'] == True]"
   ]
  },
  {
   "cell_type": "code",
   "execution_count": 918,
   "metadata": {},
   "outputs": [],
   "source": [
    "dfimg2 = dfimg[(dfimg['p1_dog'] == False) & (dfimg['p2_dog'] == True)]"
   ]
  },
  {
   "cell_type": "code",
   "execution_count": 919,
   "metadata": {},
   "outputs": [],
   "source": [
    "dfimg3= dfimg[(dfimg['p1_dog'] == False) & (dfimg['p2_dog'] == False) & (dfimg['p3_dog'] == True)]"
   ]
  },
  {
   "cell_type": "code",
   "execution_count": 920,
   "metadata": {},
   "outputs": [],
   "source": [
    "dfimg4 = dfimg[(dfimg['p1_dog'] == False) & (dfimg['p2_dog'] == False) & (dfimg['p3_dog'] == False)]"
   ]
  },
  {
   "cell_type": "code",
   "execution_count": 921,
   "metadata": {},
   "outputs": [
    {
     "name": "stderr",
     "output_type": "stream",
     "text": [
      "/opt/anaconda3/lib/python3.7/site-packages/ipykernel_launcher.py:1: SettingWithCopyWarning: \n",
      "A value is trying to be set on a copy of a slice from a DataFrame.\n",
      "Try using .loc[row_indexer,col_indexer] = value instead\n",
      "\n",
      "See the caveats in the documentation: http://pandas.pydata.org/pandas-docs/stable/user_guide/indexing.html#returning-a-view-versus-a-copy\n",
      "  \"\"\"Entry point for launching an IPython kernel.\n",
      "/opt/anaconda3/lib/python3.7/site-packages/ipykernel_launcher.py:2: SettingWithCopyWarning: \n",
      "A value is trying to be set on a copy of a slice from a DataFrame.\n",
      "Try using .loc[row_indexer,col_indexer] = value instead\n",
      "\n",
      "See the caveats in the documentation: http://pandas.pydata.org/pandas-docs/stable/user_guide/indexing.html#returning-a-view-versus-a-copy\n",
      "  \n",
      "/opt/anaconda3/lib/python3.7/site-packages/ipykernel_launcher.py:3: SettingWithCopyWarning: \n",
      "A value is trying to be set on a copy of a slice from a DataFrame.\n",
      "Try using .loc[row_indexer,col_indexer] = value instead\n",
      "\n",
      "See the caveats in the documentation: http://pandas.pydata.org/pandas-docs/stable/user_guide/indexing.html#returning-a-view-versus-a-copy\n",
      "  This is separate from the ipykernel package so we can avoid doing imports until\n",
      "/opt/anaconda3/lib/python3.7/site-packages/ipykernel_launcher.py:4: SettingWithCopyWarning: \n",
      "A value is trying to be set on a copy of a slice from a DataFrame.\n",
      "Try using .loc[row_indexer,col_indexer] = value instead\n",
      "\n",
      "See the caveats in the documentation: http://pandas.pydata.org/pandas-docs/stable/user_guide/indexing.html#returning-a-view-versus-a-copy\n",
      "  after removing the cwd from sys.path.\n"
     ]
    }
   ],
   "source": [
    "dfimg1['breed'] = dfimg1['p1']\n",
    "dfimg2['breed'] = dfimg2['p2']\n",
    "dfimg3['breed'] = dfimg3['p3']\n",
    "dfimg4['breed'] = np.nan"
   ]
  },
  {
   "cell_type": "code",
   "execution_count": 922,
   "metadata": {},
   "outputs": [
    {
     "data": {
      "text/html": [
       "<div>\n",
       "<style scoped>\n",
       "    .dataframe tbody tr th:only-of-type {\n",
       "        vertical-align: middle;\n",
       "    }\n",
       "\n",
       "    .dataframe tbody tr th {\n",
       "        vertical-align: top;\n",
       "    }\n",
       "\n",
       "    .dataframe thead th {\n",
       "        text-align: right;\n",
       "    }\n",
       "</style>\n",
       "<table border=\"1\" class=\"dataframe\">\n",
       "  <thead>\n",
       "    <tr style=\"text-align: right;\">\n",
       "      <th></th>\n",
       "      <th>tweet_id</th>\n",
       "      <th>jpg_url</th>\n",
       "      <th>img_num</th>\n",
       "      <th>p1</th>\n",
       "      <th>p1_conf</th>\n",
       "      <th>p1_dog</th>\n",
       "      <th>p2</th>\n",
       "      <th>p2_conf</th>\n",
       "      <th>p2_dog</th>\n",
       "      <th>p3</th>\n",
       "      <th>p3_conf</th>\n",
       "      <th>p3_dog</th>\n",
       "      <th>breed</th>\n",
       "    </tr>\n",
       "  </thead>\n",
       "  <tbody>\n",
       "    <tr>\n",
       "      <th>0</th>\n",
       "      <td>666020888022790149</td>\n",
       "      <td>https://pbs.twimg.com/media/CT4udn0WwAA0aMy.jpg</td>\n",
       "      <td>1</td>\n",
       "      <td>Welsh_springer_spaniel</td>\n",
       "      <td>0.465074</td>\n",
       "      <td>True</td>\n",
       "      <td>collie</td>\n",
       "      <td>0.156665</td>\n",
       "      <td>True</td>\n",
       "      <td>Shetland_sheepdog</td>\n",
       "      <td>0.061428</td>\n",
       "      <td>True</td>\n",
       "      <td>Welsh_springer_spaniel</td>\n",
       "    </tr>\n",
       "    <tr>\n",
       "      <th>1</th>\n",
       "      <td>666029285002620928</td>\n",
       "      <td>https://pbs.twimg.com/media/CT42GRgUYAA5iDo.jpg</td>\n",
       "      <td>1</td>\n",
       "      <td>redbone</td>\n",
       "      <td>0.506826</td>\n",
       "      <td>True</td>\n",
       "      <td>miniature_pinscher</td>\n",
       "      <td>0.074192</td>\n",
       "      <td>True</td>\n",
       "      <td>Rhodesian_ridgeback</td>\n",
       "      <td>0.072010</td>\n",
       "      <td>True</td>\n",
       "      <td>redbone</td>\n",
       "    </tr>\n",
       "    <tr>\n",
       "      <th>2</th>\n",
       "      <td>666033412701032449</td>\n",
       "      <td>https://pbs.twimg.com/media/CT4521TWwAEvMyu.jpg</td>\n",
       "      <td>1</td>\n",
       "      <td>German_shepherd</td>\n",
       "      <td>0.596461</td>\n",
       "      <td>True</td>\n",
       "      <td>malinois</td>\n",
       "      <td>0.138584</td>\n",
       "      <td>True</td>\n",
       "      <td>bloodhound</td>\n",
       "      <td>0.116197</td>\n",
       "      <td>True</td>\n",
       "      <td>German_shepherd</td>\n",
       "    </tr>\n",
       "    <tr>\n",
       "      <th>3</th>\n",
       "      <td>666044226329800704</td>\n",
       "      <td>https://pbs.twimg.com/media/CT5Dr8HUEAA-lEu.jpg</td>\n",
       "      <td>1</td>\n",
       "      <td>Rhodesian_ridgeback</td>\n",
       "      <td>0.408143</td>\n",
       "      <td>True</td>\n",
       "      <td>redbone</td>\n",
       "      <td>0.360687</td>\n",
       "      <td>True</td>\n",
       "      <td>miniature_pinscher</td>\n",
       "      <td>0.222752</td>\n",
       "      <td>True</td>\n",
       "      <td>Rhodesian_ridgeback</td>\n",
       "    </tr>\n",
       "    <tr>\n",
       "      <th>4</th>\n",
       "      <td>666049248165822465</td>\n",
       "      <td>https://pbs.twimg.com/media/CT5IQmsXIAAKY4A.jpg</td>\n",
       "      <td>1</td>\n",
       "      <td>miniature_pinscher</td>\n",
       "      <td>0.560311</td>\n",
       "      <td>True</td>\n",
       "      <td>Rottweiler</td>\n",
       "      <td>0.243682</td>\n",
       "      <td>True</td>\n",
       "      <td>Doberman</td>\n",
       "      <td>0.154629</td>\n",
       "      <td>True</td>\n",
       "      <td>miniature_pinscher</td>\n",
       "    </tr>\n",
       "  </tbody>\n",
       "</table>\n",
       "</div>"
      ],
      "text/plain": [
       "             tweet_id                                          jpg_url  \\\n",
       "0  666020888022790149  https://pbs.twimg.com/media/CT4udn0WwAA0aMy.jpg   \n",
       "1  666029285002620928  https://pbs.twimg.com/media/CT42GRgUYAA5iDo.jpg   \n",
       "2  666033412701032449  https://pbs.twimg.com/media/CT4521TWwAEvMyu.jpg   \n",
       "3  666044226329800704  https://pbs.twimg.com/media/CT5Dr8HUEAA-lEu.jpg   \n",
       "4  666049248165822465  https://pbs.twimg.com/media/CT5IQmsXIAAKY4A.jpg   \n",
       "\n",
       "   img_num                      p1   p1_conf  p1_dog                  p2  \\\n",
       "0        1  Welsh_springer_spaniel  0.465074    True              collie   \n",
       "1        1                 redbone  0.506826    True  miniature_pinscher   \n",
       "2        1         German_shepherd  0.596461    True            malinois   \n",
       "3        1     Rhodesian_ridgeback  0.408143    True             redbone   \n",
       "4        1      miniature_pinscher  0.560311    True          Rottweiler   \n",
       "\n",
       "    p2_conf  p2_dog                   p3   p3_conf  p3_dog  \\\n",
       "0  0.156665    True    Shetland_sheepdog  0.061428    True   \n",
       "1  0.074192    True  Rhodesian_ridgeback  0.072010    True   \n",
       "2  0.138584    True           bloodhound  0.116197    True   \n",
       "3  0.360687    True   miniature_pinscher  0.222752    True   \n",
       "4  0.243682    True             Doberman  0.154629    True   \n",
       "\n",
       "                    breed  \n",
       "0  Welsh_springer_spaniel  \n",
       "1                 redbone  \n",
       "2         German_shepherd  \n",
       "3     Rhodesian_ridgeback  \n",
       "4      miniature_pinscher  "
      ]
     },
     "execution_count": 922,
     "metadata": {},
     "output_type": "execute_result"
    }
   ],
   "source": [
    "dfimg1.head()"
   ]
  },
  {
   "cell_type": "code",
   "execution_count": 923,
   "metadata": {},
   "outputs": [
    {
     "data": {
      "text/html": [
       "<div>\n",
       "<style scoped>\n",
       "    .dataframe tbody tr th:only-of-type {\n",
       "        vertical-align: middle;\n",
       "    }\n",
       "\n",
       "    .dataframe tbody tr th {\n",
       "        vertical-align: top;\n",
       "    }\n",
       "\n",
       "    .dataframe thead th {\n",
       "        text-align: right;\n",
       "    }\n",
       "</style>\n",
       "<table border=\"1\" class=\"dataframe\">\n",
       "  <thead>\n",
       "    <tr style=\"text-align: right;\">\n",
       "      <th></th>\n",
       "      <th>tweet_id</th>\n",
       "      <th>jpg_url</th>\n",
       "      <th>img_num</th>\n",
       "      <th>p1</th>\n",
       "      <th>p1_conf</th>\n",
       "      <th>p1_dog</th>\n",
       "      <th>p2</th>\n",
       "      <th>p2_conf</th>\n",
       "      <th>p2_dog</th>\n",
       "      <th>p3</th>\n",
       "      <th>p3_conf</th>\n",
       "      <th>p3_dog</th>\n",
       "      <th>breed</th>\n",
       "    </tr>\n",
       "  </thead>\n",
       "  <tbody>\n",
       "    <tr>\n",
       "      <th>22</th>\n",
       "      <td>666337882303524864</td>\n",
       "      <td>https://pbs.twimg.com/media/CT9OwFIWEAMuRje.jpg</td>\n",
       "      <td>1</td>\n",
       "      <td>ox</td>\n",
       "      <td>0.416669</td>\n",
       "      <td>False</td>\n",
       "      <td>Newfoundland</td>\n",
       "      <td>0.278407</td>\n",
       "      <td>True</td>\n",
       "      <td>groenendael</td>\n",
       "      <td>0.102643</td>\n",
       "      <td>True</td>\n",
       "      <td>Newfoundland</td>\n",
       "    </tr>\n",
       "    <tr>\n",
       "      <th>33</th>\n",
       "      <td>666430724426358785</td>\n",
       "      <td>https://pbs.twimg.com/media/CT-jNYqW4AAPi2M.jpg</td>\n",
       "      <td>1</td>\n",
       "      <td>llama</td>\n",
       "      <td>0.505184</td>\n",
       "      <td>False</td>\n",
       "      <td>Irish_terrier</td>\n",
       "      <td>0.104109</td>\n",
       "      <td>True</td>\n",
       "      <td>dingo</td>\n",
       "      <td>0.062071</td>\n",
       "      <td>False</td>\n",
       "      <td>Irish_terrier</td>\n",
       "    </tr>\n",
       "    <tr>\n",
       "      <th>43</th>\n",
       "      <td>666776908487630848</td>\n",
       "      <td>https://pbs.twimg.com/media/CUDeDoWUYAAD-EM.jpg</td>\n",
       "      <td>1</td>\n",
       "      <td>seat_belt</td>\n",
       "      <td>0.375057</td>\n",
       "      <td>False</td>\n",
       "      <td>miniature_pinscher</td>\n",
       "      <td>0.167175</td>\n",
       "      <td>True</td>\n",
       "      <td>Chihuahua</td>\n",
       "      <td>0.086951</td>\n",
       "      <td>True</td>\n",
       "      <td>miniature_pinscher</td>\n",
       "    </tr>\n",
       "    <tr>\n",
       "      <th>52</th>\n",
       "      <td>666996132027977728</td>\n",
       "      <td>https://pbs.twimg.com/media/CUGlb6iUwAITEbW.jpg</td>\n",
       "      <td>1</td>\n",
       "      <td>hay</td>\n",
       "      <td>0.507637</td>\n",
       "      <td>False</td>\n",
       "      <td>Rottweiler</td>\n",
       "      <td>0.062490</td>\n",
       "      <td>True</td>\n",
       "      <td>water_buffalo</td>\n",
       "      <td>0.048425</td>\n",
       "      <td>False</td>\n",
       "      <td>Rottweiler</td>\n",
       "    </tr>\n",
       "    <tr>\n",
       "      <th>95</th>\n",
       "      <td>667550904950915073</td>\n",
       "      <td>https://pbs.twimg.com/media/CUOb_gUUkAACXdS.jpg</td>\n",
       "      <td>1</td>\n",
       "      <td>web_site</td>\n",
       "      <td>0.999335</td>\n",
       "      <td>False</td>\n",
       "      <td>vizsla</td>\n",
       "      <td>0.000081</td>\n",
       "      <td>True</td>\n",
       "      <td>collie</td>\n",
       "      <td>0.000069</td>\n",
       "      <td>True</td>\n",
       "      <td>vizsla</td>\n",
       "    </tr>\n",
       "  </tbody>\n",
       "</table>\n",
       "</div>"
      ],
      "text/plain": [
       "              tweet_id                                          jpg_url  \\\n",
       "22  666337882303524864  https://pbs.twimg.com/media/CT9OwFIWEAMuRje.jpg   \n",
       "33  666430724426358785  https://pbs.twimg.com/media/CT-jNYqW4AAPi2M.jpg   \n",
       "43  666776908487630848  https://pbs.twimg.com/media/CUDeDoWUYAAD-EM.jpg   \n",
       "52  666996132027977728  https://pbs.twimg.com/media/CUGlb6iUwAITEbW.jpg   \n",
       "95  667550904950915073  https://pbs.twimg.com/media/CUOb_gUUkAACXdS.jpg   \n",
       "\n",
       "    img_num         p1   p1_conf  p1_dog                  p2   p2_conf  \\\n",
       "22        1         ox  0.416669   False        Newfoundland  0.278407   \n",
       "33        1      llama  0.505184   False       Irish_terrier  0.104109   \n",
       "43        1  seat_belt  0.375057   False  miniature_pinscher  0.167175   \n",
       "52        1        hay  0.507637   False          Rottweiler  0.062490   \n",
       "95        1   web_site  0.999335   False              vizsla  0.000081   \n",
       "\n",
       "    p2_dog             p3   p3_conf  p3_dog               breed  \n",
       "22    True    groenendael  0.102643    True        Newfoundland  \n",
       "33    True          dingo  0.062071   False       Irish_terrier  \n",
       "43    True      Chihuahua  0.086951    True  miniature_pinscher  \n",
       "52    True  water_buffalo  0.048425   False          Rottweiler  \n",
       "95    True         collie  0.000069    True              vizsla  "
      ]
     },
     "execution_count": 923,
     "metadata": {},
     "output_type": "execute_result"
    }
   ],
   "source": [
    "dfimg2.head()"
   ]
  },
  {
   "cell_type": "code",
   "execution_count": 924,
   "metadata": {},
   "outputs": [
    {
     "data": {
      "text/html": [
       "<div>\n",
       "<style scoped>\n",
       "    .dataframe tbody tr th:only-of-type {\n",
       "        vertical-align: middle;\n",
       "    }\n",
       "\n",
       "    .dataframe tbody tr th {\n",
       "        vertical-align: top;\n",
       "    }\n",
       "\n",
       "    .dataframe thead th {\n",
       "        text-align: right;\n",
       "    }\n",
       "</style>\n",
       "<table border=\"1\" class=\"dataframe\">\n",
       "  <thead>\n",
       "    <tr style=\"text-align: right;\">\n",
       "      <th></th>\n",
       "      <th>tweet_id</th>\n",
       "      <th>jpg_url</th>\n",
       "      <th>img_num</th>\n",
       "      <th>p1</th>\n",
       "      <th>p1_conf</th>\n",
       "      <th>p1_dog</th>\n",
       "      <th>p2</th>\n",
       "      <th>p2_conf</th>\n",
       "      <th>p2_dog</th>\n",
       "      <th>p3</th>\n",
       "      <th>p3_conf</th>\n",
       "      <th>p3_dog</th>\n",
       "      <th>breed</th>\n",
       "    </tr>\n",
       "  </thead>\n",
       "  <tbody>\n",
       "    <tr>\n",
       "      <th>8</th>\n",
       "      <td>666057090499244032</td>\n",
       "      <td>https://pbs.twimg.com/media/CT5PY90WoAAQGLo.jpg</td>\n",
       "      <td>1</td>\n",
       "      <td>shopping_cart</td>\n",
       "      <td>0.962465</td>\n",
       "      <td>False</td>\n",
       "      <td>shopping_basket</td>\n",
       "      <td>0.014594</td>\n",
       "      <td>False</td>\n",
       "      <td>golden_retriever</td>\n",
       "      <td>0.007959</td>\n",
       "      <td>True</td>\n",
       "      <td>golden_retriever</td>\n",
       "    </tr>\n",
       "    <tr>\n",
       "      <th>87</th>\n",
       "      <td>667524857454854144</td>\n",
       "      <td>https://pbs.twimg.com/media/CUOGUfJW4AA_eni.jpg</td>\n",
       "      <td>1</td>\n",
       "      <td>hare</td>\n",
       "      <td>0.447893</td>\n",
       "      <td>False</td>\n",
       "      <td>dhole</td>\n",
       "      <td>0.092435</td>\n",
       "      <td>False</td>\n",
       "      <td>Chesapeake_Bay_retriever</td>\n",
       "      <td>0.088122</td>\n",
       "      <td>True</td>\n",
       "      <td>Chesapeake_Bay_retriever</td>\n",
       "    </tr>\n",
       "    <tr>\n",
       "      <th>126</th>\n",
       "      <td>668256321989451776</td>\n",
       "      <td>https://pbs.twimg.com/media/CUYflCXWEAAzQVu.jpg</td>\n",
       "      <td>1</td>\n",
       "      <td>canoe</td>\n",
       "      <td>0.407683</td>\n",
       "      <td>False</td>\n",
       "      <td>paddle</td>\n",
       "      <td>0.115550</td>\n",
       "      <td>False</td>\n",
       "      <td>Pembroke</td>\n",
       "      <td>0.094429</td>\n",
       "      <td>True</td>\n",
       "      <td>Pembroke</td>\n",
       "    </tr>\n",
       "    <tr>\n",
       "      <th>131</th>\n",
       "      <td>668297328638447616</td>\n",
       "      <td>https://pbs.twimg.com/media/CUZE4IWW4AAZmDf.jpg</td>\n",
       "      <td>1</td>\n",
       "      <td>king_penguin</td>\n",
       "      <td>0.606747</td>\n",
       "      <td>False</td>\n",
       "      <td>ice_bear</td>\n",
       "      <td>0.264221</td>\n",
       "      <td>False</td>\n",
       "      <td>Eskimo_dog</td>\n",
       "      <td>0.032784</td>\n",
       "      <td>True</td>\n",
       "      <td>Eskimo_dog</td>\n",
       "    </tr>\n",
       "    <tr>\n",
       "      <th>158</th>\n",
       "      <td>668872652652679168</td>\n",
       "      <td>https://pbs.twimg.com/media/CUhQIAhXAAA2j7u.jpg</td>\n",
       "      <td>1</td>\n",
       "      <td>teddy</td>\n",
       "      <td>0.413379</td>\n",
       "      <td>False</td>\n",
       "      <td>pillow</td>\n",
       "      <td>0.325623</td>\n",
       "      <td>False</td>\n",
       "      <td>miniature_schnauzer</td>\n",
       "      <td>0.035537</td>\n",
       "      <td>True</td>\n",
       "      <td>miniature_schnauzer</td>\n",
       "    </tr>\n",
       "  </tbody>\n",
       "</table>\n",
       "</div>"
      ],
      "text/plain": [
       "               tweet_id                                          jpg_url  \\\n",
       "8    666057090499244032  https://pbs.twimg.com/media/CT5PY90WoAAQGLo.jpg   \n",
       "87   667524857454854144  https://pbs.twimg.com/media/CUOGUfJW4AA_eni.jpg   \n",
       "126  668256321989451776  https://pbs.twimg.com/media/CUYflCXWEAAzQVu.jpg   \n",
       "131  668297328638447616  https://pbs.twimg.com/media/CUZE4IWW4AAZmDf.jpg   \n",
       "158  668872652652679168  https://pbs.twimg.com/media/CUhQIAhXAAA2j7u.jpg   \n",
       "\n",
       "     img_num             p1   p1_conf  p1_dog               p2   p2_conf  \\\n",
       "8          1  shopping_cart  0.962465   False  shopping_basket  0.014594   \n",
       "87         1           hare  0.447893   False            dhole  0.092435   \n",
       "126        1          canoe  0.407683   False           paddle  0.115550   \n",
       "131        1   king_penguin  0.606747   False         ice_bear  0.264221   \n",
       "158        1          teddy  0.413379   False           pillow  0.325623   \n",
       "\n",
       "     p2_dog                        p3   p3_conf  p3_dog  \\\n",
       "8     False          golden_retriever  0.007959    True   \n",
       "87    False  Chesapeake_Bay_retriever  0.088122    True   \n",
       "126   False                  Pembroke  0.094429    True   \n",
       "131   False                Eskimo_dog  0.032784    True   \n",
       "158   False       miniature_schnauzer  0.035537    True   \n",
       "\n",
       "                        breed  \n",
       "8            golden_retriever  \n",
       "87   Chesapeake_Bay_retriever  \n",
       "126                  Pembroke  \n",
       "131                Eskimo_dog  \n",
       "158       miniature_schnauzer  "
      ]
     },
     "execution_count": 924,
     "metadata": {},
     "output_type": "execute_result"
    }
   ],
   "source": [
    "dfimg3.head()"
   ]
  },
  {
   "cell_type": "code",
   "execution_count": 925,
   "metadata": {
    "scrolled": true
   },
   "outputs": [
    {
     "data": {
      "text/html": [
       "<div>\n",
       "<style scoped>\n",
       "    .dataframe tbody tr th:only-of-type {\n",
       "        vertical-align: middle;\n",
       "    }\n",
       "\n",
       "    .dataframe tbody tr th {\n",
       "        vertical-align: top;\n",
       "    }\n",
       "\n",
       "    .dataframe thead th {\n",
       "        text-align: right;\n",
       "    }\n",
       "</style>\n",
       "<table border=\"1\" class=\"dataframe\">\n",
       "  <thead>\n",
       "    <tr style=\"text-align: right;\">\n",
       "      <th></th>\n",
       "      <th>tweet_id</th>\n",
       "      <th>jpg_url</th>\n",
       "      <th>img_num</th>\n",
       "      <th>p1</th>\n",
       "      <th>p1_conf</th>\n",
       "      <th>p1_dog</th>\n",
       "      <th>p2</th>\n",
       "      <th>p2_conf</th>\n",
       "      <th>p2_dog</th>\n",
       "      <th>p3</th>\n",
       "      <th>p3_conf</th>\n",
       "      <th>p3_dog</th>\n",
       "      <th>breed</th>\n",
       "    </tr>\n",
       "  </thead>\n",
       "  <tbody>\n",
       "    <tr>\n",
       "      <th>6</th>\n",
       "      <td>666051853826850816</td>\n",
       "      <td>https://pbs.twimg.com/media/CT5KoJ1WoAAJash.jpg</td>\n",
       "      <td>1</td>\n",
       "      <td>box_turtle</td>\n",
       "      <td>0.933012</td>\n",
       "      <td>False</td>\n",
       "      <td>mud_turtle</td>\n",
       "      <td>0.045885</td>\n",
       "      <td>False</td>\n",
       "      <td>terrapin</td>\n",
       "      <td>0.017885</td>\n",
       "      <td>False</td>\n",
       "      <td>NaN</td>\n",
       "    </tr>\n",
       "    <tr>\n",
       "      <th>17</th>\n",
       "      <td>666104133288665088</td>\n",
       "      <td>https://pbs.twimg.com/media/CT56LSZWoAAlJj2.jpg</td>\n",
       "      <td>1</td>\n",
       "      <td>hen</td>\n",
       "      <td>0.965932</td>\n",
       "      <td>False</td>\n",
       "      <td>cock</td>\n",
       "      <td>0.033919</td>\n",
       "      <td>False</td>\n",
       "      <td>partridge</td>\n",
       "      <td>0.000052</td>\n",
       "      <td>False</td>\n",
       "      <td>NaN</td>\n",
       "    </tr>\n",
       "    <tr>\n",
       "      <th>18</th>\n",
       "      <td>666268910803644416</td>\n",
       "      <td>https://pbs.twimg.com/media/CT8QCd1WEAADXws.jpg</td>\n",
       "      <td>1</td>\n",
       "      <td>desktop_computer</td>\n",
       "      <td>0.086502</td>\n",
       "      <td>False</td>\n",
       "      <td>desk</td>\n",
       "      <td>0.085547</td>\n",
       "      <td>False</td>\n",
       "      <td>bookcase</td>\n",
       "      <td>0.079480</td>\n",
       "      <td>False</td>\n",
       "      <td>NaN</td>\n",
       "    </tr>\n",
       "    <tr>\n",
       "      <th>21</th>\n",
       "      <td>666293911632134144</td>\n",
       "      <td>https://pbs.twimg.com/media/CT8mx7KW4AEQu8N.jpg</td>\n",
       "      <td>1</td>\n",
       "      <td>three-toed_sloth</td>\n",
       "      <td>0.914671</td>\n",
       "      <td>False</td>\n",
       "      <td>otter</td>\n",
       "      <td>0.015250</td>\n",
       "      <td>False</td>\n",
       "      <td>great_grey_owl</td>\n",
       "      <td>0.013207</td>\n",
       "      <td>False</td>\n",
       "      <td>NaN</td>\n",
       "    </tr>\n",
       "    <tr>\n",
       "      <th>25</th>\n",
       "      <td>666362758909284353</td>\n",
       "      <td>https://pbs.twimg.com/media/CT9lXGsUcAAyUFt.jpg</td>\n",
       "      <td>1</td>\n",
       "      <td>guinea_pig</td>\n",
       "      <td>0.996496</td>\n",
       "      <td>False</td>\n",
       "      <td>skunk</td>\n",
       "      <td>0.002402</td>\n",
       "      <td>False</td>\n",
       "      <td>hamster</td>\n",
       "      <td>0.000461</td>\n",
       "      <td>False</td>\n",
       "      <td>NaN</td>\n",
       "    </tr>\n",
       "  </tbody>\n",
       "</table>\n",
       "</div>"
      ],
      "text/plain": [
       "              tweet_id                                          jpg_url  \\\n",
       "6   666051853826850816  https://pbs.twimg.com/media/CT5KoJ1WoAAJash.jpg   \n",
       "17  666104133288665088  https://pbs.twimg.com/media/CT56LSZWoAAlJj2.jpg   \n",
       "18  666268910803644416  https://pbs.twimg.com/media/CT8QCd1WEAADXws.jpg   \n",
       "21  666293911632134144  https://pbs.twimg.com/media/CT8mx7KW4AEQu8N.jpg   \n",
       "25  666362758909284353  https://pbs.twimg.com/media/CT9lXGsUcAAyUFt.jpg   \n",
       "\n",
       "    img_num                p1   p1_conf  p1_dog          p2   p2_conf  p2_dog  \\\n",
       "6         1        box_turtle  0.933012   False  mud_turtle  0.045885   False   \n",
       "17        1               hen  0.965932   False        cock  0.033919   False   \n",
       "18        1  desktop_computer  0.086502   False        desk  0.085547   False   \n",
       "21        1  three-toed_sloth  0.914671   False       otter  0.015250   False   \n",
       "25        1        guinea_pig  0.996496   False       skunk  0.002402   False   \n",
       "\n",
       "                p3   p3_conf  p3_dog  breed  \n",
       "6         terrapin  0.017885   False    NaN  \n",
       "17       partridge  0.000052   False    NaN  \n",
       "18        bookcase  0.079480   False    NaN  \n",
       "21  great_grey_owl  0.013207   False    NaN  \n",
       "25         hamster  0.000461   False    NaN  "
      ]
     },
     "execution_count": 925,
     "metadata": {},
     "output_type": "execute_result"
    }
   ],
   "source": [
    "dfimg4.head()"
   ]
  },
  {
   "cell_type": "code",
   "execution_count": 926,
   "metadata": {},
   "outputs": [],
   "source": [
    "dfimg = dfimg1.append(dfimg2.append(dfimg3.append(dfimg4)))"
   ]
  },
  {
   "cell_type": "markdown",
   "metadata": {},
   "source": [
    "#### Test:"
   ]
  },
  {
   "cell_type": "code",
   "execution_count": 927,
   "metadata": {},
   "outputs": [
    {
     "data": {
      "text/html": [
       "<div>\n",
       "<style scoped>\n",
       "    .dataframe tbody tr th:only-of-type {\n",
       "        vertical-align: middle;\n",
       "    }\n",
       "\n",
       "    .dataframe tbody tr th {\n",
       "        vertical-align: top;\n",
       "    }\n",
       "\n",
       "    .dataframe thead th {\n",
       "        text-align: right;\n",
       "    }\n",
       "</style>\n",
       "<table border=\"1\" class=\"dataframe\">\n",
       "  <thead>\n",
       "    <tr style=\"text-align: right;\">\n",
       "      <th></th>\n",
       "      <th>tweet_id</th>\n",
       "      <th>jpg_url</th>\n",
       "      <th>img_num</th>\n",
       "      <th>p1</th>\n",
       "      <th>p1_conf</th>\n",
       "      <th>p1_dog</th>\n",
       "      <th>p2</th>\n",
       "      <th>p2_conf</th>\n",
       "      <th>p2_dog</th>\n",
       "      <th>p3</th>\n",
       "      <th>p3_conf</th>\n",
       "      <th>p3_dog</th>\n",
       "      <th>breed</th>\n",
       "    </tr>\n",
       "  </thead>\n",
       "  <tbody>\n",
       "    <tr>\n",
       "      <th>0</th>\n",
       "      <td>666020888022790149</td>\n",
       "      <td>https://pbs.twimg.com/media/CT4udn0WwAA0aMy.jpg</td>\n",
       "      <td>1</td>\n",
       "      <td>Welsh_springer_spaniel</td>\n",
       "      <td>0.465074</td>\n",
       "      <td>True</td>\n",
       "      <td>collie</td>\n",
       "      <td>0.156665</td>\n",
       "      <td>True</td>\n",
       "      <td>Shetland_sheepdog</td>\n",
       "      <td>0.061428</td>\n",
       "      <td>True</td>\n",
       "      <td>Welsh_springer_spaniel</td>\n",
       "    </tr>\n",
       "    <tr>\n",
       "      <th>22</th>\n",
       "      <td>666337882303524864</td>\n",
       "      <td>https://pbs.twimg.com/media/CT9OwFIWEAMuRje.jpg</td>\n",
       "      <td>1</td>\n",
       "      <td>ox</td>\n",
       "      <td>0.416669</td>\n",
       "      <td>False</td>\n",
       "      <td>Newfoundland</td>\n",
       "      <td>0.278407</td>\n",
       "      <td>True</td>\n",
       "      <td>groenendael</td>\n",
       "      <td>0.102643</td>\n",
       "      <td>True</td>\n",
       "      <td>Newfoundland</td>\n",
       "    </tr>\n",
       "    <tr>\n",
       "      <th>8</th>\n",
       "      <td>666057090499244032</td>\n",
       "      <td>https://pbs.twimg.com/media/CT5PY90WoAAQGLo.jpg</td>\n",
       "      <td>1</td>\n",
       "      <td>shopping_cart</td>\n",
       "      <td>0.962465</td>\n",
       "      <td>False</td>\n",
       "      <td>shopping_basket</td>\n",
       "      <td>0.014594</td>\n",
       "      <td>False</td>\n",
       "      <td>golden_retriever</td>\n",
       "      <td>0.007959</td>\n",
       "      <td>True</td>\n",
       "      <td>golden_retriever</td>\n",
       "    </tr>\n",
       "    <tr>\n",
       "      <th>6</th>\n",
       "      <td>666051853826850816</td>\n",
       "      <td>https://pbs.twimg.com/media/CT5KoJ1WoAAJash.jpg</td>\n",
       "      <td>1</td>\n",
       "      <td>box_turtle</td>\n",
       "      <td>0.933012</td>\n",
       "      <td>False</td>\n",
       "      <td>mud_turtle</td>\n",
       "      <td>0.045885</td>\n",
       "      <td>False</td>\n",
       "      <td>terrapin</td>\n",
       "      <td>0.017885</td>\n",
       "      <td>False</td>\n",
       "      <td>NaN</td>\n",
       "    </tr>\n",
       "  </tbody>\n",
       "</table>\n",
       "</div>"
      ],
      "text/plain": [
       "              tweet_id                                          jpg_url  \\\n",
       "0   666020888022790149  https://pbs.twimg.com/media/CT4udn0WwAA0aMy.jpg   \n",
       "22  666337882303524864  https://pbs.twimg.com/media/CT9OwFIWEAMuRje.jpg   \n",
       "8   666057090499244032  https://pbs.twimg.com/media/CT5PY90WoAAQGLo.jpg   \n",
       "6   666051853826850816  https://pbs.twimg.com/media/CT5KoJ1WoAAJash.jpg   \n",
       "\n",
       "    img_num                      p1   p1_conf  p1_dog               p2  \\\n",
       "0         1  Welsh_springer_spaniel  0.465074    True           collie   \n",
       "22        1                      ox  0.416669   False     Newfoundland   \n",
       "8         1           shopping_cart  0.962465   False  shopping_basket   \n",
       "6         1              box_turtle  0.933012   False       mud_turtle   \n",
       "\n",
       "     p2_conf  p2_dog                 p3   p3_conf  p3_dog  \\\n",
       "0   0.156665    True  Shetland_sheepdog  0.061428    True   \n",
       "22  0.278407    True        groenendael  0.102643    True   \n",
       "8   0.014594   False   golden_retriever  0.007959    True   \n",
       "6   0.045885   False           terrapin  0.017885   False   \n",
       "\n",
       "                     breed  \n",
       "0   Welsh_springer_spaniel  \n",
       "22            Newfoundland  \n",
       "8         golden_retriever  \n",
       "6                      NaN  "
      ]
     },
     "execution_count": 927,
     "metadata": {},
     "output_type": "execute_result"
    }
   ],
   "source": [
    "dfimg.loc[[0,22,8,6]]"
   ]
  },
  {
   "cell_type": "code",
   "execution_count": null,
   "metadata": {},
   "outputs": [],
   "source": []
  },
  {
   "cell_type": "markdown",
   "metadata": {},
   "source": [
    "#### Define:\n",
    "Tidiness: Remove unnecessary columns from dfimg"
   ]
  },
  {
   "cell_type": "markdown",
   "metadata": {},
   "source": [
    "#### Code:"
   ]
  },
  {
   "cell_type": "code",
   "execution_count": 928,
   "metadata": {},
   "outputs": [
    {
     "data": {
      "text/html": [
       "<div>\n",
       "<style scoped>\n",
       "    .dataframe tbody tr th:only-of-type {\n",
       "        vertical-align: middle;\n",
       "    }\n",
       "\n",
       "    .dataframe tbody tr th {\n",
       "        vertical-align: top;\n",
       "    }\n",
       "\n",
       "    .dataframe thead th {\n",
       "        text-align: right;\n",
       "    }\n",
       "</style>\n",
       "<table border=\"1\" class=\"dataframe\">\n",
       "  <thead>\n",
       "    <tr style=\"text-align: right;\">\n",
       "      <th></th>\n",
       "      <th>tweet_id</th>\n",
       "      <th>jpg_url</th>\n",
       "      <th>img_num</th>\n",
       "      <th>p1</th>\n",
       "      <th>p1_conf</th>\n",
       "      <th>p1_dog</th>\n",
       "      <th>p2</th>\n",
       "      <th>p2_conf</th>\n",
       "      <th>p2_dog</th>\n",
       "      <th>p3</th>\n",
       "      <th>p3_conf</th>\n",
       "      <th>p3_dog</th>\n",
       "      <th>breed</th>\n",
       "    </tr>\n",
       "  </thead>\n",
       "  <tbody>\n",
       "    <tr>\n",
       "      <th>0</th>\n",
       "      <td>666020888022790149</td>\n",
       "      <td>https://pbs.twimg.com/media/CT4udn0WwAA0aMy.jpg</td>\n",
       "      <td>1</td>\n",
       "      <td>Welsh_springer_spaniel</td>\n",
       "      <td>0.465074</td>\n",
       "      <td>True</td>\n",
       "      <td>collie</td>\n",
       "      <td>0.156665</td>\n",
       "      <td>True</td>\n",
       "      <td>Shetland_sheepdog</td>\n",
       "      <td>0.061428</td>\n",
       "      <td>True</td>\n",
       "      <td>Welsh_springer_spaniel</td>\n",
       "    </tr>\n",
       "    <tr>\n",
       "      <th>1</th>\n",
       "      <td>666029285002620928</td>\n",
       "      <td>https://pbs.twimg.com/media/CT42GRgUYAA5iDo.jpg</td>\n",
       "      <td>1</td>\n",
       "      <td>redbone</td>\n",
       "      <td>0.506826</td>\n",
       "      <td>True</td>\n",
       "      <td>miniature_pinscher</td>\n",
       "      <td>0.074192</td>\n",
       "      <td>True</td>\n",
       "      <td>Rhodesian_ridgeback</td>\n",
       "      <td>0.072010</td>\n",
       "      <td>True</td>\n",
       "      <td>redbone</td>\n",
       "    </tr>\n",
       "    <tr>\n",
       "      <th>2</th>\n",
       "      <td>666033412701032449</td>\n",
       "      <td>https://pbs.twimg.com/media/CT4521TWwAEvMyu.jpg</td>\n",
       "      <td>1</td>\n",
       "      <td>German_shepherd</td>\n",
       "      <td>0.596461</td>\n",
       "      <td>True</td>\n",
       "      <td>malinois</td>\n",
       "      <td>0.138584</td>\n",
       "      <td>True</td>\n",
       "      <td>bloodhound</td>\n",
       "      <td>0.116197</td>\n",
       "      <td>True</td>\n",
       "      <td>German_shepherd</td>\n",
       "    </tr>\n",
       "    <tr>\n",
       "      <th>3</th>\n",
       "      <td>666044226329800704</td>\n",
       "      <td>https://pbs.twimg.com/media/CT5Dr8HUEAA-lEu.jpg</td>\n",
       "      <td>1</td>\n",
       "      <td>Rhodesian_ridgeback</td>\n",
       "      <td>0.408143</td>\n",
       "      <td>True</td>\n",
       "      <td>redbone</td>\n",
       "      <td>0.360687</td>\n",
       "      <td>True</td>\n",
       "      <td>miniature_pinscher</td>\n",
       "      <td>0.222752</td>\n",
       "      <td>True</td>\n",
       "      <td>Rhodesian_ridgeback</td>\n",
       "    </tr>\n",
       "    <tr>\n",
       "      <th>4</th>\n",
       "      <td>666049248165822465</td>\n",
       "      <td>https://pbs.twimg.com/media/CT5IQmsXIAAKY4A.jpg</td>\n",
       "      <td>1</td>\n",
       "      <td>miniature_pinscher</td>\n",
       "      <td>0.560311</td>\n",
       "      <td>True</td>\n",
       "      <td>Rottweiler</td>\n",
       "      <td>0.243682</td>\n",
       "      <td>True</td>\n",
       "      <td>Doberman</td>\n",
       "      <td>0.154629</td>\n",
       "      <td>True</td>\n",
       "      <td>miniature_pinscher</td>\n",
       "    </tr>\n",
       "  </tbody>\n",
       "</table>\n",
       "</div>"
      ],
      "text/plain": [
       "             tweet_id                                          jpg_url  \\\n",
       "0  666020888022790149  https://pbs.twimg.com/media/CT4udn0WwAA0aMy.jpg   \n",
       "1  666029285002620928  https://pbs.twimg.com/media/CT42GRgUYAA5iDo.jpg   \n",
       "2  666033412701032449  https://pbs.twimg.com/media/CT4521TWwAEvMyu.jpg   \n",
       "3  666044226329800704  https://pbs.twimg.com/media/CT5Dr8HUEAA-lEu.jpg   \n",
       "4  666049248165822465  https://pbs.twimg.com/media/CT5IQmsXIAAKY4A.jpg   \n",
       "\n",
       "   img_num                      p1   p1_conf  p1_dog                  p2  \\\n",
       "0        1  Welsh_springer_spaniel  0.465074    True              collie   \n",
       "1        1                 redbone  0.506826    True  miniature_pinscher   \n",
       "2        1         German_shepherd  0.596461    True            malinois   \n",
       "3        1     Rhodesian_ridgeback  0.408143    True             redbone   \n",
       "4        1      miniature_pinscher  0.560311    True          Rottweiler   \n",
       "\n",
       "    p2_conf  p2_dog                   p3   p3_conf  p3_dog  \\\n",
       "0  0.156665    True    Shetland_sheepdog  0.061428    True   \n",
       "1  0.074192    True  Rhodesian_ridgeback  0.072010    True   \n",
       "2  0.138584    True           bloodhound  0.116197    True   \n",
       "3  0.360687    True   miniature_pinscher  0.222752    True   \n",
       "4  0.243682    True             Doberman  0.154629    True   \n",
       "\n",
       "                    breed  \n",
       "0  Welsh_springer_spaniel  \n",
       "1                 redbone  \n",
       "2         German_shepherd  \n",
       "3     Rhodesian_ridgeback  \n",
       "4      miniature_pinscher  "
      ]
     },
     "execution_count": 928,
     "metadata": {},
     "output_type": "execute_result"
    }
   ],
   "source": [
    "dfimg.head()"
   ]
  },
  {
   "cell_type": "code",
   "execution_count": 929,
   "metadata": {},
   "outputs": [],
   "source": [
    "dfimg.drop(['img_num', 'p1', 'p1_conf', 'p1_dog', 'p2', 'p2_conf', 'p2_dog', 'p3', 'p3_conf', 'p3_dog'], axis=1, inplace=True)"
   ]
  },
  {
   "cell_type": "markdown",
   "metadata": {},
   "source": [
    "#### Test:"
   ]
  },
  {
   "cell_type": "code",
   "execution_count": 930,
   "metadata": {
    "scrolled": false
   },
   "outputs": [
    {
     "data": {
      "text/html": [
       "<div>\n",
       "<style scoped>\n",
       "    .dataframe tbody tr th:only-of-type {\n",
       "        vertical-align: middle;\n",
       "    }\n",
       "\n",
       "    .dataframe tbody tr th {\n",
       "        vertical-align: top;\n",
       "    }\n",
       "\n",
       "    .dataframe thead th {\n",
       "        text-align: right;\n",
       "    }\n",
       "</style>\n",
       "<table border=\"1\" class=\"dataframe\">\n",
       "  <thead>\n",
       "    <tr style=\"text-align: right;\">\n",
       "      <th></th>\n",
       "      <th>tweet_id</th>\n",
       "      <th>jpg_url</th>\n",
       "      <th>breed</th>\n",
       "    </tr>\n",
       "  </thead>\n",
       "  <tbody>\n",
       "    <tr>\n",
       "      <th>0</th>\n",
       "      <td>666020888022790149</td>\n",
       "      <td>https://pbs.twimg.com/media/CT4udn0WwAA0aMy.jpg</td>\n",
       "      <td>Welsh_springer_spaniel</td>\n",
       "    </tr>\n",
       "    <tr>\n",
       "      <th>1</th>\n",
       "      <td>666029285002620928</td>\n",
       "      <td>https://pbs.twimg.com/media/CT42GRgUYAA5iDo.jpg</td>\n",
       "      <td>redbone</td>\n",
       "    </tr>\n",
       "    <tr>\n",
       "      <th>2</th>\n",
       "      <td>666033412701032449</td>\n",
       "      <td>https://pbs.twimg.com/media/CT4521TWwAEvMyu.jpg</td>\n",
       "      <td>German_shepherd</td>\n",
       "    </tr>\n",
       "    <tr>\n",
       "      <th>3</th>\n",
       "      <td>666044226329800704</td>\n",
       "      <td>https://pbs.twimg.com/media/CT5Dr8HUEAA-lEu.jpg</td>\n",
       "      <td>Rhodesian_ridgeback</td>\n",
       "    </tr>\n",
       "    <tr>\n",
       "      <th>4</th>\n",
       "      <td>666049248165822465</td>\n",
       "      <td>https://pbs.twimg.com/media/CT5IQmsXIAAKY4A.jpg</td>\n",
       "      <td>miniature_pinscher</td>\n",
       "    </tr>\n",
       "  </tbody>\n",
       "</table>\n",
       "</div>"
      ],
      "text/plain": [
       "             tweet_id                                          jpg_url  \\\n",
       "0  666020888022790149  https://pbs.twimg.com/media/CT4udn0WwAA0aMy.jpg   \n",
       "1  666029285002620928  https://pbs.twimg.com/media/CT42GRgUYAA5iDo.jpg   \n",
       "2  666033412701032449  https://pbs.twimg.com/media/CT4521TWwAEvMyu.jpg   \n",
       "3  666044226329800704  https://pbs.twimg.com/media/CT5Dr8HUEAA-lEu.jpg   \n",
       "4  666049248165822465  https://pbs.twimg.com/media/CT5IQmsXIAAKY4A.jpg   \n",
       "\n",
       "                    breed  \n",
       "0  Welsh_springer_spaniel  \n",
       "1                 redbone  \n",
       "2         German_shepherd  \n",
       "3     Rhodesian_ridgeback  \n",
       "4      miniature_pinscher  "
      ]
     },
     "execution_count": 930,
     "metadata": {},
     "output_type": "execute_result"
    }
   ],
   "source": [
    "dfimg.head()"
   ]
  },
  {
   "cell_type": "code",
   "execution_count": null,
   "metadata": {},
   "outputs": [],
   "source": []
  },
  {
   "cell_type": "markdown",
   "metadata": {},
   "source": [
    "#### Define:\n",
    "Make copies before merging into each other"
   ]
  },
  {
   "cell_type": "markdown",
   "metadata": {},
   "source": [
    "#### Code:"
   ]
  },
  {
   "cell_type": "code",
   "execution_count": 931,
   "metadata": {},
   "outputs": [],
   "source": [
    "dfimgfinal = dfimg.copy()"
   ]
  },
  {
   "cell_type": "code",
   "execution_count": 932,
   "metadata": {},
   "outputs": [],
   "source": [
    "dfapifinal = dfapi.copy()"
   ]
  },
  {
   "cell_type": "code",
   "execution_count": 933,
   "metadata": {},
   "outputs": [],
   "source": [
    "dftweetfinal = dftweet.copy()"
   ]
  },
  {
   "cell_type": "markdown",
   "metadata": {},
   "source": [
    "#### Test:"
   ]
  },
  {
   "cell_type": "code",
   "execution_count": 934,
   "metadata": {
    "scrolled": true
   },
   "outputs": [
    {
     "data": {
      "text/plain": [
       "True"
      ]
     },
     "execution_count": 934,
     "metadata": {},
     "output_type": "execute_result"
    }
   ],
   "source": [
    "dfimg.equals(dfimgfinal)"
   ]
  },
  {
   "cell_type": "code",
   "execution_count": 935,
   "metadata": {},
   "outputs": [
    {
     "data": {
      "text/plain": [
       "True"
      ]
     },
     "execution_count": 935,
     "metadata": {},
     "output_type": "execute_result"
    }
   ],
   "source": [
    "dfapi.equals(dfapifinal)"
   ]
  },
  {
   "cell_type": "code",
   "execution_count": 936,
   "metadata": {},
   "outputs": [
    {
     "data": {
      "text/plain": [
       "True"
      ]
     },
     "execution_count": 936,
     "metadata": {},
     "output_type": "execute_result"
    }
   ],
   "source": [
    "dftweet.equals(dftweetfinal)"
   ]
  },
  {
   "cell_type": "code",
   "execution_count": null,
   "metadata": {},
   "outputs": [],
   "source": []
  },
  {
   "cell_type": "markdown",
   "metadata": {},
   "source": [
    "#### Define:\n",
    "Tidiness: Merge dfimg to dfapi\n",
    "\n",
    "Tidiness: Merge dfimg to dftweet"
   ]
  },
  {
   "cell_type": "code",
   "execution_count": 937,
   "metadata": {},
   "outputs": [
    {
     "data": {
      "text/plain": [
       "Index(['timestamp', 'tweet_id', 'text', 'retweet_count', 'favorite_count',\n",
       "       'dog_stage', 'rating_numerator', 'rating_denominator', 'name'],\n",
       "      dtype='object')"
      ]
     },
     "execution_count": 937,
     "metadata": {},
     "output_type": "execute_result"
    }
   ],
   "source": [
    "dfapi.columns"
   ]
  },
  {
   "cell_type": "code",
   "execution_count": 938,
   "metadata": {
    "scrolled": true
   },
   "outputs": [
    {
     "data": {
      "text/plain": [
       "Index(['tweet_id', 'timestamp', 'text', 'rating_numerator',\n",
       "       'rating_denominator', 'name', 'dog_stage'],\n",
       "      dtype='object')"
      ]
     },
     "execution_count": 938,
     "metadata": {},
     "output_type": "execute_result"
    }
   ],
   "source": [
    "dftweet.columns"
   ]
  },
  {
   "cell_type": "code",
   "execution_count": 939,
   "metadata": {},
   "outputs": [
    {
     "data": {
      "text/plain": [
       "Index(['tweet_id', 'jpg_url', 'breed'], dtype='object')"
      ]
     },
     "execution_count": 939,
     "metadata": {},
     "output_type": "execute_result"
    }
   ],
   "source": [
    "dfimg.columns"
   ]
  },
  {
   "cell_type": "code",
   "execution_count": 940,
   "metadata": {},
   "outputs": [],
   "source": [
    "dfapiimg = pd.merge(dfapi, dfimg, on='tweet_id')"
   ]
  },
  {
   "cell_type": "code",
   "execution_count": 941,
   "metadata": {},
   "outputs": [],
   "source": [
    "dftweetimg = pd.merge(dftweet, dfimg, on='tweet_id')"
   ]
  },
  {
   "cell_type": "markdown",
   "metadata": {},
   "source": [
    "#### Test:"
   ]
  },
  {
   "cell_type": "code",
   "execution_count": 942,
   "metadata": {
    "scrolled": true
   },
   "outputs": [
    {
     "data": {
      "text/html": [
       "<div>\n",
       "<style scoped>\n",
       "    .dataframe tbody tr th:only-of-type {\n",
       "        vertical-align: middle;\n",
       "    }\n",
       "\n",
       "    .dataframe tbody tr th {\n",
       "        vertical-align: top;\n",
       "    }\n",
       "\n",
       "    .dataframe thead th {\n",
       "        text-align: right;\n",
       "    }\n",
       "</style>\n",
       "<table border=\"1\" class=\"dataframe\">\n",
       "  <thead>\n",
       "    <tr style=\"text-align: right;\">\n",
       "      <th></th>\n",
       "      <th>timestamp</th>\n",
       "      <th>tweet_id</th>\n",
       "      <th>text</th>\n",
       "      <th>retweet_count</th>\n",
       "      <th>favorite_count</th>\n",
       "      <th>dog_stage</th>\n",
       "      <th>rating_numerator</th>\n",
       "      <th>rating_denominator</th>\n",
       "      <th>name</th>\n",
       "      <th>jpg_url</th>\n",
       "      <th>breed</th>\n",
       "    </tr>\n",
       "  </thead>\n",
       "  <tbody>\n",
       "    <tr>\n",
       "      <th>0</th>\n",
       "      <td>Sun Nov 15 22:32:08 +0000 2015</td>\n",
       "      <td>666020888022790149</td>\n",
       "      <td>Here we have a Japanese Irish Setter. Lost eye...</td>\n",
       "      <td>465</td>\n",
       "      <td>2422</td>\n",
       "      <td>NaN</td>\n",
       "      <td>8</td>\n",
       "      <td>10</td>\n",
       "      <td>NaN</td>\n",
       "      <td>https://pbs.twimg.com/media/CT4udn0WwAA0aMy.jpg</td>\n",
       "      <td>Welsh_springer_spaniel</td>\n",
       "    </tr>\n",
       "    <tr>\n",
       "      <th>1</th>\n",
       "      <td>Sun Nov 15 23:21:54 +0000 2015</td>\n",
       "      <td>666033412701032449</td>\n",
       "      <td>Here is a very happy pup. Big fan of well-main...</td>\n",
       "      <td>41</td>\n",
       "      <td>113</td>\n",
       "      <td>NaN</td>\n",
       "      <td>9</td>\n",
       "      <td>10</td>\n",
       "      <td>NaN</td>\n",
       "      <td>https://pbs.twimg.com/media/CT4521TWwAEvMyu.jpg</td>\n",
       "      <td>German_shepherd</td>\n",
       "    </tr>\n",
       "    <tr>\n",
       "      <th>2</th>\n",
       "      <td>Mon Nov 16 00:24:50 +0000 2015</td>\n",
       "      <td>666049248165822465</td>\n",
       "      <td>Here we have a 1949 1st generation vulpix. Enj...</td>\n",
       "      <td>41</td>\n",
       "      <td>97</td>\n",
       "      <td>NaN</td>\n",
       "      <td>5</td>\n",
       "      <td>10</td>\n",
       "      <td>NaN</td>\n",
       "      <td>https://pbs.twimg.com/media/CT5IQmsXIAAKY4A.jpg</td>\n",
       "      <td>miniature_pinscher</td>\n",
       "    </tr>\n",
       "    <tr>\n",
       "      <th>3</th>\n",
       "      <td>Mon Nov 16 00:49:46 +0000 2015</td>\n",
       "      <td>666055525042405380</td>\n",
       "      <td>Here is a Siberian heavily armored polar bear ...</td>\n",
       "      <td>222</td>\n",
       "      <td>411</td>\n",
       "      <td>NaN</td>\n",
       "      <td>10</td>\n",
       "      <td>10</td>\n",
       "      <td>NaN</td>\n",
       "      <td>https://pbs.twimg.com/media/CT5N9tpXIAAifs1.jpg</td>\n",
       "      <td>chow</td>\n",
       "    </tr>\n",
       "    <tr>\n",
       "      <th>4</th>\n",
       "      <td>Mon Nov 16 00:55:59 +0000 2015</td>\n",
       "      <td>666057090499244032</td>\n",
       "      <td>My oh my. This is a rare blond Canadian terrie...</td>\n",
       "      <td>128</td>\n",
       "      <td>272</td>\n",
       "      <td>NaN</td>\n",
       "      <td>9</td>\n",
       "      <td>10</td>\n",
       "      <td>NaN</td>\n",
       "      <td>https://pbs.twimg.com/media/CT5PY90WoAAQGLo.jpg</td>\n",
       "      <td>golden_retriever</td>\n",
       "    </tr>\n",
       "  </tbody>\n",
       "</table>\n",
       "</div>"
      ],
      "text/plain": [
       "                        timestamp            tweet_id  \\\n",
       "0  Sun Nov 15 22:32:08 +0000 2015  666020888022790149   \n",
       "1  Sun Nov 15 23:21:54 +0000 2015  666033412701032449   \n",
       "2  Mon Nov 16 00:24:50 +0000 2015  666049248165822465   \n",
       "3  Mon Nov 16 00:49:46 +0000 2015  666055525042405380   \n",
       "4  Mon Nov 16 00:55:59 +0000 2015  666057090499244032   \n",
       "\n",
       "                                                text  retweet_count  \\\n",
       "0  Here we have a Japanese Irish Setter. Lost eye...            465   \n",
       "1  Here is a very happy pup. Big fan of well-main...             41   \n",
       "2  Here we have a 1949 1st generation vulpix. Enj...             41   \n",
       "3  Here is a Siberian heavily armored polar bear ...            222   \n",
       "4  My oh my. This is a rare blond Canadian terrie...            128   \n",
       "\n",
       "   favorite_count dog_stage rating_numerator rating_denominator name  \\\n",
       "0            2422       NaN                8                 10  NaN   \n",
       "1             113       NaN                9                 10  NaN   \n",
       "2              97       NaN                5                 10  NaN   \n",
       "3             411       NaN               10                 10  NaN   \n",
       "4             272       NaN                9                 10  NaN   \n",
       "\n",
       "                                           jpg_url                   breed  \n",
       "0  https://pbs.twimg.com/media/CT4udn0WwAA0aMy.jpg  Welsh_springer_spaniel  \n",
       "1  https://pbs.twimg.com/media/CT4521TWwAEvMyu.jpg         German_shepherd  \n",
       "2  https://pbs.twimg.com/media/CT5IQmsXIAAKY4A.jpg      miniature_pinscher  \n",
       "3  https://pbs.twimg.com/media/CT5N9tpXIAAifs1.jpg                    chow  \n",
       "4  https://pbs.twimg.com/media/CT5PY90WoAAQGLo.jpg        golden_retriever  "
      ]
     },
     "execution_count": 942,
     "metadata": {},
     "output_type": "execute_result"
    }
   ],
   "source": [
    "dfapiimg.head()"
   ]
  },
  {
   "cell_type": "code",
   "execution_count": 943,
   "metadata": {},
   "outputs": [
    {
     "data": {
      "text/html": [
       "<div>\n",
       "<style scoped>\n",
       "    .dataframe tbody tr th:only-of-type {\n",
       "        vertical-align: middle;\n",
       "    }\n",
       "\n",
       "    .dataframe tbody tr th {\n",
       "        vertical-align: top;\n",
       "    }\n",
       "\n",
       "    .dataframe thead th {\n",
       "        text-align: right;\n",
       "    }\n",
       "</style>\n",
       "<table border=\"1\" class=\"dataframe\">\n",
       "  <thead>\n",
       "    <tr style=\"text-align: right;\">\n",
       "      <th></th>\n",
       "      <th>tweet_id</th>\n",
       "      <th>timestamp</th>\n",
       "      <th>text</th>\n",
       "      <th>rating_numerator</th>\n",
       "      <th>rating_denominator</th>\n",
       "      <th>name</th>\n",
       "      <th>dog_stage</th>\n",
       "      <th>jpg_url</th>\n",
       "      <th>breed</th>\n",
       "    </tr>\n",
       "  </thead>\n",
       "  <tbody>\n",
       "    <tr>\n",
       "      <th>0</th>\n",
       "      <td>892420643555336193</td>\n",
       "      <td>2017-08-01 16:23:56 +0000</td>\n",
       "      <td>This is Phineas. He's a mystical boy. Only eve...</td>\n",
       "      <td>13</td>\n",
       "      <td>10</td>\n",
       "      <td>Phineas</td>\n",
       "      <td>NaN</td>\n",
       "      <td>https://pbs.twimg.com/media/DGKD1-bXoAAIAUK.jpg</td>\n",
       "      <td>NaN</td>\n",
       "    </tr>\n",
       "    <tr>\n",
       "      <th>1</th>\n",
       "      <td>892177421306343426</td>\n",
       "      <td>2017-08-01 00:17:27 +0000</td>\n",
       "      <td>This is Tilly. She's just checking pup on you....</td>\n",
       "      <td>13</td>\n",
       "      <td>10</td>\n",
       "      <td>Tilly</td>\n",
       "      <td>NaN</td>\n",
       "      <td>https://pbs.twimg.com/media/DGGmoV4XsAAUL6n.jpg</td>\n",
       "      <td>Chihuahua</td>\n",
       "    </tr>\n",
       "    <tr>\n",
       "      <th>2</th>\n",
       "      <td>891815181378084864</td>\n",
       "      <td>2017-07-31 00:18:03 +0000</td>\n",
       "      <td>This is Archie. He is a rare Norwegian Pouncin...</td>\n",
       "      <td>12</td>\n",
       "      <td>10</td>\n",
       "      <td>Archie</td>\n",
       "      <td>NaN</td>\n",
       "      <td>https://pbs.twimg.com/media/DGBdLU1WsAANxJ9.jpg</td>\n",
       "      <td>Chihuahua</td>\n",
       "    </tr>\n",
       "    <tr>\n",
       "      <th>3</th>\n",
       "      <td>891689557279858688</td>\n",
       "      <td>2017-07-30 15:58:51 +0000</td>\n",
       "      <td>This is Darla. She commenced a snooze mid meal...</td>\n",
       "      <td>13</td>\n",
       "      <td>10</td>\n",
       "      <td>Darla</td>\n",
       "      <td>NaN</td>\n",
       "      <td>https://pbs.twimg.com/media/DF_q7IAWsAEuuN8.jpg</td>\n",
       "      <td>Labrador_retriever</td>\n",
       "    </tr>\n",
       "    <tr>\n",
       "      <th>4</th>\n",
       "      <td>891327558926688256</td>\n",
       "      <td>2017-07-29 16:00:24 +0000</td>\n",
       "      <td>This is Franklin. He would like you to stop ca...</td>\n",
       "      <td>12</td>\n",
       "      <td>10</td>\n",
       "      <td>Franklin</td>\n",
       "      <td>NaN</td>\n",
       "      <td>https://pbs.twimg.com/media/DF6hr6BUMAAzZgT.jpg</td>\n",
       "      <td>basset</td>\n",
       "    </tr>\n",
       "  </tbody>\n",
       "</table>\n",
       "</div>"
      ],
      "text/plain": [
       "             tweet_id                  timestamp  \\\n",
       "0  892420643555336193  2017-08-01 16:23:56 +0000   \n",
       "1  892177421306343426  2017-08-01 00:17:27 +0000   \n",
       "2  891815181378084864  2017-07-31 00:18:03 +0000   \n",
       "3  891689557279858688  2017-07-30 15:58:51 +0000   \n",
       "4  891327558926688256  2017-07-29 16:00:24 +0000   \n",
       "\n",
       "                                                text  rating_numerator  \\\n",
       "0  This is Phineas. He's a mystical boy. Only eve...                13   \n",
       "1  This is Tilly. She's just checking pup on you....                13   \n",
       "2  This is Archie. He is a rare Norwegian Pouncin...                12   \n",
       "3  This is Darla. She commenced a snooze mid meal...                13   \n",
       "4  This is Franklin. He would like you to stop ca...                12   \n",
       "\n",
       "   rating_denominator      name dog_stage  \\\n",
       "0                  10   Phineas       NaN   \n",
       "1                  10     Tilly       NaN   \n",
       "2                  10    Archie       NaN   \n",
       "3                  10     Darla       NaN   \n",
       "4                  10  Franklin       NaN   \n",
       "\n",
       "                                           jpg_url               breed  \n",
       "0  https://pbs.twimg.com/media/DGKD1-bXoAAIAUK.jpg                 NaN  \n",
       "1  https://pbs.twimg.com/media/DGGmoV4XsAAUL6n.jpg           Chihuahua  \n",
       "2  https://pbs.twimg.com/media/DGBdLU1WsAANxJ9.jpg           Chihuahua  \n",
       "3  https://pbs.twimg.com/media/DF_q7IAWsAEuuN8.jpg  Labrador_retriever  \n",
       "4  https://pbs.twimg.com/media/DF6hr6BUMAAzZgT.jpg              basset  "
      ]
     },
     "execution_count": 943,
     "metadata": {},
     "output_type": "execute_result"
    }
   ],
   "source": [
    "dftweetimg.head()"
   ]
  },
  {
   "cell_type": "code",
   "execution_count": null,
   "metadata": {},
   "outputs": [],
   "source": []
  },
  {
   "cell_type": "markdown",
   "metadata": {},
   "source": [
    "#### Define:\n",
    "Tidiness: Find columns in dftweetimg that are not in dfapiimg"
   ]
  },
  {
   "cell_type": "markdown",
   "metadata": {},
   "source": [
    "#### Code:"
   ]
  },
  {
   "cell_type": "code",
   "execution_count": 944,
   "metadata": {},
   "outputs": [],
   "source": [
    "notinapi = np.setdiff1d(dftweetimg['tweet_id'], dfapiimg['tweet_id'])"
   ]
  },
  {
   "cell_type": "code",
   "execution_count": 945,
   "metadata": {},
   "outputs": [
    {
     "data": {
      "text/plain": [
       "array([667550882905632768, 667550904950915073, 675489971617296384,\n",
       "       680055455951884288, 711998809858043904, 752309394570878976,\n",
       "       754011816964026368, 754874841593970688, 757597904299253760,\n",
       "       757729163776290825, 759159934323924993, 759566828574212096,\n",
       "       761371037149827077, 761750502866649088, 766078092750233600,\n",
       "       770093767776997377, 771004394259247104, 771171053431250945,\n",
       "       772615324260794368, 775898661951791106, 776819012571455488,\n",
       "       777641927919427584, 778396591732486144, 779123168116150273,\n",
       "       780476555013349377, 780496263422808064, 782021823840026624,\n",
       "       783347506784731136, 786036967502913536, 788070120937619456,\n",
       "       790723298204217344, 791026214425268224, 793614319594401792,\n",
       "       794355576146903043, 794983741416415232, 796177847564038144,\n",
       "       798340744599797760, 798628517273620480, 798644042770751489,\n",
       "       798665375516884993, 798673117451325440, 798694562394996736,\n",
       "       798697898615730177, 799774291445383169, 800443802682937345,\n",
       "       802247111496568832, 802624713319034886, 803692223237865472,\n",
       "       804413760345620481, 805958939288408065, 806242860592926720,\n",
       "       807059379405148160, 808134635716833280, 809808892968534016,\n",
       "       813944609378369540, 816014286006976512, 816829038950027264,\n",
       "       817181837579653120, 818588835076603904, 819015331746349057,\n",
       "       819015337530290176, 820446719150292993, 821813639212650496,\n",
       "       822647212903690241, 823269594223824897, 824796380199809024,\n",
       "       829374341691346946, 829878982036299777, 832040443403784192,\n",
       "       832215726631055365, 832769181346996225, 837012587749474308,\n",
       "       837366284874571778, 838916489579200512, 839290600511926273,\n",
       "       841833993020538882, 842892208864923648, 844704788403113984,\n",
       "       847971574464610304, 851861385021730816, 851953902622658560,\n",
       "       860924035999428608, 861769973181624320, 867072653475098625,\n",
       "       872261713294495745, 873697596434513921, 877611172832227328,\n",
       "       885311592912609280, 888202515573088257])"
      ]
     },
     "execution_count": 945,
     "metadata": {},
     "output_type": "execute_result"
    }
   ],
   "source": [
    "notinapi"
   ]
  },
  {
   "cell_type": "code",
   "execution_count": 946,
   "metadata": {},
   "outputs": [],
   "source": [
    "notintweet = np.setdiff1d(dfapiimg['tweet_id'],dftweetimg['tweet_id'])"
   ]
  },
  {
   "cell_type": "code",
   "execution_count": 947,
   "metadata": {},
   "outputs": [
    {
     "data": {
      "text/plain": [
       "array([], dtype=int64)"
      ]
     },
     "execution_count": 947,
     "metadata": {},
     "output_type": "execute_result"
    }
   ],
   "source": [
    "notintweet"
   ]
  },
  {
   "cell_type": "code",
   "execution_count": 948,
   "metadata": {},
   "outputs": [
    {
     "data": {
      "text/plain": [
       "tweet_id              2052\n",
       "timestamp             2052\n",
       "text                  2052\n",
       "rating_numerator      2052\n",
       "rating_denominator    2052\n",
       "name                  2052\n",
       "dog_stage              334\n",
       "jpg_url               2052\n",
       "breed                 1731\n",
       "dtype: int64"
      ]
     },
     "execution_count": 948,
     "metadata": {},
     "output_type": "execute_result"
    }
   ],
   "source": [
    "dftweetimg.count()"
   ]
  },
  {
   "cell_type": "code",
   "execution_count": 949,
   "metadata": {},
   "outputs": [
    {
     "data": {
      "text/plain": [
       "timestamp             1963\n",
       "tweet_id              1963\n",
       "text                  1963\n",
       "retweet_count         1963\n",
       "favorite_count        1963\n",
       "dog_stage              320\n",
       "rating_numerator      1962\n",
       "rating_denominator    1962\n",
       "name                  1030\n",
       "jpg_url               1963\n",
       "breed                 1658\n",
       "dtype: int64"
      ]
     },
     "execution_count": 949,
     "metadata": {},
     "output_type": "execute_result"
    }
   ],
   "source": [
    "dfapiimg.count()"
   ]
  },
  {
   "cell_type": "code",
   "execution_count": 950,
   "metadata": {},
   "outputs": [
    {
     "data": {
      "text/plain": [
       "89"
      ]
     },
     "execution_count": 950,
     "metadata": {},
     "output_type": "execute_result"
    }
   ],
   "source": [
    "len(notinapi)"
   ]
  },
  {
   "cell_type": "code",
   "execution_count": null,
   "metadata": {},
   "outputs": [],
   "source": []
  },
  {
   "cell_type": "markdown",
   "metadata": {},
   "source": [
    "#### Define:\n",
    "Tidiness: Get the list of rows in dftweetimg that are not in dfapiimg"
   ]
  },
  {
   "cell_type": "markdown",
   "metadata": {},
   "source": [
    "#### Code:"
   ]
  },
  {
   "cell_type": "code",
   "execution_count": 951,
   "metadata": {},
   "outputs": [],
   "source": [
    "tweets_to_add = dftweetimg[dftweetimg['tweet_id'].isin(notinapi)]"
   ]
  },
  {
   "cell_type": "code",
   "execution_count": 952,
   "metadata": {},
   "outputs": [
    {
     "data": {
      "text/html": [
       "<div>\n",
       "<style scoped>\n",
       "    .dataframe tbody tr th:only-of-type {\n",
       "        vertical-align: middle;\n",
       "    }\n",
       "\n",
       "    .dataframe tbody tr th {\n",
       "        vertical-align: top;\n",
       "    }\n",
       "\n",
       "    .dataframe thead th {\n",
       "        text-align: right;\n",
       "    }\n",
       "</style>\n",
       "<table border=\"1\" class=\"dataframe\">\n",
       "  <thead>\n",
       "    <tr style=\"text-align: right;\">\n",
       "      <th></th>\n",
       "      <th>tweet_id</th>\n",
       "      <th>timestamp</th>\n",
       "      <th>text</th>\n",
       "      <th>rating_numerator</th>\n",
       "      <th>rating_denominator</th>\n",
       "      <th>name</th>\n",
       "      <th>dog_stage</th>\n",
       "      <th>jpg_url</th>\n",
       "      <th>breed</th>\n",
       "    </tr>\n",
       "  </thead>\n",
       "  <tbody>\n",
       "    <tr>\n",
       "      <th>19</th>\n",
       "      <td>888202515573088257</td>\n",
       "      <td>2017-07-21 01:02:36 +0000</td>\n",
       "      <td>RT @dog_rates: This is Canela. She attempted s...</td>\n",
       "      <td>13</td>\n",
       "      <td>10</td>\n",
       "      <td>Canela</td>\n",
       "      <td>NaN</td>\n",
       "      <td>https://pbs.twimg.com/media/DFDw2tyUQAAAFke.jpg</td>\n",
       "      <td>Pembroke</td>\n",
       "    </tr>\n",
       "    <tr>\n",
       "      <th>33</th>\n",
       "      <td>885311592912609280</td>\n",
       "      <td>2017-07-13 01:35:06 +0000</td>\n",
       "      <td>RT @dog_rates: This is Lilly. She just paralle...</td>\n",
       "      <td>13</td>\n",
       "      <td>10</td>\n",
       "      <td>Lilly</td>\n",
       "      <td>NaN</td>\n",
       "      <td>https://pbs.twimg.com/media/C4bTH6nWMAAX_bJ.jpg</td>\n",
       "      <td>Labrador_retriever</td>\n",
       "    </tr>\n",
       "    <tr>\n",
       "      <th>68</th>\n",
       "      <td>877611172832227328</td>\n",
       "      <td>2017-06-21 19:36:23 +0000</td>\n",
       "      <td>RT @rachel2195: @dog_rates the boyfriend and h...</td>\n",
       "      <td>14</td>\n",
       "      <td>10</td>\n",
       "      <td>None</td>\n",
       "      <td>pupper</td>\n",
       "      <td>https://pbs.twimg.com/media/DCszHgmW0AAmIpT.jpg</td>\n",
       "      <td>Irish_setter</td>\n",
       "    </tr>\n",
       "    <tr>\n",
       "      <th>82</th>\n",
       "      <td>873697596434513921</td>\n",
       "      <td>2017-06-11 00:25:14 +0000</td>\n",
       "      <td>RT @dog_rates: This is Walter. He won't start ...</td>\n",
       "      <td>14</td>\n",
       "      <td>10</td>\n",
       "      <td>Walter</td>\n",
       "      <td>NaN</td>\n",
       "      <td>https://pbs.twimg.com/media/DA7iHL5U0AA1OQo.jpg</td>\n",
       "      <td>French_bulldog</td>\n",
       "    </tr>\n",
       "    <tr>\n",
       "      <th>89</th>\n",
       "      <td>872261713294495745</td>\n",
       "      <td>2017-06-07 01:19:32 +0000</td>\n",
       "      <td>This is Harry. His ears are activated one at a...</td>\n",
       "      <td>13</td>\n",
       "      <td>10</td>\n",
       "      <td>Harry</td>\n",
       "      <td>NaN</td>\n",
       "      <td>https://pbs.twimg.com/media/DBrlZk2UQAAfAkd.jpg</td>\n",
       "      <td>Labrador_retriever</td>\n",
       "    </tr>\n",
       "  </tbody>\n",
       "</table>\n",
       "</div>"
      ],
      "text/plain": [
       "              tweet_id                  timestamp  \\\n",
       "19  888202515573088257  2017-07-21 01:02:36 +0000   \n",
       "33  885311592912609280  2017-07-13 01:35:06 +0000   \n",
       "68  877611172832227328  2017-06-21 19:36:23 +0000   \n",
       "82  873697596434513921  2017-06-11 00:25:14 +0000   \n",
       "89  872261713294495745  2017-06-07 01:19:32 +0000   \n",
       "\n",
       "                                                 text  rating_numerator  \\\n",
       "19  RT @dog_rates: This is Canela. She attempted s...                13   \n",
       "33  RT @dog_rates: This is Lilly. She just paralle...                13   \n",
       "68  RT @rachel2195: @dog_rates the boyfriend and h...                14   \n",
       "82  RT @dog_rates: This is Walter. He won't start ...                14   \n",
       "89  This is Harry. His ears are activated one at a...                13   \n",
       "\n",
       "    rating_denominator    name dog_stage  \\\n",
       "19                  10  Canela       NaN   \n",
       "33                  10   Lilly       NaN   \n",
       "68                  10    None    pupper   \n",
       "82                  10  Walter       NaN   \n",
       "89                  10   Harry       NaN   \n",
       "\n",
       "                                            jpg_url               breed  \n",
       "19  https://pbs.twimg.com/media/DFDw2tyUQAAAFke.jpg            Pembroke  \n",
       "33  https://pbs.twimg.com/media/C4bTH6nWMAAX_bJ.jpg  Labrador_retriever  \n",
       "68  https://pbs.twimg.com/media/DCszHgmW0AAmIpT.jpg        Irish_setter  \n",
       "82  https://pbs.twimg.com/media/DA7iHL5U0AA1OQo.jpg      French_bulldog  \n",
       "89  https://pbs.twimg.com/media/DBrlZk2UQAAfAkd.jpg  Labrador_retriever  "
      ]
     },
     "execution_count": 952,
     "metadata": {},
     "output_type": "execute_result"
    }
   ],
   "source": [
    "tweets_to_add.head()"
   ]
  },
  {
   "cell_type": "markdown",
   "metadata": {},
   "source": [
    "#### Test:"
   ]
  },
  {
   "cell_type": "code",
   "execution_count": 953,
   "metadata": {
    "scrolled": true
   },
   "outputs": [
    {
     "data": {
      "text/plain": [
       "array([], dtype=int64)"
      ]
     },
     "execution_count": 953,
     "metadata": {},
     "output_type": "execute_result"
    }
   ],
   "source": [
    "np.setdiff1d(np.concatenate((np.array(dfapiimg.tweet_id), np.array(tweets_to_add.tweet_id))),dftweetimg['tweet_id'])"
   ]
  },
  {
   "cell_type": "code",
   "execution_count": 954,
   "metadata": {},
   "outputs": [
    {
     "data": {
      "text/plain": [
       "array([], dtype=int64)"
      ]
     },
     "execution_count": 954,
     "metadata": {},
     "output_type": "execute_result"
    }
   ],
   "source": [
    "np.setdiff1d(dftweetimg['tweet_id'],np.concatenate((np.array(dfapiimg.tweet_id), np.array(tweets_to_add.tweet_id))))"
   ]
  },
  {
   "cell_type": "code",
   "execution_count": null,
   "metadata": {},
   "outputs": [],
   "source": []
  },
  {
   "cell_type": "markdown",
   "metadata": {},
   "source": [
    "#### Define:\n",
    "Tidiness: Find out what columns to add to tweets_to_add so that it can be appended to dfapi"
   ]
  },
  {
   "cell_type": "markdown",
   "metadata": {},
   "source": [
    "#### Code:"
   ]
  },
  {
   "cell_type": "code",
   "execution_count": 955,
   "metadata": {},
   "outputs": [],
   "source": [
    "col_to_add = np.setdiff1d(dfapiimg.columns,tweets_to_add.columns)"
   ]
  },
  {
   "cell_type": "markdown",
   "metadata": {},
   "source": [
    "#### Test:"
   ]
  },
  {
   "cell_type": "code",
   "execution_count": 956,
   "metadata": {},
   "outputs": [
    {
     "data": {
      "text/plain": [
       "array(['favorite_count', 'retweet_count'], dtype=object)"
      ]
     },
     "execution_count": 956,
     "metadata": {},
     "output_type": "execute_result"
    }
   ],
   "source": [
    "col_to_add"
   ]
  },
  {
   "cell_type": "code",
   "execution_count": null,
   "metadata": {},
   "outputs": [],
   "source": []
  },
  {
   "cell_type": "markdown",
   "metadata": {},
   "source": [
    "#### Define:\n",
    "Tidiness: Add the missing columns to tweets_to_add"
   ]
  },
  {
   "cell_type": "markdown",
   "metadata": {},
   "source": [
    "#### Code:"
   ]
  },
  {
   "cell_type": "code",
   "execution_count": 957,
   "metadata": {},
   "outputs": [
    {
     "name": "stderr",
     "output_type": "stream",
     "text": [
      "/opt/anaconda3/lib/python3.7/site-packages/ipykernel_launcher.py:1: SettingWithCopyWarning: \n",
      "A value is trying to be set on a copy of a slice from a DataFrame.\n",
      "Try using .loc[row_indexer,col_indexer] = value instead\n",
      "\n",
      "See the caveats in the documentation: http://pandas.pydata.org/pandas-docs/stable/user_guide/indexing.html#returning-a-view-versus-a-copy\n",
      "  \"\"\"Entry point for launching an IPython kernel.\n"
     ]
    }
   ],
   "source": [
    "tweets_to_add['favorite_count'] = np.nan"
   ]
  },
  {
   "cell_type": "code",
   "execution_count": 958,
   "metadata": {},
   "outputs": [
    {
     "name": "stderr",
     "output_type": "stream",
     "text": [
      "/opt/anaconda3/lib/python3.7/site-packages/ipykernel_launcher.py:1: SettingWithCopyWarning: \n",
      "A value is trying to be set on a copy of a slice from a DataFrame.\n",
      "Try using .loc[row_indexer,col_indexer] = value instead\n",
      "\n",
      "See the caveats in the documentation: http://pandas.pydata.org/pandas-docs/stable/user_guide/indexing.html#returning-a-view-versus-a-copy\n",
      "  \"\"\"Entry point for launching an IPython kernel.\n"
     ]
    }
   ],
   "source": [
    "tweets_to_add['retweet_count'] = np.nan"
   ]
  },
  {
   "cell_type": "markdown",
   "metadata": {},
   "source": [
    "#### Test:"
   ]
  },
  {
   "cell_type": "code",
   "execution_count": 959,
   "metadata": {},
   "outputs": [
    {
     "data": {
      "text/html": [
       "<div>\n",
       "<style scoped>\n",
       "    .dataframe tbody tr th:only-of-type {\n",
       "        vertical-align: middle;\n",
       "    }\n",
       "\n",
       "    .dataframe tbody tr th {\n",
       "        vertical-align: top;\n",
       "    }\n",
       "\n",
       "    .dataframe thead th {\n",
       "        text-align: right;\n",
       "    }\n",
       "</style>\n",
       "<table border=\"1\" class=\"dataframe\">\n",
       "  <thead>\n",
       "    <tr style=\"text-align: right;\">\n",
       "      <th></th>\n",
       "      <th>tweet_id</th>\n",
       "      <th>timestamp</th>\n",
       "      <th>text</th>\n",
       "      <th>rating_numerator</th>\n",
       "      <th>rating_denominator</th>\n",
       "      <th>name</th>\n",
       "      <th>dog_stage</th>\n",
       "      <th>jpg_url</th>\n",
       "      <th>breed</th>\n",
       "      <th>favorite_count</th>\n",
       "      <th>retweet_count</th>\n",
       "    </tr>\n",
       "  </thead>\n",
       "  <tbody>\n",
       "    <tr>\n",
       "      <th>19</th>\n",
       "      <td>888202515573088257</td>\n",
       "      <td>2017-07-21 01:02:36 +0000</td>\n",
       "      <td>RT @dog_rates: This is Canela. She attempted s...</td>\n",
       "      <td>13</td>\n",
       "      <td>10</td>\n",
       "      <td>Canela</td>\n",
       "      <td>NaN</td>\n",
       "      <td>https://pbs.twimg.com/media/DFDw2tyUQAAAFke.jpg</td>\n",
       "      <td>Pembroke</td>\n",
       "      <td>NaN</td>\n",
       "      <td>NaN</td>\n",
       "    </tr>\n",
       "    <tr>\n",
       "      <th>33</th>\n",
       "      <td>885311592912609280</td>\n",
       "      <td>2017-07-13 01:35:06 +0000</td>\n",
       "      <td>RT @dog_rates: This is Lilly. She just paralle...</td>\n",
       "      <td>13</td>\n",
       "      <td>10</td>\n",
       "      <td>Lilly</td>\n",
       "      <td>NaN</td>\n",
       "      <td>https://pbs.twimg.com/media/C4bTH6nWMAAX_bJ.jpg</td>\n",
       "      <td>Labrador_retriever</td>\n",
       "      <td>NaN</td>\n",
       "      <td>NaN</td>\n",
       "    </tr>\n",
       "    <tr>\n",
       "      <th>68</th>\n",
       "      <td>877611172832227328</td>\n",
       "      <td>2017-06-21 19:36:23 +0000</td>\n",
       "      <td>RT @rachel2195: @dog_rates the boyfriend and h...</td>\n",
       "      <td>14</td>\n",
       "      <td>10</td>\n",
       "      <td>None</td>\n",
       "      <td>pupper</td>\n",
       "      <td>https://pbs.twimg.com/media/DCszHgmW0AAmIpT.jpg</td>\n",
       "      <td>Irish_setter</td>\n",
       "      <td>NaN</td>\n",
       "      <td>NaN</td>\n",
       "    </tr>\n",
       "    <tr>\n",
       "      <th>82</th>\n",
       "      <td>873697596434513921</td>\n",
       "      <td>2017-06-11 00:25:14 +0000</td>\n",
       "      <td>RT @dog_rates: This is Walter. He won't start ...</td>\n",
       "      <td>14</td>\n",
       "      <td>10</td>\n",
       "      <td>Walter</td>\n",
       "      <td>NaN</td>\n",
       "      <td>https://pbs.twimg.com/media/DA7iHL5U0AA1OQo.jpg</td>\n",
       "      <td>French_bulldog</td>\n",
       "      <td>NaN</td>\n",
       "      <td>NaN</td>\n",
       "    </tr>\n",
       "    <tr>\n",
       "      <th>89</th>\n",
       "      <td>872261713294495745</td>\n",
       "      <td>2017-06-07 01:19:32 +0000</td>\n",
       "      <td>This is Harry. His ears are activated one at a...</td>\n",
       "      <td>13</td>\n",
       "      <td>10</td>\n",
       "      <td>Harry</td>\n",
       "      <td>NaN</td>\n",
       "      <td>https://pbs.twimg.com/media/DBrlZk2UQAAfAkd.jpg</td>\n",
       "      <td>Labrador_retriever</td>\n",
       "      <td>NaN</td>\n",
       "      <td>NaN</td>\n",
       "    </tr>\n",
       "  </tbody>\n",
       "</table>\n",
       "</div>"
      ],
      "text/plain": [
       "              tweet_id                  timestamp  \\\n",
       "19  888202515573088257  2017-07-21 01:02:36 +0000   \n",
       "33  885311592912609280  2017-07-13 01:35:06 +0000   \n",
       "68  877611172832227328  2017-06-21 19:36:23 +0000   \n",
       "82  873697596434513921  2017-06-11 00:25:14 +0000   \n",
       "89  872261713294495745  2017-06-07 01:19:32 +0000   \n",
       "\n",
       "                                                 text  rating_numerator  \\\n",
       "19  RT @dog_rates: This is Canela. She attempted s...                13   \n",
       "33  RT @dog_rates: This is Lilly. She just paralle...                13   \n",
       "68  RT @rachel2195: @dog_rates the boyfriend and h...                14   \n",
       "82  RT @dog_rates: This is Walter. He won't start ...                14   \n",
       "89  This is Harry. His ears are activated one at a...                13   \n",
       "\n",
       "    rating_denominator    name dog_stage  \\\n",
       "19                  10  Canela       NaN   \n",
       "33                  10   Lilly       NaN   \n",
       "68                  10    None    pupper   \n",
       "82                  10  Walter       NaN   \n",
       "89                  10   Harry       NaN   \n",
       "\n",
       "                                            jpg_url               breed  \\\n",
       "19  https://pbs.twimg.com/media/DFDw2tyUQAAAFke.jpg            Pembroke   \n",
       "33  https://pbs.twimg.com/media/C4bTH6nWMAAX_bJ.jpg  Labrador_retriever   \n",
       "68  https://pbs.twimg.com/media/DCszHgmW0AAmIpT.jpg        Irish_setter   \n",
       "82  https://pbs.twimg.com/media/DA7iHL5U0AA1OQo.jpg      French_bulldog   \n",
       "89  https://pbs.twimg.com/media/DBrlZk2UQAAfAkd.jpg  Labrador_retriever   \n",
       "\n",
       "    favorite_count  retweet_count  \n",
       "19             NaN            NaN  \n",
       "33             NaN            NaN  \n",
       "68             NaN            NaN  \n",
       "82             NaN            NaN  \n",
       "89             NaN            NaN  "
      ]
     },
     "execution_count": 959,
     "metadata": {},
     "output_type": "execute_result"
    }
   ],
   "source": [
    "tweets_to_add.head()"
   ]
  },
  {
   "cell_type": "code",
   "execution_count": null,
   "metadata": {},
   "outputs": [],
   "source": []
  },
  {
   "cell_type": "markdown",
   "metadata": {},
   "source": [
    "#### Define:\n",
    "Tidiness: Append tweet_to_add to dfapiimg"
   ]
  },
  {
   "cell_type": "markdown",
   "metadata": {},
   "source": [
    "#### Code:"
   ]
  },
  {
   "cell_type": "code",
   "execution_count": 960,
   "metadata": {},
   "outputs": [
    {
     "name": "stderr",
     "output_type": "stream",
     "text": [
      "/opt/anaconda3/lib/python3.7/site-packages/pandas/core/frame.py:7138: FutureWarning: Sorting because non-concatenation axis is not aligned. A future version\n",
      "of pandas will change to not sort by default.\n",
      "\n",
      "To accept the future behavior, pass 'sort=False'.\n",
      "\n",
      "To retain the current behavior and silence the warning, pass 'sort=True'.\n",
      "\n",
      "  sort=sort,\n"
     ]
    }
   ],
   "source": [
    "dfdog = dfapiimg.append(tweets_to_add, ignore_index=True)"
   ]
  },
  {
   "cell_type": "code",
   "execution_count": 961,
   "metadata": {},
   "outputs": [
    {
     "data": {
      "text/html": [
       "<div>\n",
       "<style scoped>\n",
       "    .dataframe tbody tr th:only-of-type {\n",
       "        vertical-align: middle;\n",
       "    }\n",
       "\n",
       "    .dataframe tbody tr th {\n",
       "        vertical-align: top;\n",
       "    }\n",
       "\n",
       "    .dataframe thead th {\n",
       "        text-align: right;\n",
       "    }\n",
       "</style>\n",
       "<table border=\"1\" class=\"dataframe\">\n",
       "  <thead>\n",
       "    <tr style=\"text-align: right;\">\n",
       "      <th></th>\n",
       "      <th>breed</th>\n",
       "      <th>dog_stage</th>\n",
       "      <th>favorite_count</th>\n",
       "      <th>jpg_url</th>\n",
       "      <th>name</th>\n",
       "      <th>rating_denominator</th>\n",
       "      <th>rating_numerator</th>\n",
       "      <th>retweet_count</th>\n",
       "      <th>text</th>\n",
       "      <th>timestamp</th>\n",
       "      <th>tweet_id</th>\n",
       "    </tr>\n",
       "  </thead>\n",
       "  <tbody>\n",
       "    <tr>\n",
       "      <th>0</th>\n",
       "      <td>Welsh_springer_spaniel</td>\n",
       "      <td>NaN</td>\n",
       "      <td>2422.0</td>\n",
       "      <td>https://pbs.twimg.com/media/CT4udn0WwAA0aMy.jpg</td>\n",
       "      <td>NaN</td>\n",
       "      <td>10</td>\n",
       "      <td>8</td>\n",
       "      <td>465.0</td>\n",
       "      <td>Here we have a Japanese Irish Setter. Lost eye...</td>\n",
       "      <td>Sun Nov 15 22:32:08 +0000 2015</td>\n",
       "      <td>666020888022790149</td>\n",
       "    </tr>\n",
       "    <tr>\n",
       "      <th>1</th>\n",
       "      <td>German_shepherd</td>\n",
       "      <td>NaN</td>\n",
       "      <td>113.0</td>\n",
       "      <td>https://pbs.twimg.com/media/CT4521TWwAEvMyu.jpg</td>\n",
       "      <td>NaN</td>\n",
       "      <td>10</td>\n",
       "      <td>9</td>\n",
       "      <td>41.0</td>\n",
       "      <td>Here is a very happy pup. Big fan of well-main...</td>\n",
       "      <td>Sun Nov 15 23:21:54 +0000 2015</td>\n",
       "      <td>666033412701032449</td>\n",
       "    </tr>\n",
       "    <tr>\n",
       "      <th>2</th>\n",
       "      <td>miniature_pinscher</td>\n",
       "      <td>NaN</td>\n",
       "      <td>97.0</td>\n",
       "      <td>https://pbs.twimg.com/media/CT5IQmsXIAAKY4A.jpg</td>\n",
       "      <td>NaN</td>\n",
       "      <td>10</td>\n",
       "      <td>5</td>\n",
       "      <td>41.0</td>\n",
       "      <td>Here we have a 1949 1st generation vulpix. Enj...</td>\n",
       "      <td>Mon Nov 16 00:24:50 +0000 2015</td>\n",
       "      <td>666049248165822465</td>\n",
       "    </tr>\n",
       "    <tr>\n",
       "      <th>3</th>\n",
       "      <td>chow</td>\n",
       "      <td>NaN</td>\n",
       "      <td>411.0</td>\n",
       "      <td>https://pbs.twimg.com/media/CT5N9tpXIAAifs1.jpg</td>\n",
       "      <td>NaN</td>\n",
       "      <td>10</td>\n",
       "      <td>10</td>\n",
       "      <td>222.0</td>\n",
       "      <td>Here is a Siberian heavily armored polar bear ...</td>\n",
       "      <td>Mon Nov 16 00:49:46 +0000 2015</td>\n",
       "      <td>666055525042405380</td>\n",
       "    </tr>\n",
       "    <tr>\n",
       "      <th>4</th>\n",
       "      <td>golden_retriever</td>\n",
       "      <td>NaN</td>\n",
       "      <td>272.0</td>\n",
       "      <td>https://pbs.twimg.com/media/CT5PY90WoAAQGLo.jpg</td>\n",
       "      <td>NaN</td>\n",
       "      <td>10</td>\n",
       "      <td>9</td>\n",
       "      <td>128.0</td>\n",
       "      <td>My oh my. This is a rare blond Canadian terrie...</td>\n",
       "      <td>Mon Nov 16 00:55:59 +0000 2015</td>\n",
       "      <td>666057090499244032</td>\n",
       "    </tr>\n",
       "  </tbody>\n",
       "</table>\n",
       "</div>"
      ],
      "text/plain": [
       "                    breed dog_stage  favorite_count  \\\n",
       "0  Welsh_springer_spaniel       NaN          2422.0   \n",
       "1         German_shepherd       NaN           113.0   \n",
       "2      miniature_pinscher       NaN            97.0   \n",
       "3                    chow       NaN           411.0   \n",
       "4        golden_retriever       NaN           272.0   \n",
       "\n",
       "                                           jpg_url name rating_denominator  \\\n",
       "0  https://pbs.twimg.com/media/CT4udn0WwAA0aMy.jpg  NaN                 10   \n",
       "1  https://pbs.twimg.com/media/CT4521TWwAEvMyu.jpg  NaN                 10   \n",
       "2  https://pbs.twimg.com/media/CT5IQmsXIAAKY4A.jpg  NaN                 10   \n",
       "3  https://pbs.twimg.com/media/CT5N9tpXIAAifs1.jpg  NaN                 10   \n",
       "4  https://pbs.twimg.com/media/CT5PY90WoAAQGLo.jpg  NaN                 10   \n",
       "\n",
       "  rating_numerator  retweet_count  \\\n",
       "0                8          465.0   \n",
       "1                9           41.0   \n",
       "2                5           41.0   \n",
       "3               10          222.0   \n",
       "4                9          128.0   \n",
       "\n",
       "                                                text  \\\n",
       "0  Here we have a Japanese Irish Setter. Lost eye...   \n",
       "1  Here is a very happy pup. Big fan of well-main...   \n",
       "2  Here we have a 1949 1st generation vulpix. Enj...   \n",
       "3  Here is a Siberian heavily armored polar bear ...   \n",
       "4  My oh my. This is a rare blond Canadian terrie...   \n",
       "\n",
       "                        timestamp            tweet_id  \n",
       "0  Sun Nov 15 22:32:08 +0000 2015  666020888022790149  \n",
       "1  Sun Nov 15 23:21:54 +0000 2015  666033412701032449  \n",
       "2  Mon Nov 16 00:24:50 +0000 2015  666049248165822465  \n",
       "3  Mon Nov 16 00:49:46 +0000 2015  666055525042405380  \n",
       "4  Mon Nov 16 00:55:59 +0000 2015  666057090499244032  "
      ]
     },
     "execution_count": 961,
     "metadata": {},
     "output_type": "execute_result"
    }
   ],
   "source": [
    "dfdog.head()"
   ]
  },
  {
   "cell_type": "code",
   "execution_count": 962,
   "metadata": {},
   "outputs": [
    {
     "data": {
      "text/plain": [
       "True"
      ]
     },
     "execution_count": 962,
     "metadata": {},
     "output_type": "execute_result"
    }
   ],
   "source": [
    "dfdog.tweet_id.nunique() == dfapiimg.tweet_id.nunique() + tweets_to_add.tweet_id.nunique()"
   ]
  },
  {
   "cell_type": "code",
   "execution_count": null,
   "metadata": {},
   "outputs": [],
   "source": []
  },
  {
   "cell_type": "markdown",
   "metadata": {},
   "source": [
    "#### Define:\n",
    "Tidiness: Reorder the columns to make it easier to understand"
   ]
  },
  {
   "cell_type": "markdown",
   "metadata": {},
   "source": [
    "#### Code:"
   ]
  },
  {
   "cell_type": "code",
   "execution_count": 966,
   "metadata": {
    "scrolled": true
   },
   "outputs": [],
   "source": [
    "dfdog = dfdog[['tweet_id', 'text', 'name', 'rating_numerator', 'rating_denominator', \n",
    "                'breed', 'jpg_url', 'dog_stage',\n",
    "                'favorite_count', 'retweet_count', 'timestamp']]"
   ]
  },
  {
   "cell_type": "markdown",
   "metadata": {},
   "source": [
    "#### Test:"
   ]
  },
  {
   "cell_type": "code",
   "execution_count": 967,
   "metadata": {
    "scrolled": false
   },
   "outputs": [
    {
     "data": {
      "text/html": [
       "<div>\n",
       "<style scoped>\n",
       "    .dataframe tbody tr th:only-of-type {\n",
       "        vertical-align: middle;\n",
       "    }\n",
       "\n",
       "    .dataframe tbody tr th {\n",
       "        vertical-align: top;\n",
       "    }\n",
       "\n",
       "    .dataframe thead th {\n",
       "        text-align: right;\n",
       "    }\n",
       "</style>\n",
       "<table border=\"1\" class=\"dataframe\">\n",
       "  <thead>\n",
       "    <tr style=\"text-align: right;\">\n",
       "      <th></th>\n",
       "      <th>tweet_id</th>\n",
       "      <th>text</th>\n",
       "      <th>name</th>\n",
       "      <th>rating_numerator</th>\n",
       "      <th>rating_denominator</th>\n",
       "      <th>breed</th>\n",
       "      <th>jpg_url</th>\n",
       "      <th>dog_stage</th>\n",
       "      <th>favorite_count</th>\n",
       "      <th>retweet_count</th>\n",
       "      <th>timestamp</th>\n",
       "    </tr>\n",
       "  </thead>\n",
       "  <tbody>\n",
       "    <tr>\n",
       "      <th>0</th>\n",
       "      <td>666020888022790149</td>\n",
       "      <td>Here we have a Japanese Irish Setter. Lost eye...</td>\n",
       "      <td>NaN</td>\n",
       "      <td>8</td>\n",
       "      <td>10</td>\n",
       "      <td>Welsh_springer_spaniel</td>\n",
       "      <td>https://pbs.twimg.com/media/CT4udn0WwAA0aMy.jpg</td>\n",
       "      <td>NaN</td>\n",
       "      <td>2422.0</td>\n",
       "      <td>465.0</td>\n",
       "      <td>Sun Nov 15 22:32:08 +0000 2015</td>\n",
       "    </tr>\n",
       "    <tr>\n",
       "      <th>1</th>\n",
       "      <td>666033412701032449</td>\n",
       "      <td>Here is a very happy pup. Big fan of well-main...</td>\n",
       "      <td>NaN</td>\n",
       "      <td>9</td>\n",
       "      <td>10</td>\n",
       "      <td>German_shepherd</td>\n",
       "      <td>https://pbs.twimg.com/media/CT4521TWwAEvMyu.jpg</td>\n",
       "      <td>NaN</td>\n",
       "      <td>113.0</td>\n",
       "      <td>41.0</td>\n",
       "      <td>Sun Nov 15 23:21:54 +0000 2015</td>\n",
       "    </tr>\n",
       "    <tr>\n",
       "      <th>2</th>\n",
       "      <td>666049248165822465</td>\n",
       "      <td>Here we have a 1949 1st generation vulpix. Enj...</td>\n",
       "      <td>NaN</td>\n",
       "      <td>5</td>\n",
       "      <td>10</td>\n",
       "      <td>miniature_pinscher</td>\n",
       "      <td>https://pbs.twimg.com/media/CT5IQmsXIAAKY4A.jpg</td>\n",
       "      <td>NaN</td>\n",
       "      <td>97.0</td>\n",
       "      <td>41.0</td>\n",
       "      <td>Mon Nov 16 00:24:50 +0000 2015</td>\n",
       "    </tr>\n",
       "    <tr>\n",
       "      <th>3</th>\n",
       "      <td>666055525042405380</td>\n",
       "      <td>Here is a Siberian heavily armored polar bear ...</td>\n",
       "      <td>NaN</td>\n",
       "      <td>10</td>\n",
       "      <td>10</td>\n",
       "      <td>chow</td>\n",
       "      <td>https://pbs.twimg.com/media/CT5N9tpXIAAifs1.jpg</td>\n",
       "      <td>NaN</td>\n",
       "      <td>411.0</td>\n",
       "      <td>222.0</td>\n",
       "      <td>Mon Nov 16 00:49:46 +0000 2015</td>\n",
       "    </tr>\n",
       "    <tr>\n",
       "      <th>4</th>\n",
       "      <td>666057090499244032</td>\n",
       "      <td>My oh my. This is a rare blond Canadian terrie...</td>\n",
       "      <td>NaN</td>\n",
       "      <td>9</td>\n",
       "      <td>10</td>\n",
       "      <td>golden_retriever</td>\n",
       "      <td>https://pbs.twimg.com/media/CT5PY90WoAAQGLo.jpg</td>\n",
       "      <td>NaN</td>\n",
       "      <td>272.0</td>\n",
       "      <td>128.0</td>\n",
       "      <td>Mon Nov 16 00:55:59 +0000 2015</td>\n",
       "    </tr>\n",
       "  </tbody>\n",
       "</table>\n",
       "</div>"
      ],
      "text/plain": [
       "             tweet_id                                               text name  \\\n",
       "0  666020888022790149  Here we have a Japanese Irish Setter. Lost eye...  NaN   \n",
       "1  666033412701032449  Here is a very happy pup. Big fan of well-main...  NaN   \n",
       "2  666049248165822465  Here we have a 1949 1st generation vulpix. Enj...  NaN   \n",
       "3  666055525042405380  Here is a Siberian heavily armored polar bear ...  NaN   \n",
       "4  666057090499244032  My oh my. This is a rare blond Canadian terrie...  NaN   \n",
       "\n",
       "  rating_numerator rating_denominator                   breed  \\\n",
       "0                8                 10  Welsh_springer_spaniel   \n",
       "1                9                 10         German_shepherd   \n",
       "2                5                 10      miniature_pinscher   \n",
       "3               10                 10                    chow   \n",
       "4                9                 10        golden_retriever   \n",
       "\n",
       "                                           jpg_url dog_stage  favorite_count  \\\n",
       "0  https://pbs.twimg.com/media/CT4udn0WwAA0aMy.jpg       NaN          2422.0   \n",
       "1  https://pbs.twimg.com/media/CT4521TWwAEvMyu.jpg       NaN           113.0   \n",
       "2  https://pbs.twimg.com/media/CT5IQmsXIAAKY4A.jpg       NaN            97.0   \n",
       "3  https://pbs.twimg.com/media/CT5N9tpXIAAifs1.jpg       NaN           411.0   \n",
       "4  https://pbs.twimg.com/media/CT5PY90WoAAQGLo.jpg       NaN           272.0   \n",
       "\n",
       "   retweet_count                       timestamp  \n",
       "0          465.0  Sun Nov 15 22:32:08 +0000 2015  \n",
       "1           41.0  Sun Nov 15 23:21:54 +0000 2015  \n",
       "2           41.0  Mon Nov 16 00:24:50 +0000 2015  \n",
       "3          222.0  Mon Nov 16 00:49:46 +0000 2015  \n",
       "4          128.0  Mon Nov 16 00:55:59 +0000 2015  "
      ]
     },
     "execution_count": 967,
     "metadata": {},
     "output_type": "execute_result"
    }
   ],
   "source": [
    "dfdog.head()"
   ]
  },
  {
   "cell_type": "code",
   "execution_count": null,
   "metadata": {},
   "outputs": [],
   "source": []
  },
  {
   "cell_type": "markdown",
   "metadata": {},
   "source": [
    "#### Define:\n",
    "Tidiness: Change the columns to the correct types"
   ]
  },
  {
   "cell_type": "markdown",
   "metadata": {},
   "source": [
    "#### Code:"
   ]
  },
  {
   "cell_type": "code",
   "execution_count": 968,
   "metadata": {},
   "outputs": [
    {
     "name": "stdout",
     "output_type": "stream",
     "text": [
      "<class 'pandas.core.frame.DataFrame'>\n",
      "RangeIndex: 2052 entries, 0 to 2051\n",
      "Data columns (total 11 columns):\n",
      "tweet_id              2052 non-null int64\n",
      "text                  2052 non-null object\n",
      "name                  1119 non-null object\n",
      "rating_numerator      2051 non-null object\n",
      "rating_denominator    2051 non-null object\n",
      "breed                 1731 non-null object\n",
      "jpg_url               2052 non-null object\n",
      "dog_stage             334 non-null object\n",
      "favorite_count        1963 non-null float64\n",
      "retweet_count         1963 non-null float64\n",
      "timestamp             2052 non-null object\n",
      "dtypes: float64(2), int64(1), object(8)\n",
      "memory usage: 176.5+ KB\n"
     ]
    }
   ],
   "source": [
    "dfdog.info()"
   ]
  },
  {
   "cell_type": "markdown",
   "metadata": {},
   "source": [
    "#### Code:"
   ]
  },
  {
   "cell_type": "code",
   "execution_count": 969,
   "metadata": {},
   "outputs": [],
   "source": [
    "dfdog['tweet_id'] = dfdog['tweet_id'].astype(str)\n",
    "dfdog['rating_numerator'] = dfdog['rating_numerator'].astype(float)\n",
    "dfdog['rating_denominator'] = dfdog['rating_denominator'].astype(float)\n",
    "dfdog['favorite_count'] = dfdog['favorite_count'].astype(float)\n",
    "dfdog['retweet_count'] = dfdog['retweet_count'].astype(float)\n",
    "dfdog['timestamp'] = pd.to_datetime(dfdog['timestamp'])"
   ]
  },
  {
   "cell_type": "markdown",
   "metadata": {},
   "source": [
    "#### Test:"
   ]
  },
  {
   "cell_type": "code",
   "execution_count": 970,
   "metadata": {
    "scrolled": true
   },
   "outputs": [
    {
     "name": "stdout",
     "output_type": "stream",
     "text": [
      "<class 'pandas.core.frame.DataFrame'>\n",
      "RangeIndex: 2052 entries, 0 to 2051\n",
      "Data columns (total 11 columns):\n",
      "tweet_id              2052 non-null object\n",
      "text                  2052 non-null object\n",
      "name                  1119 non-null object\n",
      "rating_numerator      2051 non-null float64\n",
      "rating_denominator    2051 non-null float64\n",
      "breed                 1731 non-null object\n",
      "jpg_url               2052 non-null object\n",
      "dog_stage             334 non-null object\n",
      "favorite_count        1963 non-null float64\n",
      "retweet_count         1963 non-null float64\n",
      "timestamp             2052 non-null datetime64[ns, UTC]\n",
      "dtypes: datetime64[ns, UTC](1), float64(4), object(6)\n",
      "memory usage: 176.5+ KB\n"
     ]
    }
   ],
   "source": [
    "dfdog.info()"
   ]
  },
  {
   "cell_type": "code",
   "execution_count": null,
   "metadata": {},
   "outputs": [],
   "source": []
  },
  {
   "cell_type": "markdown",
   "metadata": {},
   "source": [
    "### Storing:\n",
    "Make a copy of the dataframe as a twitter_archive_master.csv"
   ]
  },
  {
   "cell_type": "markdown",
   "metadata": {},
   "source": [
    "#### Code:"
   ]
  },
  {
   "cell_type": "code",
   "execution_count": 971,
   "metadata": {},
   "outputs": [],
   "source": [
    "dfdog.to_csv('twitter_archive_master.csv', index=False)"
   ]
  },
  {
   "cell_type": "code",
   "execution_count": null,
   "metadata": {},
   "outputs": [],
   "source": []
  },
  {
   "cell_type": "markdown",
   "metadata": {},
   "source": [
    "### Analyzing:"
   ]
  },
  {
   "cell_type": "code",
   "execution_count": 1067,
   "metadata": {},
   "outputs": [],
   "source": [
    "dfdog['avescore'] = (dfdog['rating_numerator']*10 / dfdog['rating_denominator'])"
   ]
  },
  {
   "cell_type": "code",
   "execution_count": null,
   "metadata": {},
   "outputs": [],
   "source": []
  },
  {
   "cell_type": "code",
   "execution_count": 1056,
   "metadata": {},
   "outputs": [],
   "source": [
    "topbreeds = dfdog['breed'].value_counts().head(20)"
   ]
  },
  {
   "cell_type": "code",
   "execution_count": 1058,
   "metadata": {},
   "outputs": [
    {
     "data": {
      "text/plain": [
       "golden_retriever             171\n",
       "Labrador_retriever           111\n",
       "Pembroke                      95\n",
       "Chihuahua                     94\n",
       "pug                           65\n",
       "chow                          51\n",
       "toy_poodle                    51\n",
       "Samoyed                       46\n",
       "Pomeranian                    41\n",
       "malamute                      34\n",
       "cocker_spaniel                34\n",
       "French_bulldog                32\n",
       "Chesapeake_Bay_retriever      31\n",
       "miniature_pinscher            25\n",
       "Cardigan                      23\n",
       "Eskimo_dog                    22\n",
       "German_shepherd               21\n",
       "beagle                        21\n",
       "Staffordshire_bullterrier     21\n",
       "Siberian_husky                20\n",
       "Name: breed, dtype: int64"
      ]
     },
     "execution_count": 1058,
     "metadata": {},
     "output_type": "execute_result"
    }
   ],
   "source": [
    "topbreeds"
   ]
  },
  {
   "cell_type": "code",
   "execution_count": 1108,
   "metadata": {},
   "outputs": [
    {
     "data": {
      "image/png": "[encoded data removed]",
      "text/plain": [
       "<Figure size 432x288 with 1 Axes>"
      ]
     },
     "metadata": {
      "needs_background": "light"
     },
     "output_type": "display_data"
    }
   ],
   "source": [
    "ax = sns.barplot(x=topbreeds, y=topbreeds.index,\n",
    "                color=base_color)\n",
    "\n",
    "plt.savefig('TopTweetedBreeds.jpeg')"
   ]
  },
  {
   "cell_type": "markdown",
   "metadata": {},
   "source": [
    "Top breeds by number of tweets"
   ]
  },
  {
   "cell_type": "code",
   "execution_count": null,
   "metadata": {},
   "outputs": [],
   "source": []
  },
  {
   "cell_type": "code",
   "execution_count": 1054,
   "metadata": {},
   "outputs": [],
   "source": [
    "breedfaves = dfdog[dfdog['breed'].isin(topbreeds.index)].groupby('breed')['favorite_count'].mean().sort_values(ascending=False)"
   ]
  },
  {
   "cell_type": "code",
   "execution_count": 1089,
   "metadata": {},
   "outputs": [
    {
     "data": {
      "text/plain": [
       "breed\n",
       "French_bulldog               18820.433333\n",
       "cocker_spaniel               12701.000000\n",
       "Samoyed                      12660.707317\n",
       "Eskimo_dog                   11938.818182\n",
       "Cardigan                     11785.904762\n",
       "golden_retriever             11628.346154\n",
       "Labrador_retriever           10842.442308\n",
       "Pembroke                     10367.393617\n",
       "malamute                      9965.060606\n",
       "German_shepherd               9507.523810\n",
       "Chesapeake_Bay_retriever      9255.354839\n",
       "chow                          8760.312500\n",
       "Chihuahua                     8018.611111\n",
       "miniature_pinscher            7611.083333\n",
       "Staffordshire_bullterrier     7328.421053\n",
       "Pomeranian                    7243.463415\n",
       "Siberian_husky                6436.100000\n",
       "toy_poodle                    6063.285714\n",
       "pug                           5675.516129\n",
       "beagle                        4028.850000\n",
       "Name: favorite_count, dtype: float64"
      ]
     },
     "execution_count": 1089,
     "metadata": {},
     "output_type": "execute_result"
    }
   ],
   "source": [
    "breedfaves"
   ]
  },
  {
   "cell_type": "code",
   "execution_count": 1107,
   "metadata": {
    "scrolled": false
   },
   "outputs": [
    {
     "data": {
      "image/png": "[encoded data removed]",
      "text/plain": [
       "<Figure size 432x288 with 1 Axes>"
      ]
     },
     "metadata": {
      "needs_background": "light"
     },
     "output_type": "display_data"
    }
   ],
   "source": [
    "ax = sns.barplot(y=breedfaves.index, x=breedfaves.values,\n",
    "                color=base_color)\n",
    "\n",
    "ax.axvline(dfdog['favorite_count'].mean())\n",
    "\n",
    "plt.savefig('FaveBreeds.jpeg')"
   ]
  },
  {
   "cell_type": "markdown",
   "metadata": {},
   "source": [
    "Top breeds based on number of favorites per tweet"
   ]
  },
  {
   "cell_type": "code",
   "execution_count": 1093,
   "metadata": {},
   "outputs": [
    {
     "data": {
      "text/html": [
       "<div>\n",
       "<style scoped>\n",
       "    .dataframe tbody tr th:only-of-type {\n",
       "        vertical-align: middle;\n",
       "    }\n",
       "\n",
       "    .dataframe tbody tr th {\n",
       "        vertical-align: top;\n",
       "    }\n",
       "\n",
       "    .dataframe thead th {\n",
       "        text-align: right;\n",
       "    }\n",
       "</style>\n",
       "<table border=\"1\" class=\"dataframe\">\n",
       "  <thead>\n",
       "    <tr style=\"text-align: right;\">\n",
       "      <th></th>\n",
       "      <th>jpg_url</th>\n",
       "      <th>favorite_count</th>\n",
       "    </tr>\n",
       "  </thead>\n",
       "  <tbody>\n",
       "    <tr>\n",
       "      <th>1893</th>\n",
       "      <td>https://pbs.twimg.com/media/DAZAUfBXcAAG_Nn.jpg</td>\n",
       "      <td>116991.0</td>\n",
       "    </tr>\n",
       "    <tr>\n",
       "      <th>1896</th>\n",
       "      <td>https://pbs.twimg.com/media/DA7iHL5U0AA1OQo.jpg</td>\n",
       "      <td>62399.0</td>\n",
       "    </tr>\n",
       "    <tr>\n",
       "      <th>647</th>\n",
       "      <td>https://pbs.twimg.com/media/Cn7gaHrWIAAZJMt.jpg</td>\n",
       "      <td>43244.0</td>\n",
       "    </tr>\n",
       "  </tbody>\n",
       "</table>\n",
       "</div>"
      ],
      "text/plain": [
       "                                              jpg_url  favorite_count\n",
       "1893  https://pbs.twimg.com/media/DAZAUfBXcAAG_Nn.jpg        116991.0\n",
       "1896  https://pbs.twimg.com/media/DA7iHL5U0AA1OQo.jpg         62399.0\n",
       "647   https://pbs.twimg.com/media/Cn7gaHrWIAAZJMt.jpg         43244.0"
      ]
     },
     "execution_count": 1093,
     "metadata": {},
     "output_type": "execute_result"
    }
   ],
   "source": [
    "dfdog[dfdog['breed'] == 'French_bulldog'].sort_values(by='favorite_count', ascending=False)[['jpg_url','favorite_count']].head(3)"
   ]
  },
  {
   "cell_type": "code",
   "execution_count": null,
   "metadata": {},
   "outputs": [],
   "source": []
  },
  {
   "cell_type": "code",
   "execution_count": 1099,
   "metadata": {},
   "outputs": [],
   "source": [
    "goodestdoggo = dfdog[dfdog['breed'].isin(topbreeds.index)].groupby('breed')['avescore'].mean().sort_values(ascending=False)"
   ]
  },
  {
   "cell_type": "code",
   "execution_count": 1101,
   "metadata": {},
   "outputs": [
    {
     "data": {
      "text/plain": [
       "breed\n",
       "Samoyed                      11.717391\n",
       "golden_retriever             11.614706\n",
       "cocker_spaniel               11.470588\n",
       "chow                         11.450980\n",
       "Pembroke                     11.442105\n",
       "Eskimo_dog                   11.409091\n",
       "Siberian_husky               11.300000\n",
       "French_bulldog               11.281250\n",
       "Labrador_retriever           11.198198\n",
       "Cardigan                     11.173913\n",
       "toy_poodle                   11.019608\n",
       "German_shepherd              11.000000\n",
       "Pomeranian                   10.945122\n",
       "malamute                     10.882353\n",
       "Staffordshire_bullterrier    10.857143\n",
       "Chesapeake_Bay_retriever     10.838710\n",
       "Chihuahua                    10.595745\n",
       "pug                          10.307692\n",
       "beagle                       10.238095\n",
       "miniature_pinscher           10.120000\n",
       "Name: avescore, dtype: float64"
      ]
     },
     "execution_count": 1101,
     "metadata": {},
     "output_type": "execute_result"
    }
   ],
   "source": [
    "goodestdoggo"
   ]
  },
  {
   "cell_type": "code",
   "execution_count": 1109,
   "metadata": {
    "scrolled": false
   },
   "outputs": [
    {
     "data": {
      "image/png": "[encoded data removed]",
      "text/plain": [
       "<Figure size 432x288 with 1 Axes>"
      ]
     },
     "metadata": {
      "needs_background": "light"
     },
     "output_type": "display_data"
    }
   ],
   "source": [
    "ax = sns.barplot(y=goodestdoggo.index, x=goodestdoggo.values,\n",
    "                color=base_color)\n",
    "\n",
    "plt.savefig('GoodestDoggos.jpeg')"
   ]
  },
  {
   "cell_type": "markdown",
   "metadata": {},
   "source": [
    "Land Clouds are the goodest doggos\n",
    "\n",
    "Top breeds by average rating"
   ]
  },
  {
   "cell_type": "code",
   "execution_count": null,
   "metadata": {},
   "outputs": [],
   "source": []
  },
  {
   "cell_type": "code",
   "execution_count": 1106,
   "metadata": {},
   "outputs": [
    {
     "data": {
      "text/plain": [
       "11.658108239882985"
      ]
     },
     "execution_count": 1106,
     "metadata": {},
     "output_type": "execute_result"
    }
   ],
   "source": [
    "dfdog['avescore'].mean()"
   ]
  },
  {
   "cell_type": "code",
   "execution_count": null,
   "metadata": {},
   "outputs": [],
   "source": []
  },
  {
   "cell_type": "code",
   "execution_count": null,
   "metadata": {},
   "outputs": [],
   "source": []
  },
  {
   "cell_type": "code",
   "execution_count": 1104,
   "metadata": {},
   "outputs": [
    {
     "data": {
      "text/plain": [
       "dog_stage\n",
       "floofer    12.666667\n",
       "puppo      12.137931\n",
       "doggo      11.675676\n",
       "pupper     10.628333\n",
       "Name: avescore, dtype: float64"
      ]
     },
     "execution_count": 1104,
     "metadata": {},
     "output_type": "execute_result"
    }
   ],
   "source": [
    "dfdog.groupby(['dog_stage'])['avescore'].mean().sort_values(ascending=False)"
   ]
  },
  {
   "cell_type": "markdown",
   "metadata": {},
   "source": [
    "Goodest stage based on average rating"
   ]
  },
  {
   "cell_type": "code",
   "execution_count": null,
   "metadata": {},
   "outputs": [],
   "source": []
  },
  {
   "cell_type": "code",
   "execution_count": 1105,
   "metadata": {},
   "outputs": [
    {
     "data": {
      "text/plain": [
       "dog_stage\n",
       "puppo      21925.629630\n",
       "floofer    21100.666667\n",
       "doggo      16601.071429\n",
       "pupper      6642.959091\n",
       "Name: favorite_count, dtype: float64"
      ]
     },
     "execution_count": 1105,
     "metadata": {},
     "output_type": "execute_result"
    }
   ],
   "source": [
    "dfdog.groupby(['dog_stage'])['favorite_count'].mean().sort_values(ascending=False)"
   ]
  },
  {
   "cell_type": "markdown",
   "metadata": {},
   "source": [
    "Favorite stage based on favorite count"
   ]
  },
  {
   "cell_type": "code",
   "execution_count": null,
   "metadata": {},
   "outputs": [],
   "source": []
  },
  {
   "cell_type": "code",
   "execution_count": null,
   "metadata": {},
   "outputs": [],
   "source": []
  },
  {
   "cell_type": "code",
   "execution_count": null,
   "metadata": {},
   "outputs": [],
   "source": []
  }
 ],
 "metadata": {
  "kernelspec": {
   "display_name": "Python 3",
   "language": "python",
   "name": "python3"
  },
  "language_info": {
   "codemirror_mode": {
    "name": "ipython",
    "version": 3
   },
   "file_extension": ".py",
   "mimetype": "text/x-python",
   "name": "python",
   "nbconvert_exporter": "python",
   "pygments_lexer": "ipython3",
   "version": "3.7.7"
  }
 },
 "nbformat": 4,
 "nbformat_minor": 2
}
